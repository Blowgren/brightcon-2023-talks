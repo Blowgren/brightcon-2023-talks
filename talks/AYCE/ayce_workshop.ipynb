{
 "cells": [
  {
   "cell_type": "markdown",
   "id": "30c6178d-2d1a-49e0-a8cc-59a1a3171eca",
   "metadata": {},
   "source": [
    "# AYCE Calculation (Data Input & Output):\n",
    "\n",
    "In this simple example, we define a json of a \"Banana Jam\" product that we will send to the EOS server for calculation.\n",
    "\n",
    "Please make sure to install `ipycytoscape` in your python environment to vizualize the resulting LCA graph.\n",
    "For example, if you use pip, execute:\n",
    "```\n",
    "    pip install ipycytoscape\n",
    "```\n",
    "\n",
    "You can then click on nodes in the resulting graph to see the corresponding properties of that node."
   ]
  },
  {
   "cell_type": "code",
   "execution_count": 1,
   "id": "df50bea7",
   "metadata": {},
   "outputs": [],
   "source": [
    "import uuid\n",
    "import requests\n",
    "from ipywidgets import HTML, HBox\n",
    "from ipycytoscape import CytoscapeWidget"
   ]
  },
  {
   "cell_type": "code",
   "execution_count": 2,
   "id": "63701e89",
   "metadata": {},
   "outputs": [],
   "source": [
    "# Define a product as input using ingredients_declaration:\n",
    "banana_jam_json = {\n",
    "  \"date\": \"2023-09-06\",\n",
    "  \"names\": [\n",
    "    {\n",
    "      \"language\": \"en\",\n",
    "      \"value\": \"Banana Jam\"\n",
    "    }\n",
    "  ],\n",
    "  \"amount\": 100,\n",
    "  \"unit\": \"gram\",\n",
    "  \"ingredients_declaration\":  [\n",
    "    {\n",
    "      \"language\": \"en\",\n",
    "      \"value\": \"Bananas, Lemon Juice Concentrate.\"\n",
    "    }\n",
    "  ],\n",
    "  \"nutrient_values\": {\n",
    "    \"energy_kcal\": 100,\n",
    "    \"fat_gram\": 0,\n",
    "    \"saturated_fat_gram\": 0,\n",
    "    \"carbohydrates_gram\": 25,\n",
    "    \"sucrose_gram\": 18,\n",
    "    \"protein_gram\": 0,\n",
    "    \"sodium_chloride_gram\": 0\n",
    "  },\n",
    "  \"location\": \"Switzerland\",\n",
    "}"
   ]
  },
  {
   "cell_type": "markdown",
   "id": "4078be8b-824c-455f-a4b5-7b6b74cc11cc",
   "metadata": {},
   "source": [
    "# Send to the EOS calculation engine\n",
    "This Python code sends product data for \"Banana Jam\" to the EOS calculation engine for environmental analysis. \n",
    "Ensure the required libraries and authentication tokens are set up before running the code."
   ]
  },
  {
   "cell_type": "code",
   "execution_count": 3,
   "id": "e90c9076",
   "metadata": {},
   "outputs": [],
   "source": [
    "EOS_BASE_PATH = \"https://eos.eaternity.ch\"\n",
    "EOS_AUTH_TOKEN = \"443f45f4-1bbd-43ee-bc6d-9ce06584a217\"\n",
    "\n",
    "node_uid = uuid.uuid4()\n",
    "response = requests.put(\n",
    "    f\"{EOS_BASE_PATH}/v2/calculation/node-uid/{node_uid}?return_final_graph=true\",\n",
    "    json={\n",
    "        \"node\": {\n",
    "            \"node_type\": 'food_product',\n",
    "            \"props\": {\n",
    "                \"raw_input\": [{\n",
    "                    \"data\": banana_jam_json\n",
    "                }]\n",
    "            }\n",
    "        }\n",
    "    },\n",
    "    auth=requests.auth.HTTPBasicAuth(EOS_AUTH_TOKEN, '')\n",
    ")\n",
    "assert response.status_code == 200, f\"Error posting calculation: {response.text}, {response.status_code}\""
   ]
  },
  {
   "cell_type": "markdown",
   "id": "4f315274-875b-4428-8ecc-ce9e7ad3c466",
   "metadata": {},
   "source": [
    "# Print Result\n",
    "First print the overall calculated kg CO2eq value of the root node.\n",
    "\n",
    "Then also print potential `data_errors` that happened during the calculation."
   ]
  },
  {
   "cell_type": "code",
   "execution_count": 4,
   "id": "5438e582-a515-4554-bcd5-338fd51ea134",
   "metadata": {},
   "outputs": [
    {
     "name": "stdout",
     "output_type": "stream",
     "text": [
      "kg co2eq: 0.11971698416248285\n",
      "\n",
      "data_errors: \n",
      "\n",
      "Could not match product name [{'value': 'Banana Jam', 'language': 'en'}] in node NodeView(Activity {'type': 'food_product', 'raw_input.names': 'Banana Jam', 'raw_input.location': 'Switzerland', 'raw_input.amount': 100}) (is compound product: True)\n"
     ]
    }
   ],
   "source": [
    "resp = response.json()\n",
    "root_node = resp[\"node\"]\n",
    "print(f\"kg co2eq: {root_node.get('co2-value')}\")\n",
    "\n",
    "print(\"\\ndata_errors: \")\n",
    "for line in resp.get(\"calculation\").get(\"data_errors\"):\n",
    "    print(\"\\n\"+line)"
   ]
  },
  {
   "cell_type": "markdown",
   "id": "9b6e0dfc-5a02-4c08-aea0-a5895f0b65c8",
   "metadata": {},
   "source": [
    "# Restructuring the LCA Graph for Display\n",
    "In this section, we are reformatting the LCA (Life Cycle Assessment) graph retrieved from the JSON response for later visualization in Cytoscape. \n",
    "\n",
    "The code organizes nodes and edges, assigns names and background colors to nodes, and creates connections between nodes for improved graph representation."
   ]
  },
  {
   "cell_type": "code",
   "execution_count": 5,
   "id": "ffa0a521",
   "metadata": {},
   "outputs": [],
   "source": [
    "nodes = resp.get(\"calculation\").get(\"final_graph\")\n",
    "nodes_by_uid = { node[\"uid\"]: node for node in nodes }\n",
    "edges = []\n",
    "for node in nodes:\n",
    "    name = node[\"props\"].get(\"raw_input\", [{}])[0].get(\"data\", {}).get(\"names\", [{}])[0].get(\"value\")\n",
    "    if not name:\n",
    "        name = node[\"props\"].get(\"product_name\", [{}])[0].get(\"term_name\", \"\")\n",
    "    node['data'] = {\n",
    "        'id': node['uid'],\n",
    "        'name': name,\n",
    "        'bgcolor': 'green' if node[\"node_type\"] in (\"food_product\") else \"red\"\n",
    "    }\n",
    "    for sub_node_uid in node['sub_node_uids']:\n",
    "        edges.append({\n",
    "            'data': {\n",
    "                'source': node.get('uid'),\n",
    "                'target': sub_node_uid\n",
    "            },\n",
    "        })"
   ]
  },
  {
   "cell_type": "markdown",
   "id": "09b690d9-2fc3-41ed-8f4a-90de6a440682",
   "metadata": {},
   "source": [
    "# Configuring and Visualizing the LCA Graph\n",
    "In this section, we configure the visualization of the LCA (Life Cycle Assessment) graph using Cytoscape. \n",
    "\n",
    "The code sets up the graph layout, style, and interaction features. \n",
    "Users can click on nodes to display their properties in a separate panel."
   ]
  },
  {
   "cell_type": "code",
   "execution_count": 6,
   "id": "cfde2bb3-bb5d-4ee0-81af-bd11b5d4466b",
   "metadata": {},
   "outputs": [],
   "source": [
    "cyto = CytoscapeWidget(layout={\n",
    "    'border': '1px solid black'\n",
    "})\n",
    "cyto.graph.add_graph_from_json({\n",
    "    \"nodes\": nodes,\n",
    "    \"edges\": edges\n",
    "})\n",
    "def edgeWeight(edge):\n",
    "    return 1\n",
    "cyto.set_layout(\n",
    "    name='dagre',\n",
    "    spacingFactor=1.0,\n",
    "    ranker=\"longest-path\",\n",
    "    boundingBox={\n",
    "        \"x1\": 0,\n",
    "        \"y1\": 0,\n",
    "        \"w\": 2000,\n",
    "        \"h\": 2000,\n",
    "    },\n",
    "    rankDir=\"LR\", \n",
    "    nodeDimensionsIncludeLabels=True)\n",
    "cyto.set_style([\n",
    "    {\n",
    "        'selector': 'node',\n",
    "        'css': {\n",
    "            'background-color': 'data(bgcolor)',\n",
    "            'content': 'data(name)',\n",
    "            'text-valign': 'center',\n",
    "        }\n",
    "    }\n",
    "])\n",
    "\n",
    "# Now we make the graph nodes clickable and show the corresponding node properties in another panel:\n",
    "prop_panel = HTML(\"<i>Please click on a node to see it's properties...</i>\")\n",
    "def log_clicks(node):\n",
    "    prop_panel.value = \"\" # clear first\n",
    "    selected_node = nodes_by_uid[node[\"data\"][\"id\"]]\n",
    "    for prop_name, prop_val in sorted(selected_node[\"props\"].items()):\n",
    "        prop_panel.value += f'<p><b>{prop_name}:</b></p>'\n",
    "        prop_panel.value += f'<div style=\"max-height:120px;overflow-y:auto;\">{prop_val}</div>'\n",
    "cyto.on('node', 'click', log_clicks)"
   ]
  },
  {
   "cell_type": "markdown",
   "id": "74d713b1-0dd4-48fb-8eec-7b72c3e128cc",
   "metadata": {},
   "source": [
    "# Visualizing the Graph\n",
    "\n",
    "In this section, we utilize an HBox layout to present the graph on the left side and the properties of clicked nodes on the right side.\n",
    "\n",
    "- <span style=\"font-weight: bold;color:green\">Green Nodes</span>: Represent 'activities' within the graph.\n",
    "- <span style=\"font-weight: bold;color:red\">Red Nodes</span>: Represent 'flows' within the graph.\n",
    "- <span style=\"font-weight: bold;color:gray\">Gray Nodes</span>: Indicate data not included in the response due to proprietary information from ecoinvent."
   ]
  },
  {
   "cell_type": "code",
   "execution_count": 7,
   "id": "814dfe5f-ce30-4b44-8a93-bc5b2d127ef8",
   "metadata": {},
   "outputs": [
    {
     "data": {
      "application/vnd.jupyter.widget-view+json": {
       "model_id": "e8d0bf481ca8479db08900f74d76ddce",
       "version_major": 2,
       "version_minor": 0
      },
      "text/plain": [
       "HBox(children=(CytoscapeWidget(cytoscape_layout={'name': 'dagre', 'spacingFactor': 1.0, 'ranker': 'longest-pat…"
      ]
     },
     "metadata": {},
     "output_type": "display_data"
    }
   ],
   "source": [
    "sidebyside = HBox([cyto, prop_panel])\n",
    "display(sidebyside)\n",
    "cyto.layout.width='50%'\n",
    "cyto.layout.height='800px'\n",
    "cyto.layout.max_height='100%'\n",
    "cyto.layout.max_width='50%'\n",
    "prop_panel.layout.width='50%'"
   ]
  }
 ],
 "metadata": {
  "kernelspec": {
   "display_name": "Python 3 (ipykernel)",
   "language": "python",
   "name": "python3"
  },
  "language_info": {
   "codemirror_mode": {
    "name": "ipython",
    "version": 3
   },
   "file_extension": ".py",
   "mimetype": "text/x-python",
   "name": "python",
   "nbconvert_exporter": "python",
   "pygments_lexer": "ipython3",
   "version": "3.11.3"
  },
  "widgets": {
   "application/vnd.jupyter.widget-state+json": {
    "state": {
     "000977e9fb834192a88bf015bf035d5c": {
      "model_module": "jupyter-cytoscape",
      "model_module_version": "^1.3.3",
      "model_name": "EdgeModel",
      "state": {
       "_model_module_version": "^1.3.3",
       "_view_module_version": "^1.3.3",
       "data": {
        "id": "514c01f0-7cc1-414b-b7bc-aba5f1c5ee80",
        "source": "f4fab705-41f6-4f7f-b82e-19093f520bb8",
        "target": "32b99b97-8eeb-4371-9ecd-80ebaf76a08d"
       },
       "selectable": false
      }
     },
     "004caf899fdf46019c36e593217f604e": {
      "model_module": "jupyter-cytoscape",
      "model_module_version": "^1.3.3",
      "model_name": "EdgeModel",
      "state": {
       "_model_module_version": "^1.3.3",
       "_view_module_version": "^1.3.3",
       "data": {
        "id": "4454eccd-ea1f-4031-b0e4-ea31981fac5c",
        "source": "57364e0e-ffff-43b1-af92-82c58042e60b",
        "target": "718bc799-6e1a-4857-aa94-e9eb7fe09783"
       },
       "selectable": false
      }
     },
     "005c30eb039048b3b88953525cc4eda6": {
      "model_module": "jupyter-cytoscape",
      "model_module_version": "^1.3.3",
      "model_name": "EdgeModel",
      "state": {
       "_model_module_version": "^1.3.3",
       "_view_module_version": "^1.3.3",
       "data": {
        "id": "3bbbc1cf-39f9-4d85-89a3-8f45aa308e95",
        "source": "c30f3769-c44a-42a2-8237-28b517762621",
        "target": "3ab9ba33-582b-4072-9bd5-82d09a89b15f"
       },
       "selectable": false
      }
     },
     "016e7b3ec0ee400d9f52c4ccb5eda760": {
      "model_module": "jupyter-cytoscape",
      "model_module_version": "^1.3.3",
      "model_name": "EdgeModel",
      "state": {
       "_model_module_version": "^1.3.3",
       "_view_module_version": "^1.3.3",
       "data": {
        "id": "51a988dc-5929-4971-8aa9-8f7b914e450a",
        "source": "95a9a9b1-1e14-4e04-a493-a3717bf382e9",
        "target": "f40c7405-7e1f-4930-8445-c8a97bbbbe7b"
       },
       "selectable": false
      }
     },
     "01e177624d024806bbf06d07233583b5": {
      "model_module": "jupyter-cytoscape",
      "model_module_version": "^1.3.3",
      "model_name": "EdgeModel",
      "state": {
       "_model_module_version": "^1.3.3",
       "_view_module_version": "^1.3.3",
       "data": {
        "id": "83d00ec0-5684-463b-a8c4-0deb4427aa4d",
        "source": "3e65bd78-71ed-4003-bb43-bdf3e16d1aaf",
        "target": "556e9d15-dd82-4276-ae32-25d939af2dab"
       },
       "selectable": false
      }
     },
     "0268f6840afd4f76847180f479a7c626": {
      "model_module": "jupyter-cytoscape",
      "model_module_version": "^1.3.3",
      "model_name": "NodeModel",
      "state": {
       "_model_module_version": "^1.3.3",
       "_view_module_version": "^1.3.3",
       "data": {
        "bgcolor": "green",
        "id": "8c6b0586-3e33-45d9-8978-b7fd85342d87",
        "name": ""
       },
       "grabbable": true,
       "grabbed": false,
       "position": {
        "x": 1539.1812865497077,
        "y": 904.7619047619048
       },
       "selectable": false
      }
     },
     "028c0df7d68f4a29a376101813f3a353": {
      "model_module": "jupyter-cytoscape",
      "model_module_version": "^1.3.3",
      "model_name": "EdgeModel",
      "state": {
       "_model_module_version": "^1.3.3",
       "_view_module_version": "^1.3.3",
       "data": {
        "id": "7de8bb5f-5242-41e0-ab88-5157595281c6",
        "source": "4736e843-6c8c-466e-8571-e932e76abe48",
        "target": "98af4f07-f54a-44ba-afe8-3414c6a6eb66"
       },
       "selectable": false
      }
     },
     "02c8e435eab1463b81983286cd49a120": {
      "model_module": "jupyter-cytoscape",
      "model_module_version": "^1.3.3",
      "model_name": "NodeModel",
      "state": {
       "_model_module_version": "^1.3.3",
       "_view_module_version": "^1.3.3",
       "data": {
        "bgcolor": "green",
        "id": "7ff858c0-77d2-434a-9b98-5562a5f347f4",
        "name": ""
       },
       "grabbable": true,
       "grabbed": false,
       "position": {
        "x": 1539.1812865497077,
        "y": 1777.7777777777776
       },
       "selectable": false
      }
     },
     "02cc00b93b44451c82b2a81d1f0ee84f": {
      "model_module": "jupyter-cytoscape",
      "model_module_version": "^1.3.3",
      "model_name": "NodeModel",
      "state": {
       "_model_module_version": "^1.3.3",
       "_view_module_version": "^1.3.3",
       "data": {
        "bgcolor": "red",
        "id": "aaab8697-a684-465b-8ae5-f474476f1426",
        "name": "Bananas"
       },
       "grabbable": true,
       "grabbed": false,
       "position": {
        "x": 600.5847953216374,
        "y": 730.1587301587301
       },
       "selectable": false
      }
     },
     "031b5f8aba7c404fb255e8fe098a727b": {
      "model_module": "jupyter-cytoscape",
      "model_module_version": "^1.3.3",
      "model_name": "NodeModel",
      "state": {
       "_model_module_version": "^1.3.3",
       "_view_module_version": "^1.3.3",
       "data": {
        "bgcolor": "green",
        "id": "7cfdd8f1-da74-40e0-8035-bc3c3f9cfe95",
        "name": ""
       },
       "grabbable": true,
       "grabbed": false,
       "position": {
        "x": 1539.1812865497077,
        "y": 126.98412698412697
       },
       "selectable": false
      }
     },
     "0345e34c8c954242ba2cd935b3ffcb73": {
      "model_module": "jupyter-cytoscape",
      "model_module_version": "^1.3.3",
      "model_name": "NodeModel",
      "state": {
       "_model_module_version": "^1.3.3",
       "_view_module_version": "^1.3.3",
       "data": {
        "bgcolor": "red",
        "id": "ca6f2f76-1e66-4874-b36c-e594f4229d70",
        "name": "Bananas"
       },
       "grabbable": true,
       "grabbed": false,
       "position": {
        "x": 600.5847953216374,
        "y": 873.015873015873
       },
       "selectable": false
      }
     },
     "03bc7a4c6e54495886ddeba56adc8ee7": {
      "model_module": "jupyter-cytoscape",
      "model_module_version": "^1.3.3",
      "model_name": "EdgeModel",
      "state": {
       "_model_module_version": "^1.3.3",
       "_view_module_version": "^1.3.3",
       "data": {
        "id": "8286feac-4739-4b4f-8f69-c4369ca4aa33",
        "source": "d1fea51b-2dcb-4db9-be3e-5c68290f1745",
        "target": "97698f38-0222-498e-8fd2-187b487cfe48"
       },
       "selectable": false
      }
     },
     "044a96f41a7b48a1baac8e843a42e2d7": {
      "model_module": "jupyter-cytoscape",
      "model_module_version": "^1.3.3",
      "model_name": "NodeModel",
      "state": {
       "_model_module_version": "^1.3.3",
       "_view_module_version": "^1.3.3",
       "data": {
        "bgcolor": "red",
        "id": "0c3d80ca-947e-4a4c-b8bb-1d6f748236d5",
        "name": "Lemon Juice Concentrate"
       },
       "grabbable": true,
       "grabbed": false,
       "position": {
        "x": 1769.5906432748538,
        "y": 2000
       },
       "selectable": false
      }
     },
     "057e37bcb6c94d34b55c0e6005fa2064": {
      "model_module": "jupyter-cytoscape",
      "model_module_version": "^1.3.3",
      "model_name": "EdgeModel",
      "state": {
       "_model_module_version": "^1.3.3",
       "_view_module_version": "^1.3.3",
       "data": {
        "id": "a6f09baf-a2b7-4e09-b083-5efc7371bb20",
        "source": "e80e8725-b75f-485e-8837-ec6bc51f3755",
        "target": "72252fdd-42e6-4006-8da7-439ab63cb230"
       },
       "selectable": false
      }
     },
     "06765631d643436ba7fddee5cc50ab9d": {
      "model_module": "jupyter-cytoscape",
      "model_module_version": "^1.3.3",
      "model_name": "NodeModel",
      "state": {
       "_model_module_version": "^1.3.3",
       "_view_module_version": "^1.3.3",
       "data": {
        "bgcolor": "red",
        "id": "1231889c-4334-40d0-b3d4-573300bb262e",
        "name": "Fuel consumption of Sea transport"
       },
       "grabbable": true,
       "grabbed": false,
       "position": {
        "x": 1769.5906432748538,
        "y": 952.3809523809523
       },
       "selectable": false
      }
     },
     "07b1d5323593456fa90d16a2a2e20f89": {
      "model_module": "jupyter-cytoscape",
      "model_module_version": "^1.3.3",
      "model_name": "NodeModel",
      "state": {
       "_model_module_version": "^1.3.3",
       "_view_module_version": "^1.3.3",
       "data": {
        "bgcolor": "red",
        "id": "2bdd8a55-b632-48ab-bfb3-3310908986ae",
        "name": "Bananas"
       },
       "grabbable": true,
       "grabbed": false,
       "position": {
        "x": 976.0233918128655,
        "y": 15.873015873015872
       },
       "selectable": false
      }
     },
     "0a0df105a5484216a49edf357ab26ae8": {
      "model_module": "jupyter-cytoscape",
      "model_module_version": "^1.3.3",
      "model_name": "NodeModel",
      "state": {
       "_model_module_version": "^1.3.3",
       "_view_module_version": "^1.3.3",
       "data": {
        "bgcolor": "green",
        "id": "90111d54-ea1e-464e-8514-822b18ae119f",
        "name": ""
       },
       "grabbable": true,
       "grabbed": false,
       "position": {
        "x": 1539.1812865497077,
        "y": 873.015873015873
       },
       "selectable": false
      }
     },
     "0b153ad2882b4023a3da3c79bdb3ef00": {
      "model_module": "jupyter-cytoscape",
      "model_module_version": "^1.3.3",
      "model_name": "EdgeModel",
      "state": {
       "_model_module_version": "^1.3.3",
       "_view_module_version": "^1.3.3",
       "data": {
        "id": "4df7ea9c-78fc-4971-b2e7-5f2f90d8299d",
        "source": "5d4ca006-2102-4ef4-ae59-dd54170894c3",
        "target": "514dede0-17b0-4888-8a82-c6d30b1756f1"
       },
       "selectable": false
      }
     },
     "0c9f8917b0e14943933feb7a1a4b497c": {
      "model_module": "jupyter-cytoscape",
      "model_module_version": "^1.3.3",
      "model_name": "EdgeModel",
      "state": {
       "_model_module_version": "^1.3.3",
       "_view_module_version": "^1.3.3",
       "data": {
        "id": "ee0e17ed-bbcc-4994-b99b-a6ebfedcef2d",
        "source": "0fa5caaf-1bfd-4811-ad8a-31ef90f21f07",
        "target": "842f4865-d92e-4ba6-a561-bd3f9adf519d"
       },
       "selectable": false
      }
     },
     "0cbc8aec73e84e78bc87bd5818e17620": {
      "model_module": "jupyter-cytoscape",
      "model_module_version": "^1.3.3",
      "model_name": "EdgeModel",
      "state": {
       "_model_module_version": "^1.3.3",
       "_view_module_version": "^1.3.3",
       "data": {
        "id": "4437e7d1-b275-4c37-a6ae-062db625110f",
        "source": "a9e7ce85-f517-488a-bb67-cc84284f4b1c",
        "target": "04db2af3-45c3-4214-8918-c0dd943f7ff4"
       },
       "selectable": false
      }
     },
     "0cc842b08db248d8ac1d8158373820e8": {
      "model_module": "jupyter-cytoscape",
      "model_module_version": "^1.3.3",
      "model_name": "NodeModel",
      "state": {
       "_model_module_version": "^1.3.3",
       "_view_module_version": "^1.3.3",
       "data": {
        "bgcolor": "green",
        "id": "f4b510b7-b28f-42c2-9c9f-d6823a7fb9f6",
        "name": ""
       },
       "grabbable": true,
       "grabbed": false,
       "position": {
        "x": 1539.1812865497077,
        "y": 63.49206349206349
       },
       "selectable": false
      }
     },
     "0dbb4e1d1afd4ecfa9c53198119d16ae": {
      "model_module": "jupyter-cytoscape",
      "model_module_version": "^1.3.3",
      "model_name": "EdgeModel",
      "state": {
       "_model_module_version": "^1.3.3",
       "_view_module_version": "^1.3.3",
       "data": {
        "id": "3bc3d1d1-a662-4c02-b957-481c941528a6",
        "source": "3552e5f9-e3e7-4fc7-acd3-c6f2ecc0f6f8",
        "target": "1400c1e8-b4c7-490f-9134-13d3f0b86deb"
       },
       "selectable": false
      }
     },
     "0dea4d50edb941a787b990741081fbc5": {
      "model_module": "jupyter-cytoscape",
      "model_module_version": "^1.3.3",
      "model_name": "NodeModel",
      "state": {
       "_model_module_version": "^1.3.3",
       "_view_module_version": "^1.3.3",
       "data": {
        "bgcolor": "green",
        "id": "918333c6-dd4d-486d-9908-ca4ded625dce",
        "name": ""
       },
       "grabbable": true,
       "grabbed": false,
       "position": {
        "x": 1163.7426900584794,
        "y": 1984.126984126984
       },
       "selectable": false
      }
     },
     "0dea766823444de89c97c1ab016d229f": {
      "model_module": "jupyter-cytoscape",
      "model_module_version": "^1.3.3",
      "model_name": "EdgeModel",
      "state": {
       "_model_module_version": "^1.3.3",
       "_view_module_version": "^1.3.3",
       "data": {
        "id": "2a0868ba-05bf-40f7-b8ce-5ac40c285ee4",
        "source": "b13e7ac8-c256-41ff-9f59-e3c9350e2d1f",
        "target": "1354e8de-c399-45d0-9c20-00cfda811e01"
       },
       "selectable": false
      }
     },
     "0e6e11c4f02b4f02b7a6889498fbbce6": {
      "model_module": "jupyter-cytoscape",
      "model_module_version": "^1.3.3",
      "model_name": "NodeModel",
      "state": {
       "_model_module_version": "^1.3.3",
       "_view_module_version": "^1.3.3",
       "data": {
        "bgcolor": "red",
        "id": "9843e86c-fb63-4af9-87ec-44f4165a449f",
        "name": "Lemon Juice Concentrate"
       },
       "grabbable": true,
       "grabbed": false,
       "position": {
        "x": 976.0233918128655,
        "y": 1857.142857142857
       },
       "selectable": false
      }
     },
     "0e941b8e00ec4d6591f360b8ed056311": {
      "model_module": "jupyter-cytoscape",
      "model_module_version": "^1.3.3",
      "model_name": "EdgeModel",
      "state": {
       "_model_module_version": "^1.3.3",
       "_view_module_version": "^1.3.3",
       "data": {
        "id": "7bb5d185-ba8c-43c8-86e0-1782202eaa8e",
        "source": "853857ca-4b83-4fd7-b1cd-1edcfcdfff50",
        "target": "98af4f07-f54a-44ba-afe8-3414c6a6eb66"
       },
       "selectable": false
      }
     },
     "0e978c7ca9ba40a5abeea1715adc533c": {
      "model_module": "jupyter-cytoscape",
      "model_module_version": "^1.3.3",
      "model_name": "NodeModel",
      "state": {
       "_model_module_version": "^1.3.3",
       "_view_module_version": "^1.3.3",
       "data": {
        "bgcolor": "green",
        "id": "a295b7af-3ba2-4e90-9a36-3abf9592befa",
        "name": ""
       },
       "grabbable": true,
       "grabbed": false,
       "position": {
        "x": 788.3040935672515,
        "y": 825.3968253968253
       },
       "selectable": false
      }
     },
     "0ff1157d546f4d339f991f87fc37a3da": {
      "model_module": "jupyter-cytoscape",
      "model_module_version": "^1.3.3",
      "model_name": "EdgeModel",
      "state": {
       "_model_module_version": "^1.3.3",
       "_view_module_version": "^1.3.3",
       "data": {
        "id": "e840657c-30a3-48ea-bf23-fe68d8806633",
        "source": "90111d54-ea1e-464e-8514-822b18ae119f",
        "target": "97dead99-5464-44b4-b020-629cf57afbfa"
       },
       "selectable": false
      }
     },
     "10987750036341d09d75b525ad4fc082": {
      "model_module": "jupyter-cytoscape",
      "model_module_version": "^1.3.3",
      "model_name": "NodeModel",
      "state": {
       "_model_module_version": "^1.3.3",
       "_view_module_version": "^1.3.3",
       "data": {
        "bgcolor": "green",
        "id": "2b559bbe-6700-4c7b-a886-90565be1c169",
        "name": ""
       },
       "grabbable": true,
       "grabbed": false,
       "position": {
        "x": 1539.1812865497077,
        "y": 1428.5714285714287
       },
       "selectable": false
      }
     },
     "10cab8974eb647eabd40d7f10410073f": {
      "model_module": "jupyter-cytoscape",
      "model_module_version": "^1.3.3",
      "model_name": "NodeModel",
      "state": {
       "_model_module_version": "^1.3.3",
       "_view_module_version": "^1.3.3",
       "data": {
        "bgcolor": "green",
        "id": "b13e7ac8-c256-41ff-9f59-e3c9350e2d1f",
        "name": ""
       },
       "grabbable": true,
       "grabbed": false,
       "position": {
        "x": 412.86549707602336,
        "y": 1285.7142857142858
       },
       "selectable": false
      }
     },
     "10cabf56e95a4f26aec98c844bed327b": {
      "model_module": "jupyter-cytoscape",
      "model_module_version": "^1.3.3",
      "model_name": "NodeModel",
      "state": {
       "_model_module_version": "^1.3.3",
       "_view_module_version": "^1.3.3",
       "data": {
        "bgcolor": "red",
        "id": "e5ec713e-b49e-47cb-ae72-51deb956c87f",
        "name": "Truck transport"
       },
       "grabbable": true,
       "grabbed": false,
       "position": {
        "x": 1769.5906432748538,
        "y": 1206.3492063492063
       },
       "selectable": false
      }
     },
     "10ef72a740ba401a9e226eb9821f6a0e": {
      "model_module": "jupyter-cytoscape",
      "model_module_version": "^1.3.3",
      "model_name": "NodeModel",
      "state": {
       "_model_module_version": "^1.3.3",
       "_view_module_version": "^1.3.3",
       "data": {
        "bgcolor": "red",
        "id": "43cdcb54-c757-406f-bc77-54bb3218c785",
        "name": "Fuel consumption of Truck transport"
       },
       "grabbable": true,
       "grabbed": false,
       "position": {
        "x": 1769.5906432748538,
        "y": 1047.6190476190477
       },
       "selectable": false
      }
     },
     "113f2316bdcc4a50b77c6747893992ee": {
      "model_module": "jupyter-cytoscape",
      "model_module_version": "^1.3.3",
      "model_name": "EdgeModel",
      "state": {
       "_model_module_version": "^1.3.3",
       "_view_module_version": "^1.3.3",
       "data": {
        "id": "87cd27a6-510a-4287-93ec-b308a91eab57",
        "source": "7570baa7-0339-4d2e-a292-ee8fcc468720",
        "target": "29103f83-1b7b-4fb0-9c75-e945c897e6d9"
       },
       "selectable": false
      }
     },
     "11b8730d3c9d4f7db89ef6793eb47a01": {
      "model_module": "jupyter-cytoscape",
      "model_module_version": "^1.3.3",
      "model_name": "EdgeModel",
      "state": {
       "_model_module_version": "^1.3.3",
       "_view_module_version": "^1.3.3",
       "data": {
        "id": "8a4a3343-6474-42d2-adcc-ecd627f04866",
        "source": "c7be1cb6-70df-45d2-b2d4-c3ddbfeb5b64",
        "target": "e04b717f-bc7e-4ade-9129-aa8008d325d8"
       },
       "selectable": false
      }
     },
     "127ba4730e6742ae9615c41ed7668ed5": {
      "model_module": "jupyter-cytoscape",
      "model_module_version": "^1.3.3",
      "model_name": "NodeModel",
      "state": {
       "_model_module_version": "^1.3.3",
       "_view_module_version": "^1.3.3",
       "data": {
        "bgcolor": "red",
        "id": "b3a9362d-d4b7-40ff-b9b4-d886876e157e",
        "name": "Bananas"
       },
       "grabbable": true,
       "grabbed": false,
       "position": {
        "x": 1351.4619883040934,
        "y": 63.49206349206349
       },
       "selectable": false
      }
     },
     "12b869638f274eb29afdd382b5547363": {
      "model_module": "jupyter-cytoscape",
      "model_module_version": "^1.3.3",
      "model_name": "EdgeModel",
      "state": {
       "_model_module_version": "^1.3.3",
       "_view_module_version": "^1.3.3",
       "data": {
        "id": "c1e5a8f9-ee47-4e79-bca2-b027c3e5e3a7",
        "source": "842f4865-d92e-4ba6-a561-bd3f9adf519d",
        "target": "578dccf9-5238-4121-98bd-de24214cc787"
       },
       "selectable": false
      }
     },
     "12c8b210f9e74134b8e0a86cacd87209": {
      "model_module": "jupyter-cytoscape",
      "model_module_version": "^1.3.3",
      "model_name": "EdgeModel",
      "state": {
       "_model_module_version": "^1.3.3",
       "_view_module_version": "^1.3.3",
       "data": {
        "id": "2f874e7c-d47f-4e25-8475-8f3efdf95998",
        "source": "c9fdf8da-2828-4c2d-8175-621119473e14",
        "target": "26c5906d-fe0b-479f-a42c-8f516233d8ba"
       },
       "selectable": false
      }
     },
     "14a35fbb2702480bb0bbf59da35a5dfd": {
      "model_module": "jupyter-cytoscape",
      "model_module_version": "^1.3.3",
      "model_name": "EdgeModel",
      "state": {
       "_model_module_version": "^1.3.3",
       "_view_module_version": "^1.3.3",
       "data": {
        "id": "a6c111b0-f9dc-4469-8ca0-a88c6062d4eb",
        "source": "47155d26-84f3-4f04-b96e-643735e5a3cd",
        "target": "10b9484e-9271-484a-acdc-fca31859f57f"
       },
       "selectable": false
      }
     },
     "16a5f67e19c745ae85bcf63683138702": {
      "model_module": "jupyter-cytoscape",
      "model_module_version": "^1.3.3",
      "model_name": "EdgeModel",
      "state": {
       "_model_module_version": "^1.3.3",
       "_view_module_version": "^1.3.3",
       "data": {
        "id": "c7fa7d27-f5b7-426d-a19f-0df5aff37071",
        "source": "97698f38-0222-498e-8fd2-187b487cfe48",
        "target": "8c6b0586-3e33-45d9-8978-b7fd85342d87"
       },
       "selectable": false
      }
     },
     "18370a62e2f1429d8d3c952955f0218b": {
      "model_module": "jupyter-cytoscape",
      "model_module_version": "^1.3.3",
      "model_name": "EdgeModel",
      "state": {
       "_model_module_version": "^1.3.3",
       "_view_module_version": "^1.3.3",
       "data": {
        "id": "2ec580cb-e3fc-493d-9acb-73d9d2e66ddf",
        "source": "5bad1b14-d5b3-4390-a77a-72b446f7ca56",
        "target": "44de0ea7-4b4b-42d3-aa3e-ef23ff738c85"
       },
       "selectable": false
      }
     },
     "1891b3b10d6c405ebb182c8d59bbea92": {
      "model_module": "jupyter-cytoscape",
      "model_module_version": "^1.3.3",
      "model_name": "NodeModel",
      "state": {
       "_model_module_version": "^1.3.3",
       "_view_module_version": "^1.3.3",
       "data": {
        "bgcolor": "green",
        "id": "4a131b44-a6e6-412a-b2ff-8bb510af1d01",
        "name": ""
       },
       "grabbable": true,
       "grabbed": false,
       "position": {
        "x": 1539.1812865497077,
        "y": 428.57142857142856
       },
       "selectable": false
      }
     },
     "18e3b4be259d44f98f1c787f95cf64c5": {
      "model_module": "jupyter-cytoscape",
      "model_module_version": "^1.3.3",
      "model_name": "EdgeModel",
      "state": {
       "_model_module_version": "^1.3.3",
       "_view_module_version": "^1.3.3",
       "data": {
        "id": "0b9a0d64-ce31-4114-9404-0784fa4cf2c2",
        "source": "ddab397b-287d-4a58-baa4-72844e67c562",
        "target": "7f613c31-3d3a-47b5-ac0a-8761fe185117"
       },
       "selectable": false
      }
     },
     "18fdf8cf4c4b4788a42693e786ce9478": {
      "model_module": "jupyter-cytoscape",
      "model_module_version": "^1.3.3",
      "model_name": "EdgeModel",
      "state": {
       "_model_module_version": "^1.3.3",
       "_view_module_version": "^1.3.3",
       "data": {
        "id": "9e75f777-b242-406b-9bd2-d7d2758b265c",
        "source": "4a131b44-a6e6-412a-b2ff-8bb510af1d01",
        "target": "3b6ef470-f0a5-4b61-87c8-b3bf3b66fdc9"
       },
       "selectable": false
      }
     },
     "19238c5221314a4792959ae28356b8f3": {
      "model_module": "jupyter-cytoscape",
      "model_module_version": "^1.3.3",
      "model_name": "EdgeModel",
      "state": {
       "_model_module_version": "^1.3.3",
       "_view_module_version": "^1.3.3",
       "data": {
        "id": "a6bfc88b-01b2-4032-a48c-dca08f557a86",
        "source": "ddab397b-287d-4a58-baa4-72844e67c562",
        "target": "ba5e5a73-f1b5-4a6c-a040-984e3b1f6e77"
       },
       "selectable": false
      }
     },
     "1970e891eb6f42a7969ff5eb1d0e6ed5": {
      "model_module": "jupyter-cytoscape",
      "model_module_version": "^1.3.3",
      "model_name": "EdgeModel",
      "state": {
       "_model_module_version": "^1.3.3",
       "_view_module_version": "^1.3.3",
       "data": {
        "id": "e6a2e577-554c-4864-9a83-ea6740d2b5d7",
        "source": "5b96ae63-e032-46fa-89ba-4a8ce8fa9cee",
        "target": "02ef0194-3aad-47d1-8d49-5b6e42a21e77"
       },
       "selectable": false
      }
     },
     "19791fc66e7e4f52af29335a7c30567e": {
      "model_module": "jupyter-cytoscape",
      "model_module_version": "^1.3.3",
      "model_name": "NodeModel",
      "state": {
       "_model_module_version": "^1.3.3",
       "_view_module_version": "^1.3.3",
       "data": {
        "bgcolor": "red",
        "id": "adb4a895-82fc-49d1-ba45-7cbc8352c446",
        "name": "Truck transport"
       },
       "grabbable": true,
       "grabbed": false,
       "position": {
        "x": 1351.4619883040934,
        "y": 1031.7460317460318
       },
       "selectable": false
      }
     },
     "197b4018b5d0419bac32c96b8ecece1b": {
      "model_module": "jupyter-cytoscape",
      "model_module_version": "^1.3.3",
      "model_name": "EdgeModel",
      "state": {
       "_model_module_version": "^1.3.3",
       "_view_module_version": "^1.3.3",
       "data": {
        "id": "03784d91-1942-43bc-992b-5819b21fa439",
        "source": "bb916a72-2c1a-4ebf-8281-e0599fee6350",
        "target": "38436942-4600-46a5-838f-391cd0c695e1"
       },
       "selectable": false
      }
     },
     "19ded604353542bcaf5c0126a0c938eb": {
      "model_module": "jupyter-cytoscape",
      "model_module_version": "^1.3.3",
      "model_name": "EdgeModel",
      "state": {
       "_model_module_version": "^1.3.3",
       "_view_module_version": "^1.3.3",
       "data": {
        "id": "d33730d1-2de2-4eee-84e3-23219d3410d9",
        "source": "5487baf3-f6e6-4472-8c3d-de99b57f330f",
        "target": "9b4dfd84-8f89-47fc-856f-a32950faabe0"
       },
       "selectable": false
      }
     },
     "19fde6cc9b17482ebb93854bd66b245e": {
      "model_module": "jupyter-cytoscape",
      "model_module_version": "^1.3.3",
      "model_name": "EdgeModel",
      "state": {
       "_model_module_version": "^1.3.3",
       "_view_module_version": "^1.3.3",
       "data": {
        "id": "27d23048-2ac4-476e-8206-02186d11fe8e",
        "source": "a77f91ae-af31-4403-8f91-38c7b43b89f1",
        "target": "ccdc792a-6eba-4b0e-81af-c8b2c071d456"
       },
       "selectable": false
      }
     },
     "1a314865f13142bfad45194f2d1d795a": {
      "model_module": "jupyter-cytoscape",
      "model_module_version": "^1.3.3",
      "model_name": "EdgeModel",
      "state": {
       "_model_module_version": "^1.3.3",
       "_view_module_version": "^1.3.3",
       "data": {
        "id": "b96f2f82-0d8c-427f-b91a-fccc74f135b9",
        "source": "e8b9c3b7-aaf8-4e97-b23e-bb4742de213a",
        "target": "98af4f07-f54a-44ba-afe8-3414c6a6eb66"
       },
       "selectable": false
      }
     },
     "1a772e326a4043f2bceb3dc95fcc7738": {
      "model_module": "jupyter-cytoscape",
      "model_module_version": "^1.3.3",
      "model_name": "NodeModel",
      "state": {
       "_model_module_version": "^1.3.3",
       "_view_module_version": "^1.3.3",
       "data": {
        "bgcolor": "green",
        "id": "3ab9ba33-582b-4072-9bd5-82d09a89b15f",
        "name": ""
       },
       "grabbable": true,
       "grabbed": false,
       "position": {
        "x": 1539.1812865497077,
        "y": 1365.079365079365
       },
       "selectable": false
      }
     },
     "1b63353fca704a94b52496bf80c94f36": {
      "model_module": "jupyter-cytoscape",
      "model_module_version": "^1.3.3",
      "model_name": "EdgeModel",
      "state": {
       "_model_module_version": "^1.3.3",
       "_view_module_version": "^1.3.3",
       "data": {
        "id": "d319520f-65f7-48be-9200-a14136d10ff1",
        "source": "3b6ef470-f0a5-4b61-87c8-b3bf3b66fdc9",
        "target": "10b9484e-9271-484a-acdc-fca31859f57f"
       },
       "selectable": false
      }
     },
     "1c6a2ccf2f1641719538c92ec4f4b245": {
      "model_module": "jupyter-cytoscape",
      "model_module_version": "^1.3.3",
      "model_name": "EdgeModel",
      "state": {
       "_model_module_version": "^1.3.3",
       "_view_module_version": "^1.3.3",
       "data": {
        "id": "4dd6dfc9-2651-4d63-a7b3-616f914ccdf8",
        "source": "aa816dd9-6060-4586-b6dd-557b1a23aa58",
        "target": "578dccf9-5238-4121-98bd-de24214cc787"
       },
       "selectable": false
      }
     },
     "1cfddce28e074619883037fe8a1cfc4b": {
      "model_module": "jupyter-cytoscape",
      "model_module_version": "^1.3.3",
      "model_name": "NodeModel",
      "state": {
       "_model_module_version": "^1.3.3",
       "_view_module_version": "^1.3.3",
       "data": {
        "bgcolor": "red",
        "id": "7fee42b3-56ac-4622-8a70-8903601b1c87",
        "name": "Fuel consumption of Sea transport"
       },
       "grabbable": true,
       "grabbed": false,
       "position": {
        "x": 1769.5906432748538,
        "y": 666.6666666666666
       },
       "selectable": false
      }
     },
     "1e97d1ebc2584075a2f59088f5f5dc40": {
      "model_module": "jupyter-cytoscape",
      "model_module_version": "^1.3.3",
      "model_name": "EdgeModel",
      "state": {
       "_model_module_version": "^1.3.3",
       "_view_module_version": "^1.3.3",
       "data": {
        "id": "1a1641ef-682a-4e99-9bfe-8bb420bdde71",
        "source": "7cfdd8f1-da74-40e0-8035-bc3c3f9cfe95",
        "target": "ab15ef3a-985f-424a-8355-19e1c4a2157c"
       },
       "selectable": false
      }
     },
     "1f4716da7b70471dae4bfc5db901627d": {
      "model_module": "jupyter-cytoscape",
      "model_module_version": "^1.3.3",
      "model_name": "NodeModel",
      "state": {
       "_model_module_version": "^1.3.3",
       "_view_module_version": "^1.3.3",
       "data": {
        "bgcolor": "green",
        "id": "d9ccadbc-904f-4c7e-b35b-b55eae3a2d13",
        "name": ""
       },
       "grabbable": true,
       "grabbed": false,
       "position": {
        "x": 1539.1812865497077,
        "y": 825.3968253968253
       },
       "selectable": false
      }
     },
     "20cf1c16a0a445c6ab309fcd161574cc": {
      "model_module": "jupyter-cytoscape",
      "model_module_version": "^1.3.3",
      "model_name": "NodeModel",
      "state": {
       "_model_module_version": "^1.3.3",
       "_view_module_version": "^1.3.3",
       "data": {
        "bgcolor": "red",
        "id": "2a5a838f-fd4d-4f7d-8b4f-c7bc0da2ba6e",
        "name": "Lemon Juice Concentrate"
       },
       "grabbable": true,
       "grabbed": false,
       "position": {
        "x": 600.5847953216374,
        "y": 1158.7301587301588
       },
       "selectable": false
      }
     },
     "2161221cf0aa465ab9f93168c5d2b29a": {
      "model_module": "@jupyter-widgets/base",
      "model_module_version": "2.0.0",
      "model_name": "LayoutModel",
      "state": {
       "border_bottom": "1px solid black",
       "border_left": "1px solid black",
       "border_right": "1px solid black",
       "border_top": "1px solid black",
       "height": "800px",
       "max_height": "100%",
       "max_width": "50%",
       "width": "50%"
      }
     },
     "220003dabb7d455ab9bd6133072613e6": {
      "model_module": "jupyter-cytoscape",
      "model_module_version": "^1.3.3",
      "model_name": "EdgeModel",
      "state": {
       "_model_module_version": "^1.3.3",
       "_view_module_version": "^1.3.3",
       "data": {
        "id": "cf2b830e-0a22-4639-acee-b6b14976937e",
        "source": "d9ccadbc-904f-4c7e-b35b-b55eae3a2d13",
        "target": "e5ec713e-b49e-47cb-ae72-51deb956c87f"
       },
       "selectable": false
      }
     },
     "225c10eadd0048acb259816ff072aa25": {
      "model_module": "jupyter-cytoscape",
      "model_module_version": "^1.3.3",
      "model_name": "EdgeModel",
      "state": {
       "_model_module_version": "^1.3.3",
       "_view_module_version": "^1.3.3",
       "data": {
        "id": "21a54911-46a1-472d-90b9-ca3722e74831",
        "source": "28709a42-81bf-45d8-a100-2b6ae17a6162",
        "target": "780ae29b-0cb6-41b6-9b56-41309926b2b2"
       },
       "selectable": false
      }
     },
     "230926f71fd04406ae05fc7757fb1077": {
      "model_module": "jupyter-cytoscape",
      "model_module_version": "^1.3.3",
      "model_name": "NodeModel",
      "state": {
       "_model_module_version": "^1.3.3",
       "_view_module_version": "^1.3.3",
       "data": {
        "bgcolor": "green",
        "id": "0fa5caaf-1bfd-4811-ad8a-31ef90f21f07",
        "name": ""
       },
       "grabbable": true,
       "grabbed": false,
       "position": {
        "x": 1163.7426900584794,
        "y": 79.36507936507937
       },
       "selectable": false
      }
     },
     "2309f74c2dc4440da21c325526ac0d5e": {
      "model_module": "jupyter-cytoscape",
      "model_module_version": "^1.3.3",
      "model_name": "EdgeModel",
      "state": {
       "_model_module_version": "^1.3.3",
       "_view_module_version": "^1.3.3",
       "data": {
        "id": "584b7110-95d2-46c3-8d28-71fd9d0ed1d7",
        "source": "504be625-bc28-4e88-8e02-e3bf1abbeeb2",
        "target": "0fa5caaf-1bfd-4811-ad8a-31ef90f21f07"
       },
       "selectable": false
      }
     },
     "23c4beb82fdc44e4a38e4ec0823b7cda": {
      "model_module": "jupyter-cytoscape",
      "model_module_version": "^1.3.3",
      "model_name": "EdgeModel",
      "state": {
       "_model_module_version": "^1.3.3",
       "_view_module_version": "^1.3.3",
       "data": {
        "id": "57eca06e-a167-4998-b7aa-811d70d3b671",
        "source": "a295b7af-3ba2-4e90-9a36-3abf9592befa",
        "target": "28709a42-81bf-45d8-a100-2b6ae17a6162"
       },
       "selectable": false
      }
     },
     "24823251a70747219cdeb926e9ae028e": {
      "model_module": "jupyter-cytoscape",
      "model_module_version": "^1.3.3",
      "model_name": "NodeModel",
      "state": {
       "_model_module_version": "^1.3.3",
       "_view_module_version": "^1.3.3",
       "data": {
        "id": "38436942-4600-46a5-838f-391cd0c695e1"
       },
       "grabbable": true,
       "grabbed": false,
       "position": {
        "x": 2000,
        "y": 809.5238095238095
       },
       "selectable": false
      }
     },
     "262f54dbc7ba47598a6d08c371edd226": {
      "model_module": "jupyter-cytoscape",
      "model_module_version": "^1.3.3",
      "model_name": "EdgeModel",
      "state": {
       "_model_module_version": "^1.3.3",
       "_view_module_version": "^1.3.3",
       "data": {
        "id": "148e6b29-2ef3-4f6d-b877-4fcddc250b6c",
        "source": "862e7797-bb3f-47ed-a583-7fe6cb7824c5",
        "target": "0634f376-68d6-4796-b6ee-d8073e3fe4cd"
       },
       "selectable": false
      }
     },
     "26cd4fbc687d44639d08b58c9f57e9b8": {
      "model_module": "jupyter-cytoscape",
      "model_module_version": "^1.3.3",
      "model_name": "EdgeModel",
      "state": {
       "_model_module_version": "^1.3.3",
       "_view_module_version": "^1.3.3",
       "data": {
        "id": "316b768d-1afd-4052-938f-c81435c2e806",
        "source": "b3a3e878-3b7a-4a22-babe-7ddf97c44916",
        "target": "11291144-e8da-4391-86d9-674f23260733"
       },
       "selectable": false
      }
     },
     "2a0b6331b27f4cd88b6896c291ea7a3f": {
      "model_module": "jupyter-cytoscape",
      "model_module_version": "^1.3.3",
      "model_name": "NodeModel",
      "state": {
       "_model_module_version": "^1.3.3",
       "_view_module_version": "^1.3.3",
       "data": {
        "bgcolor": "red",
        "id": "9fb2d404-b32e-4ddf-99e6-b50633592b28",
        "name": "Fuel consumption of Truck transport"
       },
       "grabbable": true,
       "grabbed": false,
       "position": {
        "x": 1769.5906432748538,
        "y": 825.3968253968253
       },
       "selectable": false
      }
     },
     "2a4b3f3de15d4340a5d4f1c942a09708": {
      "model_module": "jupyter-cytoscape",
      "model_module_version": "^1.3.3",
      "model_name": "NodeModel",
      "state": {
       "_model_module_version": "^1.3.3",
       "_view_module_version": "^1.3.3",
       "data": {
        "bgcolor": "green",
        "id": "0634f376-68d6-4796-b6ee-d8073e3fe4cd",
        "name": ""
       },
       "grabbable": true,
       "grabbed": false,
       "position": {
        "x": 1539.1812865497077,
        "y": 952.3809523809523
       },
       "selectable": false
      }
     },
     "2aa181babff74b8587d0c361c40ecc1f": {
      "model_module": "jupyter-cytoscape",
      "model_module_version": "^1.3.3",
      "model_name": "EdgeModel",
      "state": {
       "_model_module_version": "^1.3.3",
       "_view_module_version": "^1.3.3",
       "data": {
        "id": "cb5097df-7e2e-44bc-8ddc-e9984e0976df",
        "source": "97dead99-5464-44b4-b020-629cf57afbfa",
        "target": "98af4f07-f54a-44ba-afe8-3414c6a6eb66"
       },
       "selectable": false
      }
     },
     "2adf7b756c38453ba84eaaabbfbd168e": {
      "model_module": "jupyter-cytoscape",
      "model_module_version": "^1.3.3",
      "model_name": "NodeModel",
      "state": {
       "_model_module_version": "^1.3.3",
       "_view_module_version": "^1.3.3",
       "data": {
        "bgcolor": "red",
        "id": "5487baf3-f6e6-4472-8c3d-de99b57f330f",
        "name": "Lemon Juice Concentrate"
       },
       "grabbable": true,
       "grabbed": false,
       "position": {
        "x": 600.5847953216374,
        "y": 1238.095238095238
       },
       "selectable": false
      }
     },
     "2b52fdc57acd4b7587fa35bae5861cfa": {
      "model_module": "jupyter-cytoscape",
      "model_module_version": "^1.3.3",
      "model_name": "EdgeModel",
      "state": {
       "_model_module_version": "^1.3.3",
       "_view_module_version": "^1.3.3",
       "data": {
        "id": "73f310a8-1218-4b5f-88b8-99c87006f8b5",
        "source": "dd731b6c-adaa-4f01-8746-364d37492307",
        "target": "bb916a72-2c1a-4ebf-8281-e0599fee6350"
       },
       "selectable": false
      }
     },
     "2b7bd1a74f814531bb8e13b82cac157e": {
      "model_module": "jupyter-cytoscape",
      "model_module_version": "^1.3.3",
      "model_name": "EdgeModel",
      "state": {
       "_model_module_version": "^1.3.3",
       "_view_module_version": "^1.3.3",
       "data": {
        "id": "ada10463-b233-4b04-bb6e-bd9fd3e404f3",
        "source": "6e584d13-aea3-44a7-927a-141477dc266e",
        "target": "10b9484e-9271-484a-acdc-fca31859f57f"
       },
       "selectable": false
      }
     },
     "2beab9c9dddc4b1db8a469927c547b08": {
      "model_module": "jupyter-cytoscape",
      "model_module_version": "^1.3.3",
      "model_name": "NodeModel",
      "state": {
       "_model_module_version": "^1.3.3",
       "_view_module_version": "^1.3.3",
       "data": {
        "bgcolor": "red",
        "id": "c392e95c-4621-4e18-83de-7becb1ce7929",
        "name": "Fuel consumption of Truck transport"
       },
       "grabbable": true,
       "grabbed": false,
       "position": {
        "x": 1769.5906432748538,
        "y": 984.1269841269841
       },
       "selectable": false
      }
     },
     "2cd6a0fa54804ca19baa12e02603ac96": {
      "model_module": "jupyter-cytoscape",
      "model_module_version": "^1.3.3",
      "model_name": "EdgeModel",
      "state": {
       "_model_module_version": "^1.3.3",
       "_view_module_version": "^1.3.3",
       "data": {
        "id": "5016cb08-0fdd-4ae0-bb25-03c539186d09",
        "source": "4a131b44-a6e6-412a-b2ff-8bb510af1d01",
        "target": "30784b1b-9018-4411-b36c-71beabcf3e7c"
       },
       "selectable": false
      }
     },
     "2d83f213b74b4402bcaf8c760cc2bf58": {
      "model_module": "jupyter-cytoscape",
      "model_module_version": "^1.3.3",
      "model_name": "NodeModel",
      "state": {
       "_model_module_version": "^1.3.3",
       "_view_module_version": "^1.3.3",
       "data": {
        "bgcolor": "red",
        "id": "1354e8de-c399-45d0-9c20-00cfda811e01",
        "name": "Lemon Juice Concentrate"
       },
       "grabbable": true,
       "grabbed": false,
       "position": {
        "x": 600.5847953216374,
        "y": 1349.2063492063494
       },
       "selectable": false
      }
     },
     "2e5523e675174c44acd89248d40fb640": {
      "model_module": "jupyter-cytoscape",
      "model_module_version": "^1.3.3",
      "model_name": "EdgeModel",
      "state": {
       "_model_module_version": "^1.3.3",
       "_view_module_version": "^1.3.3",
       "data": {
        "id": "6ac7e437-58ad-40d9-926a-fb80f9ea95bf",
        "source": "c131b8ea-3166-47df-ba67-935291331846",
        "target": "578dccf9-5238-4121-98bd-de24214cc787"
       },
       "selectable": false
      }
     },
     "2f420d0fcaf44c1bb5b694351ed385d6": {
      "model_module": "jupyter-cytoscape",
      "model_module_version": "^1.3.3",
      "model_name": "EdgeModel",
      "state": {
       "_model_module_version": "^1.3.3",
       "_view_module_version": "^1.3.3",
       "data": {
        "id": "3714583e-1966-42eb-8a51-b9d2015eeb2a",
        "source": "3ab9ba33-582b-4072-9bd5-82d09a89b15f",
        "target": "8943f1a9-efe6-45c2-8da3-9b3fee5167a3"
       },
       "selectable": false
      }
     },
     "2ff8333dfbdb440496c6c7733b9756dc": {
      "model_module": "jupyter-cytoscape",
      "model_module_version": "^1.3.3",
      "model_name": "EdgeModel",
      "state": {
       "_model_module_version": "^1.3.3",
       "_view_module_version": "^1.3.3",
       "data": {
        "id": "cd7fedee-515a-4deb-a195-c139a3a28eab",
        "source": "fac08c2c-f2ca-456a-8f70-9c77cd0e6dae",
        "target": "5b96ae63-e032-46fa-89ba-4a8ce8fa9cee"
       },
       "selectable": false
      }
     },
     "30d08bcc2bb1464f952badd6d6bc520e": {
      "model_module": "jupyter-cytoscape",
      "model_module_version": "^1.3.3",
      "model_name": "NodeModel",
      "state": {
       "_model_module_version": "^1.3.3",
       "_view_module_version": "^1.3.3",
       "data": {
        "bgcolor": "red",
        "id": "ab15ef3a-985f-424a-8355-19e1c4a2157c",
        "name": "Bananas"
       },
       "grabbable": true,
       "grabbed": false,
       "position": {
        "x": 1769.5906432748538,
        "y": 126.98412698412697
       },
       "selectable": false
      }
     },
     "30d8e23cfcf847e193d59b105b197e09": {
      "model_module": "jupyter-cytoscape",
      "model_module_version": "^1.3.3",
      "model_name": "NodeModel",
      "state": {
       "_model_module_version": "^1.3.3",
       "_view_module_version": "^1.3.3",
       "data": {
        "bgcolor": "red",
        "id": "a2675fc7-9aeb-4fb3-8184-c345b5556435",
        "name": "Truck transport"
       },
       "grabbable": true,
       "grabbed": false,
       "position": {
        "x": 1351.4619883040934,
        "y": 1396.8253968253966
       },
       "selectable": false
      }
     },
     "321d0562b43644ce987f74a0ae0acb95": {
      "model_module": "jupyter-cytoscape",
      "model_module_version": "^1.3.3",
      "model_name": "NodeModel",
      "state": {
       "_model_module_version": "^1.3.3",
       "_view_module_version": "^1.3.3",
       "data": {
        "bgcolor": "red",
        "id": "98eddacf-4211-4c0a-b4da-0a058710a854",
        "name": "Fuel consumption of Truck transport"
       },
       "grabbable": true,
       "grabbed": false,
       "position": {
        "x": 1769.5906432748538,
        "y": 444.4444444444444
       },
       "selectable": false
      }
     },
     "3287f39175714501a470ee3d076003c0": {
      "model_module": "jupyter-cytoscape",
      "model_module_version": "^1.3.3",
      "model_name": "EdgeModel",
      "state": {
       "_model_module_version": "^1.3.3",
       "_view_module_version": "^1.3.3",
       "data": {
        "id": "bad00cc3-96a2-48b8-a0db-0d6a393f519c",
        "source": "e68eff79-7a22-4c80-ae10-ba008d86cc62",
        "target": "7570baa7-0339-4d2e-a292-ee8fcc468720"
       },
       "selectable": false
      }
     },
     "32bb2e0a1e5c494da45650c5bcbc810d": {
      "model_module": "jupyter-cytoscape",
      "model_module_version": "^1.3.3",
      "model_name": "EdgeModel",
      "state": {
       "_model_module_version": "^1.3.3",
       "_view_module_version": "^1.3.3",
       "data": {
        "id": "401c948d-80af-4e32-9aaa-a05a9ba42235",
        "source": "ddab397b-287d-4a58-baa4-72844e67c562",
        "target": "9274e1ce-fa92-4e90-a913-b53b3433715e"
       },
       "selectable": false
      }
     },
     "332445cfb55d40d19a07984cfad7dcce": {
      "model_module": "jupyter-cytoscape",
      "model_module_version": "^1.3.3",
      "model_name": "EdgeModel",
      "state": {
       "_model_module_version": "^1.3.3",
       "_view_module_version": "^1.3.3",
       "data": {
        "id": "28dd6d86-a723-4146-b929-eba9e8c9ce01",
        "source": "9b4dfd84-8f89-47fc-856f-a32950faabe0",
        "target": "9843e86c-fb63-4af9-87ec-44f4165a449f"
       },
       "selectable": false
      }
     },
     "33703fca270347fe8b7c3b9222149f6e": {
      "model_module": "jupyter-cytoscape",
      "model_module_version": "^1.3.3",
      "model_name": "NodeModel",
      "state": {
       "_model_module_version": "^1.3.3",
       "_view_module_version": "^1.3.3",
       "data": {
        "bgcolor": "red",
        "id": "70491afd-aa28-45c5-a039-4bc1812d32c5",
        "name": "Fuel consumption of Truck transport"
       },
       "grabbable": true,
       "grabbed": false,
       "position": {
        "x": 1769.5906432748538,
        "y": 793.6507936507936
       },
       "selectable": false
      }
     },
     "340b90935fba40a4963204b9c0503c0b": {
      "model_module": "jupyter-cytoscape",
      "model_module_version": "^1.3.3",
      "model_name": "NodeModel",
      "state": {
       "_model_module_version": "^1.3.3",
       "_view_module_version": "^1.3.3",
       "data": {
        "bgcolor": "red",
        "id": "29103f83-1b7b-4fb0-9c75-e945c897e6d9",
        "name": "Bananas"
       },
       "grabbable": true,
       "grabbed": false,
       "position": {
        "x": 600.5847953216374,
        "y": 825.3968253968253
       },
       "selectable": false
      }
     },
     "3448f2dcad4c43178a0ad87e330598d2": {
      "model_module": "jupyter-cytoscape",
      "model_module_version": "^1.3.3",
      "model_name": "NodeModel",
      "state": {
       "_model_module_version": "^1.3.3",
       "_view_module_version": "^1.3.3",
       "data": {
        "bgcolor": "green",
        "id": "9b4dfd84-8f89-47fc-856f-a32950faabe0",
        "name": ""
       },
       "grabbable": true,
       "grabbed": false,
       "position": {
        "x": 788.3040935672515,
        "y": 1238.095238095238
       },
       "selectable": false
      }
     },
     "349d0428aaff460bbff4b98e8e105294": {
      "model_module": "jupyter-cytoscape",
      "model_module_version": "^1.3.3",
      "model_name": "EdgeModel",
      "state": {
       "_model_module_version": "^1.3.3",
       "_view_module_version": "^1.3.3",
       "data": {
        "id": "a5c329f2-7f18-499b-a222-576c6e3d53a7",
        "source": "36a19b48-6ac7-404c-847c-5b1ba73f2f89",
        "target": "69cd328a-8426-42cf-a32f-d9a3b23a9141"
       },
       "selectable": false
      }
     },
     "349dbefb72d54553aafeae409b5981d7": {
      "model_module": "jupyter-cytoscape",
      "model_module_version": "^1.3.3",
      "model_name": "EdgeModel",
      "state": {
       "_model_module_version": "^1.3.3",
       "_view_module_version": "^1.3.3",
       "data": {
        "id": "b316171d-d870-4218-b630-af65d41f4a4f",
        "source": "a295b7af-3ba2-4e90-9a36-3abf9592befa",
        "target": "67e1a21d-345e-42c6-bd7a-ba27bcceed24"
       },
       "selectable": false
      }
     },
     "34b7212bac164917bb137504a7559fdf": {
      "model_module": "jupyter-cytoscape",
      "model_module_version": "^1.3.3",
      "model_name": "EdgeModel",
      "state": {
       "_model_module_version": "^1.3.3",
       "_view_module_version": "^1.3.3",
       "data": {
        "id": "f5e100d1-143b-4cc5-9986-560406c58e00",
        "source": "2b559bbe-6700-4c7b-a886-90565be1c169",
        "target": "02f6cc1f-f86c-484e-a501-949a1ba0f9ec"
       },
       "selectable": false
      }
     },
     "352dcbe1a091410f94edaaf7f89c97b3": {
      "model_module": "jupyter-cytoscape",
      "model_module_version": "^1.3.3",
      "model_name": "EdgeModel",
      "state": {
       "_model_module_version": "^1.3.3",
       "_view_module_version": "^1.3.3",
       "data": {
        "id": "e0337bcf-ec7f-46b1-80fd-6e570bf7177a",
        "source": "681ad100-6fcf-497f-b327-4ffe95e77050",
        "target": "02ef0194-3aad-47d1-8d49-5b6e42a21e77"
       },
       "selectable": false
      }
     },
     "35862ebead5d4f7c98a4e4bc40c70f51": {
      "model_module": "jupyter-cytoscape",
      "model_module_version": "^1.3.3",
      "model_name": "EdgeModel",
      "state": {
       "_model_module_version": "^1.3.3",
       "_view_module_version": "^1.3.3",
       "data": {
        "id": "feff8e4a-d0ae-4053-acd3-e202167251ed",
        "source": "a5623f9d-410c-4c32-95a1-dae8e7592af1",
        "target": "10b9484e-9271-484a-acdc-fca31859f57f"
       },
       "selectable": false
      }
     },
     "36be45243f5a4c5090599cf7ef0b8d2c": {
      "model_module": "jupyter-cytoscape",
      "model_module_version": "^1.3.3",
      "model_name": "EdgeModel",
      "state": {
       "_model_module_version": "^1.3.3",
       "_view_module_version": "^1.3.3",
       "data": {
        "id": "7477e67a-af2e-45a4-9160-79b170c2c126",
        "source": "b13e7ac8-c256-41ff-9f59-e3c9350e2d1f",
        "target": "fd2effa2-3df1-4943-b9a4-7a4601f1f75b"
       },
       "selectable": false
      }
     },
     "373b6d463be34bcd84ccf2d2ffaaa7bc": {
      "model_module": "jupyter-cytoscape",
      "model_module_version": "^1.3.3",
      "model_name": "EdgeModel",
      "state": {
       "_model_module_version": "^1.3.3",
       "_view_module_version": "^1.3.3",
       "data": {
        "id": "9b473e53-327e-4f61-86cd-c1587c748180",
        "source": "5d4a5c7f-29f5-475d-a8c8-90076e08ff8a",
        "target": "38436942-4600-46a5-838f-391cd0c695e1"
       },
       "selectable": false
      }
     },
     "37f1285aaa1c4de7bfaaf5e4dce27eec": {
      "model_module": "jupyter-cytoscape",
      "model_module_version": "^1.3.3",
      "model_name": "NodeModel",
      "state": {
       "_model_module_version": "^1.3.3",
       "_view_module_version": "^1.3.3",
       "data": {
        "bgcolor": "red",
        "id": "26b28b05-9365-47a4-98c8-6f77ebc1ab6b",
        "name": "Fuel consumption of Truck transport"
       },
       "grabbable": true,
       "grabbed": false,
       "position": {
        "x": 1769.5906432748538,
        "y": 888.8888888888888
       },
       "selectable": false
      }
     },
     "384f308eb9f24c65a75f09ad166d3659": {
      "model_module": "jupyter-cytoscape",
      "model_module_version": "^1.3.3",
      "model_name": "EdgeModel",
      "state": {
       "_model_module_version": "^1.3.3",
       "_view_module_version": "^1.3.3",
       "data": {
        "id": "2decdc92-c0aa-43c1-97a6-3fe2336c805a",
        "source": "df1d6aec-ff40-444f-9c22-09b6ccaaef0d",
        "target": "4a131b44-a6e6-412a-b2ff-8bb510af1d01"
       },
       "selectable": false
      }
     },
     "38c85efe49374e82bc433665dde213f2": {
      "model_module": "jupyter-cytoscape",
      "model_module_version": "^1.3.3",
      "model_name": "NodeModel",
      "state": {
       "_model_module_version": "^1.3.3",
       "_view_module_version": "^1.3.3",
       "data": {
        "bgcolor": "red",
        "id": "47c0c684-bba3-4cb5-ad3c-583cdc45d643",
        "name": "Truck transport"
       },
       "grabbable": true,
       "grabbed": false,
       "position": {
        "x": 1769.5906432748538,
        "y": 1269.8412698412699
       },
       "selectable": false
      }
     },
     "3b8f5bd88bee4532afeba0663a5ff174": {
      "model_module": "jupyter-cytoscape",
      "model_module_version": "^1.3.3",
      "model_name": "NodeModel",
      "state": {
       "_model_module_version": "^1.3.3",
       "_view_module_version": "^1.3.3",
       "data": {
        "bgcolor": "red",
        "id": "c9a31e88-0082-4ffa-847e-56f63f7a17cf",
        "name": "Lemon Juice Concentrate"
       },
       "grabbable": true,
       "grabbed": false,
       "position": {
        "x": 1769.5906432748538,
        "y": 1841.2698412698412
       },
       "selectable": false
      }
     },
     "3cd69a13558343f8b52028acbf6176f7": {
      "model_module": "jupyter-cytoscape",
      "model_module_version": "^1.3.3",
      "model_name": "EdgeModel",
      "state": {
       "_model_module_version": "^1.3.3",
       "_view_module_version": "^1.3.3",
       "data": {
        "id": "18c5f866-496c-49ae-b1dd-117593611907",
        "source": "47c0c684-bba3-4cb5-ad3c-583cdc45d643",
        "target": "98af4f07-f54a-44ba-afe8-3414c6a6eb66"
       },
       "selectable": false
      }
     },
     "3cf3ea259caf4e6d9c606a7fe5ad59bf": {
      "model_module": "jupyter-cytoscape",
      "model_module_version": "^1.3.3",
      "model_name": "NodeModel",
      "state": {
       "_model_module_version": "^1.3.3",
       "_view_module_version": "^1.3.3",
       "data": {
        "bgcolor": "red",
        "id": "34672cd9-8206-4477-b0a7-bd363d1ffb1d",
        "name": "Truck transport"
       },
       "grabbable": true,
       "grabbed": false,
       "position": {
        "x": 1769.5906432748538,
        "y": 1746.031746031746
       },
       "selectable": false
      }
     },
     "3d08736a0fa4478d965343af396b49bc": {
      "model_module": "jupyter-cytoscape",
      "model_module_version": "^1.3.3",
      "model_name": "EdgeModel",
      "state": {
       "_model_module_version": "^1.3.3",
       "_view_module_version": "^1.3.3",
       "data": {
        "id": "73fce0ea-aea4-4556-979c-2f8d40ab8d49",
        "source": "72db7955-1acb-466c-ac94-fe54acdc3546",
        "target": "02ef0194-3aad-47d1-8d49-5b6e42a21e77"
       },
       "selectable": false
      }
     },
     "3d6d1a8df3f846fa864ca755e1793cec": {
      "model_module": "jupyter-cytoscape",
      "model_module_version": "^1.3.3",
      "model_name": "EdgeModel",
      "state": {
       "_model_module_version": "^1.3.3",
       "_view_module_version": "^1.3.3",
       "data": {
        "id": "9305b9cf-c86b-4726-96f0-6874e811a38a",
        "source": "ca0b92ad-3cf2-470b-82b6-6dbca553ac85",
        "target": "10b9484e-9271-484a-acdc-fca31859f57f"
       },
       "selectable": false
      }
     },
     "3dd513ca3d9643df90232eb7c7569053": {
      "model_module": "jupyter-cytoscape",
      "model_module_version": "^1.3.3",
      "model_name": "NodeModel",
      "state": {
       "_model_module_version": "^1.3.3",
       "_view_module_version": "^1.3.3",
       "data": {
        "bgcolor": "green",
        "id": "99f77227-3592-4b4a-a806-65505d531d51",
        "name": ""
       },
       "grabbable": true,
       "grabbed": false,
       "position": {
        "x": 1539.1812865497077,
        "y": 365.07936507936506
       },
       "selectable": false
      }
     },
     "3e37a018a9204e998b158687d5620fa3": {
      "model_module": "jupyter-cytoscape",
      "model_module_version": "^1.3.3",
      "model_name": "EdgeModel",
      "state": {
       "_model_module_version": "^1.3.3",
       "_view_module_version": "^1.3.3",
       "data": {
        "id": "c1407185-b624-436b-8eae-397ba6318ea3",
        "source": "29e4cddc-710a-4ba2-b02f-b00e6b688aca",
        "target": "1231889c-4334-40d0-b3d4-573300bb262e"
       },
       "selectable": false
      }
     },
     "3e7e1a545e5e40cc96003c3249f5524c": {
      "model_module": "jupyter-cytoscape",
      "model_module_version": "^1.3.3",
      "model_name": "EdgeModel",
      "state": {
       "_model_module_version": "^1.3.3",
       "_view_module_version": "^1.3.3",
       "data": {
        "id": "fa5e34b3-b86d-41ba-b91d-40d1c552889f",
        "source": "29103f83-1b7b-4fb0-9c75-e945c897e6d9",
        "target": "a295b7af-3ba2-4e90-9a36-3abf9592befa"
       },
       "selectable": false
      }
     },
     "3f2f5aeb3dd74a9ab33838aa9cfbede0": {
      "model_module": "jupyter-cytoscape",
      "model_module_version": "^1.3.3",
      "model_name": "EdgeModel",
      "state": {
       "_model_module_version": "^1.3.3",
       "_view_module_version": "^1.3.3",
       "data": {
        "id": "29b8c2e3-2786-4bca-b9b9-604502fcdbbb",
        "source": "da97ab7c-bae8-40fd-bf29-024b0928607c",
        "target": "c9aa9001-433c-4585-b5fb-bab6f2cfa305"
       },
       "selectable": false
      }
     },
     "3f9115e66a13431ebdaa0c4c6efc3ff1": {
      "model_module": "jupyter-cytoscape",
      "model_module_version": "^1.3.3",
      "model_name": "NodeModel",
      "state": {
       "_model_module_version": "^1.3.3",
       "_view_module_version": "^1.3.3",
       "data": {
        "bgcolor": "red",
        "id": "7e4c2738-a878-4655-8fa8-f4ceea6eb6bd",
        "name": "Fuel consumption of Truck transport"
       },
       "grabbable": true,
       "grabbed": false,
       "position": {
        "x": 1769.5906432748538,
        "y": 507.9365079365079
       },
       "selectable": false
      }
     },
     "3fef31dff9954203993967507e5c93c7": {
      "model_module": "jupyter-cytoscape",
      "model_module_version": "^1.3.3",
      "model_name": "EdgeModel",
      "state": {
       "_model_module_version": "^1.3.3",
       "_view_module_version": "^1.3.3",
       "data": {
        "id": "4c4800f6-627f-4e03-808c-9ae5f6ec3bf0",
        "source": "4836d9f9-5ab7-4e1e-8444-f9a6cfaa611f",
        "target": "38436942-4600-46a5-838f-391cd0c695e1"
       },
       "selectable": false
      }
     },
     "406344f52c764d999b8dbdc7343c7305": {
      "model_module": "jupyter-cytoscape",
      "model_module_version": "^1.3.3",
      "model_name": "EdgeModel",
      "state": {
       "_model_module_version": "^1.3.3",
       "_view_module_version": "^1.3.3",
       "data": {
        "id": "b0c5720d-3b3d-4b47-8ad2-4f966d481d71",
        "source": "73d5ce86-a6d6-4a91-a7fc-ef183b9e8c1b",
        "target": "7cfdd8f1-da74-40e0-8035-bc3c3f9cfe95"
       },
       "selectable": false
      }
     },
     "4081aa71648b408bbb7219faa41ca23d": {
      "model_module": "jupyter-cytoscape",
      "model_module_version": "^1.3.3",
      "model_name": "NodeModel",
      "state": {
       "_model_module_version": "^1.3.3",
       "_view_module_version": "^1.3.3",
       "data": {
        "bgcolor": "red",
        "id": "1d78e88d-6447-4aaf-9da1-1fad8a98d5b8",
        "name": "Lemon Juice Concentrate"
       },
       "grabbable": true,
       "grabbed": false,
       "position": {
        "x": 976.0233918128655,
        "y": 1920.6349206349207
       },
       "selectable": false
      }
     },
     "409b0e18d79e483ebcd17386c057b981": {
      "model_module": "jupyter-cytoscape",
      "model_module_version": "^1.3.3",
      "model_name": "NodeModel",
      "state": {
       "_model_module_version": "^1.3.3",
       "_view_module_version": "^1.3.3",
       "data": {
        "bgcolor": "red",
        "id": "4287441a-d8af-4f78-9ee6-cdd0ff2da2f1",
        "name": "Truck transport"
       },
       "grabbable": true,
       "grabbed": false,
       "position": {
        "x": 1351.4619883040934,
        "y": 1222.2222222222224
       },
       "selectable": false
      }
     },
     "40f25d3985844ac8892d3347ff85ed2f": {
      "model_module": "jupyter-cytoscape",
      "model_module_version": "^1.3.3",
      "model_name": "EdgeModel",
      "state": {
       "_model_module_version": "^1.3.3",
       "_view_module_version": "^1.3.3",
       "data": {
        "id": "5fd4cd69-d2a0-4282-8eaf-41ba45bc30a5",
        "source": "cd62a9a4-69d6-455f-a0cc-069875244186",
        "target": "98af4f07-f54a-44ba-afe8-3414c6a6eb66"
       },
       "selectable": false
      }
     },
     "4288809390aa4f0d9e40ccef08b6f5c8": {
      "model_module": "jupyter-cytoscape",
      "model_module_version": "^1.3.3",
      "model_name": "EdgeModel",
      "state": {
       "_model_module_version": "^1.3.3",
       "_view_module_version": "^1.3.3",
       "data": {
        "id": "e2820f75-9217-4694-84d7-23797a8f1384",
        "source": "0634f376-68d6-4796-b6ee-d8073e3fe4cd",
        "target": "66537f18-ffeb-4793-a252-136b20034a15"
       },
       "selectable": false
      }
     },
     "430c14885ab6442abdc19c82c2600795": {
      "model_module": "jupyter-cytoscape",
      "model_module_version": "^1.3.3",
      "model_name": "NodeModel",
      "state": {
       "_model_module_version": "^1.3.3",
       "_view_module_version": "^1.3.3",
       "data": {
        "bgcolor": "green",
        "id": "1612c5b9-fd93-45ed-9474-a1f385cd9636",
        "name": ""
       },
       "grabbable": true,
       "grabbed": false,
       "position": {
        "x": 1539.1812865497077,
        "y": 1333.3333333333333
       },
       "selectable": false
      }
     },
     "4398dc95e02a40cebf5c100725657c7c": {
      "model_module": "jupyter-cytoscape",
      "model_module_version": "^1.3.3",
      "model_name": "NodeModel",
      "state": {
       "_model_module_version": "^1.3.3",
       "_view_module_version": "^1.3.3",
       "data": {
        "bgcolor": "red",
        "id": "47155d26-84f3-4f04-b96e-643735e5a3cd",
        "name": "Sea transport"
       },
       "grabbable": true,
       "grabbed": false,
       "position": {
        "x": 1769.5906432748538,
        "y": 412.69841269841265
       },
       "selectable": false
      }
     },
     "441d63c4f0214561b8820e952ee90dfa": {
      "model_module": "jupyter-cytoscape",
      "model_module_version": "^1.3.3",
      "model_name": "EdgeModel",
      "state": {
       "_model_module_version": "^1.3.3",
       "_view_module_version": "^1.3.3",
       "data": {
        "id": "b9825914-8e70-47fe-8747-4cebf30df663",
        "source": "1612c5b9-fd93-45ed-9474-a1f385cd9636",
        "target": "cde92b9b-e27e-4759-ab8b-ec40d3f99984"
       },
       "selectable": false
      }
     },
     "44449d0271004a76977e3c69a87d8398": {
      "model_module": "jupyter-cytoscape",
      "model_module_version": "^1.3.3",
      "model_name": "EdgeModel",
      "state": {
       "_model_module_version": "^1.3.3",
       "_view_module_version": "^1.3.3",
       "data": {
        "id": "22e87bec-b61d-4714-ae66-251b6d8aec04",
        "source": "80f9d825-4bea-47ee-9e91-ce9fbc08a3f2",
        "target": "7fee42b3-56ac-4622-8a70-8903601b1c87"
       },
       "selectable": false
      }
     },
     "4459a9fd13394168b3e1125e2259b9c6": {
      "model_module": "jupyter-cytoscape",
      "model_module_version": "^1.3.3",
      "model_name": "EdgeModel",
      "state": {
       "_model_module_version": "^1.3.3",
       "_view_module_version": "^1.3.3",
       "data": {
        "id": "fd162e80-f9a0-455b-b8aa-83dd667ade77",
        "source": "7ff858c0-77d2-434a-9b98-5562a5f347f4",
        "target": "7d4010d6-cf6d-4d16-ae4b-59fdc15e67a3"
       },
       "selectable": false
      }
     },
     "448a2623d0304900ae73869959517937": {
      "model_module": "jupyter-cytoscape",
      "model_module_version": "^1.3.3",
      "model_name": "NodeModel",
      "state": {
       "_model_module_version": "^1.3.3",
       "_view_module_version": "^1.3.3",
       "data": {
        "bgcolor": "red",
        "id": "666a0349-36ec-4277-9186-89b79e6a744e",
        "name": "Lemon Juice Concentrate"
       },
       "grabbable": true,
       "grabbed": false,
       "position": {
        "x": 1351.4619883040934,
        "y": 1968.2539682539682
       },
       "selectable": false
      }
     },
     "44e1632d113c491da68498692aa2cffe": {
      "model_module": "jupyter-cytoscape",
      "model_module_version": "^1.3.3",
      "model_name": "NodeModel",
      "state": {
       "_model_module_version": "^1.3.3",
       "_view_module_version": "^1.3.3",
       "data": {
        "bgcolor": "red",
        "id": "34ff3b13-4569-4128-8116-d6fa31ba9a49",
        "name": "Fuel consumption of Truck transport"
       },
       "grabbable": true,
       "grabbed": false,
       "position": {
        "x": 1769.5906432748538,
        "y": 698.4126984126983
       },
       "selectable": false
      }
     },
     "4582cd122af8432eafd12185a16f211f": {
      "model_module": "jupyter-cytoscape",
      "model_module_version": "^1.3.3",
      "model_name": "EdgeModel",
      "state": {
       "_model_module_version": "^1.3.3",
       "_view_module_version": "^1.3.3",
       "data": {
        "id": "aa2f9e5a-f7a5-4979-8924-9d9b2c0d80bc",
        "source": "1400c1e8-b4c7-490f-9134-13d3f0b86deb",
        "target": "73d5ce86-a6d6-4a91-a7fc-ef183b9e8c1b"
       },
       "selectable": false
      }
     },
     "45eb8aa0950f4e6dbdd6471a2dd9fbab": {
      "model_module": "jupyter-cytoscape",
      "model_module_version": "^1.3.3",
      "model_name": "EdgeModel",
      "state": {
       "_model_module_version": "^1.3.3",
       "_view_module_version": "^1.3.3",
       "data": {
        "id": "fb667f03-1966-4ea1-b3e7-d378c9315366",
        "source": "0e7c7641-6584-4ac7-93e2-037e20f6590f",
        "target": "38436942-4600-46a5-838f-391cd0c695e1"
       },
       "selectable": false
      }
     },
     "466ae39d819842e1a062121fae225bbe": {
      "model_module": "jupyter-cytoscape",
      "model_module_version": "^1.3.3",
      "model_name": "EdgeModel",
      "state": {
       "_model_module_version": "^1.3.3",
       "_view_module_version": "^1.3.3",
       "data": {
        "id": "1cd2ff08-ad10-4ebc-9c54-a7fbd16055c4",
        "source": "ae2209f5-19d0-4eaa-8dca-6f8f51386a49",
        "target": "672c8957-2d02-46ad-ade0-3073bb8576eb"
       },
       "selectable": false
      }
     },
     "46d7af0fa2184b1c9b39acdcf54e1ad9": {
      "model_module": "jupyter-cytoscape",
      "model_module_version": "^1.3.3",
      "model_name": "EdgeModel",
      "state": {
       "_model_module_version": "^1.3.3",
       "_view_module_version": "^1.3.3",
       "data": {
        "id": "a154cbc4-eef5-4549-ba38-0c3b7d0100e6",
        "source": "780ae29b-0cb6-41b6-9b56-41309926b2b2",
        "target": "a8b14081-c439-4c40-b295-398f73ef3a19"
       },
       "selectable": false
      }
     },
     "47fa157b4ade46019d2a47cee328c26e": {
      "model_module": "jupyter-cytoscape",
      "model_module_version": "^1.3.3",
      "model_name": "NodeModel",
      "state": {
       "_model_module_version": "^1.3.3",
       "_view_module_version": "^1.3.3",
       "data": {
        "bgcolor": "red",
        "id": "223f17a3-5e02-443a-85bf-9fcd6f2b47e7",
        "name": "Truck transport"
       },
       "grabbable": true,
       "grabbed": false,
       "position": {
        "x": 1351.4619883040934,
        "y": 1063.4920634920634
       },
       "selectable": false
      }
     },
     "495034d832c14285b59f5c2477b8fa84": {
      "model_module": "jupyter-cytoscape",
      "model_module_version": "^1.3.3",
      "model_name": "EdgeModel",
      "state": {
       "_model_module_version": "^1.3.3",
       "_view_module_version": "^1.3.3",
       "data": {
        "id": "5063eab0-76a9-4abd-94be-3ca314e246f1",
        "source": "0fa5caaf-1bfd-4811-ad8a-31ef90f21f07",
        "target": "b3a9362d-d4b7-40ff-b9b4-d886876e157e"
       },
       "selectable": false
      }
     },
     "498114e2b2274d8dbd8a263c6f08de43": {
      "model_module": "jupyter-cytoscape",
      "model_module_version": "^1.3.3",
      "model_name": "EdgeModel",
      "state": {
       "_model_module_version": "^1.3.3",
       "_view_module_version": "^1.3.3",
       "data": {
        "id": "7932efd8-0a8b-4a59-8c0e-09fc7e199388",
        "source": "3ab9ba33-582b-4072-9bd5-82d09a89b15f",
        "target": "cd62a9a4-69d6-455f-a0cc-069875244186"
       },
       "selectable": false
      }
     },
     "4a7aea9582ed4681a83d9ca485dfe141": {
      "model_module": "jupyter-cytoscape",
      "model_module_version": "^1.3.3",
      "model_name": "EdgeModel",
      "state": {
       "_model_module_version": "^1.3.3",
       "_view_module_version": "^1.3.3",
       "data": {
        "id": "53f91d3e-577e-46ae-8db3-d6d9b9197a2c",
        "source": "66537f18-ffeb-4793-a252-136b20034a15",
        "target": "98af4f07-f54a-44ba-afe8-3414c6a6eb66"
       },
       "selectable": false
      }
     },
     "4b084836b2f04e70acc4396542e20135": {
      "model_module": "jupyter-cytoscape",
      "model_module_version": "^1.3.3",
      "model_name": "EdgeModel",
      "state": {
       "_model_module_version": "^1.3.3",
       "_view_module_version": "^1.3.3",
       "data": {
        "id": "6776e509-cb2d-4b10-9077-1e9a1015ae71",
        "source": "b3a9362d-d4b7-40ff-b9b4-d886876e157e",
        "target": "f4b510b7-b28f-42c2-9c9f-d6823a7fb9f6"
       },
       "selectable": false
      }
     },
     "4bb0e9c3c2fe434bb758eb1fbfd335be": {
      "model_module": "jupyter-cytoscape",
      "model_module_version": "^1.3.3",
      "model_name": "NodeModel",
      "state": {
       "_model_module_version": "^1.3.3",
       "_view_module_version": "^1.3.3",
       "data": {
        "bgcolor": "green",
        "id": "1400c1e8-b4c7-490f-9134-13d3f0b86deb",
        "name": ""
       },
       "grabbable": true,
       "grabbed": false,
       "position": {
        "x": 1163.7426900584794,
        "y": 142.85714285714286
       },
       "selectable": false
      }
     },
     "4bc6f66b81da408aa91cb9f0609b15a9": {
      "model_module": "jupyter-cytoscape",
      "model_module_version": "^1.3.3",
      "model_name": "EdgeModel",
      "state": {
       "_model_module_version": "^1.3.3",
       "_view_module_version": "^1.3.3",
       "data": {
        "id": "993e4616-6974-48b7-9e67-c55205baa59e",
        "source": "7570baa7-0339-4d2e-a292-ee8fcc468720",
        "target": "ca6f2f76-1e66-4874-b36c-e594f4229d70"
       },
       "selectable": false
      }
     },
     "4c3aed66303a4515bdb0829545412cfd": {
      "model_module": "jupyter-cytoscape",
      "model_module_version": "^1.3.3",
      "model_name": "EdgeModel",
      "state": {
       "_model_module_version": "^1.3.3",
       "_view_module_version": "^1.3.3",
       "data": {
        "id": "596b9ea9-d719-4b35-a444-00bafaaf8033",
        "source": "71b8be09-9ad7-4893-bbec-6cdd1f7b7872",
        "target": "868e0ba5-5cd0-4f2a-bc31-99bd27f549b3"
       },
       "selectable": false
      }
     },
     "4cdd841f798f49668567a4a5ce7c0db6": {
      "model_module": "jupyter-cytoscape",
      "model_module_version": "^1.3.3",
      "model_name": "EdgeModel",
      "state": {
       "_model_module_version": "^1.3.3",
       "_view_module_version": "^1.3.3",
       "data": {
        "id": "df676958-0a68-47f9-939a-9184aecfc348",
        "source": "1354e8de-c399-45d0-9c20-00cfda811e01",
        "target": "e80e8725-b75f-485e-8837-ec6bc51f3755"
       },
       "selectable": false
      }
     },
     "4ddafa9701214c299759afe6179269cb": {
      "model_module": "jupyter-cytoscape",
      "model_module_version": "^1.3.3",
      "model_name": "EdgeModel",
      "state": {
       "_model_module_version": "^1.3.3",
       "_view_module_version": "^1.3.3",
       "data": {
        "id": "fdd18b90-510a-49de-bbcd-b2a7dc49b7fb",
        "source": "7bf548de-2067-4027-942b-e3cbd379c86a",
        "target": "7729dc59-56d9-467f-a977-9faaa1de01fa"
       },
       "selectable": false
      }
     },
     "4de796720bd84bf39d0d5d754ba92658": {
      "model_module": "jupyter-cytoscape",
      "model_module_version": "^1.3.3",
      "model_name": "EdgeModel",
      "state": {
       "_model_module_version": "^1.3.3",
       "_view_module_version": "^1.3.3",
       "data": {
        "id": "9d6d21e4-9919-4ad9-a00d-6f5a898f2e1d",
        "source": "c392e95c-4621-4e18-83de-7becb1ce7929",
        "target": "38436942-4600-46a5-838f-391cd0c695e1"
       },
       "selectable": false
      }
     },
     "4e3410172b68425ba3d3a557510f2541": {
      "model_module": "jupyter-cytoscape",
      "model_module_version": "^1.3.3",
      "model_name": "NodeModel",
      "state": {
       "_model_module_version": "^1.3.3",
       "_view_module_version": "^1.3.3",
       "data": {
        "bgcolor": "red",
        "id": "66537f18-ffeb-4793-a252-136b20034a15",
        "name": "Truck transport"
       },
       "grabbable": true,
       "grabbed": false,
       "position": {
        "x": 1769.5906432748538,
        "y": 1301.5873015873017
       },
       "selectable": false
      }
     },
     "506276b3fee749e1bfe50f175efa69a0": {
      "model_module": "jupyter-cytoscape",
      "model_module_version": "^1.3.3",
      "model_name": "EdgeModel",
      "state": {
       "_model_module_version": "^1.3.3",
       "_view_module_version": "^1.3.3",
       "data": {
        "id": "b0b4055d-55ec-4771-9324-e58fb9185e9d",
        "source": "23ecd6f3-169a-480d-bd23-0e7f0579d6b3",
        "target": "578dccf9-5238-4121-98bd-de24214cc787"
       },
       "selectable": false
      }
     },
     "50992b5b28c0483a9133df4207452fed": {
      "model_module": "jupyter-cytoscape",
      "model_module_version": "^1.3.3",
      "model_name": "EdgeModel",
      "state": {
       "_model_module_version": "^1.3.3",
       "_view_module_version": "^1.3.3",
       "data": {
        "id": "99790418-72b3-4dc0-85df-370cc5fe64b3",
        "source": "99f77227-3592-4b4a-a806-65505d531d51",
        "target": "6e584d13-aea3-44a7-927a-141477dc266e"
       },
       "selectable": false
      }
     },
     "52b80d3d5a214a2aa46c0e5ceef1ab6f": {
      "model_module": "jupyter-cytoscape",
      "model_module_version": "^1.3.3",
      "model_name": "EdgeModel",
      "state": {
       "_model_module_version": "^1.3.3",
       "_view_module_version": "^1.3.3",
       "data": {
        "id": "3e047792-4e66-445e-8831-dc081c33310b",
        "source": "c7be1cb6-70df-45d2-b2d4-c3ddbfeb5b64",
        "target": "da97ab7c-bae8-40fd-bf29-024b0928607c"
       },
       "selectable": false
      }
     },
     "5361352fdd7743ed9d5c01e2e4dcc572": {
      "model_module": "jupyter-cytoscape",
      "model_module_version": "^1.3.3",
      "model_name": "NodeModel",
      "state": {
       "_model_module_version": "^1.3.3",
       "_view_module_version": "^1.3.3",
       "data": {
        "bgcolor": "red",
        "id": "681ad100-6fcf-497f-b327-4ffe95e77050",
        "name": "Lemon Juice Concentrate"
       },
       "grabbable": true,
       "grabbed": false,
       "position": {
        "x": 1769.5906432748538,
        "y": 1873.015873015873
       },
       "selectable": false
      }
     },
     "544ed726eaa84c998641f95787fa47aa": {
      "model_module": "jupyter-cytoscape",
      "model_module_version": "^1.3.3",
      "model_name": "NodeModel",
      "state": {
       "_model_module_version": "^1.3.3",
       "_view_module_version": "^1.3.3",
       "data": {
        "bgcolor": "red",
        "id": "88ac6972-a91e-41b0-ad69-742df1e33ede",
        "name": "Sea transport"
       },
       "grabbable": true,
       "grabbed": false,
       "position": {
        "x": 1351.4619883040934,
        "y": 619.047619047619
       },
       "selectable": false
      }
     },
     "54c31541b5c640219c10c8eafe4e9296": {
      "model_module": "jupyter-cytoscape",
      "model_module_version": "^1.3.3",
      "model_name": "NodeModel",
      "state": {
       "_model_module_version": "^1.3.3",
       "_view_module_version": "^1.3.3",
       "data": {
        "bgcolor": "red",
        "id": "31ca3463-924d-4fb2-9c84-5180b5117c2a",
        "name": "Truck transport"
       },
       "grabbable": true,
       "grabbed": false,
       "position": {
        "x": 1351.4619883040934,
        "y": 873.015873015873
       },
       "selectable": false
      }
     },
     "55bb8d1bb97e473f9c39f6efe58a068a": {
      "model_module": "jupyter-cytoscape",
      "model_module_version": "^1.3.3",
      "model_name": "EdgeModel",
      "state": {
       "_model_module_version": "^1.3.3",
       "_view_module_version": "^1.3.3",
       "data": {
        "id": "9351b305-77a8-44c9-b92b-0c06dedc4391",
        "source": "d1fea51b-2dcb-4db9-be3e-5c68290f1745",
        "target": "504be625-bc28-4e88-8e02-e3bf1abbeeb2"
       },
       "selectable": false
      }
     },
     "55fa4f07f6314545804326f00b581186": {
      "model_module": "jupyter-cytoscape",
      "model_module_version": "^1.3.3",
      "model_name": "EdgeModel",
      "state": {
       "_model_module_version": "^1.3.3",
       "_view_module_version": "^1.3.3",
       "data": {
        "id": "6fa2a70d-5180-4fcb-98a3-0f85e59a9129",
        "source": "98eddacf-4211-4c0a-b4da-0a058710a854",
        "target": "38436942-4600-46a5-838f-391cd0c695e1"
       },
       "selectable": false
      }
     },
     "56a5c956f48b4d49b17419f228ef001c": {
      "model_module": "jupyter-cytoscape",
      "model_module_version": "^1.3.3",
      "model_name": "NodeModel",
      "state": {
       "_model_module_version": "^1.3.3",
       "_view_module_version": "^1.3.3",
       "data": {
        "bgcolor": "green",
        "id": "0d89c5c8-e92f-4b85-aa52-aa3e5bd4df83",
        "name": ""
       },
       "grabbable": true,
       "grabbed": false,
       "position": {
        "x": 1539.1812865497077,
        "y": 1904.7619047619046
       },
       "selectable": false
      }
     },
     "571b0211f05845c5b8ebab02a8440c3c": {
      "model_module": "jupyter-cytoscape",
      "model_module_version": "^1.3.3",
      "model_name": "NodeModel",
      "state": {
       "_model_module_version": "^1.3.3",
       "_view_module_version": "^1.3.3",
       "data": {
        "bgcolor": "red",
        "id": "3b6ef470-f0a5-4b61-87c8-b3bf3b66fdc9",
        "name": "Sea transport"
       },
       "grabbable": true,
       "grabbed": false,
       "position": {
        "x": 1769.5906432748538,
        "y": 285.7142857142857
       },
       "selectable": false
      }
     },
     "57a8ad947631486c83ffefeb096b3ca3": {
      "model_module": "jupyter-cytoscape",
      "model_module_version": "^1.3.3",
      "model_name": "NodeModel",
      "state": {
       "_model_module_version": "^1.3.3",
       "_view_module_version": "^1.3.3",
       "data": {
        "bgcolor": "red",
        "id": "73d5ce86-a6d6-4a91-a7fc-ef183b9e8c1b",
        "name": "Bananas"
       },
       "grabbable": true,
       "grabbed": false,
       "position": {
        "x": 1351.4619883040934,
        "y": 126.98412698412697
       },
       "selectable": false
      }
     },
     "57b84fb0d891495981d8e9301712064b": {
      "model_module": "jupyter-cytoscape",
      "model_module_version": "^1.3.3",
      "model_name": "NodeModel",
      "state": {
       "_model_module_version": "^1.3.3",
       "_view_module_version": "^1.3.3",
       "data": {
        "bgcolor": "green",
        "id": "c9fdf8da-2828-4c2d-8175-621119473e14",
        "name": ""
       },
       "grabbable": true,
       "grabbed": false,
       "position": {
        "x": 1539.1812865497077,
        "y": 1063.4920634920634
       },
       "selectable": false
      }
     },
     "57e2d11b5042402a84c2d731e5a63082": {
      "model_module": "jupyter-cytoscape",
      "model_module_version": "^1.3.3",
      "model_name": "NodeModel",
      "state": {
       "_model_module_version": "^1.3.3",
       "_view_module_version": "^1.3.3",
       "data": {
        "bgcolor": "green",
        "id": "3e65bd78-71ed-4003-bb43-bdf3e16d1aaf",
        "name": ""
       },
       "grabbable": true,
       "grabbed": false,
       "position": {
        "x": 1539.1812865497077,
        "y": 1222.2222222222224
       },
       "selectable": false
      }
     },
     "5a751aaf297f4b158ad266039a5fda00": {
      "model_module": "jupyter-cytoscape",
      "model_module_version": "^1.3.3",
      "model_name": "NodeModel",
      "state": {
       "_model_module_version": "^1.3.3",
       "_view_module_version": "^1.3.3",
       "data": {
        "id": "578dccf9-5238-4121-98bd-de24214cc787"
       },
       "grabbable": true,
       "grabbed": false,
       "position": {
        "x": 2000,
        "y": 111.1111111111111
       },
       "selectable": false
      }
     },
     "5a9647ebc1ac4db491a2ba95747cfbfd": {
      "model_module": "jupyter-cytoscape",
      "model_module_version": "^1.3.3",
      "model_name": "NodeModel",
      "state": {
       "_model_module_version": "^1.3.3",
       "_view_module_version": "^1.3.3",
       "data": {
        "bgcolor": "green",
        "id": "a77f91ae-af31-4403-8f91-38c7b43b89f1",
        "name": ""
       },
       "grabbable": true,
       "grabbed": false,
       "position": {
        "x": 788.3040935672515,
        "y": 730.1587301587301
       },
       "selectable": false
      }
     },
     "5ba0b689a40743af93eba9869b66c2fc": {
      "model_module": "jupyter-cytoscape",
      "model_module_version": "^1.3.3",
      "model_name": "EdgeModel",
      "state": {
       "_model_module_version": "^1.3.3",
       "_view_module_version": "^1.3.3",
       "data": {
        "id": "8882d92a-e865-45b3-ae81-741e5f99519e",
        "source": "44ac2c05-11e8-450e-983c-f5a5e5ad42fd",
        "target": "38436942-4600-46a5-838f-391cd0c695e1"
       },
       "selectable": false
      }
     },
     "5d12811da9f8416e90c42119c273bbc2": {
      "model_module": "jupyter-cytoscape",
      "model_module_version": "^1.3.3",
      "model_name": "NodeModel",
      "state": {
       "_model_module_version": "^1.3.3",
       "_view_module_version": "^1.3.3",
       "data": {
        "bgcolor": "red",
        "id": "5b96ae63-e032-46fa-89ba-4a8ce8fa9cee",
        "name": "Lemon Juice Concentrate"
       },
       "grabbable": true,
       "grabbed": false,
       "position": {
        "x": 1769.5906432748538,
        "y": 1809.5238095238096
       },
       "selectable": false
      }
     },
     "5de7ef93c3454cdb9825049f23c77c8e": {
      "model_module": "jupyter-cytoscape",
      "model_module_version": "^1.3.3",
      "model_name": "NodeModel",
      "state": {
       "_model_module_version": "^1.3.3",
       "_view_module_version": "^1.3.3",
       "data": {
        "bgcolor": "red",
        "id": "4836d9f9-5ab7-4e1e-8444-f9a6cfaa611f",
        "name": "Fuel consumption of Truck transport"
       },
       "grabbable": true,
       "grabbed": false,
       "position": {
        "x": 1769.5906432748538,
        "y": 1111.111111111111
       },
       "selectable": false
      }
     },
     "5e6f58e6ed3d4ef78091ae718824c82b": {
      "model_module": "jupyter-cytoscape",
      "model_module_version": "^1.3.3",
      "model_name": "NodeModel",
      "state": {
       "_model_module_version": "^1.3.3",
       "_view_module_version": "^1.3.3",
       "data": {
        "bgcolor": "green",
        "id": "b7a01f0f-075f-4126-8f17-f8c6cba6e1cb",
        "name": ""
       },
       "grabbable": true,
       "grabbed": false,
       "position": {
        "x": 1539.1812865497077,
        "y": 1841.2698412698412
       },
       "selectable": false
      }
     },
     "5f4785d9879b49ceb2bc2811f0ebb94f": {
      "model_module": "jupyter-cytoscape",
      "model_module_version": "^1.3.3",
      "model_name": "NodeModel",
      "state": {
       "_model_module_version": "^1.3.3",
       "_view_module_version": "^1.3.3",
       "data": {
        "bgcolor": "green",
        "id": "d1fea51b-2dcb-4db9-be3e-5c68290f1745",
        "name": ""
       },
       "grabbable": true,
       "grabbed": false,
       "position": {
        "x": 788.3040935672515,
        "y": 777.7777777777778
       },
       "selectable": false
      }
     },
     "5f54821fdf104f0cbbcdebfe8f9182d4": {
      "model_module": "jupyter-cytoscape",
      "model_module_version": "^1.3.3",
      "model_name": "EdgeModel",
      "state": {
       "_model_module_version": "^1.3.3",
       "_view_module_version": "^1.3.3",
       "data": {
        "id": "fbf1068e-d8ba-49e2-ba80-0ef2d58a5fba",
        "source": "554023fc-a2d9-4a95-8832-fcfbf51e0cd5",
        "target": "e8b9c3b7-aaf8-4e97-b23e-bb4742de213a"
       },
       "selectable": false
      }
     },
     "60d6940ccbb1408db1159aba7ea6e088": {
      "model_module": "jupyter-cytoscape",
      "model_module_version": "^1.3.3",
      "model_name": "NodeModel",
      "state": {
       "_model_module_version": "^1.3.3",
       "_view_module_version": "^1.3.3",
       "data": {
        "bgcolor": "red",
        "id": "c30f3769-c44a-42a2-8237-28b517762621",
        "name": "Truck transport"
       },
       "grabbable": true,
       "grabbed": false,
       "position": {
        "x": 1351.4619883040934,
        "y": 1365.079365079365
       },
       "selectable": false
      }
     },
     "60e61d27da51418580be897d51da4d7d": {
      "model_module": "jupyter-cytoscape",
      "model_module_version": "^1.3.3",
      "model_name": "NodeModel",
      "state": {
       "_model_module_version": "^1.3.3",
       "_view_module_version": "^1.3.3",
       "data": {
        "bgcolor": "red",
        "id": "842f4865-d92e-4ba6-a561-bd3f9adf519d",
        "name": "Bananas"
       },
       "grabbable": true,
       "grabbed": false,
       "position": {
        "x": 1769.5906432748538,
        "y": 95.23809523809523
       },
       "selectable": false
      }
     },
     "61d66209cf79488b89d6bf752b1eb64e": {
      "model_module": "jupyter-cytoscape",
      "model_module_version": "^1.3.3",
      "model_name": "EdgeModel",
      "state": {
       "_model_module_version": "^1.3.3",
       "_view_module_version": "^1.3.3",
       "data": {
        "id": "91227579-f623-4519-bb07-60dfa6f31fd3",
        "source": "29e4cddc-710a-4ba2-b02f-b00e6b688aca",
        "target": "47155d26-84f3-4f04-b96e-643735e5a3cd"
       },
       "selectable": false
      }
     },
     "62352320f7404b1b8f5c6a95d26f60d0": {
      "model_module": "jupyter-cytoscape",
      "model_module_version": "^1.3.3",
      "model_name": "NodeModel",
      "state": {
       "_model_module_version": "^1.3.3",
       "_view_module_version": "^1.3.3",
       "data": {
        "bgcolor": "green",
        "id": "fac08c2c-f2ca-456a-8f70-9c77cd0e6dae",
        "name": ""
       },
       "grabbable": true,
       "grabbed": false,
       "position": {
        "x": 1163.7426900584794,
        "y": 1793.6507936507937
       },
       "selectable": false
      }
     },
     "62727c8a4a5943d7920e5a3ffd4700e9": {
      "model_module": "jupyter-cytoscape",
      "model_module_version": "^1.3.3",
      "model_name": "NodeModel",
      "state": {
       "_model_module_version": "^1.3.3",
       "_view_module_version": "^1.3.3",
       "data": {
        "bgcolor": "red",
        "id": "853857ca-4b83-4fd7-b1cd-1edcfcdfff50",
        "name": "Truck transport"
       },
       "grabbable": true,
       "grabbed": false,
       "position": {
        "x": 1769.5906432748538,
        "y": 1587.3015873015872
       },
       "selectable": false
      }
     },
     "62ef73cdbed645efb002d720d0c6f13b": {
      "model_module": "jupyter-cytoscape",
      "model_module_version": "^1.3.3",
      "model_name": "NodeModel",
      "state": {
       "_model_module_version": "^1.3.3",
       "_view_module_version": "^1.3.3",
       "data": {
        "bgcolor": "green",
        "id": "ae2209f5-19d0-4eaa-8dca-6f8f51386a49",
        "name": "Banana Jam"
       },
       "grabbable": true,
       "grabbed": false,
       "position": {
        "x": 0,
        "y": 968.2539682539683
       },
       "selectable": false
      }
     },
     "633391b6806e43d993afd1d4a02bb770": {
      "model_module": "jupyter-cytoscape",
      "model_module_version": "^1.3.3",
      "model_name": "EdgeModel",
      "state": {
       "_model_module_version": "^1.3.3",
       "_view_module_version": "^1.3.3",
       "data": {
        "id": "7f3d8f83-44d1-43fe-8da8-13798694e740",
        "source": "95750ef6-1b7b-401f-b970-ee7c745d7000",
        "target": "681ad100-6fcf-497f-b327-4ffe95e77050"
       },
       "selectable": false
      }
     },
     "638287a7e6f5402ab8bf0c92d0270c65": {
      "model_module": "jupyter-cytoscape",
      "model_module_version": "^1.3.3",
      "model_name": "EdgeModel",
      "state": {
       "_model_module_version": "^1.3.3",
       "_view_module_version": "^1.3.3",
       "data": {
        "id": "2ca76cb8-3d0e-4b2a-a7c2-51c9e86a6373",
        "source": "9b4dfd84-8f89-47fc-856f-a32950faabe0",
        "target": "00bd8a15-cae8-40ca-9ed4-7a5e9cb0ccba"
       },
       "selectable": false
      }
     },
     "63e5d4ce905c4c96a94ce67815cdb1a0": {
      "model_module": "jupyter-cytoscape",
      "model_module_version": "^1.3.3",
      "model_name": "EdgeModel",
      "state": {
       "_model_module_version": "^1.3.3",
       "_view_module_version": "^1.3.3",
       "data": {
        "id": "cadde3f4-4b5a-4223-b431-0005221059b8",
        "source": "8c6b0586-3e33-45d9-8978-b7fd85342d87",
        "target": "5d4a5c7f-29f5-475d-a8c8-90076e08ff8a"
       },
       "selectable": false
      }
     },
     "6548eeb0a4e240e5b5b0cbc03f3aa7d5": {
      "model_module": "jupyter-cytoscape",
      "model_module_version": "^1.3.3",
      "model_name": "EdgeModel",
      "state": {
       "_model_module_version": "^1.3.3",
       "_view_module_version": "^1.3.3",
       "data": {
        "id": "f102f446-28ca-488e-be19-9e935ac05b58",
        "source": "80f9d825-4bea-47ee-9e91-ce9fbc08a3f2",
        "target": "ca0b92ad-3cf2-470b-82b6-6dbca553ac85"
       },
       "selectable": false
      }
     },
     "66cccc7744714bf1bbcc93de9e884a68": {
      "model_module": "jupyter-cytoscape",
      "model_module_version": "^1.3.3",
      "model_name": "EdgeModel",
      "state": {
       "_model_module_version": "^1.3.3",
       "_view_module_version": "^1.3.3",
       "data": {
        "id": "1c4357bf-3113-4f60-93f6-ac3365964c30",
        "source": "b13e7ac8-c256-41ff-9f59-e3c9350e2d1f",
        "target": "2a5a838f-fd4d-4f7d-8b4f-c7bc0da2ba6e"
       },
       "selectable": false
      }
     },
     "68210702388d40039ca13cbe709ed813": {
      "model_module": "jupyter-cytoscape",
      "model_module_version": "^1.3.3",
      "model_name": "NodeModel",
      "state": {
       "_model_module_version": "^1.3.3",
       "_view_module_version": "^1.3.3",
       "data": {
        "bgcolor": "red",
        "id": "44de0ea7-4b4b-42d3-aa3e-ef23ff738c85",
        "name": "Bananas"
       },
       "grabbable": true,
       "grabbed": false,
       "position": {
        "x": 1351.4619883040934,
        "y": 190.47619047619045
       },
       "selectable": false
      }
     },
     "6833a9ec9fef465e9e37f7f72a8324cc": {
      "model_module": "jupyter-cytoscape",
      "model_module_version": "^1.3.3",
      "model_name": "EdgeModel",
      "state": {
       "_model_module_version": "^1.3.3",
       "_view_module_version": "^1.3.3",
       "data": {
        "id": "66c05aac-eb0c-41c9-bca4-cad6a4568a48",
        "source": "9b4dfd84-8f89-47fc-856f-a32950faabe0",
        "target": "a4652b40-a9cc-43a6-99dc-077bf8ac9c2f"
       },
       "selectable": false
      }
     },
     "697b4655f5b34757aed356592808110f": {
      "model_module": "jupyter-cytoscape",
      "model_module_version": "^1.3.3",
      "model_name": "EdgeModel",
      "state": {
       "_model_module_version": "^1.3.3",
       "_view_module_version": "^1.3.3",
       "data": {
        "id": "1bda1cbd-bb5b-4d72-a34e-74191dea0e6c",
        "source": "fd344802-8db8-4367-88e2-2ece3a262685",
        "target": "36a19b48-6ac7-404c-847c-5b1ba73f2f89"
       },
       "selectable": false
      }
     },
     "69d67e9e49534f5ab22a476963fb294b": {
      "model_module": "jupyter-cytoscape",
      "model_module_version": "^1.3.3",
      "model_name": "EdgeModel",
      "state": {
       "_model_module_version": "^1.3.3",
       "_view_module_version": "^1.3.3",
       "data": {
        "id": "d001dbe3-16a1-44f8-9f16-b1b2419302c5",
        "source": "95750ef6-1b7b-401f-b970-ee7c745d7000",
        "target": "5eb7c2d6-a8da-4de4-9833-abf832fa9c7c"
       },
       "selectable": false
      }
     },
     "6a5b8d5dd8604fb386671d9ab0d78d5f": {
      "model_module": "jupyter-cytoscape",
      "model_module_version": "^1.3.3",
      "model_name": "NodeModel",
      "state": {
       "_model_module_version": "^1.3.3",
       "_view_module_version": "^1.3.3",
       "data": {
        "bgcolor": "red",
        "id": "504be625-bc28-4e88-8e02-e3bf1abbeeb2",
        "name": "Bananas"
       },
       "grabbable": true,
       "grabbed": false,
       "position": {
        "x": 976.0233918128655,
        "y": 79.36507936507937
       },
       "selectable": false
      }
     },
     "6ad3b650223d418cbeda4405e332f22a": {
      "model_module": "jupyter-cytoscape",
      "model_module_version": "^1.3.3",
      "model_name": "EdgeModel",
      "state": {
       "_model_module_version": "^1.3.3",
       "_view_module_version": "^1.3.3",
       "data": {
        "id": "dd4e1a3d-f19f-4ac5-8681-b968e55d444d",
        "source": "9551f250-83eb-4a15-90fe-43847b571aa7",
        "target": "10b9484e-9271-484a-acdc-fca31859f57f"
       },
       "selectable": false
      }
     },
     "6c109c0e76674289bb693ee3966f112d": {
      "model_module": "jupyter-cytoscape",
      "model_module_version": "^1.3.3",
      "model_name": "NodeModel",
      "state": {
       "_model_module_version": "^1.3.3",
       "_view_module_version": "^1.3.3",
       "data": {
        "bgcolor": "red",
        "id": "514dede0-17b0-4888-8a82-c6d30b1756f1",
        "name": "Truck transport"
       },
       "grabbable": true,
       "grabbed": false,
       "position": {
        "x": 1769.5906432748538,
        "y": 1365.079365079365
       },
       "selectable": false
      }
     },
     "6c631841fc324a349ae296e86b8f47c9": {
      "model_module": "jupyter-cytoscape",
      "model_module_version": "^1.3.3",
      "model_name": "EdgeModel",
      "state": {
       "_model_module_version": "^1.3.3",
       "_view_module_version": "^1.3.3",
       "data": {
        "id": "a5c18916-c30e-4c72-9485-956d39ceb149",
        "source": "a295b7af-3ba2-4e90-9a36-3abf9592befa",
        "target": "adb4a895-82fc-49d1-ba45-7cbc8352c446"
       },
       "selectable": false
      }
     },
     "6d227d98ac3d4511b1f8984c8aff545e": {
      "model_module": "jupyter-cytoscape",
      "model_module_version": "^1.3.3",
      "model_name": "EdgeModel",
      "state": {
       "_model_module_version": "^1.3.3",
       "_view_module_version": "^1.3.3",
       "data": {
        "id": "6b7cada8-d6a5-4f90-b6fc-d3d40a30b080",
        "source": "0634f376-68d6-4796-b6ee-d8073e3fe4cd",
        "target": "17dd7c45-c549-4953-bc9a-b131f93be259"
       },
       "selectable": false
      }
     },
     "6f1b03b03808403aa14ee25e432e442d": {
      "model_module": "jupyter-cytoscape",
      "model_module_version": "^1.3.3",
      "model_name": "EdgeModel",
      "state": {
       "_model_module_version": "^1.3.3",
       "_view_module_version": "^1.3.3",
       "data": {
        "id": "7db7a7b1-e98d-454b-a068-4ebb91afcda4",
        "source": "90111d54-ea1e-464e-8514-822b18ae119f",
        "target": "7e4c2738-a878-4655-8fa8-f4ceea6eb6bd"
       },
       "selectable": false
      }
     },
     "7010e4f66d4745ba8a40625a5ac660fb": {
      "model_module": "jupyter-cytoscape",
      "model_module_version": "^1.3.3",
      "model_name": "EdgeModel",
      "state": {
       "_model_module_version": "^1.3.3",
       "_view_module_version": "^1.3.3",
       "data": {
        "id": "aac7284a-0908-49a5-b11a-2905dc197070",
        "source": "02f6cc1f-f86c-484e-a501-949a1ba0f9ec",
        "target": "38436942-4600-46a5-838f-391cd0c695e1"
       },
       "selectable": false
      }
     },
     "7151f7a1d206421b94f3146af469c949": {
      "model_module": "jupyter-cytoscape",
      "model_module_version": "^1.3.3",
      "model_name": "EdgeModel",
      "state": {
       "_model_module_version": "^1.3.3",
       "_view_module_version": "^1.3.3",
       "data": {
        "id": "034917f4-e960-4306-ba25-e41f2938e2ec",
        "source": "b13e7ac8-c256-41ff-9f59-e3c9350e2d1f",
        "target": "5487baf3-f6e6-4472-8c3d-de99b57f330f"
       },
       "selectable": false
      }
     },
     "726b55fa4ac74c8db8078c2b95c66458": {
      "model_module": "jupyter-cytoscape",
      "model_module_version": "^1.3.3",
      "model_name": "EdgeModel",
      "state": {
       "_model_module_version": "^1.3.3",
       "_view_module_version": "^1.3.3",
       "data": {
        "id": "6d2240d7-3ddd-4591-a323-a77ac715f3d4",
        "source": "2b559bbe-6700-4c7b-a886-90565be1c169",
        "target": "e0474220-33d1-4ca7-b4ad-55ee0f9b5b34"
       },
       "selectable": false
      }
     },
     "731c046fecb04c34b0655a5f3fffd8f5": {
      "model_module": "jupyter-cytoscape",
      "model_module_version": "^1.3.3",
      "model_name": "EdgeModel",
      "state": {
       "_model_module_version": "^1.3.3",
       "_view_module_version": "^1.3.3",
       "data": {
        "id": "4eb7dd9f-d59e-4c14-b27b-c3528ae54444",
        "source": "fac08c2c-f2ca-456a-8f70-9c77cd0e6dae",
        "target": "244675ff-2c06-4a24-80e0-8b993d802bb6"
       },
       "selectable": false
      }
     },
     "740e9c0447b542e58834bfd290abeba1": {
      "model_module": "jupyter-cytoscape",
      "model_module_version": "^1.3.3",
      "model_name": "NodeModel",
      "state": {
       "_model_module_version": "^1.3.3",
       "_view_module_version": "^1.3.3",
       "data": {
        "bgcolor": "green",
        "id": "29e4cddc-710a-4ba2-b02f-b00e6b688aca",
        "name": ""
       },
       "grabbable": true,
       "grabbed": false,
       "position": {
        "x": 1539.1812865497077,
        "y": 682.5396825396825
       },
       "selectable": false
      }
     },
     "74af87792506498983d03f05dedb739a": {
      "model_module": "jupyter-cytoscape",
      "model_module_version": "^1.3.3",
      "model_name": "NodeModel",
      "state": {
       "_model_module_version": "^1.3.3",
       "_view_module_version": "^1.3.3",
       "data": {
        "bgcolor": "red",
        "id": "00bd8a15-cae8-40ca-9ed4-7a5e9cb0ccba",
        "name": "Truck transport"
       },
       "grabbable": true,
       "grabbed": false,
       "position": {
        "x": 1351.4619883040934,
        "y": 1269.8412698412699
       },
       "selectable": false
      }
     },
     "74b6ecbea5884aea88946bb72d2e6f6a": {
      "model_module": "jupyter-cytoscape",
      "model_module_version": "^1.3.3",
      "model_name": "NodeModel",
      "state": {
       "_model_module_version": "^1.3.3",
       "_view_module_version": "^1.3.3",
       "data": {
        "bgcolor": "red",
        "id": "e8b9c3b7-aaf8-4e97-b23e-bb4742de213a",
        "name": "Truck transport"
       },
       "grabbable": true,
       "grabbed": false,
       "position": {
        "x": 1769.5906432748538,
        "y": 1682.5396825396826
       },
       "selectable": false
      }
     },
     "750f9342aae6449fa490af86fe1b6d84": {
      "model_module": "jupyter-cytoscape",
      "model_module_version": "^1.3.3",
      "model_name": "NodeModel",
      "state": {
       "_model_module_version": "^1.3.3",
       "_view_module_version": "^1.3.3",
       "data": {
        "bgcolor": "red",
        "id": "718bc799-6e1a-4857-aa94-e9eb7fe09783",
        "name": "Lemon Juice Concentrate"
       },
       "grabbable": true,
       "grabbed": false,
       "position": {
        "x": 1769.5906432748538,
        "y": 1936.5079365079366
       },
       "selectable": false
      }
     },
     "764f6062a2f946ba9e40ca046645dd34": {
      "model_module": "jupyter-cytoscape",
      "model_module_version": "^1.3.3",
      "model_name": "EdgeModel",
      "state": {
       "_model_module_version": "^1.3.3",
       "_view_module_version": "^1.3.3",
       "data": {
        "id": "ca6487a0-8968-42d0-a316-8d2a1ce2fd5d",
        "source": "c03602fe-beaa-4b16-8707-2a4276e7e83b",
        "target": "99f77227-3592-4b4a-a806-65505d531d51"
       },
       "selectable": false
      }
     },
     "76657961cad24cc48893de50225bcccb": {
      "model_module": "jupyter-cytoscape",
      "model_module_version": "^1.3.3",
      "model_name": "EdgeModel",
      "state": {
       "_model_module_version": "^1.3.3",
       "_view_module_version": "^1.3.3",
       "data": {
        "id": "f09441b0-8eb7-4602-970c-42c3b1d42276",
        "source": "918333c6-dd4d-486d-9908-ca4ded625dce",
        "target": "0c3d80ca-947e-4a4c-b8bb-1d6f748236d5"
       },
       "selectable": false
      }
     },
     "7665ae6bbf8d41f5b22f5eb72d2dcd25": {
      "model_module": "jupyter-cytoscape",
      "model_module_version": "^1.3.3",
      "model_name": "EdgeModel",
      "state": {
       "_model_module_version": "^1.3.3",
       "_view_module_version": "^1.3.3",
       "data": {
        "id": "d224c4f4-1f73-4419-85bf-bfe3c7d15c19",
        "source": "87f59b52-ad1b-43f1-8b67-f0e11f2f162e",
        "target": "649e511b-125a-4107-a7ad-a30a4ce34c7f"
       },
       "selectable": false
      }
     },
     "7676373cf92d4864b3a48b2e7fd2b243": {
      "model_module": "jupyter-cytoscape",
      "model_module_version": "^1.3.3",
      "model_name": "NodeModel",
      "state": {
       "_model_module_version": "^1.3.3",
       "_view_module_version": "^1.3.3",
       "data": {
        "bgcolor": "red",
        "id": "c03602fe-beaa-4b16-8707-2a4276e7e83b",
        "name": "Sea transport"
       },
       "grabbable": true,
       "grabbed": false,
       "position": {
        "x": 1351.4619883040934,
        "y": 365.07936507936506
       },
       "selectable": false
      }
     },
     "768dc5a2725d4bec845116cdff3f55c3": {
      "model_module": "jupyter-cytoscape",
      "model_module_version": "^1.3.3",
      "model_name": "EdgeModel",
      "state": {
       "_model_module_version": "^1.3.3",
       "_view_module_version": "^1.3.3",
       "data": {
        "id": "2b01b0aa-980c-44f4-83b2-7476e32f5512",
        "source": "fd344802-8db8-4367-88e2-2ece3a262685",
        "target": "f3cc6c56-2191-4e2e-a9eb-597255f2e9ac"
       },
       "selectable": false
      }
     },
     "7740be23eddb476a8d67c845bd5881ff": {
      "model_module": "jupyter-cytoscape",
      "model_module_version": "^1.3.3",
      "model_name": "EdgeModel",
      "state": {
       "_model_module_version": "^1.3.3",
       "_view_module_version": "^1.3.3",
       "data": {
        "id": "4dc1d055-558a-4a86-80cf-d187b3912261",
        "source": "1231889c-4334-40d0-b3d4-573300bb262e",
        "target": "38436942-4600-46a5-838f-391cd0c695e1"
       },
       "selectable": false
      }
     },
     "785c4e93598345ef819fc19e201b8e0d": {
      "model_module": "jupyter-cytoscape",
      "model_module_version": "^1.3.3",
      "model_name": "NodeModel",
      "state": {
       "_model_module_version": "^1.3.3",
       "_view_module_version": "^1.3.3",
       "data": {
        "bgcolor": "red",
        "id": "7bf548de-2067-4027-942b-e3cbd379c86a",
        "name": "Truck transport"
       },
       "grabbable": true,
       "grabbed": false,
       "position": {
        "x": 1351.4619883040934,
        "y": 1301.5873015873017
       },
       "selectable": false
      }
     },
     "785ccb144389426392d2fbc5335e623b": {
      "model_module": "jupyter-cytoscape",
      "model_module_version": "^1.3.3",
      "model_name": "EdgeModel",
      "state": {
       "_model_module_version": "^1.3.3",
       "_view_module_version": "^1.3.3",
       "data": {
        "id": "341cf46c-8e98-494a-8cbc-0c8bbafc917b",
        "source": "21a9b3a9-d79f-439e-a1df-fa7eb5b0beaf",
        "target": "38436942-4600-46a5-838f-391cd0c695e1"
       },
       "selectable": false
      }
     },
     "7ced2db684d249348a20cda35e2d90a3": {
      "model_module": "jupyter-cytoscape",
      "model_module_version": "^1.3.3",
      "model_name": "NodeModel",
      "state": {
       "_model_module_version": "^1.3.3",
       "_view_module_version": "^1.3.3",
       "data": {
        "bgcolor": "red",
        "id": "ccdc792a-6eba-4b0e-81af-c8b2c071d456",
        "name": "Truck transport"
       },
       "grabbable": true,
       "grabbed": false,
       "position": {
        "x": 1351.4619883040934,
        "y": 825.3968253968253
       },
       "selectable": false
      }
     },
     "7d304be44540449680e0cf60b6eb6f85": {
      "model_module": "jupyter-cytoscape",
      "model_module_version": "^1.3.3",
      "model_name": "EdgeModel",
      "state": {
       "_model_module_version": "^1.3.3",
       "_view_module_version": "^1.3.3",
       "data": {
        "id": "2fb76e4d-6cdb-4e64-9941-7f88bd43ab19",
        "source": "f40c7405-7e1f-4930-8445-c8a97bbbbe7b",
        "target": "02ef0194-3aad-47d1-8d49-5b6e42a21e77"
       },
       "selectable": false
      }
     },
     "7d5ef9dffeba437499ed097999034286": {
      "model_module": "jupyter-cytoscape",
      "model_module_version": "^1.3.3",
      "model_name": "NodeModel",
      "state": {
       "_model_module_version": "^1.3.3",
       "_view_module_version": "^1.3.3",
       "data": {
        "bgcolor": "red",
        "id": "1bd1fb07-6778-4ef2-b4ca-64793033a717",
        "name": "Fuel consumption of Truck transport"
       },
       "grabbable": true,
       "grabbed": false,
       "position": {
        "x": 1769.5906432748538,
        "y": 920.6349206349206
       },
       "selectable": false
      }
     },
     "7db660c2500d4a1bae60bf32c2d1a577": {
      "model_module": "jupyter-cytoscape",
      "model_module_version": "^1.3.3",
      "model_name": "NodeModel",
      "state": {
       "_model_module_version": "^1.3.3",
       "_view_module_version": "^1.3.3",
       "data": {
        "bgcolor": "green",
        "id": "7729dc59-56d9-467f-a977-9faaa1de01fa",
        "name": ""
       },
       "grabbable": true,
       "grabbed": false,
       "position": {
        "x": 1539.1812865497077,
        "y": 1301.5873015873017
       },
       "selectable": false
      }
     },
     "7dfbae89e96a4a308753e50f079209b0": {
      "model_module": "jupyter-cytoscape",
      "model_module_version": "^1.3.3",
      "model_name": "EdgeModel",
      "state": {
       "_model_module_version": "^1.3.3",
       "_view_module_version": "^1.3.3",
       "data": {
        "id": "d7c5df5d-4f41-4061-af39-75a4315cbd23",
        "source": "04db2af3-45c3-4214-8918-c0dd943f7ff4",
        "target": "38436942-4600-46a5-838f-391cd0c695e1"
       },
       "selectable": false
      }
     },
     "7e3dff8e16ed4f18b52dcabd5c23b52b": {
      "model_module": "jupyter-cytoscape",
      "model_module_version": "^1.3.3",
      "model_name": "NodeModel",
      "state": {
       "_model_module_version": "^1.3.3",
       "_view_module_version": "^1.3.3",
       "data": {
        "bgcolor": "red",
        "id": "a8b14081-c439-4c40-b295-398f73ef3a19",
        "name": "Fuel consumption of Truck transport"
       },
       "grabbable": true,
       "grabbed": false,
       "position": {
        "x": 1769.5906432748538,
        "y": 634.9206349206349
       },
       "selectable": false
      }
     },
     "7f7e1df92d164757994a506ead870807": {
      "model_module": "jupyter-cytoscape",
      "model_module_version": "^1.3.3",
      "model_name": "NodeModel",
      "state": {
       "_model_module_version": "^1.3.3",
       "_view_module_version": "^1.3.3",
       "data": {
        "bgcolor": "red",
        "id": "868e0ba5-5cd0-4f2a-bc31-99bd27f549b3",
        "name": "Truck transport"
       },
       "grabbable": true,
       "grabbed": false,
       "position": {
        "x": 1769.5906432748538,
        "y": 1428.5714285714287
       },
       "selectable": false
      }
     },
     "7feb143206f74e4fb88b103ba08bdbf2": {
      "model_module": "jupyter-cytoscape",
      "model_module_version": "^1.3.3",
      "model_name": "NodeModel",
      "state": {
       "_model_module_version": "^1.3.3",
       "_view_module_version": "^1.3.3",
       "data": {
        "id": "98af4f07-f54a-44ba-afe8-3414c6a6eb66"
       },
       "grabbable": true,
       "grabbed": false,
       "position": {
        "x": 2000,
        "y": 1476.1904761904764
       },
       "selectable": false
      }
     },
     "8005703999a84de2844672aa0fa57549": {
      "model_module": "jupyter-cytoscape",
      "model_module_version": "^1.3.3",
      "model_name": "NodeModel",
      "state": {
       "_model_module_version": "^1.3.3",
       "_view_module_version": "^1.3.3",
       "data": {
        "bgcolor": "green",
        "id": "fd344802-8db8-4367-88e2-2ece3a262685",
        "name": ""
       },
       "grabbable": true,
       "grabbed": false,
       "position": {
        "x": 1163.7426900584794,
        "y": 15.873015873015872
       },
       "selectable": false
      }
     },
     "80ed8e6ec5ee49cdb15e23fdf5a2d30b": {
      "model_module": "jupyter-cytoscape",
      "model_module_version": "^1.3.3",
      "model_name": "EdgeModel",
      "state": {
       "_model_module_version": "^1.3.3",
       "_view_module_version": "^1.3.3",
       "data": {
        "id": "5051ad15-b28b-431b-beb8-907fa0132c21",
        "source": "f4fab705-41f6-4f7f-b82e-19093f520bb8",
        "target": "957e5f05-2d57-4cbd-9332-c9e9d28dcd55"
       },
       "selectable": false
      }
     },
     "810f6e804b614f8e81d78d96b663b90c": {
      "model_module": "jupyter-cytoscape",
      "model_module_version": "^1.3.3",
      "model_name": "NodeModel",
      "state": {
       "_model_module_version": "^1.3.3",
       "_view_module_version": "^1.3.3",
       "data": {
        "bgcolor": "red",
        "id": "21a9b3a9-d79f-439e-a1df-fa7eb5b0beaf",
        "name": "Fuel consumption of Truck transport"
       },
       "grabbable": true,
       "grabbed": false,
       "position": {
        "x": 1769.5906432748538,
        "y": 1174.6031746031747
       },
       "selectable": false
      }
     },
     "81f26543dc8344aeb60fb29a5ad8b3b7": {
      "model_module": "jupyter-cytoscape",
      "model_module_version": "^1.3.3",
      "model_name": "EdgeModel",
      "state": {
       "_model_module_version": "^1.3.3",
       "_view_module_version": "^1.3.3",
       "data": {
        "id": "7f266238-f7c8-4475-b044-f42ef04b8ab1",
        "source": "88ac6972-a91e-41b0-ad69-742df1e33ede",
        "target": "a9e7ce85-f517-488a-bb67-cc84284f4b1c"
       },
       "selectable": false
      }
     },
     "822a084f0f32469496e8c20a2ccb0e6f": {
      "model_module": "jupyter-cytoscape",
      "model_module_version": "^1.3.3",
      "model_name": "EdgeModel",
      "state": {
       "_model_module_version": "^1.3.3",
       "_view_module_version": "^1.3.3",
       "data": {
        "id": "3d99ca1c-0942-4bdc-9af0-bad9f54b6865",
        "source": "d1fea51b-2dcb-4db9-be3e-5c68290f1745",
        "target": "df1d6aec-ff40-444f-9c22-09b6ccaaef0d"
       },
       "selectable": false
      }
     },
     "8240e6cdbf444f0a833f4fbb2081bf4a": {
      "model_module": "jupyter-cytoscape",
      "model_module_version": "^1.3.3",
      "model_name": "EdgeModel",
      "state": {
       "_model_module_version": "^1.3.3",
       "_view_module_version": "^1.3.3",
       "data": {
        "id": "02cf5456-94fe-4841-8a3b-afa5cdf93334",
        "source": "8c6b0586-3e33-45d9-8978-b7fd85342d87",
        "target": "47c0c684-bba3-4cb5-ad3c-583cdc45d643"
       },
       "selectable": false
      }
     },
     "82572f83822645feab3697a24e3724b7": {
      "model_module": "jupyter-cytoscape",
      "model_module_version": "^1.3.3",
      "model_name": "NodeModel",
      "state": {
       "_model_module_version": "^1.3.3",
       "_view_module_version": "^1.3.3",
       "data": {
        "bgcolor": "red",
        "id": "0e7c7641-6584-4ac7-93e2-037e20f6590f",
        "name": "Fuel consumption of Sea transport"
       },
       "grabbable": true,
       "grabbed": false,
       "position": {
        "x": 1769.5906432748538,
        "y": 476.19047619047615
       },
       "selectable": false
      }
     },
     "841c1acafc174fe583da506cba95a4c7": {
      "model_module": "jupyter-cytoscape",
      "model_module_version": "^1.3.3",
      "model_name": "EdgeModel",
      "state": {
       "_model_module_version": "^1.3.3",
       "_view_module_version": "^1.3.3",
       "data": {
        "id": "2d816711-40a9-4e33-a9da-867620d418ad",
        "source": "f4fab705-41f6-4f7f-b82e-19093f520bb8",
        "target": "b3a3e878-3b7a-4a22-babe-7ddf97c44916"
       },
       "selectable": false
      }
     },
     "845c841840b04b49b7b3f5b96f2c96f4": {
      "model_module": "jupyter-cytoscape",
      "model_module_version": "^1.3.3",
      "model_name": "EdgeModel",
      "state": {
       "_model_module_version": "^1.3.3",
       "_view_module_version": "^1.3.3",
       "data": {
        "id": "dcf17569-b626-46d1-96ed-13dbe605e9dc",
        "source": "adb4a895-82fc-49d1-ba45-7cbc8352c446",
        "target": "5d4ca006-2102-4ef4-ae59-dd54170894c3"
       },
       "selectable": false
      }
     },
     "8496f4df9b3d495396eee36db8da7780": {
      "model_module": "jupyter-cytoscape",
      "model_module_version": "^1.3.3",
      "model_name": "NodeModel",
      "state": {
       "_model_module_version": "^1.3.3",
       "_view_module_version": "^1.3.3",
       "data": {
        "bgcolor": "red",
        "id": "06fc1170-7705-442a-aeab-fa577711c1e0",
        "name": "Bananas"
       },
       "grabbable": true,
       "grabbed": false,
       "position": {
        "x": 1769.5906432748538,
        "y": 158.73015873015873
       },
       "selectable": false
      }
     },
     "852cdb68b91143208ff50aa7c284a259": {
      "model_module": "jupyter-cytoscape",
      "model_module_version": "^1.3.3",
      "model_name": "EdgeModel",
      "state": {
       "_model_module_version": "^1.3.3",
       "_view_module_version": "^1.3.3",
       "data": {
        "id": "65fbc249-6deb-464a-8c36-4338a840119f",
        "source": "514dede0-17b0-4888-8a82-c6d30b1756f1",
        "target": "98af4f07-f54a-44ba-afe8-3414c6a6eb66"
       },
       "selectable": false
      }
     },
     "85b4261f01414da4ac1430c898554e8a": {
      "model_module": "jupyter-cytoscape",
      "model_module_version": "^1.3.3",
      "model_name": "EdgeModel",
      "state": {
       "_model_module_version": "^1.3.3",
       "_view_module_version": "^1.3.3",
       "data": {
        "id": "64d8907a-062f-4d3c-81c2-aadfec71cf46",
        "source": "26b28b05-9365-47a4-98c8-6f77ebc1ab6b",
        "target": "38436942-4600-46a5-838f-391cd0c695e1"
       },
       "selectable": false
      }
     },
     "85c02b8730d449a4a622d6f93d8e5418": {
      "model_module": "jupyter-cytoscape",
      "model_module_version": "^1.3.3",
      "model_name": "EdgeModel",
      "state": {
       "_model_module_version": "^1.3.3",
       "_view_module_version": "^1.3.3",
       "data": {
        "id": "919659d6-bcfe-4686-8394-48de0d97472b",
        "source": "a4652b40-a9cc-43a6-99dc-077bf8ac9c2f",
        "target": "29e4cddc-710a-4ba2-b02f-b00e6b688aca"
       },
       "selectable": false
      }
     },
     "86ab0f70f43e4c76b5c6c507484ec733": {
      "model_module": "jupyter-cytoscape",
      "model_module_version": "^1.3.3",
      "model_name": "NodeModel",
      "state": {
       "_model_module_version": "^1.3.3",
       "_view_module_version": "^1.3.3",
       "data": {
        "bgcolor": "green",
        "id": "5d4ca006-2102-4ef4-ae59-dd54170894c3",
        "name": ""
       },
       "grabbable": true,
       "grabbed": false,
       "position": {
        "x": 1539.1812865497077,
        "y": 1031.7460317460318
       },
       "selectable": false
      }
     },
     "87d893dc6f05487ca00c92ab411a158d": {
      "model_module": "jupyter-cytoscape",
      "model_module_version": "^1.3.3",
      "model_name": "EdgeModel",
      "state": {
       "_model_module_version": "^1.3.3",
       "_view_module_version": "^1.3.3",
       "data": {
        "id": "17a6e70f-d3a0-4b67-8e40-801a8374fbdb",
        "source": "718bc799-6e1a-4857-aa94-e9eb7fe09783",
        "target": "02ef0194-3aad-47d1-8d49-5b6e42a21e77"
       },
       "selectable": false
      }
     },
     "8a039ca533334324b0a8143fe26bacf3": {
      "model_module": "jupyter-cytoscape",
      "model_module_version": "^1.3.3",
      "model_name": "NodeModel",
      "state": {
       "_model_module_version": "^1.3.3",
       "_view_module_version": "^1.3.3",
       "data": {
        "bgcolor": "red",
        "id": "17dd7c45-c549-4953-bc9a-b131f93be259",
        "name": "Fuel consumption of Truck transport"
       },
       "grabbable": true,
       "grabbed": false,
       "position": {
        "x": 1769.5906432748538,
        "y": 603.1746031746031
       },
       "selectable": false
      }
     },
     "8a617665a3bd499482c3d406a99cbda8": {
      "model_module": "jupyter-cytoscape",
      "model_module_version": "^1.3.3",
      "model_name": "NodeModel",
      "state": {
       "_model_module_version": "^1.3.3",
       "_view_module_version": "^1.3.3",
       "data": {
        "id": "02ef0194-3aad-47d1-8d49-5b6e42a21e77"
       },
       "grabbable": true,
       "grabbed": false,
       "position": {
        "x": 2000,
        "y": 1888.888888888889
       },
       "selectable": false
      }
     },
     "8a7d6eac2a8045b89020f96c96a813ec": {
      "model_module": "jupyter-cytoscape",
      "model_module_version": "^1.3.3",
      "model_name": "NodeModel",
      "state": {
       "_model_module_version": "^1.3.3",
       "_view_module_version": "^1.3.3",
       "data": {
        "bgcolor": "red",
        "id": "e0474220-33d1-4ca7-b4ad-55ee0f9b5b34",
        "name": "Truck transport"
       },
       "grabbable": true,
       "grabbed": false,
       "position": {
        "x": 1769.5906432748538,
        "y": 1714.2857142857142
       },
       "selectable": false
      }
     },
     "8b747648a0a6413f88a59d7adc3b437f": {
      "model_module": "jupyter-cytoscape",
      "model_module_version": "^1.3.3",
      "model_name": "EdgeModel",
      "state": {
       "_model_module_version": "^1.3.3",
       "_view_module_version": "^1.3.3",
       "data": {
        "id": "247d0189-cba4-436a-94b7-121b99f54e2f",
        "source": "b7a01f0f-075f-4126-8f17-f8c6cba6e1cb",
        "target": "c9a31e88-0082-4ffa-847e-56f63f7a17cf"
       },
       "selectable": false
      }
     },
     "8bb2ee59596c4dc6985a0e1faf2962b6": {
      "model_module": "jupyter-cytoscape",
      "model_module_version": "^1.3.3",
      "model_name": "NodeModel",
      "state": {
       "_model_module_version": "^1.3.3",
       "_view_module_version": "^1.3.3",
       "data": {
        "bgcolor": "red",
        "id": "1bc9239c-34db-4990-9600-25baa948aadd",
        "name": "Bananas"
       },
       "grabbable": true,
       "grabbed": false,
       "position": {
        "x": 1769.5906432748538,
        "y": 190.47619047619045
       },
       "selectable": false
      }
     },
     "8bdbbb08f9944ed4b3a1ec94a0ca1cbe": {
      "model_module": "jupyter-cytoscape",
      "model_module_version": "^1.3.3",
      "model_name": "EdgeModel",
      "state": {
       "_model_module_version": "^1.3.3",
       "_view_module_version": "^1.3.3",
       "data": {
        "id": "47310405-c8b3-4b36-a22a-5f7041aa7454",
        "source": "0d89c5c8-e92f-4b85-aa52-aa3e5bd4df83",
        "target": "72db7955-1acb-466c-ac94-fe54acdc3546"
       },
       "selectable": false
      }
     },
     "8c5f5c80e8164c3bbdf43118293bdbf6": {
      "model_module": "jupyter-cytoscape",
      "model_module_version": "^1.3.3",
      "model_name": "EdgeModel",
      "state": {
       "_model_module_version": "^1.3.3",
       "_view_module_version": "^1.3.3",
       "data": {
        "id": "0bf1e663-6793-4f2c-943a-1ddd487e30ce",
        "source": "5eb7c2d6-a8da-4de4-9833-abf832fa9c7c",
        "target": "b7a01f0f-075f-4126-8f17-f8c6cba6e1cb"
       },
       "selectable": false
      }
     },
     "8d2bc8b911fa48c48eda5756a66f3b23": {
      "model_module": "jupyter-cytoscape",
      "model_module_version": "^1.3.3",
      "model_name": "EdgeModel",
      "state": {
       "_model_module_version": "^1.3.3",
       "_view_module_version": "^1.3.3",
       "data": {
        "id": "6391f564-50a4-434f-8932-c1433e7107fb",
        "source": "70491afd-aa28-45c5-a039-4bc1812d32c5",
        "target": "38436942-4600-46a5-838f-391cd0c695e1"
       },
       "selectable": false
      }
     },
     "8d32db539a61448db82ba5d9bf6b4636": {
      "model_module": "jupyter-cytoscape",
      "model_module_version": "^1.3.3",
      "model_name": "EdgeModel",
      "state": {
       "_model_module_version": "^1.3.3",
       "_view_module_version": "^1.3.3",
       "data": {
        "id": "f6ec9b13-651c-4f7d-b15c-99c426e11e36",
        "source": "44de0ea7-4b4b-42d3-aa3e-ef23ff738c85",
        "target": "062d6730-4c34-43a2-8806-2ae5feb77b8f"
       },
       "selectable": false
      }
     },
     "8d9c66b07ed94f8a9550ec8c5c8bf30a": {
      "model_module": "jupyter-cytoscape",
      "model_module_version": "^1.3.3",
      "model_name": "EdgeModel",
      "state": {
       "_model_module_version": "^1.3.3",
       "_view_module_version": "^1.3.3",
       "data": {
        "id": "ff45ffdf-4b3e-4061-9fb3-0f1819b9332f",
        "source": "26c5906d-fe0b-479f-a42c-8f516233d8ba",
        "target": "38436942-4600-46a5-838f-391cd0c695e1"
       },
       "selectable": false
      }
     },
     "8e22a3553ea84ead810811c599ffa54c": {
      "model_module": "jupyter-cytoscape",
      "model_module_version": "^1.3.3",
      "model_name": "NodeModel",
      "state": {
       "_model_module_version": "^1.3.3",
       "_view_module_version": "^1.3.3",
       "data": {
        "bgcolor": "red",
        "id": "44ac2c05-11e8-450e-983c-f5a5e5ad42fd",
        "name": "Fuel consumption of Truck transport"
       },
       "grabbable": true,
       "grabbed": false,
       "position": {
        "x": 1769.5906432748538,
        "y": 1015.8730158730158
       },
       "selectable": false
      }
     },
     "8f8c233d5c0e4ad3b94c9daff8569023": {
      "model_module": "jupyter-cytoscape",
      "model_module_version": "^1.3.3",
      "model_name": "NodeModel",
      "state": {
       "_model_module_version": "^1.3.3",
       "_view_module_version": "^1.3.3",
       "data": {
        "bgcolor": "red",
        "id": "649e511b-125a-4107-a7ad-a30a4ce34c7f",
        "name": "Truck transport"
       },
       "grabbable": true,
       "grabbed": false,
       "position": {
        "x": 1769.5906432748538,
        "y": 1555.5555555555557
       },
       "selectable": false
      }
     },
     "8fcff0735e434e50b9dd79794df3a0a8": {
      "model_module": "jupyter-cytoscape",
      "model_module_version": "^1.3.3",
      "model_name": "NodeModel",
      "state": {
       "_model_module_version": "^1.3.3",
       "_view_module_version": "^1.3.3",
       "data": {
        "bgcolor": "red",
        "id": "36a19b48-6ac7-404c-847c-5b1ba73f2f89",
        "name": "Bananas"
       },
       "grabbable": true,
       "grabbed": false,
       "position": {
        "x": 1351.4619883040934,
        "y": 0
       },
       "selectable": false
      }
     },
     "8fe62b57023f42569ae57506393c72a9": {
      "model_module": "jupyter-cytoscape",
      "model_module_version": "^1.3.3",
      "model_name": "NodeModel",
      "state": {
       "_model_module_version": "^1.3.3",
       "_view_module_version": "^1.3.3",
       "data": {
        "bgcolor": "red",
        "id": "ba5e5a73-f1b5-4a6c-a040-984e3b1f6e77",
        "name": "Truck transport"
       },
       "grabbable": true,
       "grabbed": false,
       "position": {
        "x": 1351.4619883040934,
        "y": 1111.111111111111
       },
       "selectable": false
      }
     },
     "908cde8c09764a18bae17b2a4d7e55f2": {
      "model_module": "jupyter-cytoscape",
      "model_module_version": "^1.3.3",
      "model_name": "NodeModel",
      "state": {
       "_model_module_version": "^1.3.3",
       "_view_module_version": "^1.3.3",
       "data": {
        "bgcolor": "green",
        "id": "57364e0e-ffff-43b1-af92-82c58042e60b",
        "name": ""
       },
       "grabbable": true,
       "grabbed": false,
       "position": {
        "x": 1163.7426900584794,
        "y": 1920.6349206349207
       },
       "selectable": false
      }
     },
     "9184f007cb7149dfb3b4497f085dfb65": {
      "model_module": "jupyter-cytoscape",
      "model_module_version": "^1.3.3",
      "model_name": "NodeModel",
      "state": {
       "_model_module_version": "^1.3.3",
       "_view_module_version": "^1.3.3",
       "data": {
        "bgcolor": "red",
        "id": "df1d6aec-ff40-444f-9c22-09b6ccaaef0d",
        "name": "Sea transport"
       },
       "grabbable": true,
       "grabbed": false,
       "position": {
        "x": 1351.4619883040934,
        "y": 428.57142857142856
       },
       "selectable": false
      }
     },
     "91875d2bb8e24afe935cc5f8b5d10b4b": {
      "model_module": "jupyter-cytoscape",
      "model_module_version": "^1.3.3",
      "model_name": "EdgeModel",
      "state": {
       "_model_module_version": "^1.3.3",
       "_view_module_version": "^1.3.3",
       "data": {
        "id": "e4391ddb-bd4c-4ed8-b30e-bee0bd8d648c",
        "source": "57364e0e-ffff-43b1-af92-82c58042e60b",
        "target": "14eb5914-78ac-4ccd-ad4a-8672c358ca98"
       },
       "selectable": false
      }
     },
     "93911d702fb04a61ae7139c487fc83a1": {
      "model_module": "jupyter-cytoscape",
      "model_module_version": "^1.3.3",
      "model_name": "NodeModel",
      "state": {
       "_model_module_version": "^1.3.3",
       "_view_module_version": "^1.3.3",
       "data": {
        "bgcolor": "green",
        "id": "e80e8725-b75f-485e-8837-ec6bc51f3755",
        "name": ""
       },
       "grabbable": true,
       "grabbed": false,
       "position": {
        "x": 788.3040935672515,
        "y": 1349.2063492063494
       },
       "selectable": false
      }
     },
     "93e1274aaa99417a9e6038c1d7b8fdb6": {
      "model_module": "jupyter-cytoscape",
      "model_module_version": "^1.3.3",
      "model_name": "EdgeModel",
      "state": {
       "_model_module_version": "^1.3.3",
       "_view_module_version": "^1.3.3",
       "data": {
        "id": "c354b312-f145-46d8-90f5-134eb3c43600",
        "source": "11291144-e8da-4391-86d9-674f23260733",
        "target": "21a9b3a9-d79f-439e-a1df-fa7eb5b0beaf"
       },
       "selectable": false
      }
     },
     "9435b40317204e67aac175ffcce6019a": {
      "model_module": "jupyter-cytoscape",
      "model_module_version": "^1.3.3",
      "model_name": "EdgeModel",
      "state": {
       "_model_module_version": "^1.3.3",
       "_view_module_version": "^1.3.3",
       "data": {
        "id": "7a6c67f1-7dbe-4894-a539-18c1953b7847",
        "source": "1bc9239c-34db-4990-9600-25baa948aadd",
        "target": "578dccf9-5238-4121-98bd-de24214cc787"
       },
       "selectable": false
      }
     },
     "945007f8d0f34678895ec9522f5e04cf": {
      "model_module": "jupyter-cytoscape",
      "model_module_version": "^1.3.3",
      "model_name": "NodeModel",
      "state": {
       "_model_module_version": "^1.3.3",
       "_view_module_version": "^1.3.3",
       "data": {
        "bgcolor": "red",
        "id": "dc9addaf-5270-40da-9510-123d0155bd93",
        "name": "Truck transport"
       },
       "grabbable": true,
       "grabbed": false,
       "position": {
        "x": 1769.5906432748538,
        "y": 1396.8253968253966
       },
       "selectable": false
      }
     },
     "94708a83be8748fc901b8ad12d4be3ec": {
      "model_module": "@jupyter-widgets/controls",
      "model_module_version": "2.0.0",
      "model_name": "HTMLStyleModel",
      "state": {
       "description_width": "",
       "font_size": null,
       "text_color": null
      }
     },
     "9690954f417e4430a3cc20186bfb7da9": {
      "model_module": "jupyter-cytoscape",
      "model_module_version": "^1.3.3",
      "model_name": "NodeModel",
      "state": {
       "_model_module_version": "^1.3.3",
       "_view_module_version": "^1.3.3",
       "data": {
        "bgcolor": "red",
        "id": "1bb3ea0c-ea5f-418e-95ff-fb01866f5c24",
        "name": "Truck transport"
       },
       "grabbable": true,
       "grabbed": false,
       "position": {
        "x": 1769.5906432748538,
        "y": 1492.063492063492
       },
       "selectable": false
      }
     },
     "9692ff17740f42f5bccd8f44154f5b7d": {
      "model_module": "jupyter-cytoscape",
      "model_module_version": "^1.3.3",
      "model_name": "NodeModel",
      "state": {
       "_model_module_version": "^1.3.3",
       "_view_module_version": "^1.3.3",
       "data": {
        "bgcolor": "red",
        "id": "9551f250-83eb-4a15-90fe-43847b571aa7",
        "name": "Sea transport"
       },
       "grabbable": true,
       "grabbed": false,
       "position": {
        "x": 1769.5906432748538,
        "y": 380.9523809523809
       },
       "selectable": false
      }
     },
     "98af57aca2d14d5691c7f53815ed8699": {
      "model_module": "jupyter-cytoscape",
      "model_module_version": "^1.3.3",
      "model_name": "EdgeModel",
      "state": {
       "_model_module_version": "^1.3.3",
       "_view_module_version": "^1.3.3",
       "data": {
        "id": "4c2d34b4-d397-44b6-8e9e-21ea196eae5f",
        "source": "ab15ef3a-985f-424a-8355-19e1c4a2157c",
        "target": "578dccf9-5238-4121-98bd-de24214cc787"
       },
       "selectable": false
      }
     },
     "9b367e2eef2c43bf95ba59de588b5d93": {
      "model_module": "jupyter-cytoscape",
      "model_module_version": "^1.3.3",
      "model_name": "EdgeModel",
      "state": {
       "_model_module_version": "^1.3.3",
       "_view_module_version": "^1.3.3",
       "data": {
        "id": "ffa7aefb-58d6-40bd-a0e1-de9ba13ea78f",
        "source": "ba5e5a73-f1b5-4a6c-a040-984e3b1f6e77",
        "target": "71b8be09-9ad7-4893-bbec-6cdd1f7b7872"
       },
       "selectable": false
      }
     },
     "9bdf344ea3b74c9ba8e56f4c46004789": {
      "model_module": "jupyter-cytoscape",
      "model_module_version": "^1.3.3",
      "model_name": "EdgeModel",
      "state": {
       "_model_module_version": "^1.3.3",
       "_view_module_version": "^1.3.3",
       "data": {
        "id": "60f94a62-27a4-4a85-9477-fa52aaf2825d",
        "source": "8eef245d-135d-49e1-bb9d-4f49fc2341b5",
        "target": "9fb2d404-b32e-4ddf-99e6-b50633592b28"
       },
       "selectable": false
      }
     },
     "9c018bae9d8e4ca5b376a3cf23934a64": {
      "model_module": "jupyter-cytoscape",
      "model_module_version": "^1.3.3",
      "model_name": "NodeModel",
      "state": {
       "_model_module_version": "^1.3.3",
       "_view_module_version": "^1.3.3",
       "data": {
        "bgcolor": "red",
        "id": "672c8957-2d02-46ad-ade0-3073bb8576eb",
        "name": "Lemon Juice Concentrate"
       },
       "grabbable": true,
       "grabbed": false,
       "position": {
        "x": 225.14619883040933,
        "y": 1285.7142857142858
       },
       "selectable": false
      }
     },
     "9d4a3baa15c84257bcf45abe4293ce0e": {
      "model_module": "jupyter-cytoscape",
      "model_module_version": "^1.3.3",
      "model_name": "NodeModel",
      "state": {
       "_model_module_version": "^1.3.3",
       "_view_module_version": "^1.3.3",
       "data": {
        "bgcolor": "green",
        "id": "7570baa7-0339-4d2e-a292-ee8fcc468720",
        "name": ""
       },
       "grabbable": true,
       "grabbed": false,
       "position": {
        "x": 412.86549707602336,
        "y": 809.5238095238095
       },
       "selectable": false
      }
     },
     "9d68613f8304435881f7bf688bebd7ab": {
      "model_module": "jupyter-cytoscape",
      "model_module_version": "^1.3.3",
      "model_name": "CytoscapeModel",
      "state": {
       "_interaction_handlers": {
        "node": [
         "click"
        ]
       },
       "_model_module_version": "^1.3.3",
       "_view_module_version": "^1.3.3",
       "auto_ungrabify": false,
       "autolock": false,
       "cytoscape_layout": {
        "boundingBox": {
         "h": 2000,
         "w": 2000,
         "x1": 0,
         "x2": 2000,
         "y1": 0,
         "y2": 2000
        },
        "name": "dagre",
        "nodeDimensionsIncludeLabels": true,
        "rankDir": "LR",
        "ranker": "longest-path",
        "spacingFactor": 1
       },
       "cytoscape_style": [
        {
         "css": {
          "background-color": "data(bgcolor)",
          "content": "data(name)",
          "text-valign": "center"
         },
         "selector": "node"
        }
       ],
       "desktop_tap_threshold": 4,
       "graph": "IPY_MODEL_fcb2fdaeddb14f26a684b96d9bccbedc",
       "headless": false,
       "hide_edges_on_viewport": false,
       "layout": "IPY_MODEL_2161221cf0aa465ab9f93168c5d2b29a",
       "max_zoom": 1e+50,
       "min_zoom": 1e-50,
       "motion_blur": false,
       "motion_blur_opacity": 0.2,
       "panning_enabled": true,
       "pixel_ratio": "auto",
       "rendered_position": {
        "renderedPosition": {
         "x": 100,
         "y": 100
        }
       },
       "selection_type": "single",
       "style_enabled": true,
       "texture_on_viewport": false,
       "tooltip_source": "tooltip",
       "touch_tap_threshold": 8,
       "user_panning_enabled": true,
       "user_zooming_enabled": true,
       "wheel_sensitivity": 1,
       "zoom": 2,
       "zooming_enabled": true
      }
     },
     "9dde283dfe2f450490f9d450a64fa17b": {
      "model_module": "jupyter-cytoscape",
      "model_module_version": "^1.3.3",
      "model_name": "NodeModel",
      "state": {
       "_model_module_version": "^1.3.3",
       "_view_module_version": "^1.3.3",
       "data": {
        "bgcolor": "green",
        "id": "c7be1cb6-70df-45d2-b2d4-c3ddbfeb5b64",
        "name": ""
       },
       "grabbable": true,
       "grabbed": false,
       "position": {
        "x": 788.3040935672515,
        "y": 1158.7301587301588
       },
       "selectable": false
      }
     },
     "9e12e48538cd43d895b9400fa258dbd0": {
      "model_module": "jupyter-cytoscape",
      "model_module_version": "^1.3.3",
      "model_name": "EdgeModel",
      "state": {
       "_model_module_version": "^1.3.3",
       "_view_module_version": "^1.3.3",
       "data": {
        "id": "2889c595-0fcc-4ddb-8d92-db531b556807",
        "source": "a9e7ce85-f517-488a-bb67-cc84284f4b1c",
        "target": "9551f250-83eb-4a15-90fe-43847b571aa7"
       },
       "selectable": false
      }
     },
     "9e2dac1c5a3a4570825b7d5dca971bb2": {
      "model_module": "jupyter-cytoscape",
      "model_module_version": "^1.3.3",
      "model_name": "EdgeModel",
      "state": {
       "_model_module_version": "^1.3.3",
       "_view_module_version": "^1.3.3",
       "data": {
        "id": "09214237-2d84-4f31-a50b-46889a8ea955",
        "source": "868e0ba5-5cd0-4f2a-bc31-99bd27f549b3",
        "target": "98af4f07-f54a-44ba-afe8-3414c6a6eb66"
       },
       "selectable": false
      }
     },
     "9e75a8fa522a4099b1d82b31828259dc": {
      "model_module": "jupyter-cytoscape",
      "model_module_version": "^1.3.3",
      "model_name": "NodeModel",
      "state": {
       "_model_module_version": "^1.3.3",
       "_view_module_version": "^1.3.3",
       "data": {
        "bgcolor": "red",
        "id": "8943f1a9-efe6-45c2-8da3-9b3fee5167a3",
        "name": "Fuel consumption of Truck transport"
       },
       "grabbable": true,
       "grabbed": false,
       "position": {
        "x": 1769.5906432748538,
        "y": 1079.3650793650793
       },
       "selectable": false
      }
     },
     "9f27e94b282344adb5620021acd88880": {
      "model_module": "jupyter-cytoscape",
      "model_module_version": "^1.3.3",
      "model_name": "EdgeModel",
      "state": {
       "_model_module_version": "^1.3.3",
       "_view_module_version": "^1.3.3",
       "data": {
        "id": "81f1a25a-c5fb-4c25-80ca-52b4046de74f",
        "source": "31ca3463-924d-4fb2-9c84-5180b5117c2a",
        "target": "90111d54-ea1e-464e-8514-822b18ae119f"
       },
       "selectable": false
      }
     },
     "9f6f01d6eff747dd9d99ab286e21ceb4": {
      "model_module": "jupyter-cytoscape",
      "model_module_version": "^1.3.3",
      "model_name": "NodeModel",
      "state": {
       "_model_module_version": "^1.3.3",
       "_view_module_version": "^1.3.3",
       "data": {
        "bgcolor": "red",
        "id": "cd62a9a4-69d6-455f-a0cc-069875244186",
        "name": "Truck transport"
       },
       "grabbable": true,
       "grabbed": false,
       "position": {
        "x": 1769.5906432748538,
        "y": 1650.7936507936506
       },
       "selectable": false
      }
     },
     "a086957ce9e644b3af763b57f6771abc": {
      "model_module": "jupyter-cytoscape",
      "model_module_version": "^1.3.3",
      "model_name": "EdgeModel",
      "state": {
       "_model_module_version": "^1.3.3",
       "_view_module_version": "^1.3.3",
       "data": {
        "id": "40f7a80d-3092-417b-b072-6efd9a989d0c",
        "source": "957e5f05-2d57-4cbd-9332-c9e9d28dcd55",
        "target": "2b559bbe-6700-4c7b-a886-90565be1c169"
       },
       "selectable": false
      }
     },
     "a0972e2395e04596a33d00e4df34b7f3": {
      "model_module": "jupyter-cytoscape",
      "model_module_version": "^1.3.3",
      "model_name": "NodeModel",
      "state": {
       "_model_module_version": "^1.3.3",
       "_view_module_version": "^1.3.3",
       "data": {
        "bgcolor": "green",
        "id": "95750ef6-1b7b-401f-b970-ee7c745d7000",
        "name": ""
       },
       "grabbable": true,
       "grabbed": false,
       "position": {
        "x": 1163.7426900584794,
        "y": 1857.142857142857
       },
       "selectable": false
      }
     },
     "a0cd29f6cf62440cbc1f11f139434f11": {
      "model_module": "jupyter-cytoscape",
      "model_module_version": "^1.3.3",
      "model_name": "NodeModel",
      "state": {
       "_model_module_version": "^1.3.3",
       "_view_module_version": "^1.3.3",
       "data": {
        "bgcolor": "red",
        "id": "f5c2d15c-6613-492d-aaa1-2f44161a3853",
        "name": "Bananas"
       },
       "grabbable": true,
       "grabbed": false,
       "position": {
        "x": 600.5847953216374,
        "y": 777.7777777777778
       },
       "selectable": false
      }
     },
     "a18617dc04e74d31803d5fff671f265e": {
      "model_module": "jupyter-cytoscape",
      "model_module_version": "^1.3.3",
      "model_name": "EdgeModel",
      "state": {
       "_model_module_version": "^1.3.3",
       "_view_module_version": "^1.3.3",
       "data": {
        "id": "ced4d5cd-5c90-4b2e-b304-73e69a75b90b",
        "source": "99f77227-3592-4b4a-a806-65505d531d51",
        "target": "0e7c7641-6584-4ac7-93e2-037e20f6590f"
       },
       "selectable": false
      }
     },
     "a1bb29730db14c6dadc2df9096501d2d": {
      "model_module": "jupyter-cytoscape",
      "model_module_version": "^1.3.3",
      "model_name": "EdgeModel",
      "state": {
       "_model_module_version": "^1.3.3",
       "_view_module_version": "^1.3.3",
       "data": {
        "id": "8cf3895f-7cbd-4b28-8817-5e19de1c20d9",
        "source": "7e4c2738-a878-4655-8fa8-f4ceea6eb6bd",
        "target": "38436942-4600-46a5-838f-391cd0c695e1"
       },
       "selectable": false
      }
     },
     "a1c414769f0e4de9845cb5a7813a39ea": {
      "model_module": "jupyter-cytoscape",
      "model_module_version": "^1.3.3",
      "model_name": "EdgeModel",
      "state": {
       "_model_module_version": "^1.3.3",
       "_view_module_version": "^1.3.3",
       "data": {
        "id": "86db49bb-8cd9-46cf-be70-e2767cf18640",
        "source": "e5ec713e-b49e-47cb-ae72-51deb956c87f",
        "target": "98af4f07-f54a-44ba-afe8-3414c6a6eb66"
       },
       "selectable": false
      }
     },
     "a294db3748c34e608de85bcc1963ddbc": {
      "model_module": "jupyter-cytoscape",
      "model_module_version": "^1.3.3",
      "model_name": "EdgeModel",
      "state": {
       "_model_module_version": "^1.3.3",
       "_view_module_version": "^1.3.3",
       "data": {
        "id": "337e80e5-617e-44c0-98b0-8332e3af8bf6",
        "source": "9b4dfd84-8f89-47fc-856f-a32950faabe0",
        "target": "4287441a-d8af-4f78-9ee6-cdd0ff2da2f1"
       },
       "selectable": false
      }
     },
     "a2ae63736b874926a164145efdaf0bd2": {
      "model_module": "jupyter-cytoscape",
      "model_module_version": "^1.3.3",
      "model_name": "NodeModel",
      "state": {
       "_model_module_version": "^1.3.3",
       "_view_module_version": "^1.3.3",
       "data": {
        "bgcolor": "red",
        "id": "957e5f05-2d57-4cbd-9332-c9e9d28dcd55",
        "name": "Truck transport"
       },
       "grabbable": true,
       "grabbed": false,
       "position": {
        "x": 1351.4619883040934,
        "y": 1428.5714285714287
       },
       "selectable": false
      }
     },
     "a535929b64e4406fac35e4ebff7da577": {
      "model_module": "jupyter-cytoscape",
      "model_module_version": "^1.3.3",
      "model_name": "NodeModel",
      "state": {
       "_model_module_version": "^1.3.3",
       "_view_module_version": "^1.3.3",
       "data": {
        "bgcolor": "green",
        "id": "95a9a9b1-1e14-4e04-a493-a3717bf382e9",
        "name": ""
       },
       "grabbable": true,
       "grabbed": false,
       "position": {
        "x": 1539.1812865497077,
        "y": 1968.2539682539682
       },
       "selectable": false
      }
     },
     "a617527354f44907b2d118e0d39336c3": {
      "model_module": "jupyter-cytoscape",
      "model_module_version": "^1.3.3",
      "model_name": "EdgeModel",
      "state": {
       "_model_module_version": "^1.3.3",
       "_view_module_version": "^1.3.3",
       "data": {
        "id": "23792aeb-b3bf-49d5-a843-83be6dc57446",
        "source": "3e65bd78-71ed-4003-bb43-bdf3e16d1aaf",
        "target": "1bd1fb07-6778-4ef2-b4ca-64793033a717"
       },
       "selectable": false
      }
     },
     "a6ae68edf6b445579eacea343888a61f": {
      "model_module": "jupyter-cytoscape",
      "model_module_version": "^1.3.3",
      "model_name": "EdgeModel",
      "state": {
       "_model_module_version": "^1.3.3",
       "_view_module_version": "^1.3.3",
       "data": {
        "id": "c28b8255-f572-4724-822f-0b8ed5db4993",
        "source": "a77f91ae-af31-4403-8f91-38c7b43b89f1",
        "target": "2bdd8a55-b632-48ab-bfb3-3310908986ae"
       },
       "selectable": false
      }
     },
     "a7f135063a5841489d398ffdc639bcf3": {
      "model_module": "jupyter-cytoscape",
      "model_module_version": "^1.3.3",
      "model_name": "NodeModel",
      "state": {
       "_model_module_version": "^1.3.3",
       "_view_module_version": "^1.3.3",
       "data": {
        "bgcolor": "green",
        "id": "11291144-e8da-4391-86d9-674f23260733",
        "name": ""
       },
       "grabbable": true,
       "grabbed": false,
       "position": {
        "x": 1539.1812865497077,
        "y": 1460.3174603174602
       },
       "selectable": false
      }
     },
     "a866e19db2534984a7e25f37f2bcb351": {
      "model_module": "jupyter-cytoscape",
      "model_module_version": "^1.3.3",
      "model_name": "EdgeModel",
      "state": {
       "_model_module_version": "^1.3.3",
       "_view_module_version": "^1.3.3",
       "data": {
        "id": "185a4def-159f-4fd0-aeda-278d76c1c3d0",
        "source": "34ff3b13-4569-4128-8116-d6fa31ba9a49",
        "target": "38436942-4600-46a5-838f-391cd0c695e1"
       },
       "selectable": false
      }
     },
     "a92470eebc56465b9ef402ff2b4f8279": {
      "model_module": "jupyter-cytoscape",
      "model_module_version": "^1.3.3",
      "model_name": "NodeModel",
      "state": {
       "_model_module_version": "^1.3.3",
       "_view_module_version": "^1.3.3",
       "data": {
        "bgcolor": "red",
        "id": "244675ff-2c06-4a24-80e0-8b993d802bb6",
        "name": "Lemon Juice Concentrate"
       },
       "grabbable": true,
       "grabbed": false,
       "position": {
        "x": 1351.4619883040934,
        "y": 1777.7777777777776
       },
       "selectable": false
      }
     },
     "a93895ca374c4542bcd80fea3a1313bd": {
      "model_module": "jupyter-cytoscape",
      "model_module_version": "^1.3.3",
      "model_name": "EdgeModel",
      "state": {
       "_model_module_version": "^1.3.3",
       "_view_module_version": "^1.3.3",
       "data": {
        "id": "6f2c335f-0b19-499c-a168-f84f59174756",
        "source": "a77f91ae-af31-4403-8f91-38c7b43b89f1",
        "target": "c03602fe-beaa-4b16-8707-2a4276e7e83b"
       },
       "selectable": false
      }
     },
     "aa12b2156dc34452b46f93a2746af077": {
      "model_module": "jupyter-cytoscape",
      "model_module_version": "^1.3.3",
      "model_name": "NodeModel",
      "state": {
       "_model_module_version": "^1.3.3",
       "_view_module_version": "^1.3.3",
       "data": {
        "bgcolor": "red",
        "id": "556e9d15-dd82-4276-ae32-25d939af2dab",
        "name": "Truck transport"
       },
       "grabbable": true,
       "grabbed": false,
       "position": {
        "x": 1769.5906432748538,
        "y": 1523.8095238095236
       },
       "selectable": false
      }
     },
     "ac7aa3324ee64d9097b000c99bc1d77c": {
      "model_module": "jupyter-cytoscape",
      "model_module_version": "^1.3.3",
      "model_name": "EdgeModel",
      "state": {
       "_model_module_version": "^1.3.3",
       "_view_module_version": "^1.3.3",
       "data": {
        "id": "0c463022-1a39-464f-b819-d196c7b89a25",
        "source": "e04b717f-bc7e-4ade-9129-aa8008d325d8",
        "target": "fac08c2c-f2ca-456a-8f70-9c77cd0e6dae"
       },
       "selectable": false
      }
     },
     "ac914c8559e84e63a02fc3fa49559aa7": {
      "model_module": "jupyter-cytoscape",
      "model_module_version": "^1.3.3",
      "model_name": "NodeModel",
      "state": {
       "_model_module_version": "^1.3.3",
       "_view_module_version": "^1.3.3",
       "data": {
        "id": "10b9484e-9271-484a-acdc-fca31859f57f"
       },
       "grabbable": true,
       "grabbed": false,
       "position": {
        "x": 2000,
        "y": 333.3333333333333
       },
       "selectable": false
      }
     },
     "ad3ee6fd29cd45a5854c776e8dca4232": {
      "model_module": "jupyter-cytoscape",
      "model_module_version": "^1.3.3",
      "model_name": "EdgeModel",
      "state": {
       "_model_module_version": "^1.3.3",
       "_view_module_version": "^1.3.3",
       "data": {
        "id": "7ec91a0c-33b2-4e0f-abec-6df2ea7fa0c6",
        "source": "fd2effa2-3df1-4943-b9a4-7a4601f1f75b",
        "target": "f4fab705-41f6-4f7f-b82e-19093f520bb8"
       },
       "selectable": false
      }
     },
     "aed9e25f373641b790a7a4d35db9ea1c": {
      "model_module": "jupyter-cytoscape",
      "model_module_version": "^1.3.3",
      "model_name": "NodeModel",
      "state": {
       "_model_module_version": "^1.3.3",
       "_view_module_version": "^1.3.3",
       "data": {
        "bgcolor": "red",
        "id": "02f6cc1f-f86c-484e-a501-949a1ba0f9ec",
        "name": "Fuel consumption of Truck transport"
       },
       "grabbable": true,
       "grabbed": false,
       "position": {
        "x": 1769.5906432748538,
        "y": 1142.857142857143
       },
       "selectable": false
      }
     },
     "aff7af6b276741b5a380d2fc058c4892": {
      "model_module": "jupyter-cytoscape",
      "model_module_version": "^1.3.3",
      "model_name": "EdgeModel",
      "state": {
       "_model_module_version": "^1.3.3",
       "_view_module_version": "^1.3.3",
       "data": {
        "id": "63259053-5d2d-4c88-a5d3-f49daae537b7",
        "source": "0c3d80ca-947e-4a4c-b8bb-1d6f748236d5",
        "target": "02ef0194-3aad-47d1-8d49-5b6e42a21e77"
       },
       "selectable": false
      }
     },
     "b008971eddb94ca9aeff716826791c31": {
      "model_module": "jupyter-cytoscape",
      "model_module_version": "^1.3.3",
      "model_name": "NodeModel",
      "state": {
       "_model_module_version": "^1.3.3",
       "_view_module_version": "^1.3.3",
       "data": {
        "bgcolor": "red",
        "id": "32b99b97-8eeb-4371-9ecd-80ebaf76a08d",
        "name": "Lemon Juice Concentrate"
       },
       "grabbable": true,
       "grabbed": false,
       "position": {
        "x": 976.0233918128655,
        "y": 1984.126984126984
       },
       "selectable": false
      }
     },
     "b095cadb81af40ac98f815511e8a6327": {
      "model_module": "jupyter-cytoscape",
      "model_module_version": "^1.3.3",
      "model_name": "EdgeModel",
      "state": {
       "_model_module_version": "^1.3.3",
       "_view_module_version": "^1.3.3",
       "data": {
        "id": "492a2664-970d-4404-8f9e-c98daafb13d4",
        "source": "649e511b-125a-4107-a7ad-a30a4ce34c7f",
        "target": "98af4f07-f54a-44ba-afe8-3414c6a6eb66"
       },
       "selectable": false
      }
     },
     "b0c1e00622074b80b4b381fea1387b67": {
      "model_module": "jupyter-cytoscape",
      "model_module_version": "^1.3.3",
      "model_name": "NodeModel",
      "state": {
       "_model_module_version": "^1.3.3",
       "_view_module_version": "^1.3.3",
       "data": {
        "bgcolor": "red",
        "id": "97698f38-0222-498e-8fd2-187b487cfe48",
        "name": "Truck transport"
       },
       "grabbable": true,
       "grabbed": false,
       "position": {
        "x": 1351.4619883040934,
        "y": 904.7619047619048
       },
       "selectable": false
      }
     },
     "b0f1a3678640462fb63a49f87577bf6d": {
      "model_module": "jupyter-cytoscape",
      "model_module_version": "^1.3.3",
      "model_name": "GraphModel",
      "state": {
       "_adj": {},
       "_model_module_version": "^1.3.3",
       "_view_module": "jupyter-cytoscape",
       "_view_module_version": "^1.3.3"
      }
     },
     "b17dda8a97274ca89cf1ae0f89b5cedc": {
      "model_module": "jupyter-cytoscape",
      "model_module_version": "^1.3.3",
      "model_name": "NodeModel",
      "state": {
       "_model_module_version": "^1.3.3",
       "_view_module_version": "^1.3.3",
       "data": {
        "bgcolor": "red",
        "id": "97dead99-5464-44b4-b020-629cf57afbfa",
        "name": "Truck transport"
       },
       "grabbable": true,
       "grabbed": false,
       "position": {
        "x": 1769.5906432748538,
        "y": 1238.095238095238
       },
       "selectable": false
      }
     },
     "b2113ff2078a43e38373a2050420a707": {
      "model_module": "jupyter-cytoscape",
      "model_module_version": "^1.3.3",
      "model_name": "NodeModel",
      "state": {
       "_model_module_version": "^1.3.3",
       "_view_module_version": "^1.3.3",
       "data": {
        "bgcolor": "green",
        "id": "71b8be09-9ad7-4893-bbec-6cdd1f7b7872",
        "name": ""
       },
       "grabbable": true,
       "grabbed": false,
       "position": {
        "x": 1539.1812865497077,
        "y": 1111.111111111111
       },
       "selectable": false
      }
     },
     "b2a308e02a1d410e81da4dacdef796cc": {
      "model_module": "@jupyter-widgets/base",
      "model_module_version": "2.0.0",
      "model_name": "LayoutModel",
      "state": {}
     },
     "b401f928448342e9bf69f946830e0a4d": {
      "model_module": "jupyter-cytoscape",
      "model_module_version": "^1.3.3",
      "model_name": "EdgeModel",
      "state": {
       "_model_module_version": "^1.3.3",
       "_view_module_version": "^1.3.3",
       "data": {
        "id": "978412d1-51e6-48c8-8632-57cb076c6e02",
        "source": "ca6f2f76-1e66-4874-b36c-e594f4229d70",
        "target": "ddab397b-287d-4a58-baa4-72844e67c562"
       },
       "selectable": false
      }
     },
     "b43059182ad248cb9d081b5f1426d1fd": {
      "model_module": "jupyter-cytoscape",
      "model_module_version": "^1.3.3",
      "model_name": "EdgeModel",
      "state": {
       "_model_module_version": "^1.3.3",
       "_view_module_version": "^1.3.3",
       "data": {
        "id": "db00a1ae-8c41-4d87-9351-7248f0082499",
        "source": "7f613c31-3d3a-47b5-ac0a-8761fe185117",
        "target": "5bad1b14-d5b3-4390-a77a-72b446f7ca56"
       },
       "selectable": false
      }
     },
     "b447d2d65c5747c2b1ab576c8272058f": {
      "model_module": "jupyter-cytoscape",
      "model_module_version": "^1.3.3",
      "model_name": "EdgeModel",
      "state": {
       "_model_module_version": "^1.3.3",
       "_view_module_version": "^1.3.3",
       "data": {
        "id": "de01fc9d-ccb9-4539-903f-9ba4de0ef89c",
        "source": "9843e86c-fb63-4af9-87ec-44f4165a449f",
        "target": "95750ef6-1b7b-401f-b970-ee7c745d7000"
       },
       "selectable": false
      }
     },
     "b5647960aa8147c096a2ad9019d82d9e": {
      "model_module": "jupyter-cytoscape",
      "model_module_version": "^1.3.3",
      "model_name": "EdgeModel",
      "state": {
       "_model_module_version": "^1.3.3",
       "_view_module_version": "^1.3.3",
       "data": {
        "id": "2678362c-3bfb-4809-bae1-242d97ea91fd",
        "source": "aaab8697-a684-465b-8ae5-f474476f1426",
        "target": "a77f91ae-af31-4403-8f91-38c7b43b89f1"
       },
       "selectable": false
      }
     },
     "b67ce5230edc44f28a34ccff2f6aaa8f": {
      "model_module": "jupyter-cytoscape",
      "model_module_version": "^1.3.3",
      "model_name": "NodeModel",
      "state": {
       "_model_module_version": "^1.3.3",
       "_view_module_version": "^1.3.3",
       "data": {
        "bgcolor": "green",
        "id": "c9aa9001-433c-4585-b5fb-bab6f2cfa305",
        "name": ""
       },
       "grabbable": true,
       "grabbed": false,
       "position": {
        "x": 1539.1812865497077,
        "y": 1190.4761904761904
       },
       "selectable": false
      }
     },
     "b6a5c364496348b78f366d90bf07fd9e": {
      "model_module": "jupyter-cytoscape",
      "model_module_version": "^1.3.3",
      "model_name": "EdgeModel",
      "state": {
       "_model_module_version": "^1.3.3",
       "_view_module_version": "^1.3.3",
       "data": {
        "id": "d9f54e6c-dccb-41dc-88a5-ff2cad7ff129",
        "source": "5d4ca006-2102-4ef4-ae59-dd54170894c3",
        "target": "34ff3b13-4569-4128-8116-d6fa31ba9a49"
       },
       "selectable": false
      }
     },
     "b7b79f5635994301a9dd9caf41fc7e09": {
      "model_module": "jupyter-cytoscape",
      "model_module_version": "^1.3.3",
      "model_name": "NodeModel",
      "state": {
       "_model_module_version": "^1.3.3",
       "_view_module_version": "^1.3.3",
       "data": {
        "bgcolor": "red",
        "id": "f40c7405-7e1f-4930-8445-c8a97bbbbe7b",
        "name": "Lemon Juice Concentrate"
       },
       "grabbable": true,
       "grabbed": false,
       "position": {
        "x": 1769.5906432748538,
        "y": 1968.2539682539682
       },
       "selectable": false
      }
     },
     "b86a30b653744635be522658a2a64ab5": {
      "model_module": "jupyter-cytoscape",
      "model_module_version": "^1.3.3",
      "model_name": "EdgeModel",
      "state": {
       "_model_module_version": "^1.3.3",
       "_view_module_version": "^1.3.3",
       "data": {
        "id": "fb061ff7-a487-4c58-a668-010f6069087d",
        "source": "554023fc-a2d9-4a95-8832-fcfbf51e0cd5",
        "target": "4836d9f9-5ab7-4e1e-8444-f9a6cfaa611f"
       },
       "selectable": false
      }
     },
     "b8a3930a2947498e8a6a0805c971b4fd": {
      "model_module": "jupyter-cytoscape",
      "model_module_version": "^1.3.3",
      "model_name": "EdgeModel",
      "state": {
       "_model_module_version": "^1.3.3",
       "_view_module_version": "^1.3.3",
       "data": {
        "id": "ff8225dd-b1f2-4e54-87ae-8f2f102e4ba0",
        "source": "a295b7af-3ba2-4e90-9a36-3abf9592befa",
        "target": "3552e5f9-e3e7-4fc7-acd3-c6f2ecc0f6f8"
       },
       "selectable": false
      }
     },
     "b94d800307df4c74bffc43a342c46ce0": {
      "model_module": "jupyter-cytoscape",
      "model_module_version": "^1.3.3",
      "model_name": "NodeModel",
      "state": {
       "_model_module_version": "^1.3.3",
       "_view_module_version": "^1.3.3",
       "data": {
        "bgcolor": "red",
        "id": "14eb5914-78ac-4ccd-ad4a-8672c358ca98",
        "name": "Lemon Juice Concentrate"
       },
       "grabbable": true,
       "grabbed": false,
       "position": {
        "x": 1351.4619883040934,
        "y": 1904.7619047619046
       },
       "selectable": false
      }
     },
     "b9ce3ed3b9a44bdc9e8cb6fd1d934b3b": {
      "model_module": "jupyter-cytoscape",
      "model_module_version": "^1.3.3",
      "model_name": "EdgeModel",
      "state": {
       "_model_module_version": "^1.3.3",
       "_view_module_version": "^1.3.3",
       "data": {
        "id": "f8051951-4075-464d-98ea-27097b907838",
        "source": "c9aa9001-433c-4585-b5fb-bab6f2cfa305",
        "target": "26b28b05-9365-47a4-98c8-6f77ebc1ab6b"
       },
       "selectable": false
      }
     },
     "ba22fd992f5c4162856298c1c5a1c1b8": {
      "model_module": "jupyter-cytoscape",
      "model_module_version": "^1.3.3",
      "model_name": "NodeModel",
      "state": {
       "_model_module_version": "^1.3.3",
       "_view_module_version": "^1.3.3",
       "data": {
        "bgcolor": "red",
        "id": "9274e1ce-fa92-4e90-a913-b53b3433715e",
        "name": "Sea transport"
       },
       "grabbable": true,
       "grabbed": false,
       "position": {
        "x": 1351.4619883040934,
        "y": 555.5555555555555
       },
       "selectable": false
      }
     },
     "ba42b4c588ac48949a2c3ee8dda77554": {
      "model_module": "jupyter-cytoscape",
      "model_module_version": "^1.3.3",
      "model_name": "NodeModel",
      "state": {
       "_model_module_version": "^1.3.3",
       "_view_module_version": "^1.3.3",
       "data": {
        "bgcolor": "red",
        "id": "e68eff79-7a22-4c80-ae10-ba008d86cc62",
        "name": "Bananas"
       },
       "grabbable": true,
       "grabbed": false,
       "position": {
        "x": 225.14619883040933,
        "y": 809.5238095238095
       },
       "selectable": false
      }
     },
     "ba515191a8dd4d2f971d1e613b3ffdbb": {
      "model_module": "jupyter-cytoscape",
      "model_module_version": "^1.3.3",
      "model_name": "EdgeModel",
      "state": {
       "_model_module_version": "^1.3.3",
       "_view_module_version": "^1.3.3",
       "data": {
        "id": "55cb086e-62e0-4db4-93e3-b647b6fa6616",
        "source": "e1ea24b7-738a-4180-ad1d-0c55e89f74f8",
        "target": "98af4f07-f54a-44ba-afe8-3414c6a6eb66"
       },
       "selectable": false
      }
     },
     "ba71a98f6b8d45bc9f4e6ad32a42bf96": {
      "model_module": "jupyter-cytoscape",
      "model_module_version": "^1.3.3",
      "model_name": "NodeModel",
      "state": {
       "_model_module_version": "^1.3.3",
       "_view_module_version": "^1.3.3",
       "data": {
        "bgcolor": "green",
        "id": "f4fab705-41f6-4f7f-b82e-19093f520bb8",
        "name": ""
       },
       "grabbable": true,
       "grabbed": false,
       "position": {
        "x": 788.3040935672515,
        "y": 1444.4444444444443
       },
       "selectable": false
      }
     },
     "bb1a7d000e354b9ea5d055630a8b3ac1": {
      "model_module": "jupyter-cytoscape",
      "model_module_version": "^1.3.3",
      "model_name": "EdgeModel",
      "state": {
       "_model_module_version": "^1.3.3",
       "_view_module_version": "^1.3.3",
       "data": {
        "id": "134e084f-12f7-4491-ace8-9155ac6dbc48",
        "source": "c9aa9001-433c-4585-b5fb-bab6f2cfa305",
        "target": "1bb3ea0c-ea5f-418e-95ff-fb01866f5c24"
       },
       "selectable": false
      }
     },
     "bbc81a69044b449a80cd58aa0627f45e": {
      "model_module": "jupyter-cytoscape",
      "model_module_version": "^1.3.3",
      "model_name": "EdgeModel",
      "state": {
       "_model_module_version": "^1.3.3",
       "_view_module_version": "^1.3.3",
       "data": {
        "id": "f678f05a-baa3-4bd0-8f53-b87e5a63c7a0",
        "source": "e80e8725-b75f-485e-8837-ec6bc51f3755",
        "target": "1d78e88d-6447-4aaf-9da1-1fad8a98d5b8"
       },
       "selectable": false
      }
     },
     "bbff7e5ef32c445e8f1d5c6fc39b4a4a": {
      "model_module": "jupyter-cytoscape",
      "model_module_version": "^1.3.3",
      "model_name": "NodeModel",
      "state": {
       "_model_module_version": "^1.3.3",
       "_view_module_version": "^1.3.3",
       "data": {
        "bgcolor": "green",
        "id": "5bad1b14-d5b3-4390-a77a-72b446f7ca56",
        "name": ""
       },
       "grabbable": true,
       "grabbed": false,
       "position": {
        "x": 1163.7426900584794,
        "y": 206.34920634920633
       },
       "selectable": false
      }
     },
     "bc46776580474f0bbf9716357883e676": {
      "model_module": "jupyter-cytoscape",
      "model_module_version": "^1.3.3",
      "model_name": "EdgeModel",
      "state": {
       "_model_module_version": "^1.3.3",
       "_view_module_version": "^1.3.3",
       "data": {
        "id": "c5cb82f1-85b4-4cf6-9624-fe05e917419d",
        "source": "7d4010d6-cf6d-4d16-ae4b-59fdc15e67a3",
        "target": "02ef0194-3aad-47d1-8d49-5b6e42a21e77"
       },
       "selectable": false
      }
     },
     "bc975e671e8c4aa0bc9f26761fdfbeca": {
      "model_module": "jupyter-cytoscape",
      "model_module_version": "^1.3.3",
      "model_name": "EdgeModel",
      "state": {
       "_model_module_version": "^1.3.3",
       "_view_module_version": "^1.3.3",
       "data": {
        "id": "4ee146a8-e0d0-4751-ba0b-207d748ac9fc",
        "source": "8eef245d-135d-49e1-bb9d-4f49fc2341b5",
        "target": "4736e843-6c8c-466e-8571-e932e76abe48"
       },
       "selectable": false
      }
     },
     "bcf528029d5e4bd08b186994b85e65a0": {
      "model_module": "jupyter-cytoscape",
      "model_module_version": "^1.3.3",
      "model_name": "EdgeModel",
      "state": {
       "_model_module_version": "^1.3.3",
       "_view_module_version": "^1.3.3",
       "data": {
        "id": "fa9ec4e6-d75f-42c5-99f4-ed8937ba27b3",
        "source": "43cdcb54-c757-406f-bc77-54bb3218c785",
        "target": "38436942-4600-46a5-838f-391cd0c695e1"
       },
       "selectable": false
      }
     },
     "bcf844b206e34cb9ad35f8b7f13ec6d0": {
      "model_module": "jupyter-cytoscape",
      "model_module_version": "^1.3.3",
      "model_name": "EdgeModel",
      "state": {
       "_model_module_version": "^1.3.3",
       "_view_module_version": "^1.3.3",
       "data": {
        "id": "b332ca5b-607c-4cf3-a6fc-dfcfe0e35566",
        "source": "c7be1cb6-70df-45d2-b2d4-c3ddbfeb5b64",
        "target": "88ac6972-a91e-41b0-ad69-742df1e33ede"
       },
       "selectable": false
      }
     },
     "be261a7efdee4f778efd68ca3e5adb3d": {
      "model_module": "jupyter-cytoscape",
      "model_module_version": "^1.3.3",
      "model_name": "NodeModel",
      "state": {
       "_model_module_version": "^1.3.3",
       "_view_module_version": "^1.3.3",
       "data": {
        "bgcolor": "red",
        "id": "ca0b92ad-3cf2-470b-82b6-6dbca553ac85",
        "name": "Sea transport"
       },
       "grabbable": true,
       "grabbed": false,
       "position": {
        "x": 1769.5906432748538,
        "y": 317.46031746031747
       },
       "selectable": false
      }
     },
     "bec87ece640a46488285eb16d577ef94": {
      "model_module": "jupyter-cytoscape",
      "model_module_version": "^1.3.3",
      "model_name": "NodeModel",
      "state": {
       "_model_module_version": "^1.3.3",
       "_view_module_version": "^1.3.3",
       "data": {
        "bgcolor": "red",
        "id": "4736e843-6c8c-466e-8571-e932e76abe48",
        "name": "Truck transport"
       },
       "grabbable": true,
       "grabbed": false,
       "position": {
        "x": 1769.5906432748538,
        "y": 1460.3174603174602
       },
       "selectable": false
      }
     },
     "bf30c03293b84433b1e32e8d125ef4e5": {
      "model_module": "jupyter-cytoscape",
      "model_module_version": "^1.3.3",
      "model_name": "EdgeModel",
      "state": {
       "_model_module_version": "^1.3.3",
       "_view_module_version": "^1.3.3",
       "data": {
        "id": "ba80abf7-c9a9-4e47-bb03-b27fa63c6505",
        "source": "c7be1cb6-70df-45d2-b2d4-c3ddbfeb5b64",
        "target": "ad8f7840-f10f-44ee-933a-ce5f7d09b139"
       },
       "selectable": false
      }
     },
     "c264d10ad8fe412682bac3ff559b8055": {
      "model_module": "jupyter-cytoscape",
      "model_module_version": "^1.3.3",
      "model_name": "NodeModel",
      "state": {
       "_model_module_version": "^1.3.3",
       "_view_module_version": "^1.3.3",
       "data": {
        "bgcolor": "red",
        "id": "72252fdd-42e6-4006-8da7-439ab63cb230",
        "name": "Truck transport"
       },
       "grabbable": true,
       "grabbed": false,
       "position": {
        "x": 1351.4619883040934,
        "y": 1333.3333333333333
       },
       "selectable": false
      }
     },
     "c30ae2cae7c545cd9c342911ce4ffcb6": {
      "model_module": "jupyter-cytoscape",
      "model_module_version": "^1.3.3",
      "model_name": "NodeModel",
      "state": {
       "_model_module_version": "^1.3.3",
       "_view_module_version": "^1.3.3",
       "data": {
        "bgcolor": "red",
        "id": "da97ab7c-bae8-40fd-bf29-024b0928607c",
        "name": "Truck transport"
       },
       "grabbable": true,
       "grabbed": false,
       "position": {
        "x": 1351.4619883040934,
        "y": 1190.4761904761904
       },
       "selectable": false
      }
     },
     "c4e484367cdf4c42b9ee838d867ae8d8": {
      "model_module": "jupyter-cytoscape",
      "model_module_version": "^1.3.3",
      "model_name": "EdgeModel",
      "state": {
       "_model_module_version": "^1.3.3",
       "_view_module_version": "^1.3.3",
       "data": {
        "id": "5c53ff05-92ab-425d-96b2-c51c4f889980",
        "source": "1bd1fb07-6778-4ef2-b4ca-64793033a717",
        "target": "38436942-4600-46a5-838f-391cd0c695e1"
       },
       "selectable": false
      }
     },
     "c5ab120b7a6d447993affad9b1dd178e": {
      "model_module": "jupyter-cytoscape",
      "model_module_version": "^1.3.3",
      "model_name": "EdgeModel",
      "state": {
       "_model_module_version": "^1.3.3",
       "_view_module_version": "^1.3.3",
       "data": {
        "id": "221ce64e-c097-475b-94de-92ca0c2994ad",
        "source": "c9a31e88-0082-4ffa-847e-56f63f7a17cf",
        "target": "02ef0194-3aad-47d1-8d49-5b6e42a21e77"
       },
       "selectable": false
      }
     },
     "c674395b54564b07b56172724f2179f4": {
      "model_module": "jupyter-cytoscape",
      "model_module_version": "^1.3.3",
      "model_name": "EdgeModel",
      "state": {
       "_model_module_version": "^1.3.3",
       "_view_module_version": "^1.3.3",
       "data": {
        "id": "5c7ad891-49b3-46ae-9cbb-2a6cd1784d0e",
        "source": "34672cd9-8206-4477-b0a7-bd363d1ffb1d",
        "target": "98af4f07-f54a-44ba-afe8-3414c6a6eb66"
       },
       "selectable": false
      }
     },
     "c71a1277169b4c4f884df0108e7f738a": {
      "model_module": "jupyter-cytoscape",
      "model_module_version": "^1.3.3",
      "model_name": "NodeModel",
      "state": {
       "_model_module_version": "^1.3.3",
       "_view_module_version": "^1.3.3",
       "data": {
        "bgcolor": "red",
        "id": "26c5906d-fe0b-479f-a42c-8f516233d8ba",
        "name": "Fuel consumption of Truck transport"
       },
       "grabbable": true,
       "grabbed": false,
       "position": {
        "x": 1769.5906432748538,
        "y": 730.1587301587301
       },
       "selectable": false
      }
     },
     "c7b79a43a76649c6a5e0dc6aa34019b5": {
      "model_module": "jupyter-cytoscape",
      "model_module_version": "^1.3.3",
      "model_name": "EdgeModel",
      "state": {
       "_model_module_version": "^1.3.3",
       "_view_module_version": "^1.3.3",
       "data": {
        "id": "797144e6-b9cc-4628-b850-06b48030dbdf",
        "source": "7729dc59-56d9-467f-a977-9faaa1de01fa",
        "target": "44ac2c05-11e8-450e-983c-f5a5e5ad42fd"
       },
       "selectable": false
      }
     },
     "c8a4d6db8f664f6898b7f1bb0af54f3c": {
      "model_module": "jupyter-cytoscape",
      "model_module_version": "^1.3.3",
      "model_name": "NodeModel",
      "state": {
       "_model_module_version": "^1.3.3",
       "_view_module_version": "^1.3.3",
       "data": {
        "bgcolor": "red",
        "id": "aa816dd9-6060-4586-b6dd-557b1a23aa58",
        "name": "Bananas"
       },
       "grabbable": true,
       "grabbed": false,
       "position": {
        "x": 1769.5906432748538,
        "y": 0
       },
       "selectable": false
      }
     },
     "c8c04c6e2fe5435a9d4a8fb0deb8e5f1": {
      "model_module": "jupyter-cytoscape",
      "model_module_version": "^1.3.3",
      "model_name": "NodeModel",
      "state": {
       "_model_module_version": "^1.3.3",
       "_view_module_version": "^1.3.3",
       "data": {
        "bgcolor": "green",
        "id": "dd731b6c-adaa-4f01-8746-364d37492307",
        "name": ""
       },
       "grabbable": true,
       "grabbed": false,
       "position": {
        "x": 1539.1812865497077,
        "y": 555.5555555555555
       },
       "selectable": false
      }
     },
     "c8fa1626e05b40e189946bffe48178eb": {
      "model_module": "jupyter-cytoscape",
      "model_module_version": "^1.3.3",
      "model_name": "NodeModel",
      "state": {
       "_model_module_version": "^1.3.3",
       "_view_module_version": "^1.3.3",
       "data": {
        "bgcolor": "red",
        "id": "5d4a5c7f-29f5-475d-a8c8-90076e08ff8a",
        "name": "Fuel consumption of Truck transport"
       },
       "grabbable": true,
       "grabbed": false,
       "position": {
        "x": 1769.5906432748538,
        "y": 539.6825396825396
       },
       "selectable": false
      }
     },
     "c9124e1e374c410b84ea716dc36cbe76": {
      "model_module": "jupyter-cytoscape",
      "model_module_version": "^1.3.3",
      "model_name": "NodeModel",
      "state": {
       "_model_module_version": "^1.3.3",
       "_view_module_version": "^1.3.3",
       "data": {
        "bgcolor": "red",
        "id": "6e584d13-aea3-44a7-927a-141477dc266e",
        "name": "Sea transport"
       },
       "grabbable": true,
       "grabbed": false,
       "position": {
        "x": 1769.5906432748538,
        "y": 253.96825396825395
       },
       "selectable": false
      }
     },
     "c9b362a5905840b19a6a466dda78c80b": {
      "model_module": "jupyter-cytoscape",
      "model_module_version": "^1.3.3",
      "model_name": "EdgeModel",
      "state": {
       "_model_module_version": "^1.3.3",
       "_view_module_version": "^1.3.3",
       "data": {
        "id": "fb281f39-ed0a-4bc0-8ad1-4c85f71a0b3a",
        "source": "11291144-e8da-4391-86d9-674f23260733",
        "target": "34672cd9-8206-4477-b0a7-bd363d1ffb1d"
       },
       "selectable": false
      }
     },
     "ca900cf7e9964346a82cf605ea2894b3": {
      "model_module": "jupyter-cytoscape",
      "model_module_version": "^1.3.3",
      "model_name": "EdgeModel",
      "state": {
       "_model_module_version": "^1.3.3",
       "_view_module_version": "^1.3.3",
       "data": {
        "id": "56647352-4810-4cf2-b16f-289ed4ca8782",
        "source": "244675ff-2c06-4a24-80e0-8b993d802bb6",
        "target": "7ff858c0-77d2-434a-9b98-5562a5f347f4"
       },
       "selectable": false
      }
     },
     "ca958e330f7748e28e974d6262750a3e": {
      "model_module": "jupyter-cytoscape",
      "model_module_version": "^1.3.3",
      "model_name": "NodeModel",
      "state": {
       "_model_module_version": "^1.3.3",
       "_view_module_version": "^1.3.3",
       "data": {
        "bgcolor": "red",
        "id": "f3cc6c56-2191-4e2e-a9eb-597255f2e9ac",
        "name": "Bananas"
       },
       "grabbable": true,
       "grabbed": false,
       "position": {
        "x": 1769.5906432748538,
        "y": 31.746031746031743
       },
       "selectable": false
      }
     },
     "cabbd146886f44b8b2d8d39895dfae9e": {
      "model_module": "jupyter-cytoscape",
      "model_module_version": "^1.3.3",
      "model_name": "NodeModel",
      "state": {
       "_model_module_version": "^1.3.3",
       "_view_module_version": "^1.3.3",
       "data": {
        "bgcolor": "red",
        "id": "b3a3e878-3b7a-4a22-babe-7ddf97c44916",
        "name": "Truck transport"
       },
       "grabbable": true,
       "grabbed": false,
       "position": {
        "x": 1351.4619883040934,
        "y": 1460.3174603174602
       },
       "selectable": false
      }
     },
     "cb6de13827d94c6bb9eb504e63959861": {
      "model_module": "jupyter-cytoscape",
      "model_module_version": "^1.3.3",
      "model_name": "EdgeModel",
      "state": {
       "_model_module_version": "^1.3.3",
       "_view_module_version": "^1.3.3",
       "data": {
        "id": "129345cb-823c-403b-823a-6d7548091504",
        "source": "d9ccadbc-904f-4c7e-b35b-b55eae3a2d13",
        "target": "98eddacf-4211-4c0a-b4da-0a058710a854"
       },
       "selectable": false
      }
     },
     "cee6e6fde46b42db83a880817cec7f34": {
      "model_module": "jupyter-cytoscape",
      "model_module_version": "^1.3.3",
      "model_name": "NodeModel",
      "state": {
       "_model_module_version": "^1.3.3",
       "_view_module_version": "^1.3.3",
       "data": {
        "bgcolor": "red",
        "id": "cde92b9b-e27e-4759-ab8b-ec40d3f99984",
        "name": "Truck transport"
       },
       "grabbable": true,
       "grabbed": false,
       "position": {
        "x": 1769.5906432748538,
        "y": 1619.047619047619
       },
       "selectable": false
      }
     },
     "d023ec3812b14303abb9f05782e99b6b": {
      "model_module": "jupyter-cytoscape",
      "model_module_version": "^1.3.3",
      "model_name": "EdgeModel",
      "state": {
       "_model_module_version": "^1.3.3",
       "_view_module_version": "^1.3.3",
       "data": {
        "id": "1be04952-3ad4-4da6-8382-0d5163829dd1",
        "source": "e80e8725-b75f-485e-8837-ec6bc51f3755",
        "target": "c30f3769-c44a-42a2-8237-28b517762621"
       },
       "selectable": false
      }
     },
     "d0fe2952ca4c4bf49067f5d4fcf7fd40": {
      "model_module": "jupyter-cytoscape",
      "model_module_version": "^1.3.3",
      "model_name": "EdgeModel",
      "state": {
       "_model_module_version": "^1.3.3",
       "_view_module_version": "^1.3.3",
       "data": {
        "id": "dfc37a3e-93f3-4c7e-8aa9-afc974d33bc4",
        "source": "87f59b52-ad1b-43f1-8b67-f0e11f2f162e",
        "target": "c392e95c-4621-4e18-83de-7becb1ce7929"
       },
       "selectable": false
      }
     },
     "d12d10c6e04140e6af6308a7ec651a80": {
      "model_module": "jupyter-cytoscape",
      "model_module_version": "^1.3.3",
      "model_name": "EdgeModel",
      "state": {
       "_model_module_version": "^1.3.3",
       "_view_module_version": "^1.3.3",
       "data": {
        "id": "25d69643-bcb3-42f9-86b8-84b35d469a67",
        "source": "f5c2d15c-6613-492d-aaa1-2f44161a3853",
        "target": "d1fea51b-2dcb-4db9-be3e-5c68290f1745"
       },
       "selectable": false
      }
     },
     "d147f7bc830a46a3a5767b4883b90820": {
      "model_module": "jupyter-cytoscape",
      "model_module_version": "^1.3.3",
      "model_name": "NodeModel",
      "state": {
       "_model_module_version": "^1.3.3",
       "_view_module_version": "^1.3.3",
       "data": {
        "bgcolor": "red",
        "id": "c131b8ea-3166-47df-ba67-935291331846",
        "name": "Bananas"
       },
       "grabbable": true,
       "grabbed": false,
       "position": {
        "x": 1769.5906432748538,
        "y": 222.2222222222222
       },
       "selectable": false
      }
     },
     "d223e29fc14c4056a224e5cdf1b4986a": {
      "model_module": "jupyter-cytoscape",
      "model_module_version": "^1.3.3",
      "model_name": "NodeModel",
      "state": {
       "_model_module_version": "^1.3.3",
       "_view_module_version": "^1.3.3",
       "data": {
        "bgcolor": "red",
        "id": "72db7955-1acb-466c-ac94-fe54acdc3546",
        "name": "Lemon Juice Concentrate"
       },
       "grabbable": true,
       "grabbed": false,
       "position": {
        "x": 1769.5906432748538,
        "y": 1904.7619047619046
       },
       "selectable": false
      }
     },
     "d30846828aea48abb8c30799cdfee805": {
      "model_module": "jupyter-cytoscape",
      "model_module_version": "^1.3.3",
      "model_name": "NodeModel",
      "state": {
       "_model_module_version": "^1.3.3",
       "_view_module_version": "^1.3.3",
       "data": {
        "bgcolor": "red",
        "id": "3552e5f9-e3e7-4fc7-acd3-c6f2ecc0f6f8",
        "name": "Bananas"
       },
       "grabbable": true,
       "grabbed": false,
       "position": {
        "x": 976.0233918128655,
        "y": 142.85714285714286
       },
       "selectable": false
      }
     },
     "d411e7a2716a42dea361d3ab29219921": {
      "model_module": "@jupyter-widgets/base",
      "model_module_version": "2.0.0",
      "model_name": "LayoutModel",
      "state": {
       "width": "50%"
      }
     },
     "d521bb7df7f04b299a08b3011dd207d0": {
      "model_module": "jupyter-cytoscape",
      "model_module_version": "^1.3.3",
      "model_name": "EdgeModel",
      "state": {
       "_model_module_version": "^1.3.3",
       "_view_module_version": "^1.3.3",
       "data": {
        "id": "afdbfc91-eaf7-4184-9f3e-b8be62a44cad",
        "source": "4287441a-d8af-4f78-9ee6-cdd0ff2da2f1",
        "target": "3e65bd78-71ed-4003-bb43-bdf3e16d1aaf"
       },
       "selectable": false
      }
     },
     "d54e35d899eb4a2fa42a126b07bd9fe3": {
      "model_module": "jupyter-cytoscape",
      "model_module_version": "^1.3.3",
      "model_name": "EdgeModel",
      "state": {
       "_model_module_version": "^1.3.3",
       "_view_module_version": "^1.3.3",
       "data": {
        "id": "ad38a82e-1583-4bb5-beae-98d08ddf95ff",
        "source": "ad8f7840-f10f-44ee-933a-ce5f7d09b139",
        "target": "8eef245d-135d-49e1-bb9d-4f49fc2341b5"
       },
       "selectable": false
      }
     },
     "d57e2b9a3fd64ad8ab60e5cd21b00ab3": {
      "model_module": "jupyter-cytoscape",
      "model_module_version": "^1.3.3",
      "model_name": "EdgeModel",
      "state": {
       "_model_module_version": "^1.3.3",
       "_view_module_version": "^1.3.3",
       "data": {
        "id": "b33bc37f-bc53-4602-9738-11c319058e8f",
        "source": "556e9d15-dd82-4276-ae32-25d939af2dab",
        "target": "98af4f07-f54a-44ba-afe8-3414c6a6eb66"
       },
       "selectable": false
      }
     },
     "d59281b311074119b1212987f12d0c1f": {
      "model_module": "jupyter-cytoscape",
      "model_module_version": "^1.3.3",
      "model_name": "NodeModel",
      "state": {
       "_model_module_version": "^1.3.3",
       "_view_module_version": "^1.3.3",
       "data": {
        "bgcolor": "red",
        "id": "bb916a72-2c1a-4ebf-8281-e0599fee6350",
        "name": "Fuel consumption of Sea transport"
       },
       "grabbable": true,
       "grabbed": false,
       "position": {
        "x": 1769.5906432748538,
        "y": 761.9047619047618
       },
       "selectable": false
      }
     },
     "d63942bfad1f4d71b2f1379cbe02e860": {
      "model_module": "jupyter-cytoscape",
      "model_module_version": "^1.3.3",
      "model_name": "NodeModel",
      "state": {
       "_model_module_version": "^1.3.3",
       "_view_module_version": "^1.3.3",
       "data": {
        "bgcolor": "red",
        "id": "67e1a21d-345e-42c6-bd7a-ba27bcceed24",
        "name": "Sea transport"
       },
       "grabbable": true,
       "grabbed": false,
       "position": {
        "x": 1351.4619883040934,
        "y": 492.06349206349205
       },
       "selectable": false
      }
     },
     "d6adbb05e4e94ba289d101f34f23bc51": {
      "model_module": "jupyter-cytoscape",
      "model_module_version": "^1.3.3",
      "model_name": "EdgeModel",
      "state": {
       "_model_module_version": "^1.3.3",
       "_view_module_version": "^1.3.3",
       "data": {
        "id": "7186c53b-451e-43cf-bb83-e65248ea4b30",
        "source": "1d78e88d-6447-4aaf-9da1-1fad8a98d5b8",
        "target": "57364e0e-ffff-43b1-af92-82c58042e60b"
       },
       "selectable": false
      }
     },
     "d6c3b4fdd70e4a7f8a7f3e9530cb821f": {
      "model_module": "jupyter-cytoscape",
      "model_module_version": "^1.3.3",
      "model_name": "EdgeModel",
      "state": {
       "_model_module_version": "^1.3.3",
       "_view_module_version": "^1.3.3",
       "data": {
        "id": "96f93ba3-463c-47ce-a57d-8af2ed827df7",
        "source": "5bad1b14-d5b3-4390-a77a-72b446f7ca56",
        "target": "c131b8ea-3166-47df-ba67-935291331846"
       },
       "selectable": false
      }
     },
     "d71fc927a1d246bebce471a05ce0c32c": {
      "model_module": "jupyter-cytoscape",
      "model_module_version": "^1.3.3",
      "model_name": "EdgeModel",
      "state": {
       "_model_module_version": "^1.3.3",
       "_view_module_version": "^1.3.3",
       "data": {
        "id": "e31c1112-f396-4e05-b8d7-44e737d801fb",
        "source": "1612c5b9-fd93-45ed-9474-a1f385cd9636",
        "target": "43cdcb54-c757-406f-bc77-54bb3218c785"
       },
       "selectable": false
      }
     },
     "d72c0199c3554c829fa5ee75144215ca": {
      "model_module": "jupyter-cytoscape",
      "model_module_version": "^1.3.3",
      "model_name": "EdgeModel",
      "state": {
       "_model_module_version": "^1.3.3",
       "_view_module_version": "^1.3.3",
       "data": {
        "id": "22a5f697-4ae3-4be3-889a-11f7897c8001",
        "source": "8943f1a9-efe6-45c2-8da3-9b3fee5167a3",
        "target": "38436942-4600-46a5-838f-391cd0c695e1"
       },
       "selectable": false
      }
     },
     "d7776bf6ccbd413f833149f524570361": {
      "model_module": "jupyter-cytoscape",
      "model_module_version": "^1.3.3",
      "model_name": "EdgeModel",
      "state": {
       "_model_module_version": "^1.3.3",
       "_view_module_version": "^1.3.3",
       "data": {
        "id": "f0f80769-51ab-4b8b-b674-805c6891459f",
        "source": "d1fea51b-2dcb-4db9-be3e-5c68290f1745",
        "target": "862e7797-bb3f-47ed-a583-7fe6cb7824c5"
       },
       "selectable": false
      }
     },
     "d82bc0f09c5447fcb0a891654def5483": {
      "model_module": "jupyter-cytoscape",
      "model_module_version": "^1.3.3",
      "model_name": "NodeModel",
      "state": {
       "_model_module_version": "^1.3.3",
       "_view_module_version": "^1.3.3",
       "data": {
        "bgcolor": "red",
        "id": "7d4010d6-cf6d-4d16-ae4b-59fdc15e67a3",
        "name": "Lemon Juice Concentrate"
       },
       "grabbable": true,
       "grabbed": false,
       "position": {
        "x": 1769.5906432748538,
        "y": 1777.7777777777776
       },
       "selectable": false
      }
     },
     "d86bbd70c2de421c99b76fdc8b5fc9eb": {
      "model_module": "jupyter-cytoscape",
      "model_module_version": "^1.3.3",
      "model_name": "EdgeModel",
      "state": {
       "_model_module_version": "^1.3.3",
       "_view_module_version": "^1.3.3",
       "data": {
        "id": "f5af4061-3137-4d7d-bd7c-e7cc8bd98e26",
        "source": "7729dc59-56d9-467f-a977-9faaa1de01fa",
        "target": "853857ca-4b83-4fd7-b1cd-1edcfcdfff50"
       },
       "selectable": false
      }
     },
     "d892dcd0326b4450a7c065fb12af9361": {
      "model_module": "jupyter-cytoscape",
      "model_module_version": "^1.3.3",
      "model_name": "EdgeModel",
      "state": {
       "_model_module_version": "^1.3.3",
       "_view_module_version": "^1.3.3",
       "data": {
        "id": "a5a75576-600e-4b13-afbc-026a616c3601",
        "source": "cde92b9b-e27e-4759-ab8b-ec40d3f99984",
        "target": "98af4f07-f54a-44ba-afe8-3414c6a6eb66"
       },
       "selectable": false
      }
     },
     "d8ba7c95f8dd4578807b32437770109b": {
      "model_module": "jupyter-cytoscape",
      "model_module_version": "^1.3.3",
      "model_name": "EdgeModel",
      "state": {
       "_model_module_version": "^1.3.3",
       "_view_module_version": "^1.3.3",
       "data": {
        "id": "6f894ede-59f8-4edf-abc3-1b034befd13e",
        "source": "e80e8725-b75f-485e-8837-ec6bc51f3755",
        "target": "7bf548de-2067-4027-942b-e3cbd379c86a"
       },
       "selectable": false
      }
     },
     "d8ed5c5c653445c696d1fe4ab62bb1e2": {
      "model_module": "jupyter-cytoscape",
      "model_module_version": "^1.3.3",
      "model_name": "NodeModel",
      "state": {
       "_model_module_version": "^1.3.3",
       "_view_module_version": "^1.3.3",
       "data": {
        "bgcolor": "green",
        "id": "a9e7ce85-f517-488a-bb67-cc84284f4b1c",
        "name": ""
       },
       "grabbable": true,
       "grabbed": false,
       "position": {
        "x": 1539.1812865497077,
        "y": 619.047619047619
       },
       "selectable": false
      }
     },
     "d992b1b90c97434db6e1be40ef78271e": {
      "model_module": "jupyter-cytoscape",
      "model_module_version": "^1.3.3",
      "model_name": "EdgeModel",
      "state": {
       "_model_module_version": "^1.3.3",
       "_view_module_version": "^1.3.3",
       "data": {
        "id": "d85dd604-5b74-402e-86ff-9bfb59761c37",
        "source": "a77f91ae-af31-4403-8f91-38c7b43b89f1",
        "target": "31ca3463-924d-4fb2-9c84-5180b5117c2a"
       },
       "selectable": false
      }
     },
     "d9f8e8936bb84c3fa8d82181ca632f8a": {
      "model_module": "jupyter-cytoscape",
      "model_module_version": "^1.3.3",
      "model_name": "EdgeModel",
      "state": {
       "_model_module_version": "^1.3.3",
       "_view_module_version": "^1.3.3",
       "data": {
        "id": "fd9df46a-8e61-4baf-854a-369b409c221a",
        "source": "780ae29b-0cb6-41b6-9b56-41309926b2b2",
        "target": "e1ea24b7-738a-4180-ad1d-0c55e89f74f8"
       },
       "selectable": false
      }
     },
     "da9d622476e9435ea9abefffd1620d5b": {
      "model_module": "jupyter-cytoscape",
      "model_module_version": "^1.3.3",
      "model_name": "NodeModel",
      "state": {
       "_model_module_version": "^1.3.3",
       "_view_module_version": "^1.3.3",
       "data": {
        "bgcolor": "green",
        "id": "ddab397b-287d-4a58-baa4-72844e67c562",
        "name": ""
       },
       "grabbable": true,
       "grabbed": false,
       "position": {
        "x": 788.3040935672515,
        "y": 873.015873015873
       },
       "selectable": false
      }
     },
     "db61c6e8812845db844071ebdb4e855b": {
      "model_module": "jupyter-cytoscape",
      "model_module_version": "^1.3.3",
      "model_name": "EdgeModel",
      "state": {
       "_model_module_version": "^1.3.3",
       "_view_module_version": "^1.3.3",
       "data": {
        "id": "8340ce95-2f29-4369-a821-00b8b53f34c4",
        "source": "69cd328a-8426-42cf-a32f-d9a3b23a9141",
        "target": "aa816dd9-6060-4586-b6dd-557b1a23aa58"
       },
       "selectable": false
      }
     },
     "db913b7d87bd4256b73e66a9fe4a69a7": {
      "model_module": "jupyter-cytoscape",
      "model_module_version": "^1.3.3",
      "model_name": "EdgeModel",
      "state": {
       "_model_module_version": "^1.3.3",
       "_view_module_version": "^1.3.3",
       "data": {
        "id": "3cbdf9a7-3a37-4dc6-98dd-02227ad883d6",
        "source": "00bd8a15-cae8-40ca-9ed4-7a5e9cb0ccba",
        "target": "87f59b52-ad1b-43f1-8b67-f0e11f2f162e"
       },
       "selectable": false
      }
     },
     "db9164a760514ab5aff45d0b9d6c457d": {
      "model_module": "jupyter-cytoscape",
      "model_module_version": "^1.3.3",
      "model_name": "EdgeModel",
      "state": {
       "_model_module_version": "^1.3.3",
       "_view_module_version": "^1.3.3",
       "data": {
        "id": "b5da516f-011f-47bd-928b-5be331028a86",
        "source": "062d6730-4c34-43a2-8806-2ae5feb77b8f",
        "target": "1bc9239c-34db-4990-9600-25baa948aadd"
       },
       "selectable": false
      }
     },
     "dbbcf67c6daf407e8b133bf4a230de4b": {
      "model_module": "jupyter-cytoscape",
      "model_module_version": "^1.3.3",
      "model_name": "EdgeModel",
      "state": {
       "_model_module_version": "^1.3.3",
       "_view_module_version": "^1.3.3",
       "data": {
        "id": "965c41ae-de90-4ff9-9539-9fd8168fc5fa",
        "source": "06fc1170-7705-442a-aeab-fa577711c1e0",
        "target": "578dccf9-5238-4121-98bd-de24214cc787"
       },
       "selectable": false
      }
     },
     "dd9e0a45f2564f8e8ffe172337d1cedd": {
      "model_module": "jupyter-cytoscape",
      "model_module_version": "^1.3.3",
      "model_name": "EdgeModel",
      "state": {
       "_model_module_version": "^1.3.3",
       "_view_module_version": "^1.3.3",
       "data": {
        "id": "5e7d65d2-215d-403a-911f-e66c9aaa8a29",
        "source": "7570baa7-0339-4d2e-a292-ee8fcc468720",
        "target": "f5c2d15c-6613-492d-aaa1-2f44161a3853"
       },
       "selectable": false
      }
     },
     "de5305b674c3426490043a1fb9956c69": {
      "model_module": "jupyter-cytoscape",
      "model_module_version": "^1.3.3",
      "model_name": "NodeModel",
      "state": {
       "_model_module_version": "^1.3.3",
       "_view_module_version": "^1.3.3",
       "data": {
        "bgcolor": "red",
        "id": "04db2af3-45c3-4214-8918-c0dd943f7ff4",
        "name": "Fuel consumption of Sea transport"
       },
       "grabbable": true,
       "grabbed": false,
       "position": {
        "x": 1769.5906432748538,
        "y": 857.1428571428571
       },
       "selectable": false
      }
     },
     "de980e6ea5c94ce3bd4aaed8e4208a5c": {
      "model_module": "jupyter-cytoscape",
      "model_module_version": "^1.3.3",
      "model_name": "EdgeModel",
      "state": {
       "_model_module_version": "^1.3.3",
       "_view_module_version": "^1.3.3",
       "data": {
        "id": "8cbc42b3-de5e-48cd-9564-9a7e005f5f66",
        "source": "2a5a838f-fd4d-4f7d-8b4f-c7bc0da2ba6e",
        "target": "c7be1cb6-70df-45d2-b2d4-c3ddbfeb5b64"
       },
       "selectable": false
      }
     },
     "df5a56e72e1845a4a52fdc1518ba45c6": {
      "model_module": "jupyter-cytoscape",
      "model_module_version": "^1.3.3",
      "model_name": "EdgeModel",
      "state": {
       "_model_module_version": "^1.3.3",
       "_view_module_version": "^1.3.3",
       "data": {
        "id": "42801048-a8e5-4e95-a5f6-f3f97f554ee5",
        "source": "71b8be09-9ad7-4893-bbec-6cdd1f7b7872",
        "target": "70491afd-aa28-45c5-a039-4bc1812d32c5"
       },
       "selectable": false
      }
     },
     "dfd69a135ff7402685abde5aef4f075b": {
      "model_module": "jupyter-cytoscape",
      "model_module_version": "^1.3.3",
      "model_name": "NodeModel",
      "state": {
       "_model_module_version": "^1.3.3",
       "_view_module_version": "^1.3.3",
       "data": {
        "bgcolor": "green",
        "id": "69cd328a-8426-42cf-a32f-d9a3b23a9141",
        "name": ""
       },
       "grabbable": true,
       "grabbed": false,
       "position": {
        "x": 1539.1812865497077,
        "y": 0
       },
       "selectable": false
      }
     },
     "e0f612184b4f460fa3c84101f7f6fb25": {
      "model_module": "@jupyter-widgets/controls",
      "model_module_version": "2.0.0",
      "model_name": "HTMLModel",
      "state": {
       "layout": "IPY_MODEL_d411e7a2716a42dea361d3ab29219921",
       "style": "IPY_MODEL_94708a83be8748fc901b8ad12d4be3ec",
       "value": "<p><b>characterization:</b></p><div style=\"max-height:120px;overflow-y:auto;\">[{'data': {'amount_for_root_node': 1.5691735234198216e-06, 'amount_for_local_node': 0.0005253930704754757, 'method': 'GWP100', 'unit': 'kg CO2-eq'}}]</div><p><b>environmental_flows:</b></p><div style=\"max-height:120px;overflow-y:auto;\">[{'data': {'fff16d6c-4af0-4169-b7c1-2d9b7771a4b6': 1.5916860496686042e-10, 'ffe2fb29-e78c-49f1-be5e-3bb91a1cc171': 8.954074462343735e-09, 'ffa6f525-f05a-4b85-9ab4-2302720ef35d': 2.1385997578701514e-12, 'ff985965-a7bf-4226-84da-e711d3e5481a': 8.118294462434373e-10, 'ff734b56-6d6b-400a-bd48-fcf27d164815': 3.4900356834600624e-09, 'ff26aecb-3657-4b18-8024-227db458d6d4': 1.4369242043515244e-09, 'ff16fef9-1939-43ce-b983-0ff8e4a2a627': 8.450056873297359e-14, 'ff08ff87-cfa5-4e56-ba40-669f7f7398f6': 4.9698750471138704e-08, 'ff05db8a-c614-490a-b768-553204de73db': 2.095106661691697e-07, 'fef1532d-b3f0-4b2b-abbe-3c836b4bd201': 1.206106176597703e-10, 'fee35593-03ac-43a0-a634-a0d19e88bfd5': 2.9867642496556342e-09, 'feddc35c-d686-4929-b726-8e4feabfbccb': 1.4987781665306693e-12, 'feb1acba-08ea-4d5a-8cc7-06392ad2399b': 2.396561725260527e-15, 'feabbda8-2ce2-4729-83b9-3be05faae9db': 2.75399720467184e-08, 'fe86651d-1ad0-40e5-8c1a-8226c8c39b5d': 2.3785140586099111e-07, 'fe248fb2-ed45-496c-837b-bdb5c52a050e': 3.972097673709615e-26, 'fdfd0b48-793f-4472-ac87-2b6b0c34be5a': 5.0391411095489284e-11, 'fdcbd3da-11af-47b8-9fc1-e6c82213d880': 1.198907543126972e-06, 'fdc86efe-346f-49ea-acfc-3f09de295e3a': 4.903842989593059e-13, 'fd869093-60e3-417a-a089-dc3bc2d6d471': 2.2882139433432263e-09, 'fd35f25b-2672-4314-8983-eed9938ae649': 3.713869649997238e-11, 'fd2efae4-f848-4a04-9ba6-bdb24da3fc3e': 9.759146706289059e-08, 'fd1fb6ab-a1bc-42fd-baf7-d22a083d0acf': 1.1157924238146415e-08, 'fd023bed-7e81-44f1-aab5-83b1ecda7fc6': 2.118251639739984e-18, 'fcdb1f40-4532-4206-a415-30ca629152ef': 4.2503659818093857e-07, 'fccf69b1-25a3-4ac0-b2b7-b33c827353fc': 2.8776856882631524e-12, 'fc6f1d1e-6082-4fbd-9bdb-4e92610ea4c2': 1.7310542933072653e-08, 'fc353550-3ac7-43b7-ad64-d597903b67e2': 1.8990007067023326e-17, 'fbfd0d87-83b8-4682-9a6e-00e09c9d7f73': 3.6431086823016736e-09, 'fbdfefa8-35ed-4fe7-854d-6ba20c27b659': 1.4029309343149092e-11, 'fbcbf261-0b99-4a67-b208-e326494eec01': 3.2741440980192356e-12, 'fbc129f7-710b-40d7-853a-f9908be5cb29': 4.573113444386189e-11, 'fb3b58d7-1036-455c-9475-b6e99e5c91b1': 8.102023479024808e-13, 'fb37af76-6178-44c5-bf1d-f09d207063cb': 1.4367814104106426e-11, 'faf402b2-fd9f-4baa-9d0f-97ac517852a6': 1.240115462502833e-09, 'fadba5be-cc61-4f6b-9372-d8d34902797a': 3.230922008884474e-11, 'fac6a041-cf64-48cf-87c2-a1ab5ae190d4': 9.114467554109172e-14, 'fac09ca1-bf8d-424f-98b9-80fe89ff2100': 2.0190891291243998e-14, 'fa7d006d-090e-4615-abbb-24d653ecf3ed': 9.379769122646659e-15, 'fa6b7c1c-b4aa-46eb-8194-d0f497f4caf7': 8.838294323293056e-09, 'fa61dca3-721b-4da2-b025-5eb5ffd611d4': 1.0355919432158184e-05, 'fa1fce15-7edc-4fdc-bc6f-e2132603a98f': 2.200249462162709e-10, 'f9fe1b28-1717-42d3-a663-0754e6d73e08': 2.035721415492283e-14, 'f9c32792-2b66-4985-8150-d4d2f00a93e2': 3.220350742291035e-15, 'f9baf431-1a41-4f2e-bd4d-c373bf32cd16': 2.4329821033759293e-14, 'f99dbb7d-1c41-42db-b359-81ac70375065': 2.2874792739927474e-10, 'f99c2426-0ebb-4a86-bcd2-f6d4006c0e3e': 4.6844202543691985e-09, 'f97cd0fc-b78b-4e5c-b329-91bc3da3cd2d': 4.005934754123316e-15, 'f91358b0-7aab-4e42-93ca-579cbd6c1f25': 5.887397605627348e-11, 'f8ea1100-c45e-46e4-bd38-edbebeb13c36': 1.2983713830766424e-12, 'f86f7c40-de96-4e32-9dcd-5b559a5c1fbc': 7.720045838835487e-14, 'f86987b7-15f4-40d9-a5e3-d1841c321a10': 9.584834456483934e-06, 'f7e1507f-228f-4be7-acf3-af019904ab7b': 1.4504218133540326e-11, 'f7dda4c2-1428-472f-8e75-af6cb84bb278': 7.785502650557339e-16, 'f7b6385f-d55a-4f9c-b48d-116876c83416': 2.22441233706508e-10, 'f7ae3ca8-a39c-4d52-b709-0a56dffe9643': 1.1457269297133522e-13, 'f7a465f4-17fc-41cf-baf7-4f19e5c7fcb2': 4.670318932537068e-15, 'f7954811-3244-4067-887a-827ebe897595': 7.163530397730346e-12, 'f752996c-97d2-4584-b4c3-0dcc13486283': 3.5301427650120616e-16, 'f73995d5-b495-43bb-855d-03b8c1decebf': 5.365087058505341e-19, 'f7063757-deff-444a-95fa-7034215db4ba': 7.557072135603584e-12, 'f6da18f1-5687-460c-898b-425561ee6a09': 1.1451377213686874e-06, 'f6c7d2fc-6aec-4d07-9c15-5ea72b272659': 3.02051797583526e-17, 'f6c78ff0-45a9-4058-8679-6ca38f3aa6e8': 1.512895684958466e-10, 'f6b6d0c4-5aa1-4fa5-86e3-0b4453e6cadb': 5.3348018609718574e-12, 'f6920d68-58cb-41cf-930f-50ffb742eb94': 6.042024681641639e-06, 'f5ba9cab-e980-4f7b-ada2-17dadf4d58cb': 4.660747675379376e-11, 'f5b36528-cac8-484d-bd8b-671059058512': 1.0035731179558059e-10, 'f5a6cef8-a4af-4229-84a6-5082a6a7b2ca': 4.066463920854497e-23, 'f583c845-f3b6-4bd6-85f8-4b8e890031f1': 1.883159550546358e-17, 'f56103fe-281f-485b-9b2f-54400205a702': 0.00015412043755196365, 'f55ebb1d-053f-4441-ba7c-e211d3a77891': 2.876423866748605e-17, 'f55830bd-be2f-431f-8ada-a3d352ed62d6': 4.3799246626615145e-13, 'f514e6b0-5996-49b7-875d-b51c024a7abf': 3.7334052942833377e-14, 'f4eebb99-4bfd-4000-9fec-144104283534': 1.084746581110321e-11, 'f4db4705-2d0a-4f89-abae-f11958fdf87e': 1.4368897517518014e-10, 'f4abcefb-e298-4c2a-90e1-655680d5ba70': 5.89283853010056e-19, 'f4a18b62-0730-4fe6-9c79-975a66d0fb4c': 1.5163569546577788e-06, 'f49ebc7b-38d8-4c52-ad73-a3bb8ae3ffb5': 1.1280421785749566e-19, 'f487cec1-b9a4-4b24-9bbc-c3aec37999d9': 6.486755913430485e-08, 'f45c98a0-cabb-46ce-b752-2653dc4c1844': 1.2718194115325145e-11, 'f437bc90-29bd-4436-898c-f28ee2c1123c': 2.0774028068502834e-09, 'f41dc000-ad5c-4dde-b792-ff81ebebc319': 1.7029641948282601e-06, 'f3f70211-fa4b-4d44-b607-28bf2f71db42': 3.016017068965645e-07, 'f3a6e36b-702c-46d6-8402-3b24b5cb3d93': 1.816420991318738e-07, 'f3534f17-ff1d-4f0e-8970-198fdbf2a149': 1.9507829144725047e-17, 'f35297f6-7d7e-4dca-9179-def2d862f9b1': 3.1969885266714804e-11, 'f31bd0e1-15bd-44f0-9976-eb62d7ea9095': 1.929469493845766e-15, 'f30f7079-820e-494f-8d85-1d69b397d09c': 5.746413436489244e-08, 'f2ec8004-3df4-4f32-8057-4c3df3669c9d': 1.607315628618695e-12, 'f2853ca1-033e-4131-bf1d-756ae92a0b3a': 1.62942760433745e-17, 'f27e0fc4-5cfe-4874-8a62-739368ad571b': 1.0720480342769216e-11, 'f267085f-033f-4fd2-8cfc-47a3fffbdc97': 1.6280300036117184e-13, 'f200d8fe-8ba2-4968-9fad-2cdd29a530df': 2.2683171454793936e-09, 'f1dbb3da-e7c6-4020-916c-c52a1763e4c3': 1.6643084474886528e-07, 'f1903248-bad9-4636-8e89-7d100036976f': 6.042024314930256e-19, 'f17f04c6-99b5-44d8-b22a-20504894b2f1': 1.5486433745807498e-10, 'f16c1132-d455-41f9-903b-fd4846cdcf46': 2.754768030881463e-13, 'f117005d-e322-428d-9c1e-1a8730688222': 3.580239161165027e-10, 'f116b799-158e-4fe6-93a6-c452a61c33fb': 3.1778010164916416e-19, 'f0c09fe1-b86a-4509-9c2d-48af19016977': 6.411118948956415e-11, 'f0af2024-cdce-4513-9276-4155abb67e05': 1.7417132510795406e-14, 'f0abfb3d-9405-4feb-bf49-bc9e80f625e0': 2.2624686837700263e-14, 'f09b4604-34e2-408a-aec0-b5eba0cbcb96': 4.669066681465056e-13, 'f087b6a2-5e11-4c11-ab48-4a05f2903fa4': 7.767715517850525e-29, 'f05533f2-c3d8-4b4a-b578-3a70382bcfa1': 3.1905049503870535e-14, 'f0288c04-2549-434c-b640-13ade594bc30': 1.7170398219814165e-14, 'f006447e-946d-41f4-bd22-ad049a65ec41': 3.647518077404183e-13, 'f001266e-81c6-48d2-bf70-95451f967eac': 8.292243250691155e-20, 'efa48e4e-62f7-45d1-b3d8-7710c04dea1a': 1.3563510984122284e-14, 'ef9aadd9-6048-45f7-bd9a-b30e3a24f77c': 2.3222427460637425e-13, 'ef93a524-61e0-4cd4-900c-b05229fec99b': 7.232377121902171e-10, 'ef872f37-7b23-4a0a-a0b1-03e2134f346f': 5.856344754463325e-11, 'ef784ce6-61dd-4d32-9905-53e4d37270b4': 0.0001684478306574671, 'ef5cb886-8108-4fad-bdd9-44d60d231159': 4.361883946433756e-26, 'ef420805-9038-4592-bd3b-ea1c302933d8': 1.577841270104129e-14, 'eef176f6-6dd8-4a39-8fca-b30caa1fbfe5': 1.1024488712819277e-09, 'eeeda9c8-47b4-4d40-a737-ecdc7e378f07': 1.4706485216989208e-10, 'eecc17bb-66c1-4b42-b5ec-b9b9387539e9': 1.090812555119828e-06, 'ee887a96-582c-4d5a-a3dc-51686e2d9005': 2.2280717990813922e-10, 'ee86b498-7732-4913-b43d-5517d2008e76': 1.0842567130038646e-10, 'ee7e6997-39e5-419c-b9e4-c701d6193571': 1.3321614236659594e-13, 'ee72d777-773c-4824-992a-c7395f9b7dfb': 4.245236101666701e-18, 'ee48f110-dce3-4c6e-abe1-1212687d8d9b': 2.7705331102123553e-10, 'ee3b09fa-ff31-495d-8661-474ac14ad6ce': 1.179045370288894e-14, 'ede71545-0763-48ad-951a-12da86eb6e93': 6.134641234291853e-14, 'ed97cf53-040d-454c-b21a-40e087919efb': 4.576341482070854e-13, 'ed7f4536-f71f-4521-b44c-e89dde83291a': 2.213918187791287e-09, 'ed209594-be29-4c2c-a996-878d143e9e2e': 2.0525171131808882e-07, 'ecec54ed-dd1f-450b-baa6-88688759239c': 3.820480365783364e-14, 'ecb3c107-cb26-44a3-b25d-b9badb6f87cc': 1.9216485932806114e-06, 'ec8d5c88-c11c-4286-b2d3-7ae46f899cd6': 1.525582366928848e-12, 'ec62278e-ad84-40a3-b087-1b906c7d1df5': 8.407743753795158e-13, 'ec5a09f6-7af8-481c-b125-9e3c7736782b': 4.348855737838171e-09, 'ec516002-5d5b-41e5-ae56-bbbc41a7a7db': 2.610524847717622e-15, 'ec443fa9-1847-46dc-be51-42c4bffc4ed3': 8.548594502380324e-15, 'ec2accb9-a46d-4468-a961-8c70cfe613b6': 3.544729314494237e-12, 'ec15762b-c726-4014-8097-284e4e060f22': 5.577799011817116e-11, 'ec061f76-3b76-4abe-8266-0e4464efbd3f': 3.5381945114847542e-09, 'ebef0449-2229-4770-a9d2-6412b2d38baa': 8.402677527600392e-11, 'ebb72082-5d86-486e-b3fb-c1f073f3eb21': 5.296727542523252e-10, 'ebb0e3b8-b4ac-4d82-87d5-11d58b083deb': 2.349705770205287e-14, 'ebb0d5ac-9ccd-4713-9bc9-b0ecd39993ae': 0.00014503994828867154, 'eba2ba37-048d-454b-be08-66f634f33891': 1.118364025002874e-15, 'eb8b9e8d-0984-46e7-adca-c497b1856301': 2.103788360139363e-15, 'eae0bec2-5905-42d0-9c50-1fb58c29cc65': 5.4730922562555915e-09, 'eabd4e20-178c-4f20-a476-78200e6cfd13': 4.418451461738827e-06, 'ea833fdc-c0ed-4795-ad9f-76a1784aae63': 5.311363256316896e-11, 'ea709067-8d9a-4e48-abfd-37dd85b87c77': 1.9788893814280295e-07, 'ea36fbd6-afee-4229-b231-9b73bf563b08': 2.473431876014721e-09, 'ea32b76d-051e-4b65-b5e4-0c0e205d82ee': 9.217369384915004e-21, 'e9eb83fa-e667-402e-a588-2c47daab12db': 7.496966952651602e-12, 'e9adc73c-d6f7-4aaf-8acf-9c0b5bae88aa': 5.060459913979672e-15, 'e9888456-e55d-470a-a8d2-9bdcd94daac7': 2.7866778471653105e-15, 'e96acbd5-9b9c-4301-9928-d39495d713ac': 1.6619715546948794e-24, 'e95eea72-7a10-49d8-9300-e82329a1f359': 7.928244689375129e-08, 'e917a26c-fd34-414b-a618-ebd004fe91b4': 2.3771516728961183e-15, 'e8cbdd5f-c574-46c3-9101-d54f5c9ad616': 4.744150232398706e-30, 'e8b87b96-41ee-4d3f-972c-cac853fe188d': 7.51565730074941e-11, 'e8b5d16c-7a20-4cb6-9991-3f8d55c6e14d': 4.288380957175781e-11, 'e83ade5e-d3cc-4a15-99d0-0b5c9251f77e': 2.1656803205129285e-14, 'e82de3d4-4361-4f96-903e-df0b285d0ab6': 1.9060612165596946e-12, 'e81e5ac8-83e4-44b8-a932-756964aeb30d': 5.513352857639675e-17, 'e81a82ec-2310-48b9-9290-fc65a8d177f4': 5.795978843249589e-20, 'e808dd1a-ecfe-4660-9572-005f0db92b8b': 2.0782142853152318e-12, 'e7e6eb60-860b-4a02-9167-a51a583934f7': 7.203311135475618e-08, 'e7c48460-4e9f-4479-a5b5-e5da38dbef1c': 1.0811339183268484e-09, 'e79f7539-ea21-4a8e-b7b2-1766284da309': 4.399125700234725e-16, 'e794dfe8-a248-4821-8caa-4061f2997001': 1.0112845209923631e-14, 'e771ff75-1591-494f-80ad-cce0cbf21449': 8.726104495399257e-12, 'e76598da-07e7-4a93-8c81-d89bb596f177': 1.666732033144631e-11, 'e7353b20-6e62-4b75-9544-66a3628c39cd': 7.529435123752366e-10, 'e70f1e3a-4e54-47b8-837b-03f0e21692f2': 3.7231694064261994e-11, 'e67bc6ec-f4e7-4d0f-aaae-1bd4c518eb0b': 1.078247899637318e-13, 'e65bd0eb-b74b-4453-b818-a41daef88ee6': 3.618951165705179e-11, 'e64a80ad-df74-4645-adaf-038c553a841d': 3.749349652147856e-15, 'e62f12f1-0e95-4bcd-ade4-cc3959975af1': 5.484203112395849e-09, 'e60dcb6c-1dcc-4f82-9ad6-03df94c60052': 5.474311476724806e-10, 'e601ea52-509f-4278-8b64-e23c67cdf35a': 2.6366214576199734e-14, 'e5fb40b2-283e-4b41-badf-10bae87fbf41': 4.741140504112422e-09, 'e5e4d552-7d2a-4ca7-a631-f5d37bcd6811': 2.7890455291772457e-06, 'e5cec733-c036-4c52-91e0-813332f090c2': 4.478135559820244e-11, 'e5ca4625-d364-4675-ac0b-805598d23104': 6.935480374064128e-12, 'e5a7138e-ab96-4209-a942-50fb911a7046': 1.1721153798859537e-09, 'e59c2dd2-7bce-4b84-8798-21ac18ae83f7': 1.1081071761345813e-13, 'e58e6d3a-ecf3-4c18-9ee7-3ba55453424a': 3.92372272426009e-18, 'e58b3400-4b1b-4155-b286-2ccd538a2147': 7.651107744684863e-07, 'e568c88c-d179-457d-b013-b96cee0606f9': 7.575375705428722e-15, 'e53b686e-b2d1-456d-993a-6dad65cde5d3': 6.696561611077745e-18, 'e538e6c9-134d-425a-b5ad-a5487235b025': 5.976097506088992e-11, 'e50a1285-25c3-4442-a769-6b658335e706': 6.518353131655004e-22, 'e4cd8673-7652-44f7-977f-8bdecbaa1232': 5.251130912235633e-12, 'e4abba51-3910-466e-b1bf-bb089c7ff5ea': 3.0784688007217985e-08, 'e40c6eba-0456-46c3-817f-83ebcedd5696': 1.0714120088772968e-16, 'e3dab623-d907-4d27-a8e1-403688692b37': 2.2928784857945942e-11, 'e3c1f5dd-7110-486d-8df1-d82b72905a7c': 5.930050795530984e-14, 'e3933872-ab87-42d5-b47e-cd2f80847aaf': 6.637364795870459e-17, 'e364ba45-4e57-40a4-8e12-f3306f0dc3bf': 8.996757848324178e-07, 'e32b25e8-cc8f-468f-8284-9fb4c28afe32': 5.638713137638726e-12, 'e2febadf-b7c8-44c0-b47a-5db1740b5950': 5.3161540238985144e-14, 'e2d77cb1-7561-4ccd-b346-02714853b2ed': 1.1974781886511736e-10, 'e28f6615-1418-4a49-a3ca-62a805f0e479': 5.031694445454281e-11, 'e222902b-d69c-4b86-8d55-fa40faf13e37': 7.040675138892328e-09, 'e206e23b-000b-4063-a638-fee7ff3ff2d3': 2.4986480658141836e-06, 'e1e91482-468f-444a-b0a8-d763841c933b': 2.7039072457980083e-11, 'e1d32476-ee1f-4445-8374-f2a475e4545e': 3.557407287490964e-11, 'e1cd5cfb-4521-4cbc-823d-bf0a0ddf6549': 1.9448692865933094e-27, 'e16f50b4-313b-4ab2-baa8-033f4833c3d1': 1.806432545847494e-10, 'e15a68f6-ef4e-4724-967e-8b82da4ca35b': 4.669712067978169e-24, 'e15156eb-386d-4fac-8f08-0fa3cae45184': 2.650466718925194e-05, 'e14fc2dd-6f62-4066-bb69-171d0c79bf65': 6.480249591273451e-05, 'e14b403b-b538-4e42-8074-fe5bb59c01dc': 1.2136727007576892e-10, 'e118e161-024b-4a7b-a7cd-8a62b8bf1402': 2.6035487694932673e-18, 'e10292e8-c920-473c-bef3-add431637793': 8.46744364394558e-11, 'e0e06343-3372-4bc1-8981-dafb04c06f40': 1.7969999083137531e-10, 'e0b1f888-96e9-465a-a9a5-02b4271120e9': 1.9366054817041088e-11, 'e0ae49ce-2504-414b-8f63-a19530ab2f7d': 4.278459996159125e-11, 'e047bcc3-6d55-4300-8d65-93280afdb037': 8.347944020959483e-10, 'e035f1b1-5e2c-4963-acc4-15d75c15bd6b': 2.4185309286752162e-11, 'e0196c0b-f079-4af4-9937-13af9124bf59': 5.608854163649364e-13, 'dfdaeb83-a472-469d-abb6-9b023a33633c': 7.040675138892328e-09, 'dfcaff72-718e-4497-8837-565e042720a8': 2.4683826600285663e-11, 'dfbc51e6-ad32-4469-8eaf-da60272134da': 5.288981403894538e-09, 'dfab94c1-ad44-4f5a-91d8-a5bed1a9a98f': 3.703233673798225e-17, 'df672ab6-f7ef-41a5-9f1a-0956ccca278b': 2.070031121721252e-09, 'df47e4d8-2ff6-4081-9bbe-7aa805348619': 1.041523293309203e-09, 'df381339-cb6a-4ebb-bb53-9af6850a60ff': 2.067962948203689e-33, 'df2cc146-92e8-49ae-9548-5770873d2629': 4.935667623669306e-10, 'df245573-65d9-44da-87c1-0f99b2d75af8': 2.4843915598165734e-11, 'df123d04-11eb-4307-95ea-8ff40ddb6e24': 3.1142207015524187e-08, 'df11f4ae-d343-4bfe-8cab-dea822c8cf7b': 1.2754200082667748e-12, 'def9cda4-ece5-4503-92de-0c31449d66c9': 8.0419530855709e-20, 'def7c310-5d3e-4071-ad4f-d41602f664d3': 8.04338587452041e-09, 'def5d3a2-b89f-48f3-9339-18df92fe191d': 0.0022693721497305157, 'dec6b169-0d66-4bd0-a568-f3db0f0d9381': 4.292266462796312e-05, 'de6c390d-df50-4df1-b0b3-c3ed0017b4f3': 3.111062481767374e-21, 'de4e3bc1-b92e-475b-8fb4-3b3b15a10ff1': 1.7841023631371377e-10, 'de35841a-0174-4424-ba9f-ba89c84c10a8': 4.868080598461545e-16, 'de1be628-03b3-4367-8507-8ab722d977d1': 6.227491560399068e-13, 'ddaad0d1-f0a3-4216-9eea-117dac56648d': 0.013880425810911484, 'dd9514f9-3da9-42e0-b98d-4409f780dd76': 2.048067459230234e-11, 'dd8b8ac2-0975-4b9b-8816-4a6b193ae72d': 2.024951562703888e-11, 'dd758bc0-ba4b-49c7-8561-dcd88967bd6a': 9.56813499942552e-14, 'dd4d747f-6a7d-441c-b992-4bd80d21ea86': 3.015002198540968e-12, 'dd4b09c3-da0d-4bd1-b3b9-73c9c1a322d4': 2.361597558518197e-21, 'dd403e3b-ea8f-435d-bf48-bd39001ae5cb': 5.345947781310274e-07, 'dd3cd7d3-cdee-4421-b2b5-3b2297a3b68f': 5.521555596279609e-10, 'dd2773e0-d899-4df3-bb28-c74b7a9f1c32': 1.1540676896230359e-13, 'dcf1ac13-348e-448e-9322-7efe4d60e72f': 3.0421364501221057e-13, 'dca64bf7-2525-44e5-8cc1-524725930a55': 1.2191128368677895e-12, 'dca522fb-9b43-48bb-830d-f282cb8795c8': 1.249956242272277e-17, 'dc8d1d1c-138b-4f43-9742-cb22e74d2b15': 1.862203062710944e-15, 'dc840546-8832-4455-8c0d-22bddc256da5': 3.0741107984750715e-09, 'dc5ce87a-c348-4697-bdb3-42f4f0cd2f0f': 1.3806631646208527e-16, 'dc1aada4-2ccf-4d51-8d7e-f48d2f5091ad': 5.067234693827303e-11, 'dbf63984-95ed-4cbd-91d5-30136384a669': 4.3633672554757575e-15, 'dbce879b-2cf2-4fcf-bdb1-ceb898c73643': 6.092111430365956e-10, 'dbcad3ce-664b-429d-bdd8-e31d14ae797a': 4.098194153844361e-14, 'dbb57d76-03fb-4bfe-b600-7146018e63c9': 9.599217714092725e-08, 'db4b25d5-1197-4868-92ed-93091f7d9dbb': 9.790440709244432e-15, 'db1aaf5a-6187-47c7-9208-0efa79e9a378': 2.6370433695528543e-11, 'dad342cf-1eac-4f54-bb07-9c6745e3f9db': 4.5009996799440505e-08, 'daca1c17-61fd-4642-8d1f-b647433f0af9': 4.1322053043924276e-10, 'daae7e83-fb23-468f-bba5-6823ad2e89ac': 1.0187307374393856e-08, 'daa14cb5-78ba-43f1-b73b-b6925277b291': 4.3436897108020995e-13, 'da96fd3b-9ad5-41eb-a96f-f98cc587750a': 4.408734130795512e-10, 'da562bea-f577-4e95-9d5d-c6ea6f7094a4': 2.4727030971130986e-11, 'da457689-c58b-4455-bd55-8045fc574da0': 2.112946214909868e-14, 'da1a489d-3277-423f-9629-9ec6cb039710': 2.847528637482117e-10, 'd9db6885-050a-4402-8245-73c69aff2502': 1.8003998719755367e-07, 'd9adbbec-6f3e-4ad3-a99b-4ca39e5b8396': 3.289817693066001e-20, 'd9a67b1f-5fcb-4744-8cd1-36a7fa6a4203': 7.864372937615404e-10, 'd961809d-4fe1-4534-993b-566ddbb6109a': 7.221478931671704e-17, 'd960b437-31c0-49a0-80e4-3ac1b226d816': 7.526211847768698e-17, 'd9369cb4-1085-490a-a77c-8c573e8ce8cf': 3.4885158012434024e-09, 'd9182bf3-f7e8-459c-a432-711b93b43b3a': 2.6017579216724096e-07, 'd9171811-7893-4a2f-a10f-6cbb4814c81b': 5.56377261262248e-10, 'd9014e57-dc71-46cf-898a-64e53cd184f7': 4.108849443364518e-09, 'd8f4ae0b-7691-46fb-9e92-b75e928a70a6': 2.3003821605962923e-11, 'd8ed821e-4b04-4616-9fca-3ae2a178fd60': 2.0942914114685776e-08, 'd8b4ab89-cbb6-4b4b-a4c8-69d696aacde6': 2.3884140989258335e-15, 'd88a7d4f-cb55-4aac-a0e6-b7c1163d8685': 4.678168295642692e-12, 'd84ffba9-b50a-4dc0-8fa9-84dbe9ce3fcf': 1.1702599167846223e-10, 'd8468689-a2c2-4ba9-b540-e1a4a6660de6': 1.779797727412038e-09, 'd8267cd0-d444-4813-98b1-190f0994ebd2': 3.2899021128807946e-16, 'd82674d4-3610-44ee-9daf-31bb32f45a4f': 3.74662075583487e-14, 'd804c1de-0d84-40c7-97b2-dc623f6811b0': 4.414921285560831e-12, 'd7fad9b5-8ca2-47e6-94da-0e483e6156a8': 2.931466622186298e-11, 'd7deecc6-6c76-414b-8dae-2a983276891c': 3.457882588024586e-11, 'd78e79f9-b4b3-431c-a8f1-5e01b8bf65fb': 3.403603823163775e-12, 'd76f2896-0a18-499b-9d71-f5e65a003885': 1.3746984444892956e-10, 'd737a0f5-5fdf-487c-b76d-5da411441f72': 9.321684300268797e-17, 'd6df7e05-06c5-4ad3-b9f1-b811ed30d4b7': 9.469540956701223e-12, 'd6a03dcd-b11f-479c-a762-77764645fcb0': 2.3629736521528672e-06, 'd64ad85c-f681-47fe-9d79-2f4801b44669': 3.554353461272132e-11, 'd6051d8c-ac4a-49ed-9d35-cd0271afc8b9': 5.5291230263061474e-14, 'd5fca319-f33a-46e8-83c0-d5cf6ee58ce1': 1.3559240060264149e-09, 'd5c946b7-4825-4a79-9208-117eaa29f7df': 2.3369492620912167e-09, 'd5a3caa3-2d1b-409f-9f3b-ae4d5cd9a828': 1.030038920827168e-06, 'd5a2078f-d1ae-43e9-9374-cb86d09c5ec0': 5.089425467309042e-10, 'd59c1dcb-1be8-41e9-9438-410c01f91bf2': 2.6965388969205252e-12, 'd57fd5c5-aa6e-4c13-9575-bcf6e293b002': 1.633603799566879e-10, 'd5784bf3-381e-4e85-ad58-c40c0a46c18f': 1.801242278796423e-15, 'd57664ae-f427-4199-8236-a4028c97df30': 3.5763913579090294e-11, 'd55aa415-7425-4c61-8941-c749f0a58e0e': 2.1630009579332898e-16, 'd5196577-3f3c-42fa-a49e-0eb791ae624c': 1.6687144685625871e-07, 'd4d47f29-06d2-41e8-92b0-73f1df31503a': 6.978996857938873e-11, 'd4b670f8-feca-4938-9414-ef85bf8c7dc2': 1.6927040415512194e-09, 'd49c69ff-1496-4788-89e7-e366a2055e2f': 6.008705253990587e-12, 'd436a972-7f91-40f3-9542-767fad3e53e5': 2.2835632333360397e-09, 'd424e03e-a763-4c57-b19d-47b1a0de1be7': 3.9826445461187316e-14, 'd4083164-43aa-459f-b334-5b7c694e6bbc': 7.153476482951528e-12, 'd3f29a20-f1b5-4532-9872-fce5750fa36e': 4.991308909683565e-10, 'd3c9c290-a166-4d69-aa5a-2a74833258d0': 4.55082721247647e-13, 'd3b9e4a1-126a-4085-9cd1-b2fc716102aa': 5.3174451438716564e-09, 'd36b2994-06d4-4fbe-aa2b-164e4fda7945': 1.0282811486298913e-11, 'd3390653-0c59-446a-9850-5ded3456c7b0': 1.8994947616378383e-14, 'd3290395-ff98-4aa5-a104-4771f9f6f39c': 9.604176587558862e-11, 'd2d34a54-6fff-47dc-8b8c-71fd154dd747': 4.525005498165584e-16, 'd28b0094-b697-4e92-805f-257bd58a3f24': 1.4668623259182794e-13, 'd28807c2-0d94-478d-9441-d75a480693cf': 4.527502774934662e-11, 'd27f94db-162b-47de-9488-e29582d82926': 1.0381033978782619e-09, 'd265bc7e-47c2-472d-add9-c88c165f7db8': 3.1849783570411466e-16, 'd262d04f-e29a-41b2-bc76-d59159fe3cbf': 1.1615709219231621e-14, 'd2445ac9-73ea-4f02-a8ae-0fc6c070bbc4': 1.5820105818039345e-12, 'd239203b-a33e-451a-be60-e766b9f623ad': 1.1998153981460897e-07, 'd230914a-f1ab-4224-a028-c3461c9cd265': 5.0475053195246145e-11, 'd2216681-56cd-4a7e-9599-9d149fddb501': 1.100012149860724e-11, 'd19bb3be-a0df-40e4-af71-7965e9ef2e1f': 1.088937633968921e-06, 'd176187f-c320-4503-b2b9-42874ef95c05': 1.8703589735516776e-14, 'd1617df5-1a48-4540-a06f-147e801d6279': 2.5648751325969263e-25, 'd142ddac-4301-47eb-87b9-166d8938eeab': 8.483478369663779e-12, 'd13cfeef-7c85-489c-b862-d28fb655f088': 5.23860807498722e-14, 'd134c7c6-8321-4a70-8ad6-3fd5233e8fce': 1.0893594310290971e-12, 'd1229128-2ca1-4af0-84cd-b54baf165eba': 2.2956186818681083e-09, 'd0fb0620-42e8-4e74-a166-54d9b31b3f8c': 5.835639264976852e-15, 'd0e8fd57-2533-4ce7-a95f-21fe30ebd401': 1.2746060392202858e-09, 'd0e815db-0bec-4486-951b-e91312e0c345': 1.5682068816329518e-09, 'd0d7bab3-327a-40b1-88d4-5e57613db717': 4.0535364314961197e-10, 'd0af258b-6112-4085-b5bb-dadda8c71748': 7.0686340585798195e-09, 'd0a9dbc7-29a3-42fd-b2d3-74b7e4f21a10': 7.429227451092098e-21, 'd0627b59-6dc2-47fb-8a98-c0def8ba69a5': 4.743593280380673e-09, 'd02dad8c-f02b-49dd-a526-63ed2a16d5ce': 6.345356769109932e-13, 'd01cb6cd-f09c-4994-9159-d463b780cff6': 7.389580810271558e-10, 'd0012aa5-bb1c-42a3-9e8e-0a2195c47a7b': 6.152616964219438e-23, 'cfdf7b5b-ed08-4397-b5b2-589c3e5abccf': 2.210204720808561e-11, 'cfc6eb30-1f39-4e71-8788-4a7a486ae5f6': 5.472947833246266e-16, 'cfb48bb3-36f8-4234-821c-01ce3747e091': 2.9400827770721873e-12, 'cfaf03ee-ec4d-40d3-b5ae-2760993e92a0': 3.994138708071085e-08, 'cfa8b1bb-3779-4e24-8928-6ceb03a2f3b6': 2.251134459593975e-14, 'cf9d5c64-bcf3-4755-bd95-dc6706b60a13': 1.9490698682063065e-31, 'cf491946-c1d4-40cf-aea0-bc1f66b7ddeb': 7.013163578337622e-08, 'cf13efc7-8d63-4b5f-a8cc-fbdb5aba0a2f': 1.0399707322934405e-07, 'cf11520b-c4cf-4265-b5fa-c0088ea8f313': 1.654127887089913e-14, 'ced6bff7-897e-4f70-be90-f3d5fd852f94': 0.00015318844843891118, 'ceafdd4e-76ee-406d-8d09-a4a842d22bfc': 3.0899974350248483e-12, 'ce8aab46-9ab1-452d-991d-6d3c1db06369': 3.061483952971059e-13, 'ce7fa03a-53dd-4072-a5ab-5283ba90f8ae': 9.346705675704184e-12, 'ce7c847b-107f-4a6a-bcf7-8d2652fc407b': 4.567126466675183e-12, 'ce6cac54-20c3-4e1a-9de3-efdebf21cba5': 1.477481545331907e-13, 'ce59b76b-79e3-419a-bd14-afa576375a68': 6.82935381427727e-12, 'ce4f4411-0bc6-4e90-bda2-418c7e7afc61': 2.5804087205574038e-14, 'ce49531b-d22a-4257-817a-599d716feeb2': 1.698687650087974e-15, 'ce3bc0ad-472a-4ef3-97e2-30729d9e8106': 2.685420507440345e-14, 'ce19b956-6895-45ae-8bf8-2b47802b20cb': 1.555010211726075e-14, 'ce00323c-2ca2-4193-96cc-b2667ebe3dab': 1.2948086411523252e-10, 'cde9b5a5-2359-4268-896e-31292bcad798': 3.344276064388333e-14, 'cdc90c0b-7c7d-46e8-a1b6-8296fb2aadd3': 3.98797759156719e-15, 'cda98283-777a-4ce0-a326-a082a885c6ca': 3.6779809222385136e-08, 'cd46ba11-f1bb-41e1-bada-2b262a8628e7': 3.6193757835795543e-13, 'cd0d578d-2a48-457a-8eff-adac166c3910': 5.907291620576824e-12, 'ccfbbb65-50aa-4742-8c57-7f7fe79b2679': 2.525184680294234e-23, 'ccdcd453-b120-45e7-83f3-85d9de71f39e': 1.2072620542365734e-11, 'ccc2bfdd-4b21-4294-bdfd-f403a7deeaa1': 7.67711311242174e-11, 'ccb8454c-4949-4b40-af37-9c120fceb24a': 1.0459700190085656e-08, 'cc9d524c-39fa-4dbc-8685-0e0595ac7234': 1.7450180664960987e-18, 'cc7415b0-eb8d-4160-b09d-59b87c139a07': 1.9369006759272055e-13, 'cc5eb8e8-c91e-4c9a-a23c-fb66c4e1af67': 3.129099085524312e-07, 'cc59d21f-6491-4782-8bbb-3e9c470ccb92': 3.076030172682583e-13, 'cc4d9aa6-6c85-432f-9961-2fdbaa7081d3': 4.463886932412452e-18, 'cc487e74-5d71-4284-ae56-9dc4ad31005c': 2.2292287988855728e-06, 'cc2b67ea-a863-48c9-847b-1fa57bcce44f': 1.6673083703028278e-11, 'cc1d22dc-4d70-493a-b972-a5724d72db87': 3.216938153498133e-10, 'cc18281d-f330-4bbf-891f-352512ce1e76': 1.0084573333865888e-14, 'cbf366e2-1fad-4306-83c6-acdff875c59d': 1.1598471118881833e-23, 'cbe1f48f-8da0-4c06-bd68-3db99c39bcb2': 6.224612493477138e-22, 'cbcb90cf-9e93-4e35-8d9b-f47f9afb46a2': 2.484241429437896e-10, 'cbc847d3-fe68-4fdd-8256-563d50b38dcf': 6.170988435555647e-11, 'cbc43636-d353-469d-8167-9f32c086b4cb': 1.552861390150353e-11, 'cbb2a342-6769-439c-944b-c8ae5fd73f51': 4.741140504112422e-09, 'cbad9981-9526-4a47-aeb5-bb16e79179e4': 5.114547321984677e-18, 'cb86ceb8-6a84-4622-a82c-02680b8a9b4f': 7.180435937986765e-15, 'cb6cd573-0dfe-49aa-862b-427a944fe005': 2.6128994837412155e-08, 'cb301228-e673-42a6-af08-161269a0b245': 2.2579008261302281e-13, 'cb098995-a54c-4b46-84a5-73b2a84426d3': 4.786816135260536e-09, 'caf593c7-4360-41d0-9a08-2f293f579606': 1.7913398663965894e-12, 'cae9818c-367f-468b-bccf-27184c3e94e6': 1.6607735737357011e-09, 'cae21e11-8946-4c18-9368-78342e55f0e6': 1.267524750593732e-06, 'cadbac0e-5cb5-4e1a-bd0e-f130483a1a66': 7.758760470161697e-15, 'cac7081c-c110-4376-8e80-2a16e0e68693': 1.164194515536221e-10, 'cabc8f7a-f6fa-4307-a2cd-727d2d673879': 5.628286692927934e-11, 'ca91985d-82fb-4e21-9fd1-d84aa8f08e29': 1.8197114581348076e-11, 'ca82bc4e-ba1c-457a-ae2c-db195a1860db': 1.7530571367394764e-16, 'ca1b8209-d093-4d07-b0f1-8e785cb997f2': 1.832392132383852e-12, 'ca0e602e-ae3a-40e1-8403-3ba3bf12d9c9': 3.597897774248467e-14, 'c9f27436-6275-4810-ad15-6b2b6e20cb2b': 7.791937381583312e-11, 'c9878a99-c523-4056-ae5c-d3badc6000d0': 1.822280952516436e-11, 'c924da08-9656-4d69-a68a-83bba489a950': 2.1092326210194493e-17, 'c924a277-673a-4295-9fb8-a9bca9bac2d3': 2.361074970443599e-13, 'c9073ee2-c114-4e02-bb41-c92231442585': 9.941222698966961e-17, 'c8ed177a-2b9e-4032-abbe-13ed67402526': 3.6470311570161834e-13, 'c8ea25d4-69bd-4904-a9cc-b7e8d867f9a9': 1.0748604914979275e-18, 'c8cfabe1-4041-4da5-87da-dfade27a5fdb': 1.5305890026106176e-12, 'c8ae624f-a09c-473c-879b-bcd92beeb3cc': 6.512828066580628e-10, 'c83db67d-a515-4735-86c8-9abee76e293e': 6.97952806799648e-08, 'c82f68ac-c7f0-4645-81de-ea7c6a5f91b9': 4.055113215636422e-14, 'c82374cf-ac47-4435-a8c7-0d1809198189': 3.5616288693546564e-09, 'c8197898-23e9-4ae0-8580-4f565883851c': 3.201563893029031e-14, 'c7c72558-45e5-43bd-bd71-c9d2e668c5e5': 4.376726005028231e-14, 'c7a62e1f-3ed4-4088-aacf-6a445888a4ac': 1.637535609610856e-11, 'c7a25661-16d5-44dc-a5b2-b6f4e5515349': 1.963482189982308e-11, 'c77cc365-85df-4111-ad03-89f7eda64275': 1.0477737708328676e-11, 'c7673a9a-2872-4701-b1e3-32de5ab5b60c': 1.6234387736903191e-18, 'c753ffd8-5ebb-4b50-b39f-459f987895c4': 2.271964238553755e-14, 'c73e15be-5b52-4f3f-bace-662b577d47b2': 1.2625932915459662e-10, 'c72a2780-8ad7-480c-bc75-96a0594f1331': 5.3142572551278114e-11, 'c728dab4-7e55-48d1-a390-81817afd4493': 5.940122100750263e-11, 'c703a6cd-2574-4f7a-851e-dc050766a00f': 3.2155234168421625e-16, 'c6fa2b75-ec56-4c03-8e4e-17f229cd6711': 1.9899669842996977e-13, 'c6f8e9be-a8a6-4483-aeb0-57b46d46bcb8': 1.9545764649582143e-32, 'c6de475a-ef3d-46ad-88d7-74c23706f079': 1.296730091004288e-11, 'c6d4ae65-06f9-401e-9129-dca21d6c077b': 5.6256390294044973e-11, 'c6c0b700-8449-4d44-b583-294a9d48cbe6': 8.226501761599966e-16, 'c6a5a1c0-c6b1-4b53-a9bc-cd017d80a6ef': 7.309882832151171e-11, 'c69a1e20-b550-4fd8-8a52-46d1ebaadf72': 4.1536784706662107e-05, 'c68cd400-2909-417f-879e-97c1736e6a2b': 6.013502394827093e-15, 'c68570ba-f0c0-4b74-ab62-d3afa49210ff': 9.307422328146451e-18, 'c6274bb2-dd89-4186-987a-12ee68e8f040': 1.8498439000665934e-13, 'c6194126-73f7-433a-b880-d56dfb63630a': 3.5199566776843796e-14, 'c618b366-6d4d-4090-b7fa-d6518673f44b': 5.858595895382403e-12, 'c5ef2506-7137-44a5-a2d1-ffb3bab2c6f4': 1.4041126294189392e-11, 'c5d26cf4-9630-4f3a-a07c-83c859292dd6': 2.5857094558040418e-14, 'c5bea83a-8c3f-4e29-a2da-963751647438': 5.094316234887851e-09, 'c5ba7c26-2277-483c-94cb-72c24a03e687': 2.4579314545991264e-11, 'c598d8ca-7fcf-47ae-aa97-fa573bd874bf': 1.1232080532944197e-11, 'c58438db-fddd-4df2-b2e9-89492a110f48': 3.256025954974505e-10, 'c56d5d31-c3aa-4c35-a7bd-a6c63b08f980': 6.933758047801101e-31, 'c566c40d-7ae0-4394-86ff-a274527591ee': 4.205904972577666e-17, 'c50a0b31-148f-4840-a711-3c3dce2b7e47': 7.361030395870451e-11, 'c4f24f87-daed-429c-8e4e-a5cc97e9b1fe': 5.851331943492716e-17, 'c4d85b03-1499-4e67-a27d-0b3c46c734d1': 1.0296938292243039e-14, 'c4b7c3bf-2d08-4dda-8c22-fce7ea6170ee': 4.54784865735366e-10, 'c4abebcd-81f9-4306-bdf7-baf3199960ae': 6.684439608318281e-10, 'c499672f-169a-4633-9649-558de4e9f33a': 2.969756891746525e-11, 'c40bb272-eba9-4b0c-a610-70c672c618c3': 1.2208758438684707e-14, 'c3cfa8d6-b78c-4c42-ae18-0eb8397a343b': 1.2290540461300047e-21, 'c3cb6b3b-8a95-4976-a8ed-a7ffbd708897': 4.865795099597434e-31, 'c39e1d5e-5da6-40dd-b441-be4a11572864': 7.54086195203266e-09, 'c38a6fcf-4f0b-4295-9920-1d862a2e7afe': 4.592591406192332e-15, 'c37d0bd8-4915-4c0a-92b5-4f378fc9fbcf': 6.1325079864679296e-12, 'c36d7643-6795-43de-999b-ffff44fb33dc': 1.2259105919970511e-10, 'c363e393-0085-4498-9d19-750691b087ea': 5.0506876366939835e-11, 'c35b62c2-c683-43e2-835f-da24a7cbc3f1': 2.2387275518302963e-08, 'c34fd206-390a-43d7-8f50-3fb240910a24': 1.7400733188899212e-08, 'c337a167-3ade-460f-b995-bc6221512212': 1.5032818913586786e-21, 'c317ff14-d166-46b6-a68c-2d52365c8f0c': 8.67873639120675e-18, 'c314ec9d-39ef-4d69-9227-5d872139811f': 2.52209006347306e-07, 'c3116e9c-d726-43eb-a4e0-70c9d94b7570': 4.4943749013614864e-10, 'c2df689e-0bf6-46dc-b7f6-77a3fcd9452d': 2.941137029079555e-14, 'c2bc9b11-cdeb-4d80-8aa3-90be2a0a7fcb': 1.623130702334118e-10, 'c2bc54a4-9545-4751-8365-a82873ec9105': 5.081450819971314e-15, 'c2902c70-16b4-4e52-b326-bc1f5b336d8b': 3.469940929162654e-09, 'c28f3ad9-16fc-40a3-b9af-3cd2337423e9': 2.186116485381904e-09, 'c24016f0-3d3f-434a-82ff-95673b09d539': 1.35173446691276e-11, 'c23c8510-c9de-4644-8d09-3a83a9cf808b': 2.9910254238956685e-13, 'c1fb7a8e-3ca6-45b4-938f-1f240a724f1a': 1.4455607512497717e-10, 'c1f7b554-c8ea-4d3a-a0d1-183089b0ef9d': 1.7913508788144523e-11, 'c1d339d4-c7d7-44f4-a33e-6cbc3438908f': 4.742616328052887e-09, 'c1c415f3-497b-4ef2-8575-3a1d48ec8f71': 4.087029538375475e-14, 'c1c2abca-64d8-4be9-823e-71a03008b751': 2.6456181970258895e-17, 'c175ce85-6382-44ae-922e-0242433b2273': 2.5819818709552884e-16, 'c1713722-e489-420f-b313-89d1b4bce6c2': 2.8055513294921743e-10, 'c1636f7f-796e-491a-b58d-40f450b0e8db': 2.0552907981896467e-08, 'c16087e8-5e84-47df-85ba-fd2de781b7ab': 3.393408349804651e-11, 'c139c113-9363-4951-a9f7-e4856104bc75': 4.623666706915701e-11, 'c126588f-cdbd-4f23-a820-15484b0f48a3': 2.253062365483957e-14, 'c1005a2d-3f77-4b59-ac85-252576ca2196': 7.458852415286145e-10, 'c0fd5b15-b42d-4975-8902-204a132e0316': 1.697916778091686e-09, 'c0bc248b-0925-41ab-92ed-d1fd3610cb16': 1.1788769230423013e-09, 'c08172ff-6f24-409c-9e5c-e3ad3fa795ad': 2.7413462352224233e-11, 'c067c7d9-629f-40c5-b695-a7f0f66f633f': 2.1810603209047967e-09, 'c0308e72-f0c0-448e-bbdf-4151b63555d8': 1.047302226371567e-13, 'c02757f0-f0ff-4316-993e-db9953ceb8e7': 1.3565168250408739e-12, 'bfebd54e-87c2-443e-adaa-21c057d9c904': 1.650605043031413e-06, 'bfc1de23-a04e-4645-b531-825f9df557ca': 7.444046847594231e-07, 'bf9e2715-8953-4ae4-9940-c918272d581d': 1.2273327254321113e-14, 'bf9381f8-c3f3-4223-a697-f3a850fd57e9': 7.959907103101022e-14, 'bf884a33-259c-4756-8809-e274c5463f57': 4.0517244215517253e-10, 'bf7dd256-f4ee-484c-9a25-fecccb64fff4': 1.1208801859066915e-14, 'bf76e319-fb1d-41b2-a6c8-06ed66f6fea9': 3.756234482647014e-11, 'bf3b9b77-7c6c-4a8d-8250-088b3152ee3a': 8.855568984571054e-10, 'bf2118ae-295f-4ccf-965f-5c7c80105d69': 3.170691988109126e-08, 'bed786dd-fa7c-4464-901f-a1633f5e1dad': 1.6146355919673568e-08, 'bed6e696-27ce-405f-bb92-3d655438f97d': 1.3068480954475107e-16, 'be78914d-77a3-4e01-86f1-5971bbc3e954': 1.8480961795160947e-12, 'be72ef89-fb90-4108-9550-04f2c0f9eab3': 4.895236709680516e-10, 'be6349f0-9d53-4539-93fc-4f0295371125': 2.21089671623401e-12, 'be59dc48-f94f-4b4d-80f1-71a72d804a9a': 4.1042401908407654e-08, 'be482230-2fbf-495d-bb39-accea93aef34': 1.9370375961861318e-18, 'be26dd2a-f969-4dd1-bf37-21ad7b9a878c': 2.332095021278166e-08, 'bdf80356-2fee-4b1d-bf81-dfe1f025c1e6': 2.3930640350533487e-08, 'bde4daf7-7e5c-4093-937a-d06cfdc2bf27': 1.4787421582901536e-23, 'bdd2aa80-97ba-4f11-ac02-2c6834f1bb30': 1.5636708749205566e-31, 'bdc4e5aa-99c2-4034-bc27-d7d8cdb26e1f': 1.993978528965993e-14, 'bdb73d49-052c-44c7-9a32-dc1d322f643c': 5.712352681353131e-13, 'bd91d98e-0795-4f78-97b0-74f5b0044085': 3.072990301199608e-09, 'bd4bb78e-a597-4a90-8eb5-6c06b161217f': 2.2812442065744922e-15, 'bd072943-da2a-4644-bb7f-f554d06851ce': 7.357411766779417e-09, 'bcff2fce-9046-4917-a186-f0c777d5089e': 5.803605784833519e-12, 'bcfb870b-51a9-42be-b9f9-cf30e59aa997': 6.598569620026802e-16, 'bcd2d9bc-f75b-48f2-a00d-bd38dff23ab6': 7.344038556942766e-13, 'bc99e15a-b7d0-463f-80d8-198704e3b875': 1.0763730626840274e-23, 'bc94f9f9-be5a-4fbf-8480-726ae6b4b7c7': 3.125926969874352e-17, 'bc8b39c4-1c9e-484c-88d7-331498075793': 1.866275302423925e-25, 'bc6e91fd-b9c6-4afd-9858-e507a004cb09': 1.7771761569185402e-17, 'bc48f887-a53d-4755-b3a5-1f3e423607a3': 5.232546751036986e-15, 'bc30a4a2-1cc8-4e85-9d23-3124bfb1bef2': 4.1368081277847677e-22, 'bbae032b-9d0e-49d7-ab25-2da925e14096': 1.4187681548276228e-19, 'bba3fd7f-bcfa-41ff-b0a8-fc5ecc9fe4bd': 1.3679173096108324e-10, 'bb92832c-fdef-443b-aa50-e926a4881162': 4.5019578189207295e-18, 'bb7e9449-bc21-48b4-8cc9-05d306cd3eba': 8.844737860894117e-20, 'bb7ad835-6ad4-4f6a-a8ba-acf0639b6d21': 7.299465920447061e-09, 'bb71da94-1a62-4869-a5ed-2d805c3086b1': 2.775541334487546e-11, 'bb3bc583-c5e0-46d7-a912-d116252e8380': 0.003607822664402131, 'bac98ecd-ea79-4fb7-8b70-9c865712e9b8': 3.230319599480291e-15, 'baaa1c0e-e7ae-4707-8a69-965790b13884': 6.980996016287721e-08, 'ba9c57cb-4dc1-48d2-9abe-a07463ab8be5': 1.1237731153909566e-16, 'ba6b1cbe-53db-4c3b-82a0-41b287e44486': 1.4626101836116982e-06, 'ba5c6cf5-5c6e-4ef6-aeea-19a1c88f61b8': 7.854351019631596e-10, 'ba365dc9-ce92-4e0c-87ef-f5b25e0179a7': 4.0242653812362693e-10, 'b9964ed5-6e29-46ff-b91d-e3e12fe18d71': 2.777449234393239e-12, 'b9462efd-d696-40e5-a49c-d61dc8c02a1d': 2.483567858948238e-11, 'b90b9d24-b6de-4b37-9476-a559d608b8be': 1.4568266085196936e-12, 'b8f19296-d3b6-40b8-bb38-87ebf471fe9c': 3.6910961145689543e-10, 'b8df3af3-24d6-4d38-91b5-71c452f5b7f1': 9.04889786267078e-17, 'b8a15959-9258-40e3-94e1-5cfc296c2338': 5.34515890309402e-12, 'b86d3075-3c94-4085-aedb-73e0813cdb1b': 6.115974157605194e-13, 'b8451d43-28d7-4783-93eb-9c8b868fb5ad': 2.9819420613640253e-13, 'b82126a5-dc71-4773-8086-a88cdadc6683': 1.2953217674155243e-10, 'b7c77913-8693-462b-a782-f455569336c4': 1.1459936746192424e-11, 'b76bf505-1717-4c06-9af0-463c769a888e': 5.174745778056857e-16, 'b749ba94-c6f9-4acb-bb72-b15429a4391e': 1.1085234399584059e-14, 'b6ed0980-7298-4c8b-9b59-0d8024ef5a69': 9.406374027396196e-12, 'b6db0927-bf67-4651-91e8-810b4e1dd10d': 1.665791954413966e-15, 'b6bf1472-13cb-4819-b219-d2d4fd113825': 2.232838788756406e-12, 'b6ba8d3e-5aee-447b-94e7-5f5a94a1261d': 1.1932290545148793e-36, 'b6a14500-1113-440d-b415-fa7e2be85d42': 3.1647007509131294e-13, 'b6733a18-84e6-456a-8bb9-e448769d4f66': 4.2496453202508077e-16, 'b66b47dc-2722-4d27-b7ed-6568b335281d': 1.0393795094273114e-16, 'b66022c1-7048-49d3-822f-bc9f55c08fd0': 4.2237758401358206e-16, 'b628f2df-c0de-4d56-bf34-d71fcd2c9fbb': 9.789101845164603e-13, 'b60844b7-e311-4213-a582-4830a0b139f3': 1.3656758058420016e-10, 'b5c9faea-7aca-45e2-8368-d7f7104e648a': 2.612151388291941e-10, 'b583bb34-eaae-4288-947d-88b3f2c28093': 2.2531516619361254e-15, 'b580adf7-fcd7-4548-9d64-1f86a835b2e7': 1.5953859476697728e-08, 'b573350b-8dc9-4189-b67f-8651b8027a1e': 1.4471831644006502e-13, 'b52636b8-7669-4200-bfe4-20495b31c8d0': 2.84161434100176e-25, 'b516fe9c-3e9a-4c4f-9b15-8da309613d9a': 3.4427224679721556e-16, 'b4e271c2-3399-41ef-97e5-4f22d5247ad4': 3.289594976550595e-14, 'b4b11ed8-3772-42a1-86e2-253869b9b53e': 1.204860463424306e-10, 'b4ac9ec6-fbef-42ab-ae73-7b7f19d38bcb': 3.647518077404183e-13, 'b493374d-ad01-4a45-858c-6f7c3cef4e93': 3.2180233754199445e-13, 'b4930d4b-1a9b-435d-9f73-fa1277d06b12': 5.366457155005246e-08, 'b446f910-c845-47f5-b4e6-4e1333125340': 2.0061116735898046e-09, 'b42a3c73-b794-488c-b528-4f5caa196491': 3.170953005386999e-10, 'b3fca636-4d70-434b-85aa-b04fe4353f34': 3.9327728695646723e-13, 'b3f7a3c9-afb9-4579-ae5c-2a09f4a44e07': 9.194050495191788e-15, 'b3c9ee91-791b-40f1-bfff-0c1ce1770b76': 7.480580920157413e-16, 'b3c16487-dbf0-46fe-816c-597c227db826': 3.672595475513647e-16, 'b3bf5a32-ce10-48d3-b3be-c12085caea9b': 5.743537839873315e-11, 'b39e9e85-ca94-4956-8c34-3eab7f2e7725': 5.35259524159746e-11, 'b37d7afb-32ee-42ca-a4bf-5a9a17f82492': 3.209244351962231e-25, 'b3793d9b-6de5-43ca-84b0-243db3444581': 1.3315141099036293e-09, 'b379281f-135a-4d89-940b-3939ce76753b': 4.325077665488698e-13, 'b35973ae-42a8-424a-921d-72c3a7900400': 6.003249911798175e-38, 'b353a446-8f2d-4b01-a88c-9d42b8e0d89e': 5.487736133268592e-11, 'b2b25aab-6f9a-44d6-bce2-56d59eda9e62': 1.3992773887843932e-12, 'b29b1cc0-dc6d-40c6-8a93-0d684f6177ae': 1.7910475565472573e-11, 'b28b29b7-e15b-4f10-b0e6-1116815701b9': 5.480551759999117e-13, 'b28241f1-7219-417f-8bc6-72a46073dd24': 1.6566475928142456e-10, 'b245c6ee-aed2-4044-a130-321960fc04c1': 1.671246599198083e-11, 'b2433f73-b170-4b75-9685-84fa4865e9ce': 8.591643112759997e-12, 'b23d1f8b-8281-4d7a-bca6-196a7ba04e81': 2.7402758800053413e-14, 'b2330941-6eb3-4fb5-9da8-9fc78424c5be': 2.7067725483335475e-14, 'b22c96bb-708f-40ab-9d03-7579ef2c9f88': 1.0244753591066358e-12, 'b21b68dc-25f2-4d11-a325-4dafee19bbd5': 2.4022162881559495e-12, 'b21ad859-16c5-4241-83c7-09ac2c4afbd7': 8.970737988902404e-15, 'b206d066-80de-4889-b9b1-331def63b474': 1.0988999601029027e-08, 'b1f669d9-1856-4aa7-805f-e1e0932eb190': 4.591060721094439e-23, 'b1e89581-d222-49f7-926b-33ede2392ac1': 5.835574264092566e-26, 'b1e773cc-2161-4a5c-a65d-3ee0125b3472': 7.873126350404933e-11, 'b1d523f4-6b64-4712-a6d1-77dfc48313c3': 2.664254640983734e-06, 'b1c8ceb1-ca94-4b95-9256-adf54a0a2958': 1.033653815618699e-11, 'b150f726-fdcb-41e2-981e-424c9753a27a': 8.911899941041549e-13, 'b12bd5ba-4b0e-425b-ad3e-8a07e9ab77ad': 3.378092424335486e-11, 'b115e0a4-eb5c-4062-9671-77f695c90f07': 2.011905007824952e-10, 'b0c07fe0-b371-48e1-9d58-2bbbe3c4e83a': 9.730194234835526e-08, 'b0b3789c-ff30-44fc-9770-af815876a84c': 1.750446182537109e-18, 'b0af4e3d-cc0e-4bfe-b094-adc473177e72': 1.0644594341040788e-10, 'b037ba27-0049-4d48-baf9-34825d323e7c': 4.593451776783432e-11, 'b02e0f97-f011-4e9c-9a5d-697ea057cb62': 6.87642509474342e-12, 'afe0cf2c-b2ea-4fef-b1be-78922a30543d': 1.487427784504982e-14, 'af854866-dda6-442a-b0d6-7a41a048c7f0': 1.255392027271855e-08, 'af65f4c2-e3cd-47a1-99e1-92aea9692612': 2.633257796518309e-07, 'af34eaba-c4ac-4903-a827-14b95161be76': 2.28978882524339e-08, 'aebcf219-227e-4b6c-8706-62bbf92879a2': 1.9609519047794892e-10, 'aeb652f6-803a-4f09-8a18-97d256276401': 7.585894046547802e-13, 'aea31b0d-40a8-4e36-8394-56ddda9a5374': 2.39317729583674e-09, 'ae8fac06-b14d-4aa0-8ed3-7bee50829544': 4.589462697932715e-09, 'ae759d51-332f-43aa-90ce-2fbe713064a3': 5.534380304407278e-11, 'ae5b2c3d-0ded-481b-9038-248f57bf65b2': 1.4641713848796878e-08, 'ae58c4b9-dc9a-4384-98c5-fd316d2101fb': 5.827237809592783e-10, 'ae35b23c-634d-4540-affd-54d736cc19c1': 2.0885083026212984e-05, 'ae2efafe-0fe3-4041-b745-3105e4ddf5eb': 7.419673964100651e-10, 'ae1bd127-55e1-45dd-972a-9bf9925165b6': 4.0911613505805685e-11, 'ae0a2656-ba31-402d-8285-4a1c15afa083': 1.039352283017659e-25, 'adff2d84-27bc-4063-bda5-46207e35c2cf': 1.2240044192476496e-11, 'adfcc6ad-5571-4024-8cb0-d7b3c8201347': 1.8981472161506642e-08, 'adef3827-627a-4fae-bf8d-809df88cd387': 3.568210747447716e-11, 'add20e1b-8602-43c3-b6a3-79d9c34d9bbd': 1.162046929696841e-14, 'adbb03bf-0a69-4007-b37d-f80cdb59b187': 3.2531712190111357e-21, 'ada8ed0d-fe4e-4667-a456-52bbcb0a4c5f': 7.869880602214905e-14, 'ad7d395c-b76b-43cf-9f2e-5154d51744bc': 1.8276725551092578e-09, 'ad289ef6-4acd-4bd2-be5e-ccb58518cde5': 2.1561576094308315e-10, 'ad231e98-ee0c-45f4-aaa7-bd2cff1b6cba': 7.397764573486229e-16, 'ace8398b-bebc-4716-b670-f8ee81a40ad1': 4.319573334889803e-09, 'acd241a9-1467-48ff-99ae-aeacfc2611c2': 1.378022053492316e-11, 'acc46124-ad60-41d1-8baf-7feb84d63542': 1.5682068816329518e-09, 'aca43a64-65c5-4a6e-bf11-3c04a8197c13': 1.7205637684322807e-12, 'ac60e821-3bfb-4dd0-98d9-c2ed29139d6b': 2.2241073154807703e-19, 'ac5e027a-3ef3-4e05-8582-3ae2aeef5bf9': 5.192180464708272e-09, 'ac5da5d8-dd94-4406-a1e3-2ea0b5b07b69': 1.4474927138656775e-12, 'ac3b5065-5a73-486c-9639-00bc37570cf9': 2.0401178269130548e-06, 'ac13ff10-8a32-4908-9f61-fef6d5942dc1': 2.1296251643560496e-06, 'abf18457-22cb-4060-bca5-8d7edd7334ba': 1.156686461158709e-26, 'abbaf8a5-2377-4690-94bc-5428d7cc70ed': 8.830296306462026e-09, 'ab944947-3d1d-4dc6-bf1c-5ec6f385b2ff': 8.886925332312336e-10, 'ab8fa23e-ed75-475d-81ed-9f05500fe7be': 1.2743369911461528e-15, 'ab843662-38d9-4cd4-803d-699af7a6160e': 1.97976881183942e-08, 'ab72b4ea-44fe-472e-ac4c-d8a7518b2045': 4.3249434011356525e-07, 'ab5bdb09-c50d-40e9-8b66-67c25138c72e': 4.985068630943524e-07, 'ab3a5cc8-241c-4287-9383-9dd1538da697': 2.772323377416806e-06, 'ab0b1501-b0f6-4aca-b942-4b3c366af7fe': 5.767820555948856e-12, 'aafa01da-86eb-4529-8455-47e920d3f07b': 1.8953009701889685e-18, 'aa199b55-81a2-4956-9cc3-25e4a35fe517': 7.255895140412097e-14, 'a9fdc2b4-ffce-4911-9aa4-6f5bac8e7d23': 1.236647669910149e-15, 'a9d5aa3f-c05c-42f5-891e-4e8080913576': 6.836976091936366e-11, 'a9d51b20-f1e8-457a-8c42-85dca4b85c18': 1.2906238504333954e-11, 'a9b2138f-27d4-4f26-9225-1a32e178cb85': 4.525005498165584e-16, 'a9adeee7-4a8c-41d2-abba-487d9da64947': 5.6706501421622454e-14, 'a9ad144b-40b9-45c3-beea-005700acb0a8': 1.6634303185537685e-23, 'a998156c-748c-4068-a3b1-c1e0a2d780dc': 1.1643073876381166e-17, 'a967d0b5-4c42-466f-a9b1-239e041e24d2': 5.031571693996754e-09, 'a94452ec-9444-4fc4-8dc4-1fe015f61597': 1.5820105818039345e-12, 'a9429665-6b71-47b2-9aed-a18f53e9db62': 6.70937412200629e-11, 'a93ebbe5-fb6d-4f7d-8adc-8ce65ca3cc6d': 4.097700338015871e-13, 'a9096813-ebca-4406-8fbd-50a47f59c453': 1.6431313946305962e-11, 'a8d51002-acd2-4786-9d1d-9b80bb9992ed': 6.970736919700233e-09, 'a8a4e063-c3e6-4e12-9329-6205361bff0c': 1.4749885046987576e-10, 'a89ccfee-6590-490d-980b-8a9f59f22afb': 1.4732724040309458e-10, 'a87f4186-6446-4d73-85de-c2340e12e419': 4.642061158603846e-16, 'a8071ef9-8b3a-42b3-8ae1-bef61a512535': 2.671471843696567e-18, 'a7fb6149-3b7e-40ad-8e7e-f112b1be4c11': 4.583154137067606e-08, 'a7eccb7b-74aa-4bdd-bebd-2acd0277f0b9': 7.195024573702603e-07, 'a7e06710-b958-4eb9-874c-d003966e6503': 8.498513520837373e-14, 'a7dfbc47-4698-42ed-a172-4c9ee3ececd9': 3.207494389788544e-18, 'a7c75a50-c163-43bd-b13e-92ca1e4714fe': 4.058968656428051e-16, 'a7713045-c85b-401a-b731-06ef79304304': 3.96356487873358e-24, 'a76d7d45-7e5a-489f-b1a5-343e4ab660a4': 6.524073353856095e-18, 'a74b93ff-b0eb-4102-8429-fb1ca2d4cff3': 6.846924947899438e-12, 'a739efde-1d19-41a9-936e-c17832abedbd': 3.9684776016150466e-09, 'a72903ee-2600-45f6-8da1-a014a8053573': 1.4270092941474984e-09, 'a704457a-288f-4fde-badf-1c01ac08744b': 1.5025701697396062e-10, 'a70115e1-fdf6-4d11-be5d-7abaddbd913a': 1.242287563237536e-10, 'a6ff73b8-b51c-4ffc-b788-0230ea9f6b72': 8.237127356118751e-05, 'a6e96fbb-b5b4-4171-ad49-172408e8dd58': 2.8328338752577772e-14, 'a6b23841-a93e-4f21-9b3b-f55722bdf146': 9.820930662814756e-11, 'a679b760-a91a-43cf-9a61-7ab6de527e0a': 3.0484094914209894e-14, 'a6750c16-2e1b-4ce2-a500-cd2563f4bad6': 6.35161890862333e-08, 'a65b8e74-62ed-4287-8aaf-a30ec8ebdb97': 6.262200387277439e-11, 'a61bf5b1-9ae2-45b7-89ac-19ada9908c0c': 3.536280090063012e-11, 'a5c08fa8-5b26-44b4-8061-dacb44e36716': 2.0516573416345275e-05, 'a5ac5145-c202-45e3-9707-1f3bfcca41ea': 6.318848537580436e-14, 'a5a91c43-6763-4139-885d-1501d589fdb1': 5.0935536845419753e-11, 'a57c383d-3f7f-44d4-9acb-95de308c992a': 1.7527094397224348e-12, 'a57b696e-e7c5-450c-ab5a-2268873e7ee1': 9.746608946188154e-17, 'a55ca015-08ca-4d2a-bc60-4167c6485319': 3.3665190774417842e-12, 'a4d49c96-59c6-485a-b8cd-51e338a70c4b': 1.1326718840268045e-12, 'a4c8ddc5-6680-4a1d-a258-b7339d78a888': 2.560600408708718e-09, 'a4c032fd-f219-4729-993b-036a0b59507e': 7.262952045533232e-07, 'a46395b2-1c58-488e-947a-ed17dd560a1e': 6.852432111712528e-11, 'a4526091-29c1-4e75-b49b-6bdad4bc13a0': 5.124861282470671e-14, 'a427b3fe-f991-49c8-8c2c-482849d68b75': 3.015786895785178e-08, 'a4016b71-baaa-4d28-8452-738c0854bc29': 1.5297426072643264e-12, 'a3b6daed-dcc7-4d25-8b9a-9ede84a9185e': 9.967020346200447e-10, 'a38a3366-a8d2-431d-93b2-1fe98125a1d5': 4.477016594686886e-21, 'a368a95e-9898-4da6-882b-d6e4307b2e6c': 5.3691664453583265e-08, 'a3566ed0-d12e-4d23-8d28-0095a985c94e': 3.976338256249028e-09, 'a346ec48-9841-4336-aa95-1e438907aa16': 4.1303989208180174e-13, 'a3425741-5219-4b19-9da1-f858d0506af4': 7.914451092848871e-15, 'a3204d71-c7ec-4ad7-b836-75fd04d80d80': 1.6091433933743882e-13, 'a311972a-ee29-4a6d-a53b-2c8fa2a14f14': 6.970736919700233e-09, 'a30e59c1-081e-4801-bdf7-31329906021d': 9.366294118665362e-11, 'a302aa54-182c-4a70-91a1-8bf98c8e69ac': 9.671154390971342e-16, 'a26719b8-ca1c-4df0-9b6f-85888fd4a89c': 8.756316839669949e-20, 'a2621dd7-3eb8-47ae-927a-e8ddd08e589f': 1.008573574659866e-13, 'a260d322-47fd-4a0c-90af-d2c337f2455b': 2.3928464219815934e-25, 'a2363246-ace5-49d9-afd0-af4cf3081059': 3.750659350366194e-10, 'a21e379a-5565-463e-99a8-d18827620b82': 1.518564618593362e-12, 'a20bf0ee-13bf-4e3e-a573-c28c0da3717e': 6.962387784277014e-07, 'a2007085-60dd-4651-be94-62432cbd083f': 2.070750728446436e-08, 'a1e57156-bdc5-420b-b873-5b66fafb0e46': 3.664540380736368e-16, 'a1d95278-bbfe-44c6-b4cc-56bbef2eb78e': 6.315942817570942e-10, 'a1a2b592-3902-418e-a5b5-2c0d84662beb': 1.0106689699987656e-09, 'a13634ef-1282-491b-8331-b5b2d91365e3': 4.589386851218556e-09, 'a0e0d49e-973a-4169-bc84-f1d84247b5b5': 5.397364829523325e-12, 'a0e00702-0fae-4c9c-8393-fc38ded99f6d': 4.379659074070006e-06, 'a0c66690-6c52-46ed-82f9-4a5d2a5d7070': 1.1625817920356934e-18, 'a0a50f44-ff1f-4387-a4a4-e5eed93d3014': 5.217473176204585e-10, 'a07b0704-2727-4f8c-8025-73668b792819': 1.0012801111174055e-38, 'a06f40ea-5a2c-4420-b7fa-ead456aa732c': 3.562558747601955e-11, 'a0697bd2-4635-4832-b63d-2c0a54de18fa': 5.6642335115793907e-08, 'a05a11a1-3b25-4ba9-9bd8-c10416a40a32': 8.164356016304233e-19, 'a0197881-a948-47c9-86ab-92df94ec350b': 2.510426567616359e-11, 'a0078ada-d16a-4564-b9d2-972b77c41a84': 2.0162268968014333e-14, '9fe67769-9e73-4d96-a0ff-5a51a4397494': 1.2328466630404646e-12, '9fb9cb3c-cda7-4971-9ab6-2bde94e45b5a': 3.203694224889511e-08, '9fa04052-711e-4096-812a-54702f4a3f75': 5.330631359825537e-10, '9f908953-5d55-4133-bddc-af138f33e72d': 7.019376831870163e-10, '9f6ddff6-5e60-4df3-9f5c-4a22c7071c17': 2.8888191376618164e-14, '9f5fc6b2-08fc-4d8b-a26b-96535c1efbe6': 5.223315829946354e-22, '9ed16af8-86e1-4398-b007-036886455af1': 2.4172465301191646e-09, '9ec1c977-7f4d-4633-90ad-ccbeead258fc': 5.031572858114137e-08, '9eb5a296-5d2a-48ba-8a7d-aaabaf63ba38': 6.198126781319817e-15, '9e7c3bcd-1d03-4d79-89ec-629b577f4f91': 4.965250712500373e-16, '9e741d7a-15c1-48e0-a520-38dbc193b5b6': 7.2660444386763e-20, '9e3e1872-7374-4e37-9c27-43ed63ffa781': 1.2804249831131755e-11, '9e318791-afd0-4cef-85a9-8a30af0660d6': 1.3989036199250214e-18, '9e2a8931-f45f-49f8-b6f8-15f774156571': 3.264512069008301e-11, '9e0699b2-bc47-4ab0-9869-070b67632b98': 1.8414059602996297e-12, '9dc6cf7a-5755-4ab4-9fe8-477b18aeca4b': 2.6542360910133466e-16, '9db4a66a-986b-491f-bd4c-e45dfc7ab4e0': 3.034045954466605e-09, '9db3b514-ad1d-415f-b772-b4c08efa1157': 6.082161336956654e-09, '9d6df556-09e2-4c36-a497-f6d56c6d1158': 1.8196433564831198e-08, '9d594e66-4fa8-4277-8b5c-db0cb0b82c59': 1.2437954021750557e-14, '9cf2f0a2-da29-4262-ae81-47ab3ead1aa4': 4.429889742428432e-18, '9cd96b69-a8de-4e1f-a5cd-a8650bfc441c': 5.0338593046585175e-08, '9cac6fa0-6f27-4ba6-be78-9d13e48602df': 3.714766179205143e-13, '9c6a44bc-15f3-44fb-a399-a3ae67cba47e': 1.5390931028248543e-25, '9c433bfc-25f0-4932-88ff-7b5e06783dc6': 1.4922527913926521e-15, '9c1b2d7a-31f2-4d0f-8a34-ccdc20314128': 6.43227676631072e-11, '9c045f34-bfd7-45ce-8b8f-6ac1dd2b2e19': 8.054899367048858e-15, '9c02b5a4-f905-4223-898f-60aadd0bc71c': 9.382403765573538e-08, '9bb40c99-f637-4a98-89a9-89f976cf9ce1': 1.4066874459302296e-07, '9ba2482d-9103-4b9b-9719-5be4adde89ac': 4.0070235483277675e-14, '9b84be80-1f24-4583-b134-9a3ca1af73b4': 1.2908161860114056e-17, '9aff2792-f948-4705-9da3-197b7f51880a': 1.1557971282449376e-11, '9ad5a100-2716-42e4-802c-16c9daa4b4f4': 1.16169607288179e-06, '9ad067f2-167e-46b5-9f92-1bc665e50f68': 1.402395885594738e-09, '9acff447-7a2a-4115-be53-f2e1d1e484b0': 6.158877785208521e-10, '9acaf014-3da5-410d-9d13-c20598722d76': 5.032713706843661e-10, '9ab5d9ee-983f-48c7-91eb-01f44531b6ae': 5.3260087496053876e-17, '9aa97174-ca07-4fb7-b815-6aadb5db7199': 3.988149921729664e-13, '9a99851b-a4db-4d65-a1b5-364095856382': 5.952160258709429e-23, '9a43f30e-af6a-4047-96a0-1c64c6eff06a': 2.296719471395954e-13, '9a28a637-fa11-4b4e-96b5-70a76fd863c6': 6.683298682309465e-13, '9a10d0e8-272f-4be7-8536-576f60a8043c': 4.3474257483803396e-23, '99fcc481-980f-4fc8-85c8-64cd94092310': 1.6062336248293632e-13, '99f45b34-79f3-4b33-863f-9488f2047fda': 2.9540952371786758e-09, '99e4a687-acb4-46ac-9108-1d9c6a0a38ee': 8.140095592656209e-08, '99dce5b8-f887-43f7-8648-aee5057c0826': 6.188128316827093e-08, '9996188e-2b37-41c7-a9cb-189c52836f04': 2.7439712049883966e-11, '997c9c9a-64d8-420b-b3e7-81baba30210a': 3.624698497527324e-11, '9976c386-e263-42e1-97dc-ef5a43568162': 7.50545646525859e-24, '994d016f-8d6b-4fa6-9e6e-2e5f724133cc': 9.705372920509414e-10, '990cb70c-b3a7-440c-8a78-432137b13038': 1.5979603547474098e-10, '98e49ae0-2cea-4192-a45b-69a0c6a8a98c': 5.99676542029888e-06, '98c08136-ec59-40cb-bf1e-a650635b1321': 8.39032072201002e-11, '9878af23-f6aa-4a8f-abeb-70ad83950e5d': 2.607766229545082e-18, '986b0df7-25f3-4030-a77b-5666e5cd0e74': 8.247952492283385e-13, '98498e00-2874-4c40-95cb-b997deffc24a': 9.921508692657378e-12, '98493b9f-6adc-4425-8061-74a0d0e78d80': 3.682829864453453e-16, '98304a31-596c-48a5-b388-58cb697b7b5a': 2.9083676535764655e-12, '982a8552-b071-4b4f-9254-2fa5085ed548': 5.578306263283226e-13, '97a770d8-2f63-4ef3-86c0-4031bd9b6c29': 2.1781827533232914e-10, '97a744b7-f997-4727-97ca-8ae4e6a222e6': 1.7766121955374796e-17, '978e022a-e078-4525-a25f-59d6ed09157a': 1.4470265943122638e-08, '97701028-edd9-49e8-9148-8c0780f71277': 5.965093167274841e-13, '975b3375-2f44-431a-8a46-8ac13504bcb6': 3.4370159498913103e-09, '9725a016-3b22-4923-87fb-aa4f0b9423b1': 1.6341293432678388e-09, '96e05284-d490-408e-a065-a2ae9ccb943f': 1.5257534379704392e-12, '96d12e5e-272a-47fd-909d-2cba9e978275': 4.086688665126689e-11, '96cc7426-9bc7-49b0-af84-126a1a008448': 5.290651727030563e-15, '96badb10-c175-4050-b6e9-989a4f644c5e': 1.0168047028566519e-10, '9646f514-ada8-483e-912d-f1606008e2c9': 3.456768557852783e-10, '96333e25-4100-4fa0-a50e-d72b259a017e': 2.468822452629366e-18, '962fa35b-c054-494b-aa16-79b58d6bcb8a': 2.58577287058077e-09, '9602dda7-923a-42ac-9268-7e72850a3505': 5.969260558796432e-12, '95cc2910-8abd-4e42-af8e-c245ac531694': 9.005274171303082e-12, '95c4dfd7-a853-4c1d-be72-bfaead94ec0a': 2.7757385585122015e-15, '957fae45-ea54-4054-a6fe-a8a460786756': 4.056347985365221e-15, '954dad7b-db2e-4a28-9d97-ba223dc6986e': 4.784168881284148e-09, '95304aa1-f376-4c26-9a83-49bac5ab5286': 3.8550421575553475e-07, '94e4b880-3518-4c88-bba3-bef325400fe7': 5.3012428096613425e-12, '94887aec-99d5-4b15-a337-baddd6f34dfb': 1.502312065868386e-11, '946ba3c4-269b-4c13-900d-f65329ac1555': 5.6010135221484336e-12, '946b6f59-b268-495a-be01-5cac885a5fc2': 3.642258791108769e-07, '945e8871-e0dc-4b1c-936c-615e6527a7c0': 2.839234707932853e-10, '942d41fe-130b-4d8d-893f-fd3ef2c2e1ac': 9.015214795081137e-18, '93eb2963-4020-4b41-bb89-b5b6f959570b': 7.29901893898817e-18, '93e81564-cb2a-487e-acdc-8b3ee9d45de7': 2.8697584269016618e-08, '93de361d-7002-4bbf-b3e3-29528413a7d2': 3.3038354908853343e-13, '936a3230-d82e-41c6-85ca-b8d3197deb24': 1.3393224769714984e-11, '931582fe-7dd6-45ca-a48a-fe1ded4123b8': 1.130439204255831e-11, '92dc3668-1981-42ef-8de1-b9e5822eb591': 2.8031195764668594e-11, '929fadff-f61d-4f14-a062-4629876b53f4': 3.297584727364619e-23, '926fd57f-ccd3-4359-ba23-42d439e94000': 9.084837456772426e-10, '926e8149-d2bc-4088-973c-cc410c6c431e': 6.279763173055495e-13, '925fde1d-f68d-460f-a7a1-97c00df88e92': 7.771335255677936e-15, '92175450-8831-4d47-8293-2472bcafd07f': 9.672263643639963e-15, '9205ca9c-8354-45a5-8206-c7be3249bd6c': 5.489171827371489e-10, '91a9d789-9127-4b0b-aa2d-4a50637a09f7': 3.563017406873719e-11, '91a97e5c-9a6d-41db-9c1c-0cc45860800c': 2.395226518330077e-05, '9174ae89-7934-4b2c-b725-a2d11a4c01e6': 1.2904186713631415e-26, '9159e684-4eb2-442f-8c39-2b64d8b38bde': 4.939955241867266e-16, '914f4a2e-d3cb-4839-8147-89b55d37a0a3': 7.934503095933917e-13, '913d45da-4d95-4dd5-a970-7f8dcdddd002': 3.3536165258918024e-10, '90e19f79-a551-421f-865f-409ce3a79f76': 2.6649386870917056e-09, '90abc1b2-eef5-46ff-9c31-b99ff7a8f263': 2.0731447614543728e-09, '903e67fa-c142-47e3-bef0-33f611d19c3d': 2.065905005415889e-18, '900974bd-cad2-4b89-a088-b4c5ea096d6a': 2.0711804250861782e-10, '900716d4-e7ff-4e3a-ae69-c7c9b9a6e37b': 8.011599553175817e-12, '90011bef-cfb5-4df0-8958-aba38debd722': 2.791768630870715e-15, '8ff9ef4b-89ca-4a1b-a724-4b07c214ca65': 2.330687821811157e-14, '8fe08648-1861-4c8d-8feb-5c74bb6c684c': 1.5674945052110266e-08, '8fa2bb65-2877-40bc-a864-adf35db393cc': 5.076522303322259e-22, '8f7a5b41-c4d2-4bc6-a7e9-49987e1d3123': 1.8137912230055455e-07, '8f6e44e4-e00a-41f8-9be2-6a33ec1f7718': 8.850179707967921e-13, '8f5f2f22-72a9-4c4d-8c65-72aa16b5b8ce': 3.629176607061368e-14, '8f416dcc-4e75-4ee6-8d4b-a0c581c983c5': 2.6311278033054547e-10, '8ef9b5b5-55f4-46ce-8d96-e925f59a205f': 1.874366909702597e-21, '8ee6fc36-0718-4783-90f2-91f4e40be54a': 3.145108637184003e-16, '8edd1b51-01bd-46db-856f-ee3a380c509c': 1.0423887909018861e-16, '8ea6436e-d741-47c6-b452-4b31a51ae9b0': 4.0016704840611324e-16, '8e9a28f4-2d46-4f85-9bef-950a59f6ea87': 6.823411961480174e-11, '8e5d6fac-3737-409a-a091-9b542810b89d': 2.8566075300410916e-12, '8e5c186c-e2d9-4db6-8735-c8b04aa9af83': 3.0270441443356814e-10, '8dbcf9fb-7d4a-4bcc-8a5e-3fc7969f5b6a': 1.1264472067186832e-12, '8d945630-47f9-49be-b1e6-0553c8fc0313': 2.5419123242212663e-17, '8d829036-2858-425e-b110-ca64fc5c36a1': 1.1678664073459624e-17, '8d6f5feb-7f65-4ec9-9fd8-cb4615766113': 1.0937324372136986e-06, '8d4ca3ea-6aa4-4975-b849-a165069b6d60': 7.425920606004297e-12, '8d2e333b-ed8c-4c9a-b622-b5a75a5c458b': 4.302098483759535e-15, '8d1d0d37-80a7-4513-97e4-402b92446137': 2.53308513587765e-10, '8d0e78fb-eeb8-41e6-beab-07d881b11b1d': 5.032615501660258e-05, '8cf4e478-8bbe-451d-b793-33fcd7606128': 1.1026519048185232e-09, '8c7fb4fb-6699-4a4d-99a4-68ec2eea59f6': 1.461418680238296e-11, '8c7030cc-1aa5-4533-994b-a751b29ef2e5': 9.495544963838956e-07, '8c6252aa-acd3-4408-ac4d-f006422438ee': 1.1942679990852817e-08, '8c61ac48-d185-4cc5-85e1-c1a775fef6f1': 3.5388648859715487e-17, '8c1fdd0b-1525-4433-a29b-0c320abb1b14': 1.6877155280115003e-10, '8b984f29-911e-4997-9ab3-acf62f670bc5': 4.828824131298012e-13, '8b931c0f-7858-4a39-9d57-a07df5ae39f5': 4.4480550532449393e-13, '8b85bdcd-b566-445b-ac1b-d1e2ff2c4fba': 6.265210526399625e-09, '8b0646ea-1641-4cbb-bd0a-e84949c2a471': 8.723478773272573e-12, '8b02c54d-1b6c-439d-9e10-8c5b47fd08d0': 2.808768715848967e-12, '8afa3abc-65f1-42f5-b59d-b29e0744209b': 1.702677508355359e-12, '8a9d5d41-9ae3-4648-b323-af1f21ce54f0': 5.805813488777521e-20, '8a79a377-dad9-4e55-bb45-91edb505abc8': 4.8423116189500297e-17, '8a6b04f2-0a85-4d56-a2c4-9473ed4804bd': 5.4498464962396297e-11, '8a3af657-7918-4dc4-abb3-b8cb9155842c': 3.956873321686498e-12, '8a304a7f-b9d6-4d00-a2a8-cc5031cb6aec': 1.0083357640877452e-09, '8a24a696-56ab-46f1-8869-a4daba7513de': 1.4498748369412523e-09, '8a099c22-b399-4ba0-8eb3-8e9e65d9f252': 4.624382983287188e-07, '8a08808a-b92f-4f0b-b5fc-82faf8b6692b': 3.6218474617548845e-06, '8a018450-75f2-495f-bd8b-cd1eff6e9190': 3.4608715752054727e-14, '89c895b1-ef39-4c62-a4f3-bdb33960fd4f': 9.112765070342479e-19, '89c3959e-265e-4256-a8dc-9dfdec218d0b': 1.4354184954391193e-14, '89be079b-b42e-40ff-a04c-0c9e9d1e70f9': 9.70340980559248e-13, '89574029-5248-4153-98d4-ac0ecfc9d2c5': 3.43038688271426e-12, '88fccd2c-9be1-49a5-b957-d0bfe9d1f205': 1.004668688074559e-12, '88da5c4b-385b-457a-a064-60d386b0b709': 4.412515727757745e-15, '8888df02-e1dc-4998-87fd-cad901ccb67c': 2.06796294820366e-31, '88813a2a-1876-49fb-8c77-ba3dd32953eb': 3.1073806684954023e-12, '880adc28-b57c-41e6-bf5a-acccbb9b40fd': 2.078846030464604e-15, '87fa57b7-d66e-4235-a46b-b65c31a86309': 6.543952656902865e-09, '87bd20a9-0047-4b8d-8aef-1977f8e6b128': 5.696324165344992e-08, '87b6aa0d-2269-4b51-bf1c-2ec420b1e0e3': 1.2607194604704605e-13, '87ae7ad7-47df-4a27-97b5-3fb8dd49b7c5': 9.781468877722808e-12, '873fff30-98aa-40b9-89b0-62cbbb5a0987': 3.753573342635173e-10, '8735fbdf-c0d5-4acb-adcd-0e578aa51431': 1.7113940229812038e-14, '87264d29-7449-4c89-a2d3-a02f7c9709d9': 3.3374325829517153e-16, '87102d30-80bf-4f9b-a956-0101c8d2c920': 6.353092023740115e-09, '86e05be7-512b-41ab-8359-d9b12cf07a59': 2.436430606573938e-08, '86d642db-dbe3-4781-b667-b69a6ccce8ee': 1.256626779024812e-15, '86ccd355-bbd3-4f21-923e-bc8387906536': 0.00228894399252892, '86c666c2-3688-4833-8e16-7d5b11c6fbc9': 6.225845017172426e-26, '86adba56-c14f-42a5-a4f7-f1962b9417ce': 1.6836755590041845e-11, '86908f3a-6b7e-4cc5-8219-665812615950': 4.382892416956907e-18, '862f54a5-0039-422c-959b-fe8d8d38cbb9': 3.663067925802972e-13, '861a5f55-00ac-4d7d-9a02-506e8d30b40d': 1.7253599239404967e-08, '85cf591a-0c99-4794-8979-2bb9bc21856f': 8.321342289109364e-11, '85c960bf-098a-4b1c-85ec-19d796d3f76a': 1.2732696465333207e-15, '8561254b-798c-4f62-a799-dfa9a0a3722e': 1.248287512475445e-10, '8560e505-b4f1-4fa1-9250-1610e88478bf': 9.222776665512631e-09, '85370b89-f530-4a19-8500-b9e8e6ebf6e8': 2.8372836593318987e-07, '85345bae-5352-474e-b088-21705624d2b0': 6.800301357858613e-14, '852ee446-3caa-4963-af96-0eb921f4fb39': 1.1519701903674968e-15, '852d99b5-2413-4515-9379-a2d26c1c05a2': 2.877478954168405e-17, '84e1620a-54a6-4545-b886-c23765f92695': 9.686978095506622e-15, '8479c9a9-784a-4f5d-a605-75c68b9923ff': 9.799053332508217e-17, '845ce114-0869-4cca-a071-e3ecf3605d24': 3.331600558123014e-09, '844fb7ce-69a1-4bd5-837d-7ebf6c1b41fd': 2.9564284668411237e-14, '843fc578-3ff9-47e0-8dc4-46d28a722f2a': 1.630453332889005e-14, '84370737-b92d-485f-ab64-cc88a88089d0': 2.2063852740285458e-13, '8419b9bb-5da8-46f7-b8b3-6d11f891be1d': 3.756996995174181e-08, '83ff32b7-d53f-41de-a691-30da1f56faa9': 4.912013687337408e-14, '8393521f-b6ee-4220-a3fb-706de9535c32': 9.173293139159745e-12, '833d87ea-2106-457e-8377-e3f312e9b6ed': 8.586805956625097e-14, '8336b247-3cc5-4448-b049-285b7a83e890': 1.2450626383986613e-09, '8333dee7-cc02-4eb4-b970-dde984aceaa7': 6.066389759917093e-08, '82fb56a9-205c-4180-91f8-7cdd2434093e': 6.752557164623181e-11, '82d5f480-3ec2-4864-a9f6-a5ec9189cc1e': 1.8982443444817793e-09, '82c57b66-d1b1-4caa-8382-26dabd797be0': 1.7560543025119215e-11, '82c3fcc2-a329-4854-a13d-714f318be38d': 2.5505556810259854e-05, '82bd3057-1c3d-4c37-9a21-aba46f8f5d5a': 4.963296535389939e-13, '82abd889-3e6e-4e01-8b29-352427e283bd': 1.247601507254422e-16, '82a64d80-b54d-4cd7-8604-8efcba9de092': 1.433311907430758e-16, '8267c2ea-808c-4d23-ad3d-ed8a475ee6e0': 5.836311160840307e-11, '8248bb7d-6278-4db6-a93b-f1868b1b517a': 1.773010317016945e-14, '8221c1fc-d68f-4f68-b95d-bc07bbcd089b': 1.5610491271804522e-11, '821a7470-45e1-4195-b760-656e3a084f30': 1.1216695171387595e-11, '816f0757-eae1-4c55-ae38-97c989174a36': 4.854502812784293e-19, '8147792e-d629-4a8f-a94a-8105d531ef78': 1.2731212606787837e-09, '80c48514-8551-4256-9d82-5f0cb8b81a13': 1.674801348365895e-08, '80b64477-3af7-41bc-8a02-526492071d15': 1.6455717762588614e-08, '80ab169b-e460-4afd-a646-599b2fe18209': 1.3137494498924728e-12, '8053232a-3652-4b9b-a7c9-102b5f99bd48': 5.210961403668438e-13, '8050f288-11d1-4504-b43a-5d0acb2eb365': 6.843938058434833e-11, '800727a0-3f0e-4bfa-bdca-c5c2a7078bcc': 1.711793979545271e-21, '7fccbb1d-ab4c-4ee7-a6fa-50c30441019b': 1.9695219019738974e-15, '7fc16c01-e2ea-4b13-ae6b-af60e3249c00': 1.872247852009189e-08, '7f2ff733-6d3e-44b5-93a6-e2bcfd18b05c': 5.077405812658967e-18, '7f1a9b31-4a94-44b7-b2d7-44bc720f2c80': 1.169444398753118e-13, '7ee40e1b-8965-41a1-b3f7-d97f9b0d76c2': 1.0784986292361117e-14, '7edac52b-8a86-4ef2-aaff-819d5f9a534e': 2.4527762638122488e-12, '7ec3243e-7d43-4df1-b76e-da4c2e167aaa': 2.1561576094308315e-10, '7ea710b0-af3d-4002-9fc1-1e565a433795': 3.2152981421302917e-37, '7e9099af-fa1d-47e7-9abd-ebf291aecbdf': 1.0188632469932086e-07, '7e8af45e-3db3-4523-a4a5-50ebfc585101': 1.3320140365262429e-10, '7e803ada-d965-49b1-b586-5139e1efcaaf': 3.5592099939592086e-11, '7e630e38-8662-4c11-a914-975faf1b25be': 4.823673733845829e-15, '7e4dabe5-b619-468a-b89d-4d162be33ada': 3.1692392398917694e-23, '7e1fb55b-d05f-4d9e-ac26-6180696f1fdc': 1.7028792866411883e-06, '7dfbd44f-233b-460e-9d31-15f1c9f0c743': 2.9328010022861324e-23, '7df214a2-6641-4b2d-8305-f75b1a8a902c': 1.9500107686955695e-16, '7ddf7256-ddbb-48b6-8001-0bf44476e9e4': 1.968980166157373e-08, '7dd38356-f529-49e7-83f3-be22465b8526': 2.4177619990818224e-14, '7dd2088e-9faa-4a82-ab41-dce8b8750359': 9.243981976107645e-09, '7dc394a4-4a32-488b-9a3d-cf90098fa597': 4.408108500669366e-17, '7da51609-1e11-4ae9-8a59-29a3b10264e4': 5.21549327571564e-13, '7d9a7195-4100-44ca-aa52-cb6893664643': 7.429753024949422e-12, '7d94b356-c250-4fd3-bbcd-0e5f9f521d16': 1.2664018832402057e-11, '7d5f27d7-5c8c-4b78-be39-cd47f84fddc4': 1.649589275584554e-09, '7cfaef2b-c029-454b-8cc7-abca3ac19441': 4.1433437432472585e-08, '7ced2f8a-d893-480e-9c73-3386f4480730': 2.3875003674915486e-10, '7ca133df-8dc1-4e88-ab10-620c83ced5a6': 4.246788010251768e-25, '7c73bd86-ad10-4396-b17d-b5b592e419be': 4.052558275671804e-09, '7c6aecf3-a2a5-4503-ab0a-8087f5144784': 1.727193742142399e-16, '7c48dd6f-6192-4966-b19a-31aec4d1e1be': 1.3805116544333067e-09, '7c09c718-96e5-4149-8c4e-78d0c1d3c6be': 2.8113695627067222e-14, '7be48b78-44bb-4551-ac71-92ddf3a03cc8': 2.554457533907691e-08, '7bd62783-8a51-43c1-89d9-6024c32a1cb4': 2.3388355959183852e-11, '7b81bb6e-7494-4a93-a8db-3e10eca3ed5f': 2.475760482747708e-15, '7b747308-1aa9-40ef-9f8b-1b6643da7b7e': 3.6476869233737845e-18, '7b2d52a8-be3d-4c1f-86c5-5152ea69d2b0': 6.086896316291694e-15, '7b0659c9-55dd-4be2-8bac-444777d2fd34': 4.5648216664221917e-23, '7ac700e8-2062-4cfd-8359-a403b52042f2': 7.093996302650369e-16, '7ac5db17-3456-45ab-9a91-ff13a5fee8fb': 4.0311248617877306e-07, '7ac3ca1b-35c5-44ff-945c-2e75e1c21ce5': 2.7456016348589023e-07, '7ab41d12-9ef7-4e94-883b-e6b8dbeb3274': 2.1966267168529065e-09, '7a77a7ee-ccb3-46f3-825a-522b7f86a37c': 5.124426669949264e-12, '7a6573bf-92fb-4b4b-be67-6504560bdbc1': 3.4923635526501025e-25, '7a5dd350-e7f0-4d2f-9a3e-ca4fbb2891d7': 3.461082745954847e-14, '7a4d7efe-433d-4072-8d1c-02d7ec92a4d6': 7.795172221253341e-13, '7a45875a-4c1c-438e-a5fb-b9fca784f6b5': 2.61457455775672e-13, '7a43a403-fc31-4921-b79f-4d5024728ab8': 1.2703317310240895e-05, '7a3ff7f0-d8b7-41eb-9db7-a5f2082e73bb': 2.2996495680792476e-12, '7a23594f-a8c9-4d6c-9240-28d7b5e6c666': 3.700726604543747e-16, '79bd1ab7-bc7c-429b-b450-826b3f99d65f': 1.5377220653823568e-06, '79a2f19f-e881-4ce4-8338-49e2b01598f7': 9.486905785847829e-11, '7967d923-4709-4111-b48c-487e9aa375e2': 1.53375179445928e-09, '792d8b85-4a53-49e5-b2fe-a7eac15f8571': 1.0955087118427238e-14, '790590a1-1d5f-4ad7-98c7-62678d6c7740': 1.9700763983845546e-11, '78d8de53-d276-40dc-8d1a-8f48efb64837': 5.1089215894125995e-11, '78ac56f0-a15d-447f-bbb1-c6a193de85ba': 4.2326514869823825e-07, '78a73603-349c-4d12-8345-1c5696cd1de3': 5.992164077838498e-15, '789c1cd3-a9c2-4e96-b4c3-be01b972e686': 4.0807916469623647e-14, '786a6e51-1016-4a0f-9294-e2d29a6f38d9': 1.9667659390269983e-14, '78649d4c-68d0-45de-8a25-ff50753b52b7': 8.889742181095299e-10, '782bb853-fbda-4a6e-ab4e-b2efb98bc596': 5.08932276624803e-12, '78246d8e-bb0e-4f64-9ed3-4175811c6fd6': 1.2610095151652587e-19, '78205a21-c84f-496a-bbca-22e9c6a6db63': 7.020844220984893e-22, '781aaf85-aff7-480e-840c-2c57daece622': 1.960729913310176e-12, '780bcd27-3133-4436-8958-f8caaed12859': 1.774366170190796e-07, '77f46359-bff0-44ae-bfe9-22e1cbf082ef': 4.900701368011078e-12, '77c50417-e464-464b-bd3a-0a9e6ad53911': 4.4154035102201216e-18, '7794699a-05fb-43be-a751-5f2c5b8c52ae': 9.43239999174358e-08, '77606484-1724-4ecd-af75-e82548570c7d': 1.374562002411807e-15, '774ba0ae-5e2f-495c-a3ff-da6509e6daa5': 1.365285849160027e-10, '76841595-4dff-4727-8c66-4dda62148799': 3.9735301066793605e-11, '766eed35-2393-4b88-87e8-a087e16abb4e': 2.3860187782530207e-08, '764d4b2f-0b57-4ac6-9e9f-1a6cd1116314': 5.187652956357446e-14, '76390db3-db65-433c-a071-b4783f9904c8': 4.336508220941245e-12, '75d460d5-067c-4d63-b61b-0822ad51a7e4': 1.1767403701248592e-10, '75bfdae4-253b-46b6-817f-07fa1d415a90': 1.6651162709067893e-16, '75846e6a-0ad0-4c3d-8585-c9064bcece11': 2.89178367904205e-11, '75664b2f-fe1f-493e-9bc7-96c265243a95': 3.8255523763210535e-14, '753b6143-9008-46ec-8b28-452b27675c58': 1.3302195889783025e-13, '75295358-bf08-4d04-b49f-5de163a5b56c': 4.0443418499480276e-11, '7512eddf-8fa3-420e-9d52-b8ddea1a7cc7': 5.082897959469359e-10, '7502af38-fdad-4652-97b2-6d9d5c15a662': 8.965661731037986e-09, '74f4297a-5eef-4f77-ab6c-cba561bde8d8': 2.7345923298029317e-11, '74cfd4a7-3791-4be3-bc95-3569aaf8a820': 8.410298899388306e-09, '74cb809f-ca6c-4673-b6b7-212d5f06d531': 6.519784451423872e-15, '74959a22-8d13-4541-a213-3dbd919d68a3': 3.446714913672611e-13, '74958007-a3e5-42a1-befe-fc7e04202028': 3.010859950947167e-09, '74550767-9341-4c7c-83f1-5d388ad08cdf': 8.050947932088209e-16, '743c935b-90b0-4bf7-91a8-a70d0bea1553': 1.4691108324137944e-10, '7409c8c8-9362-4a9a-b415-ce8f234c1e85': 7.733561637603898e-09, '73f3d2f1-4d87-457a-b168-f72693ae255e': 3.726863668216912e-15, '73e2cb9d-ec76-49f7-beeb-f0b3c799dd20': 1.0211177938372444e-11, '73dad060-3cd9-49fb-81fe-a779354792e2': 9.160780979249231e-12, '738fcbec-263d-41f9-95af-5d8edc350fc8': 3.549735271949485e-09, '735e62f3-b4db-43fa-be08-e4c9c84a88db': 1.1052221557179196e-14, '73046ad0-5e36-4daf-9816-3354ca5941c1': 7.405706855402061e-08, '72e7381e-a515-409d-ac26-89b8d62ecb4f': 2.299446580481655e-14, '72e5eabc-2a2f-4170-b10c-058d2c2b5780': 2.140825316017202e-06, '72e58303-0e2e-4eb1-80d6-cb6d819eac21': 2.1036512715380456e-28, '72e1e1fe-bd34-46a4-80d5-c45d32388aef': 3.1525489790942166e-13, '72d83fc2-16d5-46c6-bc26-8d23101500da': 4.262022126488934e-08, '72d118c2-8d8b-4b24-95e0-95bbb5ec757f': 2.9835233890731014e-12, '72a4d487-87b5-4127-9373-ce5d8edf12fc': 1.6600703514694868e-13, '724d3f39-580b-4085-b6e1-49986495dfb6': 1.9308697107250268e-12, '7230c646-0bc0-44e7-b012-210fbb9deb32': 2.702986706898166e-16, '71fb26d9-0107-478c-ba42-6f084e9d7d30': 1.2860042871956327e-10, '71b36f0b-4426-4033-b479-b29b159cb1e1': 3.634355326276946e-13, '7186bc7d-eafa-4674-ae19-d234198cca5e': 2.3921630639733914e-08, '713ec7a6-8245-4f77-8b6f-6e107e49691a': 3.5719980153128516e-13, '711df77d-95f2-43da-afb1-1618d7422f43': 5.140834063860765e-09, '70f73365-2860-4a92-a5cd-ef8d3e7c82e7': -2.311762140880044e-13, '70f67a65-55a6-4436-a945-8075dc733be3': 1.1316366864101955e-24, '70d934f8-0934-4673-9184-b829166bc1dc': 6.910797388613382e-13, '70ce2e96-77e6-4f4f-aa1a-0f41bfca968c': 3.6526775178662114e-05, '70cd954e-ba6d-4200-abc6-c9b26fb696b6': 1.3611721911940676e-11, '70c8e17f-7861-4bc9-94d3-11466e9f3b2c': 4.1307572312371813e-16, '70c1fdf3-4d6e-4cfe-bd49-a11552dd4117': 1.6612664707327802e-20, '70bcf657-9c46-48a2-aaf4-9ae8f149c5bd': 1.7804993252795416e-13, '70a25ffa-a4f5-4e6b-86ee-5bc75407d1b2': 4.731234746276388e-10, '7081e0d2-a836-43d7-b00a-bb7c68f83000': 4.019324025668814e-10, '705a94bc-c1b7-4517-b4c1-0d14efc8c0e1': 8.693557683035864e-14, '70497d4f-1e86-4bae-83ad-87bf72c3a69e': 1.617604815506711e-13, '6ff0adf2-c3a0-4df5-a0bd-b0e073802ab4': 9.889172146625084e-09, '6fea651a-5450-412e-829b-13a1765be076': 1.6598712298177306e-10, '6fd2c2eb-61cf-44a8-bc7d-a1f3cde02316': 3.3390259086806713e-09, '6f808c10-431c-403d-8c40-b1a484cf0f57': 2.357741693989345e-11, '6f40b554-76fa-4539-af7b-37bc944c30ca': 4.567126466675183e-09, '6efee742-28f7-4778-9885-08b572bf3341': 4.10243036110713e-08, '6ef09fd1-4543-42d1-bdff-3913d45d3fc3': 7.095344707877028e-12, '6ed2e09f-f7b8-4704-8237-1665be388d57': 2.3156086416168454e-15, '6ecb2e50-0588-4a7b-a711-8a0155631b65': 5.209359714627687e-13, '6eac643d-21dd-4269-876b-43f199518e78': 5.339088935975521e-09, '6e65ecc8-51a7-4bc9-9d11-948cd02c0111': 2.8092607926158844e-12, '6e5f5cf6-1e3f-41c7-ace0-53196420de2c': 3.5110027949225856e-10, '6e5632c5-c134-43a4-80f7-9b6355ea1bb0': 6.543952656902865e-09, '6e430fa6-6589-4dea-ab07-d17a7940fbf7': 4.610865044402875e-09, '6e3227a6-91a8-4357-acbd-6b7add137e10': 6.876732825254057e-10, '6e0b12e1-6283-48bd-90ff-9500878c6e8a': 6.176404380984444e-10, '6ddd1198-7c74-4761-a92a-7ad20dbfa701': 6.335750057612783e-11, '6db4b910-1d30-4f02-96d2-f85962b516c2': 8.069853625840544e-14, '6db00419-379a-4029-821b-d3c01be7bc2b': 9.68236223662444e-13, '6da749cb-5b03-4c3c-93ee-f1abbe95ec99': 1.3424817955542215e-10, '6d4f1833-efef-4154-981d-d202bc5bd37c': 1.0122015034203967e-06, '6cf639ab-3eb5-400f-b0a9-3e25f2eadd86': 1.453208887733592e-19, '6cda99f7-40ba-4a9f-a339-7ecaf78cd9c6': 1.3038105815155354e-11, '6cc9cbec-b453-4120-8496-b947e5d65f8e': 1.0508121573649699e-06, '6cab09ff-d293-4673-9043-b2f7988cce38': 2.863666467450053e-23, '6c6ab691-7e6d-40ac-89c8-83ff5442a117': 4.319374805704596e-14, '6c5ac886-29ff-4e8a-b1c7-4d5c88ed20bd': 6.428902153226484e-10, '6c58b41c-8cfd-4132-a827-1138593e2562': 2.3260400721984604e-09, '6b750e39-dec9-4a12-af65-534df2701bb3': 1.1570419600622076e-10, '6b7160b3-b360-427d-bca0-ce96ec9f81a6': 4.692268579723388e-10, '6b51a8f6-5bf6-4af1-b063-c7a6f3f5e357': 1.827450733049677e-13, '6b37c043-ed06-4019-9864-127264a8d4cf': 3.607073750559577e-16, '6b101bc9-e095-4010-aae7-74870bb9e550': 1.510565182518307e-07, '6b0c05f3-c59e-4c5e-9e33-af25f5fc5f2c': 3.3707359680994818e-15, '6adb1040-6062-44b0-8cce-5cfbfa7e322a': 1.9750819209892923e-17, '6ad14ba7-d624-4fbd-90bb-55b52e9e8e06': 1.0198094292812905e-06, '6ab25054-27a1-49b5-b3f3-1dd0c1ef989a': 1.6228894533462937e-10, '6a8d32f6-2d17-4920-8d48-fff5d05582ab': 3.7790864528880174e-14, '6a892e6e-111c-4942-95b7-2749707be119': 1.5719240314192762e-07, '6a6b7092-dd71-4381-9998-eea9d719f174': 1.8113897700497648e-12, '6a59052f-b369-490b-abe3-a4d09fceb115': 6.302116317780868e-12, '6a07f77f-e93b-447e-954b-a59117b21b07': 7.456564631080972e-16, '69fea002-539f-499c-9185-d04b3f2800ea': 4.2027327888192844e-14, '69fafc49-34f9-4c26-8704-7706a68d103d': 9.134264713586203e-09, '69eb2f48-01dc-4b04-bce3-b1600425a264': 1.545261481984072e-16, '699b5a2e-c8ad-4a2e-aac7-a2958088a0a8': 1.3153537996610818e-10, '6986cb6f-d4af-4d5a-9183-6d01d18d8873': 7.777118832234809e-09, '69729def-37d2-4816-8ff2-97408c6a721b': 2.2934619815832447e-12, '695b22e9-0bb4-465d-a709-e96602900a8e': 4.0273043228208995e-17, '6958709b-382d-4c29-be85-1a49196b265e': 7.478681278159542e-14, '69392aff-7431-4b7a-aaae-fffb58e519a7': 1.2749744829341148e-10, '693833f1-5e09-4114-997c-73b7b407c7a3': 8.877654046931176e-06, '691c2c25-db83-407f-8ef8-d7e36bed157c': 1.5338390464223138e-09, '6919b8be-5a0b-4587-b24f-e8288aab1305': 1.4548046273987964e-13, '690f8b99-ad70-4fed-92fa-16f4f29850ed': 6.33296042328508e-09, '68da0f3d-28ef-467d-821b-bbc8636b9bc6': 1.9261875911432328e-28, '689ed4e6-ec94-45ef-a4bd-dcf93c4d9899': 4.440819212751228e-12, '680590b3-e211-4c08-b69a-2d66b89c175a': 7.989974315837212e-10, '67d3ec40-8996-4487-b36d-f467d8285662': 1.9404413426013693e-11, '67d241b5-691c-4701-bb35-2f4485ea1a07': 4.925484277289995e-07, '67b8545c-33d8-4f07-8f67-fa846d14164f': 1.6272576685763274e-12, '67780160-0d8a-4fd3-99e8-3f2a1090e30b': 1.1083772433893111e-13, '675d78d2-2384-4015-a9e8-35787b5a6874': 1.8136682310948745e-16, '674e5572-1a02-429d-8048-8ab6c946eda0': 2.794727076298207e-19, '674b19e9-20f7-4414-b549-9128b3de2530': 1.80796428568701e-12, '6726b61b-a55b-44bf-937d-502c381985c2': 3.132070728789366e-11, '671f4fdf-fb3a-4c41-aece-7dc8a9aae96b': 6.442436130695579e-10, '66efd7db-f784-4e13-abe1-f18a4596f9db': 2.8480185007502366e-08, '66db5c34-ae96-41df-9634-91692eff6dfd': 2.1225230022907392e-16, '66d4b549-81be-4350-b3c4-bb365503939a': 1.9599639171516496e-16, '66d143a4-480f-41c4-8c07-5c3ebf99027c': 2.1916864906523707e-07, '66b2fc76-b3a1-4dfb-ad80-5916c623d0ad': 1.5766335311589945e-13, '66b15f37-b949-4c4a-808e-9fead42c6e5d': 7.653236020351308e-09, '663c20b6-7924-4593-bee7-d7c31caac734': 8.409564388248044e-28, '65e7560d-d0c6-470c-b98a-48a29c7f6f4b': 2.377889409951058e-12, '65b1ad81-c7cb-4eeb-9a63-0cf5631e23a0': 2.890808133912773e-13, '6559b78d-4dd6-45ea-bded-26cb2505c654': 5.831778470280226e-23, '652db45b-a66d-4278-8965-947e1bc72619': 3.2831468053149605e-06, '64fdc02c-9c3e-456a-9733-bb84ab5d52f5': 7.528403578746985e-12, '64fd5e4a-10f9-4035-9b82-c1d272e0d126': 9.039859828922572e-12, '64e7eb56-23dd-4d09-8a9b-28304342a633': 5.661174064794631e-10, '64e05324-9009-456c-a88f-a4ddc9f7f6ca': 4.567126466675182e-13, '64c8c9c3-92f6-4306-ab31-548ec7cbcb44': 2.390748376457086e-13, '64b860e4-415f-434d-beb8-af1e15314731': 4.599350208259024e-09, '6453626f-d150-4993-9a8f-8630de8d117e': 6.016070229961475e-15, '642d9add-3475-4a4f-9ff3-8473723d69ca': 1.4823698703032165e-10, '63eb7c27-8bdb-4eb2-9ee2-25a1def10873': 1.700867690407453e-06, '63d91c4c-480a-4c47-96cb-f21897639006': 3.183759375386743e-06, '63d83f40-1e9a-455c-8be1-19f42a982f98': 2.9307141220582746e-09, '63a40759-bbd9-4f7d-bee0-c3f146c95ee5': 2.084076763147634e-14, '63394cff-ec86-45f9-a915-92286692ac36': 9.360563210939542e-06, '632464fd-d2ea-41ba-9577-fc2ee42bd1d1': 4.88281945243468e-09, '63244399-04de-46c4-adba-f9540e54afd9': 6.732490851600975e-12, '6312aab2-2bcc-4149-8927-f245e580e7e9': 5.596321531572695e-12, '62d96fe1-2180-4288-9b3a-c4dc4a7df84e': 9.350884771117843e-10, '62d3d6bd-8440-4fdd-ab4f-ee679e3d615a': 4.2235331452600717e-08, '62b0b27f-6273-4715-ab43-32295329f70a': 1.8351041050885234e-06, '627d6e33-77b8-47f0-a03a-9be8439d1ef6': 1.5939722540960077e-14, '62511860-6dec-491d-84cd-386c86b00d5d': 4.096483480848639e-08, '62333e9d-f75f-42cd-abb2-096db3963f0c': 2.9495796521846016e-11, '620b9ef7-9178-4e3b-92fb-509a5312352d': 2.077288070409009e-09, '620b73d3-9d13-472c-b5ff-8e59afae26ca': 2.136725943071158e-10, '620a1212-7c48-4205-91fa-3bede94706d1': 8.732115118474053e-12, '61fa6377-a5e0-4bfc-8e30-ff038bd9a94c': 1.961237711662904e-16, '61d0155d-459d-4b72-a92a-ef160288ca09': 2.458115689721113e-12, '61b3f2da-78b3-43c0-82ad-471a4eb061ee': 4.0384775150851927e-10, '616063b0-1836-4e7e-820d-69553f36fb92': 1.2275495604769578e-06, '615125c4-007d-4df8-875f-a12336d973a9': 6.584423477845802e-13, '610ace14-f429-48c3-b9ab-5d580bbb0701': 2.3340629734861238e-07, '60c31c7a-b819-4a8d-ba57-69529fa82cf6': 4.86470807464914e-14, '60bf9cb3-3787-4a98-9fe3-0aa877d3e8bf': 7.41625939922717e-13, '6085cfe1-9ef5-48e2-ac20-3cf647bef23e': 6.045127121381306e-16, '60772a5b-107d-4ceb-bd88-a7c39c0d1008': 3.6854098521159613e-13, '606ec676-11c8-48f1-879b-6a44376fba00': 1.0822378398927402e-07, '603d89e4-8a21-49b7-8068-96570a247738': 9.34707622464769e-18, '601dc52b-e165-492e-94fd-0f79c879007f': 1.0912914233083692e-10, '600c0664-455d-4c1f-a595-c434c652a0cf': 5.4999424092140786e-14, '5faf4844-5803-4ae0-a0bb-2d3412d6ff7d': 5.3838636467257145e-14, '5f7cbae0-5a4f-4bef-b920-b7f26346f2f6': 2.756678894675681e-20, '5f798997-a88f-41cd-b844-dd5968635627': 2.6269642200198063e-10, '5f40b679-f7c8-4539-8b9e-52bb4949034d': 7.155563371554284e-16, '5f3f71fb-1728-4f21-9504-554d535a987e': 8.450258790896095e-10, '5ef69226-a806-4248-9566-a8bfb6e66db7': 3.7001739783463e-07, '5ec698ab-53f3-4b29-8bf8-2dde475d31cb': 3.98797759156719e-15, '5e608d80-62d8-470d-8cef-3b74d3ec0e2b': 1.8718240496354002e-13, '5e450abb-0b5f-4319-9050-3ab960907dac': 1.6294276043374502e-16, '5e286557-2b79-466f-a34a-976ac67a66b2': 9.94495312608336e-17, '5e0394d6-914e-4e31-9c01-0d8990e510d0': 8.161262817946137e-27, '5df5c4ad-317f-44e6-9f2e-d2c99ed01cf2': 2.7723691821468508e-19, '5dec8c21-a989-4e3e-be9c-4c7f6a296f5c': 9.304641102510736e-11, '5db6e456-62f0-4c16-a857-37f95f49e909': 4.611944951015229e-06, '5dab221a-1f84-46d9-a369-3573e66e1467': 1.635070221462095e-11, '5d69cbb4-6e14-444e-8632-fbf5656ebe18': 1.7217608181939666e-12, '5d40c312-4e76-4bc1-94f8-8a86f82e21e4': 5.6479008976596175e-19, '5d0509bd-9a17-444e-bddd-7a6ab183a183': 4.074930986617886e-11, '5ccda2f5-aee5-4ab0-babb-0cb8e66920d4': 2.548771945119099e-13, '5ca19a1a-6f23-43b3-ae75-cb020f14526f': 5.201589343102129e-14, '5c3ec8f5-9204-410e-83b1-80a99ffb3b8b': 2.782668982367797e-16, '5c375365-b647-44b5-8540-4daac69162f0': 3.943754335251645e-17, '5c32f85c-23d4-4f92-a28e-e6307fab611d': 1.13854170554012e-11, '5c2b29f5-3df0-49d5-bdb8-1fd12e1d4e8d': 4.971153250090299e-13, '5bd56907-415d-4e3e-9ccf-60b1af9e09ef': 1.4137282140634714e-18, '5b56db52-ff59-42f9-bd04-c393fc92d96c': 7.999789758526518e-13, '5b2ace43-da00-41a1-a503-8ed1bd69b479': 3.4714224908959067e-19, '5b1c8ade-f267-4322-b25a-d05885a940ec': 3.2388536776317777e-13, '5b06d83a-6034-4cd7-9a57-60bf34e79636': 6.672144707076788e-11, '5afa5412-5833-4e9f-9eb6-316ae5980bde': 4.3443212987151764e-14, '5ad8c215-9b34-4811-b368-20efbc5c1636': 8.246477399963304e-09, '5a97e08f-074a-4532-b5ef-fff541311f0d': 4.845126546469032e-14, '5a851817-1080-4cb1-a436-75c4d1bda605': 4.9728595186756276e-18, '5a6804de-9896-41bc-a6a1-3ed7d998d833': 6.675162204383798e-11, '5a5350c0-48d4-4b0b-983d-3429270f6c53': 1.5533358230643223e-08, '59f62b64-b289-4686-9545-781e7ee16d34': 2.0544147249301915e-14, '59c2e395-e68c-4e85-8b1f-4af6d4bd6c40': 4.744204689186157e-13, '59ae1941-f482-4fcc-a586-8456b873f3e1': 2.670614293284425e-12, '5963edf5-0bdd-4b29-ac4d-3705477fe07c': 1.6398981793640518e-14, '59507cbe-f15b-49f4-a015-d082663b3ec9': 1.5769586268349764e-08, '593e01ef-c2bb-413a-b8bc-1462301da5cc': 1.3145177973526157e-11, '593df0b1-4233-4ca9-89f1-6a8817331d91': 1.6437819095906023e-08, '5932c94b-5b60-4759-b98d-b8ba0d4ccdfa': 1.3312144953414346e-11, '592a4dd0-7a8f-4238-9683-75c925fae99e': 6.369730706324367e-23, '59203421-ab7d-49fb-b9b0-40495305dc56': 1.5692719019057157e-14, '5916b9b3-d1f2-4c98-bc20-a39a45d0c7ec': 3.864149345005263e-08, '58941e27-2304-48ab-8552-2420d1b1ec36': 5.342631524028329e-15, '58746e94-9f3d-422d-8b4c-f2191384f0e2': 4.9043344447114394e-12, '5835ba54-31ab-4fb3-8ea9-74b19afabda8': 1.4116588247230555e-13, '582fb2c4-d1d9-4f1a-b078-1b556992baee': 6.670682136012441e-16, '582e9042-e162-4da7-a1b2-8916ff600199': 3.2489756971636915e-17, '580ff147-98bc-48bb-8307-95f347905b9d': 1.6040296693917376e-13, '57fe6a6f-d515-4c8f-931f-287322d7f0c3': 3.2730455067111824e-12, '57885767-7b87-4b23-96b5-938a52e1d0be': 3.0935976777412616e-10, '576204ce-6d9d-47d3-b538-cb613a3b9887': 6.013471015186826e-14, '57024429-400a-4e9d-9b2d-f62a3fa7b67b': 3.9821692628291707e-14, '56d773ae-5d20-4b3e-bb8b-e7fc796ccacc': 1.9192905686296466e-16, '56b4c555-3e0c-498b-aad1-c58d60b2d461': 2.482352718813709e-10, '56ad6b11-9cb1-4641-9ec4-7507590de2da': 1.2543709472310041e-08, '565d4a48-b616-44b8-932b-062a5f0f7eb2': 1.0475160071849801e-12, '56591e1e-1025-48e1-94f3-e656f86fc82b': 1.1421023447416337e-12, '56545a9b-599b-40a2-a426-e717b4808cdb': 1.920453827409889e-10, '561905d8-e72c-4eda-84bc-5975fa3a6457': 8.096902360894206e-12, '55fc6c24-c6dd-4f0a-a596-d21d43909998': 2.795127667835263e-08, '55ea9074-ebe9-45a6-97bb-9a38824f3a63': 6.327934627766745e-14, '55df3be3-6c47-4175-9307-86c3fe2f51d0': 3.053700701216926e-12, '55dd724b-c6b8-42df-a780-e1dd9fc0fce6': 3.5794863920071622e-12, '55db3112-220b-48af-8b2c-8d052c383ce2': 6.402177752741258e-15, '55ab1457-7f22-44d0-9873-0bf73e379a75': 9.001999359880347e-13, '55968460-1b9c-4fb8-9c76-0d53bf460071': 4.1912834488350614e-13, '5595788b-67b6-4363-b270-c0092f86cdd1': 1.885495606239787e-30, '553f0b49-ccf0-4fd4-b747-221468be41e4': 4.614600513202036e-25, '553dd554-2c9c-4b46-bd5c-a811237139cc': 1.9812442372301187e-18, '5530a29d-efa0-444f-a595-d4a170b2f170': 2.4232380904365205e-09, '552e1ef4-5800-4d7f-8829-f0cfc4c0f92d': 4.66979746138145e-12, '550eb53e-88ef-453e-87b5-22680ccc6868': 4.877987674023959e-12, '54f9c6b8-58d1-4acc-b4ee-1f43b301ad9c': 2.330211649598276e-13, '54f38b62-8ef5-4a54-b5b9-e5c88d3f6898': 1.2298270804101553e-13, '54e1acb0-8a0e-429a-854b-26566457af33': 2.6541486308649424e-16, '54d12f16-2ac8-454e-adbb-ee5fb4e79ca0': 3.272092708074563e-09, '548c9da6-1153-49f2-901d-1e9b3ebeed3b': 2.756678894675681e-20, '547688a3-4275-416f-bef7-8b461ae20d04': 5.748543934897157e-17, '5454e887-e7f4-42a4-bb5c-5a7f48171e52': 9.23262046372585e-11, '5424792c-cebb-4119-a739-cac611a9c9cf': 9.852824153962296e-09, '54232970-df96-4a74-a94f-68d30b0ec2d7': 2.1280093465370793e-14, '54145804-25ab-457d-b79d-634eba5e7a1a': 6.5739219377672205e-15, '54142350-6580-4273-b874-33ac372fa902': 4.642034906389006e-11, '53dafb9b-6aa6-46f6-bf10-3881cac4a90f': 4.8394647626025475e-08, '53cf8ed5-4b29-435a-b5f4-29082e10f563': 9.569756289619562e-40, '53a65475-a597-4946-a631-8b3c1e0ab0c4': 8.433235190882988e-19, '53748021-172b-4949-bd80-b58eaa551a7e': 2.78647304551161e-06, '533d5961-7541-4c5d-b5be-95ab4e458157': 4.553531972980725e-09, '53155c89-fdcd-4536-9244-22752f10e7cf': 5.310245309550034e-15, '52f4478c-2c79-451a-b90a-16f7c984ab98': 3.025484387799332e-13, '52f20d92-b983-41a6-b3a9-87f068561d99': 2.068795443279795e-12, '52c5fe8e-fd17-49dd-92f2-bc2b74228b8c': 5.4509962446534724e-11, '52a1b9de-c993-4e08-89ba-9d5aa8d48a82': 8.498513520837373e-14, '5284e4d8-66b1-4485-98aa-5598cd9d8058': 7.635216515586491e-10, '51f5573e-3bca-46c4-b935-ecb87444cd32': 3.319474736808308e-14, '51c9e0fb-a193-40dc-8cdf-be544c7b897c': 0.0002546400075938856, '51b9d66f-7180-4826-af32-97f602479c64': 1.412484815122154e-07, '518eef5c-c022-4dd6-bdf6-bae094c1c18f': 1.0948039077010108e-32, '51211800-2985-4c6b-901a-5400b064e4f8': 8.545918937260206e-15, '5115f5b6-e89a-4474-b5c5-6cf3bb205a2f': 2.1408392438567512e-11, '50fc614b-86e8-438e-b435-7e0bffd89682': 8.382851379927725e-11, '501461c9-1346-4926-80c0-9709cd91e10d': 3.1848416086464504e-15, '4feca961-83bd-4771-ae0e-122be053ce9d': 1.319674575072115e-13, '4fe73a04-6e81-41e7-95b5-c83d977f2f1d': 3.0286591676484636e-09, '4fa0ec48-351e-41c1-81f0-caa3280b1c34': 1.186400797732113e-12, '4f7854cc-57d8-4b53-bc9c-5e395be37417': 1.538577979221908e-08, '4f74cd65-b22b-4874-a4bb-b2ee6a50059b': 1.1051846957178733e-13, '4f05ff68-7bdf-464f-b31c-32e7e8d5b187': 1.6027546071021018e-16, '4ef035af-d993-4d5b-ac3f-822a577ec5c8': 2.756678894675681e-17, '4ec6b7e7-a9b0-4f45-a9cb-d05b320e6a96': 1.4939602693334006e-13, '4eb3a2d8-61d6-484e-a294-a46dc107e393': 1.442063551331582e-12, '4e9ac541-cee5-422a-9143-54b0240253b6': 1.197362402420809e-14, '4e7f2009-808a-4a0a-8ea0-20820f01cc38': 3.602495659274337e-11, '4e67f2a1-9b25-4d82-bbee-d79d9118cd83': 1.313433568119216e-10, '4e6590f9-3fbe-478b-9140-f235e023f6ab': 3.544729314494237e-12, '4e4a2fde-9ccf-4332-99ec-aa379b1f32df': 8.262796769998271e-10, '4e3a0e35-e7fd-43f1-83cc-8a4b1709779a': 3.4739752847612355e-14, '4e10eb7c-a7ca-4602-964e-31b480945b00': 7.55593011104378e-19, '4e0d2717-3ab3-4f33-85d3-d56306dea9ee': 3.5769135964725295e-12, '4e0ca9d5-30fd-4880-b2bc-23f85844d596': 8.835427905939859e-11, '4e05843e-6cac-4611-ad26-98b26e456ae2': 2.8819815762815358e-15, '4dee841a-f05c-4cc6-97f8-92458a8c6924': 1.868801021939491e-10, '4d8db84f-4c35-4898-a620-3e865cd85ce2': 5.210727274284287e-07, '4d7727b8-2474-458e-a5ed-ea7d2d3c21ba': 5.95419386872469e-10, '4d76a226-dad4-4764-9797-f7e678e28839': 4.3614241921949e-15, '4d72d0fc-f004-402c-a0cf-6a017cbfd8ae': 6.657215152821351e-16, '4d66c1eb-c845-4094-b66d-ca7584e79e66': 5.241485736092687e-23, '4d54fa22-ca56-49c2-87c4-161d133ca6d9': 7.491802956719028e-16, '4cef9260-59f3-4e4a-b551-343bf697acfd': 4.7698088301879935e-11, '4c7dcb51-606b-4ee4-b75f-8b27d9ef700c': 1.0646676231449507e-07, '4c0eaa93-ff3c-4981-b754-ab1859f4599d': 4.648619990343281e-16, '4bffa3d0-6e59-40fd-9783-19bebe2324a6': 1.2920531312628183e-13, '4bf41128-38b3-4946-8dea-a913d35b4eb6': 2.9483384443228962e-15, '4bda0643-b71b-453a-bd01-fbdb4eb1dba3': 9.622483164734176e-15, '4bc96bf4-bdc3-4204-b137-5ff1e328e8d0': 4.280033225209686e-06, '4b99b367-aefc-4399-86a2-0f5571b799fd': 3.5109423652025573e-10, '4b8accc2-e16c-48d0-85d0-63896dd157ea': 7.464786279075837e-15, '4b80af07-3921-42ac-93cc-c2549f4e4f1a': 2.5299617432066517e-11, '4b7450df-191b-463b-bde2-fbc82e117587': 6.462381357966675e-14, '4b6021a1-1499-45c9-8bbb-469b962b3688': 1.520020227550534e-12, '4b33b3a1-d8e7-4daf-b96c-c7f9d5fcaf01': 7.87642469940798e-16, '4b25d50e-351f-46e2-9892-77fc61bf9c09': 1.8277702006347723e-18, '4b0abea9-2386-4d3a-8f80-59c105210e4a': 2.5756006245745723e-12, '4af760b6-2782-41c2-8ad9-dc65132d25d9': 4.4449255108632665e-07, '4af016af-caac-4d5d-9c65-4fcfc63de75d': 1.1565562908781816e-14, '4ad80f0c-c750-40a7-a280-a4b1f5937495': 4.155832834272914e-18, '4aa60bd1-90a1-4f92-ad9b-7634d2b68d93': 5.47999167165688e-24, '4a8d45d6-5c73-4c22-9748-2e002eafd241': 8.778955631285643e-08, '4a2a5b5a-10a1-4e53-a152-5aa4a1379fb0': 6.786796229081796e-14, '4a0b5678-c2cd-4362-8d65-6aaaecca3517': 1.4889274869539557e-09, '4a01a889-95e9-4f0e-a25f-a79cbfb824b6': 4.4643850970493453e-10, '49e72e9f-f2c3-40c8-b7b4-c048e43c521a': 2.687374824716041e-12, '49e334f4-de5c-48e5-8bc1-317f4354e5a4': 5.1291961286496954e-08, '49585790-33ca-4d5e-8029-98e837f09f5a': 1.2436047402965134e-09, '48baa630-b7e2-4f65-b75f-3961a38ba23a': 2.390536526973435e-15, '48ad63ec-ef01-40b3-b31a-eda0bfed51e4': 2.1931613745916735e-07, '489dcfc6-26ac-419a-aa06-3c180cecf50d': 3.4421442854732683e-06, '48873b7b-6186-443e-b942-b37367a3dca0': 2.3666116903865916e-16, '482a5375-2606-4cc2-80e3-356bfdacc9a8': 3.057556454324752e-14, '47def0f2-fb2c-42d9-b7fc-a3a4921cdfec': 1.1609207752863003e-14, '47d89e7b-1baf-424d-b5ff-645e503b6128': 4.4105677469570825e-10, '47d67d4e-a5cf-46bb-b946-a3a7b7c493c4': 9.864160792930635e-09, '47ce9d20-1e37-455a-ad33-2a2e1bde7b2f': 1.0762051546004608e-09, '47cc0f2b-6e54-4664-8cd5-907657817bc9': 5.944249400918905e-12, '47c0c9ff-eafb-4800-989a-f2f7b628be3f': 1.5079537782121633e-12, '47a57228-ed3b-46eb-9b90-1df421bff768': 1.6125818457676525e-08, '478c5815-4c61-47e1-b365-0f7d65766b48': 5.222737355378855e-11, '477636f9-af1e-4bea-85fa-787f2787d7d5': 6.383143846609023e-16, '475e6787-07e8-444d-a712-329886036df6': 2.146663642724665e-13, '4755033c-3898-4e27-93d7-cdec87b2bc20': 2.9688435063035758e-15, '4736073f-c729-4be7-8e4a-d5baa7983c1a': 1.5700854659221873e-09, '46ee39c5-22e9-4c8a-ae58-2bbd5e2e873d': 2.6879869015723815e-12, '46b4ba99-b39a-441f-8265-4fa8e331cc3a': 2.770622674418311e-12, '46a688b5-cd61-4fd2-b168-3f20ab5c4c37': 1.4244210081303765e-12, '46986993-a794-4969-8018-af68d02ac9ea': 1.4993059193143296e-10, '46906642-8d9a-4c67-a83d-58d79f13fdff': 4.89657399972395e-10, '46756dc7-0b08-45ac-b63d-be71f50a386b': 3.1156586195850872e-18, '466bd8e3-8637-4aff-b097-bac97d1e5ef2': 6.148503481126826e-23, '46361e69-3e15-4c6c-bab4-a23815bd07eb': 3.0743860527260175e-13, '45fb5b4f-a3ff-4378-99a9-839bcd4abc90': 2.7385660458440904e-14, '459ef7a0-1192-4a20-918c-df7288cbf694': 9.201361608491531e-10, '4590ef6b-883c-464a-9939-d817b37cb97b': 1.7075329207804561e-12, '458d671d-8dda-49db-a906-6a58ca241e6e': 2.550569049490515e-11, '457bc68b-3b74-4629-9b7b-2cb684a5498c': 3.9590384419986665e-08, '457b83d2-3314-4410-bfd0-25acd53c4a2f': 5.068823315589796e-16, '4563a30b-037f-4989-bd0e-f6182af03345': 4.412254650489001e-14, '454b2a2e-9800-4e3e-bd8a-cea30d715ef4': 3.7023365649231e-15, '452754e8-0f4c-497e-8aaa-5f938c688b27': 2.016998699408362e-14, '44d1c479-8a1f-42a4-b729-9f68fffe952b': 1.8141636454111125e-05, '447c73c3-4ec4-41da-bc2f-706ab6e7cebd': 1.7526949901678886e-12, '4453c59d-b4e4-401f-82dd-f2ed61cf7903': 9.803694368895748e-16, '444aa5ef-1a76-4f50-925a-a1cccdffc866': 4.803881803789826e-13, '43e85419-dad5-4285-931b-ed67efa6ca68': 7.619183271918435e-12, '43c94d85-bbd2-40d2-b1fb-6dafd78de038': 1.2959610890325085e-12, '43bc7e8a-483b-444e-8b75-eb5ef8339d39': 1.350780110459561e-12, '43b7d3cf-75ce-4836-98e8-94e306ca576d': 2.18714542152938e-05, '43afe416-7a1c-4ed2-8354-bb43048e201a': 1.668606904211939e-09, '43a06e7c-5c20-4796-81d2-c57c5a4ade92': 3.2427680802684387e-13, '439f562e-5c1a-4871-af63-a38f786221df': 2.476469041091805e-38, '439b8a12-e367-431e-8b66-d787c55356f2': 1.5372415455704787e-06, '4397e8de-06fa-4a90-b93a-0fc935a234f3': 2.1054998006955683e-15, '4389be01-7504-4968-b3fa-4569e6e5be32': 1.20813007459806e-08, '4388e061-2ad1-4e08-9edf-331f4701cdc0': 1.0154680072110067e-08, '4377a3f4-2a4d-40bf-b673-edee78310db6': 5.081450819971314e-15, '4370dd6e-a9f3-4ac7-9ed0-faaaee45ed05': 2.8862915795126026e-11, '43696a3a-0ae2-4539-94f9-adc317ad9880': 1.63591687056122e-11, '432d4eec-0e55-4182-8555-5f392d5d22bb': 1.974664694050425e-10, '431fe20f-a1bd-4dc6-82d0-8a5483c85108': 3.0690108221198755e-07, '4305e33a-e47a-405f-bbed-519a3493992f': 5.161300152757283e-12, '42e7ec12-516e-4323-9b7d-7de323977805': 7.250901085319837e-13, '42e7b3e0-161f-46b1-a26e-531da5ead990': 1.130439204255831e-11, '42d64e26-cd4e-456e-b08b-c384fe24c149': 8.334545148371562e-11, '42b3aa4f-dbc8-4c91-adb1-b1f565c5988c': 2.431739173900561e-13, '42a6c577-e791-42a1-952c-956d3cfb330b': 8.819173449225684e-11, '423f1287-2cfc-41c4-b634-1a44f4a6f1e3': 1.598494263336263e-11, '41cd605f-c1f3-4e97-8f24-dacca1429325': 2.2494107240710955e-11, '41cd00b8-56db-46c0-8caa-e3c4df146c49': 5.4638406760560465e-08, '41c86e9b-641b-431b-b536-c3e477630bb4': 2.0887028931130554e-15, '41af4d41-2b90-4959-9933-907093062386': 2.2003155088441315e-07, '41a8c6bb-dea7-4a73-aee8-4bda6c095cdc': 8.010115218455393e-12, '41843a35-a0c5-4f26-886e-bf98eb2f52ec': 1.6389460102352717e-14, '41660902-bc69-4a49-a876-c10a2a8b0646': 3.367605267331994e-20, '40b9c11f-6fe9-4fa0-85a9-7f707a4a4048': 5.328534366932356e-11, '409caf6a-1620-43dd-896d-2b499b270919': 2.1378280214372982e-07, '408e0213-361b-4055-aa6e-13d9f17bd7c2': 4.6185929139755177e-10, '40561750-d35d-4a40-a71f-e4f62497a516': 8.761230142874572e-19, '4030e372-ae50-4eff-a8c5-492d654457f1': 1.1728940511842238e-16, '402f3863-01bf-47c0-a5b2-a48ff32b3a0c': 4.035787049272314e-08, '3ffb31af-ba1c-4362-ab2e-6681bbc34f46': 1.3221284760157924e-13, '3f9ebf1e-0df7-4071-ac7c-7965a004f523': 9.791894196643866e-13, '3f92322e-157c-408f-ab50-bdc1245c8f55': 3.971198829542566e-12, '3f8a4450-1b06-447a-849e-c65d4da9e73f': 4.551075353030876e-13, '3f64f131-23d8-4b68-a779-e9801fa692e3': 7.283983282408814e-11, '3f5c0fad-e88b-43aa-bd31-6384a8a5179c': 1.7797845426594443e-13, '3f2082d8-cf8d-4e32-b5fa-0832ab2c2ba4': 2.840752662269559e-16, '3f07f594-2c70-4b92-91c5-4ec3a984ad53': 1.8488555693762972e-14, '3f0688e0-9e5e-4224-b6ee-673ed5210f0b': 1.3445885580530727e-18, '3efdedaa-145a-4310-bf3a-efb9b22fdf58': 6.588866434169245e-12, '3efba93c-2098-4fdb-ab10-4d5ba6b3cec8': 1.7566741758010052e-14, '3ef3760e-65e8-472a-b244-68dc9833aea1': 0.00022426681100620385, '3ef1c542-580d-4112-9d10-72421ae456f5': 1.763562083991401e-11, '3ee812ec-691d-4230-83d7-53c21aa9bdfc': 2.7290079826593497e-08, '3ea3921a-64f3-4b1b-84b6-21b17f27deba': 0.00038993383377158993, '3e955b7f-5149-496f-be25-e763a6059ebd': 8.274524842762614e-12, '3e64e991-d3a7-49ac-8f4c-ed48cce3feab': 5.44208507959994e-13, '3e637876-418b-40c3-b1fe-b5200b1c7c5e': 5.456853115668772e-10, '3e516ff5-9049-407f-b410-60eb8a959250': 2.5242039886127337e-11, '3e4bad11-3c7b-43e9-a99c-23edbc9eb394': 1.3207516599476244e-11, '3e4272bc-0d0f-41d1-832a-bee2dddac0d2': 1.102756725531001e-09, '3e2de94f-4a05-4aa2-bd42-a35a022bb946': 1.2238069657334096e-18, '3e0172e9-bb03-4516-a402-bad5c6035007': 1.2799378575354865e-11, '3de180cd-bd8b-47b8-80d3-97dae459b372': 4.775367904534512e-11, '3db2177d-f2dd-4513-87d8-fc69fff2821f': 1.2215358125026523e-17, '3daa48f9-6bf2-4091-a51b-52b5de334e82': 4.567126466675182e-14, '3d86387d-6b49-4689-a4de-1d8def348a35': 2.1885874491490447e-10, '3d7314b4-db7a-413e-86ec-ecce86e56c93': 9.38296925410175e-10, '3d29317c-ab82-425d-9b9b-914529ed68cd': 3.705632133790259e-23, '3ce928ed-c2f6-48d7-9f01-733f38578476': 1.487246810672658e-16, '3ccc840c-ad59-4b49-8333-7a4699df1991': 2.784978126706034e-17, '3ca9a209-77e2-4511-bc1c-ba4c79303cac': 1.283936474152176e-12, '3c91c7ba-59ad-40d7-bca8-2b2891685645': 1.1625817920356934e-18, '3c566540-4d82-41e6-a3fc-e12965b15a24': 6.684520803909619e-07, '3c4f438e-5d1a-431b-af45-0d845dbd64f3': 5.93809493028152e-07, '3c3a2a6e-32af-47d1-bc45-825e48c7c57e': 3.9787618060330464e-13, '3c2eba84-2cf8-4c92-894d-6b947544b24f': 4.145014686599991e-14, '3c0ad68e-0cdf-47ef-8dd3-bea932efc723': 1.5822792791459105e-11, '3c027905-4c1e-4022-ac91-ddf348c300ac': 2.8765582882487297e-27, '3bec4872-dd04-4c72-8b3e-4e3699b86b10': 1.2099574626845724e-09, '3bd41724-dbd1-45e3-8fae-541bcc010ace': 2.2030962633140665e-06, '3b9fba99-8822-417b-a183-31774c1fbcfc': 1.0958508728373796e-06, '3b52e3b3-9cea-46f0-b24a-ab10e4f15963': 1.7355062314114903e-10, '3b422a0f-ddbb-4aaa-a77e-d060f8dda2ab': 1.4261628996198105e-13, '3b337594-5de0-420a-8066-65f1260ad944': 6.742853794675377e-11, '3b327df4-2175-44b8-a704-531bca5ca9e0': 8.132979388923216e-11, '3b26dd8a-9611-4ed3-8890-240405823a8e': 2.9773131118050044e-12, '3b0a5d87-7f1b-4ed7-808c-a17d491f8438': 1.2773078744205657e-14, '3ae6ad28-70d3-423b-bcf6-0792ad622c62': 1.5480799949238782e-08, '3acdee38-e952-47d5-8a41-e74b43dd57d7': 3.923670672467573e-06, '3aabc05b-28d2-441f-b664-15c2b482258f': 1.0914600552928373e-14, '3aa71146-1540-4dc4-9f85-ce703eb4a87a': 1.7172260545747835e-12, '3a823578-eb3f-479b-b510-f6a176085dfa': 7.621967283239474e-08, '3a616893-ae60-435e-82ae-767600516a28': 3.564804157893655e-12, '3a5e0062-6de9-4180-9072-790a507204fe': 6.311791918514487e-10, '3a452c3c-dee1-47b7-84a7-26da90e93eb2': 2.9128637912912082e-08, '3a42832b-9036-47b8-a5db-cc8dc7e9ce74': 2.536991820769394e-09, '3a3be55e-056f-40eb-82e1-9cb86f6b364a': 1.1485483853986678e-08, '3a1f4ddb-7444-42e0-95f5-ea7b21c860d5': 6.425846282548615e-08, '39f58748-ccde-4d9e-b937-cf1548d8b922': 6.658729146111497e-11, '39c82c87-65d5-48b3-9eb3-b5821cc3a4a5': 1.9296737438075386e-22, '39ace3bf-52ac-437a-a988-19b8a9bcc6c9': 1.4369185820819285e-09, '39a78272-dcd8-484d-9a4c-1c7d95852613': 7.03896994939392e-20, '399ad504-4678-462b-abcd-5c0fbd1facfa': 1.0639627257160565e-15, '39852759-61bc-4623-9a1a-69809f426168': 1.108478153025934e-27, '396d2ec1-f173-4549-9434-c108e28f3352': 4.2586468734246053e-17, '38fa0bab-e486-480f-9fa3-887b14ab4c21': 1.6383164878552014e-10, '38d25aed-f9b4-49a0-a12f-6b6842d878e9': 2.2292287988855774e-06, '38d1d434-5d82-4bdc-a2ec-0161a87fd8d8': 4.0809555659556055e-05, '38c013bf-49ac-4231-8f53-aebd3f8cbec2': 5.448796297708805e-12, '38adfb5c-124f-40f7-9dd4-c9e017cf8b89': 7.331568797011831e-07, '389554d2-f890-4701-9732-bc7af13805fe': 1.0857918776183078e-12, '38534a0d-3792-4d8d-bfbb-fc533afa42c7': 8.969936537494588e-13, '38436942-4600-46a5-838f-391cd0c695e1': 0.00019305326659823464, '38128986-0680-4f83-90f5-df2269a58c6d': 2.8058455047229437e-06, '3800c0c0-b6ce-48c8-bbae-e94a87e5384b': 4.409446183125801e-12, '37ee0153-10fe-4423-ab47-82ae8cecb173': 7.349858070724153e-17, '37e3e379-2668-4ca0-84a5-cd4414bb63f8': 1.7761677663496054e-18, '3795e82c-2c4d-43a9-a938-b3b3c8a8a3da': 2.964392768371938e-14, '37781f43-2733-42d6-ad9e-1f21af379491': 1.0223734209300253e-06, '376862e9-e9c1-4072-a3c1-0769631d6372': 3.2098838210929026e-13, '3761c3e4-9520-4446-bf02-bb731f5f4f74': 2.665082127571203e-13, '375e804f-46bb-4af2-be04-938c165a4855': 1.3452209482015056e-11, '374e3e07-0c13-4586-a2b3-fd0de827f486': 2.997784049045043e-08, '373114fe-97fa-4349-85fc-b77d02795b52': 2.054109326692391e-08, '36e8c96f-7e81-4146-94b0-71bf65695be4': 6.775961497846035e-08, '36e63adf-853b-4465-81a5-89574bbcfcf0': 1.7741564706592044e-17, '36e5c4c3-a58c-4d70-ad97-df37fb63c499': 6.825401938965903e-10, '36e03c1d-ca17-481c-871c-0117f0eb3343': 5.3408209715906326e-08, '36c158f9-dcb3-46b9-b9bc-a7785add9808': 2.769945423311503e-11, '36a9bd86-1206-4d6c-8e07-cebb5fb133da': 3.4033188115515245e-11, '36a5d941-742c-4865-98d5-a29b8d69e5d7': 2.8715394766803496e-09, '363b60a2-8a78-4a40-9e66-7b96751d1914': 1.9215631692361384e-09, '3638fca9-f227-4592-81a3-9741963d4d84': 1.3037518773147117e-12, '361a4d28-a74e-4ea9-b3e5-34a48032accf': 1.2517115162563859e-12, '3607fe10-48a0-4097-ada3-bafe47a97829': 1.939827579801017e-11, '35ff926c-11b6-4832-9f85-8df805ee61e2': 2.172600408178584e-12, '35cb0d7e-5a58-46b6-85a8-965f9958f3c4': 9.184026021127243e-24, '35ca467d-f270-477b-b7c4-231b5d048632': 1.343533639627931e-12, '35c5df48-87f6-46ab-a635-5e072008f226': 6.141154380974892e-17, '35b0ede7-55cc-4ef6-9b21-3b24e665d374': 3.8829054549174805e-19, '3591d349-cd8e-445a-9d59-d30dc38afba3': 2.085758741118154e-15, '354fe629-a375-490a-a7a7-431747a1677f': 1.4466878916314196e-10, '354ea22d-031d-42ae-9ff6-13814aee8ed1': 3.024566327301962e-11, '353e0973-844d-4722-b24e-5a205aa3507a': 1.660931281213336e-14, '3531b350-a47b-4d04-9685-f3d7096ec9a9': 1.8836455161067024e-11, '35202083-a6f6-4a7d-83d0-0268075b7de9': 9.452528767398269e-13, '350babaf-074c-4b3f-a2f1-eff08c7db42e': 7.48110145757694e-17, '35010ead-2f28-4cdd-a241-5aaffb8c798b': 2.6949055516817263e-11, '34f545ec-2e79-4977-bc30-7043abb4f43a': 1.8384765508227813e-14, '34e06d8e-e2da-4b90-86fa-da42b8ba86af': 1.1776964773152894e-15, '34cce29d-ae6a-4c7f-b28c-440c8ffb1ab2': 4.275612297530089e-11, '34ca484a-abee-4ad6-867f-730f26ff9e44': 9.548648920165406e-10, '34bc9c11-71e8-4f27-ad5c-06f6a9626058': 5.154041135728022e-13, '34b88f8d-51cf-41f8-b8cf-d0b746d1323a': 3.395744960771333e-07, '348e772d-34e8-4cee-a224-4c0779c060cc': 2.591107380291975e-12, '346dc60c-edd6-4a40-ae28-6d9a189950ed': 1.3257010290247647e-13, '345f7beb-e484-41cb-afcb-61f8b124c933': 9.336025260078861e-11, '343080ac-051d-4151-bba3-81480919ba8a': 1.423585265042559e-10, '340de051-0875-4cbb-af05-c334cc085b3c': 2.740066661308667e-15, '340c4853-f30a-4d25-8d5f-49fa795597f0': 1.0174704119879345e-06, '33de52a4-f6c4-47c5-a151-a21d9e330d48': 4.253382572937961e-12, '3394f937-7845-4117-ab5e-7b6789511a3d': 9.6270650658447e-16, '336c5f2a-f7e4-4f85-a09a-4c495cbdf788': 9.632116095562029e-12, '3358b85d-c68a-4a9f-84ae-308c50f063c8': 4.8739486754542355e-06, '3348593b-0549-4bb9-bf40-d25cdb503f87': 2.7435714395974607e-18, '332afefb-0b25-4e1d-939e-e4f29c565049': 2.1431988091867614e-08, '32f21897-66ec-4dae-87bb-6d02a9978cbd': 2.6167835435194494e-09, '32e58375-a7f2-4cc4-8856-023d4222cd53': 5.987666060600145e-09, '32cc22fb-a304-4f51-98a7-1b9e350dc77f': 7.815699112958624e-13, '32bc8729-78a5-4780-9a32-aed03a8dd856': 1.7867351625050695e-11, '327886fc-74df-4309-8954-d16ecd3c2eee': 1.29603621302309e-08, '3276ac20-eddb-442f-b705-2894066811a8': 5.094316234887851e-09, '321f4930-c4e5-4f4c-ac12-d8434f78689c': 6.997269963147979e-14, '31dd680a-99db-4a39-9d34-7d98445d869d': 2.744859954615481e-09, '31cfc3f6-0742-4beb-b8a8-2d52639a7e4e': 1.0729818660083591e-09, '31cf6335-8c64-48b9-bb07-2ab4c89978a4': 1.3783385755413633e-19, '31b825d8-69c2-44a1-8bad-e7e0982e2a76': 6.091634235154895e-14, '31b7bbd4-e4bb-44a7-98ce-a63418badcd1': 8.396610241546346e-15, '31b75c46-c7aa-4ecb-b194-05eedfaa7535': 3.2290274151849072e-12, '317f6595-a2d1-4980-9cf2-ae70f84876f0': 1.4994188702907803e-13, '31603778-d319-404f-870d-caff11b8a9e9': 8.827937952126727e-10, '3105f957-7f25-4cea-a437-e1d15f765aee': 6.264866451746453e-13, '30e36e22-b56a-404b-8268-9183078d493e': -8.174295841586693e-13, '30b57025-b1a6-465f-9298-59bbaa295a51': 1.5687653248257076e-15, '30ac5fa9-6d2b-4db9-afb0-f00ed9fccd0f': 7.036820439761286e-12, '308d9345-a840-4482-bca5-fbf1f0cd1bc8': 5.655823199162655e-16, '3068d8a0-b049-4724-9799-1b520732fb45': 4.092968154071114e-06, '3060fe7b-43fa-4454-8a31-37c063707a74': 2.9044957942021194e-12, '30457e82-1aeb-4768-9f25-e030e7224aab': 9.832046604390967e-12, '30303866-cce3-40b2-8129-00fae284ae9b': 4.590711677111586e-14, '3027de46-fc0d-4995-a62e-b599add55977': 5.506497240411675e-18, '300c28d2-e211-4fa6-afaa-4cbebb96609a': 4.013718989292032e-11, '3004a2ac-b065-4e56-b789-5913506384d3': 3.88872813509912e-13, '2fb8bc31-436c-4d58-9597-fd1bc617eed0': 7.239717934515512e-08, '2fb1a110-1677-4a47-bd23-28d552fc0536': 1.7932418117284992e-08, '2ee04dd4-ed54-48f3-8bcb-dd67493db120': 1.436412553292478e-10, '2edcb313-fda8-4d3b-a737-52c0f58ef97e': 5.664358832940775e-12, '2ed5f1c6-c12d-4438-9a95-f01655bc63ca': 1.852783480855368e-08, '2e7d2a89-11c1-43f6-b3a1-c1eafd25de19': 5.249212495027343e-13, '2e7aba35-85d7-433b-8d59-203c823b4d49': 8.577157455977579e-11, '2e179083-4359-4b25-93e4-4adf4c862821': 1.1718920591808923e-17, '2e096d5f-b37c-4b36-9e88-ca9350c4dd71': 1.1740602296312184e-14, '2e095b87-7320-4ce2-9baf-b1dddb31d7c3': 1.6552535001073695e-12, '2dfbace3-0872-4c81-b5d5-42b656637c04': 2.7962536650308997e-07, '2dea4274-b3a0-4371-8990-f27590766f43': 1.9863905373048596e-12, '2de000d7-76cb-4e0e-b218-092639830da6': 9.990612236137738e-11, '2db7b634-88a4-40b5-a12e-8be8f7b45089': 3.360519729076105e-11, '2db3a5dd-1495-4c93-b7e1-c06cd8f25782': 3.2019467566887e-09, '2d89c7e1-9980-48bc-a95e-fce478e8b631': 4.666818044164589e-13, '2d861d89-e02a-433f-952d-6d5fd1c02827': 5.1165063970311985e-17, '2d84de5b-a182-4559-85ee-0b52750883f9': 1.0563034930249542e-15, '2d79a0e3-42e1-4379-a2b6-9d9cd36cfd2c': 4.581120525511588e-09, '2d56ad8e-ccb8-449d-b8b8-13c3a0a9c0ed': 8.761230142874572e-19, '2ccde14a-09e5-4148-a4c8-74fb1cdea040': 3.687670353857504e-11, '2cb16e19-e3be-4a2a-bcc5-2f047790af3b': 9.007154125418567e-10, '2c8ec9c9-7372-43ef-bb66-1cc799539eee': 4.3459121289590175e-11, '2c6e3f45-fdd5-4621-8853-50e88a023477': 4.993268270733984e-12, '2c5c98ad-4773-4aa7-8137-4263212863d6': 1.0381037820914464e-12, '2c2f627c-ed52-416e-95d7-950cd9555411': 1.9358185501922134e-12, '2c25ba2f-e116-48de-9b8d-d073b071d4ba': 1.4880109829293413e-06, '2bff302f-7ee8-4c37-ba9a-17d39e9dad08': 3.2112391459268273e-16, '2be1c0db-b7db-4037-b23f-4b54e0d080fa': 1.2433789307089357e-05, '2b3de310-7d90-4f26-b377-4aaef2ae0e5c': 9.966615250464273e-12, '2b39a2a6-a75d-4545-9d72-6fa741802e39': 4.800361740080375e-13, '2b2e68c8-a14c-4db6-ae0b-f2bc2bfc0863': 2.424233237710842e-12, '2b28c0a7-68dd-4bf3-b35a-43205a1d3261': 2.9207766340488076e-11, '2b17039f-f215-4f6e-86e5-f27ca29ab88f': 1.4666261872562355e-10, '2ad6c14b-6af7-48a0-ac60-bd27b05cbf62': 1.1357149073216874e-23, '2ab91c44-aaaa-4b3f-a5ea-e9ec5a6f755c': 7.851862204663656e-08, '2aa189d2-2b22-4068-be82-dcf69adf20d6': 2.7723407878488254e-09, '2a73b030-2606-478c-a2a9-849282db3676': 4.9304924386706936e-08, '2a67a4c2-5b2e-43b4-83fb-19234755df6d': 1.9296737438075384e-19, '2a4dcc51-e3f9-4b22-9e98-4e056bfd8295': 5.927811828835156e-10, '2a18d251-5bd8-461a-9239-e454066f2af6': 1.2044886670556698e-13, '29f8bf29-de56-4567-9b29-3c9a7797ca3a': 4.975290631306166e-10, '29f3b9fd-678f-4e51-b0a1-68a506cb4050': 9.022275707960767e-17, '29f13186-2142-454c-aa33-7a879917fdd4': 1.0234261670553802e-16, '29d076fb-e594-4360-80f7-1acf7c1ecba0': 3.987981636519768e-08, '29c1ad0c-9960-4d86-be1d-50c2b7191d3b': 5.121104456266976e-10, '29b79401-cc46-4319-9726-b4ba7dfd245b': 8.90725845615991e-13, '29ae1e45-285b-4333-b78c-0319ea744733': 1.3178077728564046e-15, '29a9b7c6-d776-4826-a4ae-78380ca03dbe': 2.5620682313065343e-19, '29a09e76-6f0b-49a0-96ba-5d01a37ffaf1': 1.6607735737357011e-09, '29921118-c0a8-4406-8bc2-3041e73e9be6': 7.210201514858467e-10, '297b13a0-51f3-4374-b024-dca2e31f5643': 2.160491864295426e-11, '2978b190-41a2-4a1d-84ff-982a50ae3355': 1.055279692715539e-08, '2976cdd3-2c59-449f-bec2-05f84e9ab2b3': 7.395674001073456e-07, '28f08e89-8ae2-47b2-823f-6dfe2399ffc6': 9.776558940914744e-15, '28b802a0-0cf1-484b-b007-c9f23e0c8832': 6.223582630231247e-10, '286e89a8-51d7-4624-8e2a-b8ff1d0d0947': 1.919805295476287e-10, '2864b8a5-c5aa-496f-bd0d-d83ba8c5d726': 2.5362279807319338e-11, '28634f1d-22dc-420c-aa2f-c2f145c94bce': 1.3470573245837353e-22, '2811a439-647d-40b1-ad82-783ae6e5d2bf': 9.277856640655204e-09, '27db933b-0d97-40a3-bb35-62cc050d72ec': 2.6516512566346812e-14, '27a5df10-c363-4288-a2f6-a89143edae01': 1.085126599368215e-10, '278338ba-c5e8-4070-ab53-62b974191f4f': 3.9651504322367406e-16, '2780e59b-4a88-4628-917c-9b33b01a54c2': 7.910621692441873e-20, '26df5297-fc69-4e93-9803-174ebf85b89f': 7.761480042957446e-09, '26c62068-1a90-4b48-9884-8e7139cada1e': 1.063189410241128e-17, '26c2bc13-8824-4dd9-aa5a-4161c438ebfe': 4.5304801664232223e-14, '266d7747-7ec9-4843-b45f-496e5fddd7c8': 7.860273493845711e-10, '264780de-8570-4233-81ee-63c7637a4c1a': 7.666657576652672e-16, '26386af7-e765-40d7-99e3-76bdbd167766': 1.6334254740871397e-21, '26199a97-c983-4965-934f-a8137ddfdc39': 1.8170400985597442e-05, '25d17ce1-4069-4c72-b50a-fb5f175a808a': 1.7312547629468444e-10, '25a92123-27b0-4e39-816c-d83d96fca7e9': 5.369858088958987e-11, '25a07878-a7d3-428a-a2cc-5ffecbb825d2': 1.449266737791802e-12, '25912711-e97f-4c65-bdae-715cd1a564fc': 3.3127357644395607e-09, '255d2706-3fb5-4eeb-9a2b-de9b7dbb3244': 2.1404533744374984e-13, '25335827-0e30-4d4e-9605-cf2db7fae4da': 2.119598163411594e-14, '250ae503-f5f7-411c-aa6e-ffeeac92f707': 0.000275458406867707, '24f3f8c6-d6fc-449f-a841-3a3178eaf3ce': 7.240571613262471e-08, '24f1462a-d884-4673-a64f-c928418b344d': 6.449655158169277e-23, '24dd696d-30c6-4ca4-88bc-e2c4d98b7281': 7.952018163313614e-14, '24c504bf-a3b5-4b38-8b0c-59e2be90f0d3': 1.804079619071578e-12, '24aa596c-30f5-4e0a-a3aa-5a3b9135b476': 1.342217099365567e-14, '249871b6-d4e1-417f-9500-5a35f4bed79a': 1.0609828976909255e-08, '247f2d25-e00b-449d-84a1-60c1eee1214d': 2.3671032353742517e-15, '24704297-e12f-49a5-a773-813283470ee1': 8.355879543320412e-12, '24645cc5-d356-4617-b4fc-b0793e87e96e': 1.248048445041707e-17, '241d9ef9-2e6e-4558-9e76-0026d09c33d1': 3.233468747334414e-14, '240f3762-4dee-41c3-8e66-5aaec743cf38': 4.547687600851892e-15, '24088e1c-5921-4f4f-9da9-f179a551921d': 3.755881353297253e-08, '23de3f7e-88b4-41c8-b822-a38d242d8767': 9.259276049601366e-11, '239eb89c-fa22-4e55-9351-17a95bec7eb3': 7.292906284155605e-13, '239cfcf4-3048-4008-b6de-c8d8bc13b39c': 6.530593792984323e-08, '23373dd9-9ea2-458a-8f80-7d49a24a5c68': 2.695106202217668e-10, '2332c1e1-1c79-446c-b10b-cf2bddd4bce5': 8.675438859434329e-12, '22f835e8-e198-4a40-a6a9-9fa67be5dea1': 4.86259327464746e-24, '22a6429a-e44e-4e8b-99ab-b08fd8257ceb': 3.9694350464857993e-13, '226a05db-3a78-4f25-9e9d-639453de794b': 2.1500643665582275e-11, '22115b73-8812-4c8e-a3c5-2cb187b60775': 1.4633963396600575e-09, '21c877b8-7bac-460e-9378-75a891cdad31': 2.6099354505510144e-13, '21a47afb-7133-4846-9eb3-211d0ba76750': 4.705580091893209e-14, '21a0025c-16de-496f-bece-7316c94882ff': 1.1040648150163453e-13, '21785f2f-cef2-4296-854d-357f7bf1ef6a': 1.9684878313894357e-09, '21658149-efb2-4596-b863-cd44b369b162': 6.693955423138168e-10, '21499275-64bc-4344-8cdc-61cf6d64a3f7': 3.8691079027938e-12, '213faf7d-908a-4271-a5cb-853a1f34d3a0': 2.014756708268502e-12, '213a2742-fd8f-46a1-9885-cac57b4cc896': 5.663366907379308e-14, '21297e53-a4ab-4d8c-bb93-1e1bf01c5f8a': 2.22964643961241e-10, '20feaf8b-4de0-497f-bac2-0c817b78518b': 1.8704102772641696e-09, '20b736d8-546a-4d7e-b856-8784f5d67631': 4.805417181249338e-13, '20b2ba49-c493-4666-9445-fbb5f85ccca2': 1.3885401052635606e-17, '2095f5bc-7464-49e7-bc5a-9c869e84d8eb': 5.578306263283227e-11, '2038ebf8-b900-4a45-81cd-ea57c655d22a': 5.964999189336475e-09, '2036afa1-ac1a-4648-9279-a655980b30aa': 6.844632547122152e-07, '202fb091-9ec3-47b4-a85c-899a74b2538b': 1.9544751453714392e-11, '1f566ecc-f9d5-4e25-a298-204df82d959b': 1.007694310741157e-12, '1f3a3088-0ee2-41e1-a721-e85511070027': 4.026409937357995e-18, '1f2e7d2b-71d6-4e93-ba52-b29b6e6598b8': 1.0110428603367352e-08, '1f083d52-242e-4736-89f6-9a303e972856': 5.203114243613015e-08, '1ecf10be-172f-46d4-a7c0-9f2c3a82ee33': 9.089513020931635e-10, '1ece392d-299c-4e7b-96c4-927f400406e6': 2.2184005879819356e-12, '1eb4dc46-a7c0-47c7-b859-a61ee81f1d0c': 5.937264406667868e-12, '1e72411b-20dc-4b6e-94e8-b076f105b6f9': 8.035163624980073e-12, '1e5d3cb8-fc6e-42fa-b4a7-3bf36fe5acb8': 2.128009346537079e-12, '1e58feba-c24d-43fa-810f-9e91f87c712b': 5.289978645353918e-09, '1e4f0b86-93a1-4245-b29e-8f81787da506': 1.8881792063376895e-25, '1e4e901b-1f28-464a-9c09-18709f1ff997': 2.2816665842772063e-15, '1e44ae63-3571-4703-acd3-0f544292244d': 1.851060925273475e-10, '1e40137b-2cfe-4d3b-9bbe-33bcd5bcf020': 4.199154582269247e-12, '1e28e5ea-efe6-4584-b47f-780903bbb9f7': 3.217570268740101e-08, '1e0af20b-0c06-46f5-916a-8822d7b17fd9': 2.250818044254737e-15, '1dff4996-4e9e-4a9f-9335-32547e3aac7e': 1.42227554886654e-11, '1dd30005-b5a2-4f46-ab4a-22bfc43b4e82': 2.559919807132256e-07, '1dcdca86-da0f-40c1-8ab1-52faeb3e8c49': 8.134975387723633e-08, '1dc8e0d3-642e-40d8-bba5-55448476439b': 9.22446339222632e-12, '1db0c901-2c31-4185-be9a-e91164437788': 2.9387852178827045e-13, '1d8c245e-9ccc-44a1-a858-66f2a52fb47f': 5.458241702886083e-07, '1d6e2ccf-4ae6-40ab-8a0e-66bd7e400eee': 1.1167652072359247e-09, '1d5362ea-dc2b-4e5d-8500-aba2478c6f90': 9.74907323441213e-13, '1cd88780-8893-409f-a647-4994a6e833c4': 1.6112070766634753e-13, '1ccc2775-70dd-4bc6-948e-4f88dc8a057a': 5.3394493570122304e-12, '1cb24e3d-6f92-4601-8261-10c075331c14': 6.679506897905459e-11, '1c86be4b-c9be-49d6-afcb-e6567fed0548': 8.451280271961422e-06, '1c84252c-a0f3-492f-9368-1f2c2b853387': 6.184447087172715e-08, '1c823bfe-2a39-4e96-ac75-55b91e5a1afc': 1.7366949009628832e-11, '1c6891ef-fc4b-4789-bad0-712eeb2f2e9d': 4.686358776168587e-18, '1c65034c-235c-4d1c-a651-5a4419d0858e': 6.885440892260467e-10, '1c45693e-1dab-49ed-8db0-fdcb46f89e97': 5.740642127224668e-11, '1c09e468-6805-4062-a017-0a8b2064d613': 6.858085244928423e-13, '1beb2636-9239-4c9a-a49b-00caef7d5a50': 1.0137253817064837e-15, '1bbeb350-0ea1-45ee-b889-26400966599d': 1.4909609450214446e-21, '1bae2caf-67a1-4e61-abb9-4a424f4b0a76': 6.34926736016258e-11, '1b563bf5-73f6-4c5b-8e33-759ae17d733a': 3.650821631648107e-13, '1b4e5e3b-a482-4a55-b788-eec3c9ada9f3': 1.0136330201392301e-14, '1b4d47fa-0973-49d1-84d2-f1cc29980175': 9.429489363610785e-11, '1b374453-417e-43c5-bdd8-ff357bca6e96': 1.61309437921097e-18, '1b2f1071-d518-4106-98ca-f07591eb9b9a': 1.8564976223709362e-08, '1b2706f1-bf50-442c-9737-27a37e3fbf4a': 2.632899586859782e-14, '1b0d2ebe-5822-4aa5-937b-58912ec1b5d4': 1.365285849160027e-10, '1ae2d5b4-90a3-4c1c-b8da-960a28fa51a6': 1.8314201612549843e-07, '1acd9d86-f816-476f-bd05-c89af17d2418': 4.295893332052729e-12, '1aacce3b-ce8a-4726-8a2f-b8ade20b48e0': 6.376960633684345e-15, '1a8ce359-3ad8-41fd-85ca-8720c50e5373': 2.6259439566195774e-17, '1a75adf5-5195-43e1-b4d5-25bb337802b2': 6.473898455559484e-14, '1a6e119a-50d6-435b-89a6-c62ab2bb5e1c': 5.8436458078074175e-09, '1a30e219-2811-499e-8b39-6356348f71a0': 1.2504745110371737e-10, '1a288fc6-8379-4747-bf92-a9d11cda3102': 4.662707281905435e-18, '1a2175b5-a454-4fa2-ac8c-9f3663e2fb0b': 4.5919972179787633e-11, '1a132bc5-a7bc-40a2-a003-ef0236c72ee5': 8.969713982854801e-10, '19f4a9f1-74bf-4a6a-aea6-d57c95f0f07c': 3.7324995400741524e-13, '19d8ad87-1217-4e64-bf63-6f5ad247ff0e': 5.204951708517024e-08, '19cd5be7-62d8-40dd-91c1-3e5c492752aa': 6.387466251832806e-09, '19aa6893-29a3-4869-9a02-e4feb9dac2f0': 1.2795229293024321e-09, '1955f000-a3c7-41a4-a77e-4af411caaff8': 4.302907887869237e-15, '18f457eb-39bf-491d-9ac5-f769c0db0958': 7.097257212256121e-13, '18e04573-a829-4ec8-a3ce-4db6eb8255e0': 3.134402170979859e-13, '18b93b3f-e2c7-4040-9995-71b9c24e709e': 5.733177517405058e-08, '1889b1a0-0aed-44e9-a536-9508ea16feb3': 4.6996616329659946e-08, '18431c94-a138-482e-bfae-7b826813b5a5': 3.328660675660134e-11, '183f3b9a-dffe-474f-81ad-761f5b3b557c': 1.8055081887549805e-06, '17d8b37c-7c98-4b1f-a339-d69ffae7f15d': 5.4470064477466054e-14, '17c103f7-b3bd-4ef2-8da3-71a00e2c7de3': 4.147129919621137e-16, '17a4e2c0-b7db-4333-a783-85d4a20be561': 2.1029708496263945e-15, '176fc0d9-71e6-4952-af9d-4f31f92634d0': 6.327052652638521e-09, '176fbb75-cec8-468b-ab99-876421c974dd': 1.7113940229812038e-14, '175e7ab5-45db-445c-b954-af42942781a0': 1.5551621167760987e-11, '17501ad5-35d2-4cae-a8c6-f0014816f28e': 1.34412554154461e-10, '174a1980-3a98-4f5c-b3a2-5f6f59ffc9c5': 5.6324081729929175e-06, '17450745-33c3-41dd-834c-10c9429054b0': 2.1544537169824038e-12, '16a66140-eafa-4a4f-93a7-f270404fe9bd': 8.509241972456279e-14, '168eeae6-830a-4962-b3ab-b63487ed1466': 6.616974686441017e-09, '1650b715-2e69-4121-9827-c0a1866be435': 2.8737463448723737e-14, '162607db-d9ea-4484-abdf-db7ced40ef37': 5.596569365980945e-10, '161a9622-9a3c-463f-9068-8cde36ad48cb': 5.094202959591383e-12, '160421f5-be60-407a-8874-c3a012c460af': 2.6107512473828468e-14, '15644bd0-0788-4d57-b0c3-4f223028739a': 1.248959479505382e-15, '154082c9-c43f-4f53-8e24-932eccf9f24a': 3.789815802245501e-10, '14addf55-52fe-4668-a846-588b7515b630': 2.3761130644912313e-10, '148c5e3c-9764-4e13-98de-bb38f78abf68': 6.300574772572667e-08, '14805136-4320-41c5-9d53-da74f4a457a2': 1.2540486949473014e-13, '146eceaa-64f4-4f7e-9d60-457d972ecbc1': 6.706429507338007e-14, '145de5fc-e075-49a4-a533-75166aba2437': 3.8475521479251594e-14, '1426317e-643d-492c-87b9-c279fe923159': 1.20163568579908e-06, '141b5785-7ac1-4e54-b0f0-74e902a7fbca': 9.082674528321862e-09, '1401ad03-6ba0-4f60-adc9-efa768c410d6': 2.433908065131074e-08, '13ab6044-37b6-40fe-ba27-98c9772ef002': 5.3244816404619956e-11, '13aa0c65-a7f0-4fe4-a075-acdf72726051': 9.452371852976675e-14, '138f0423-8bd4-4601-a0f6-63986e5f175e': 7.790410701134093e-14, '1383dc8f-77a7-4c55-97c5-30a1f025a003': 1.2101937505131705e-13, '137bb8d5-25dc-4931-a46e-64ea2f6c5a81': 6.7007876083980596e-09, '136b8444-6197-4b03-9faf-1f95d4f5a7b9': 2.2213587869307133e-17, '135f450c-313f-48e5-b14c-39b1bde27c31': 6.073885840548905e-10, '135b9d92-1768-4d69-877d-01fe11591acd': 1.0694330426143925e-10, '131ce545-e2d2-4fc4-9779-aa5527368f39': 2.7961378613059053e-11, '12d0212d-de03-4b4b-965d-bb041b9bd23c': 3.0966655091794545e-10, '12b056ca-0206-4d4b-981f-6e84452d75e8': 5.6984851596036016e-12, '127ea76e-b0bd-4e7a-92da-f12bdc03a74a': 2.4748521900926557e-20, '124f4548-0726-4d3e-b532-1e289d0d55e0': 2.802222681497083e-10, '122fc249-564e-4f57-b4d9-2ed23280ab1b': 1.0592682827587973e-11, '1209e16a-a0ce-49b1-ac66-22a1b269b64b': 1.4921820129979108e-14, '11f3424e-9889-4cfe-a845-b53282b3f171': 6.249963672475854e-08, '11730c76-e0ed-4d03-8d8a-1b696a57a680': 1.4329800716195749e-15, '114f9310-22d7-43a8-9078-f6f7ef89b849': 8.361575102721132e-11, '113faf95-948c-4ff1-93b4-391d9ac909d4': 7.498306475328682e-07, '11098596-b805-4636-a7c4-3b32a67d7a55': 1.1476590817118106e-15, '10c46ffc-ed05-4d40-a0f9-a43f05128d9f': 2.2318639315504817e-13, '10b6ad92-81fa-4c1e-a185-208f94427f7a': 1.6260868909053622e-10, '10a8f3eb-0caf-458d-b245-8ad2fbe03ca3': 2.0946574055493404e-09, '107a5608-2b39-4320-96c6-88440e781c99': 5.622428737109939e-12, '1076abf5-e82f-44c2-b347-ae0affea7f34': 2.4690893942876833e-12, '10658e86-7ea4-4839-b1a9-c03e5701f41b': 2.9485920354895324e-14, '102c6b74-45a9-4f4e-927d-5f9f35ea9283': 5.4645826115605445e-09, '1021ba27-a75e-4115-b72f-3786299aadd0': 7.704840130508423e-13, '0fa8d9b4-e078-43bb-8e63-567a843cc6ce': 5.598851415376335e-07, '0f4549f9-f1ea-4d39-9bb8-e37e8dcb2079': 1.3092893886170555e-09, '0f29ccc1-5876-4711-8834-ff93f16635a3': 2.6712628190749626e-15, '0eed9fab-4700-487d-9a72-006792ba5387': 2.6961917899933765e-10, '0ec457f6-1c5d-4369-8d01-eec4d9f685f5': 2.739871151018943e-14, '0ec3d2bc-65c3-4f29-bb75-f6dd98c9035a': 3.089081151354239e-07, '0ea2d922-7686-4e67-b66f-a1e58093c987': 4.668147277240873e-09, '0e903dbb-bf92-476a-8c8b-66cef77b3d62': 2.8964974563381644e-13, '0e6ea03b-3a2b-47c6-9b30-8d94951c4196': 2.0225273183921522e-10, '0e59de37-408e-4e64-ac1b-bad451220e9c': 5.334216488380972e-11, '0e2d7f94-0b9d-4b06-820d-1223e866b005': 9.073212100513952e-22, '0e0ecd0e-c478-4cd9-82c2-baf7b3668feb': 8.006893402957558e-13, '0e0c3982-7914-4ce6-88ba-8b8439bac107': 1.853311860334088e-13, '0df55ccf-39cb-4458-9201-919829c4d8e2': 7.290340525188377e-17, '0ddf0946-304b-4799-894a-5c0dfe5344a6': 3.2254898508840556e-13, '0dcb1802-6b60-45ad-9257-7756584e8732': 1.717863092390881e-22, '0db9619e-1bc3-4e33-ac30-34dddeda06fb': 4.116279942175474e-15, '0d6e69cc-fbdf-42b3-a9a3-abc5ff9b78bf': 2.1660582516452468e-18, '0d53eb96-4319-4fb1-8df6-8bf4a75dbd1a': 6.005718330491716e-11, '0d2d062a-119a-4655-b8d8-fac08ded2f95': 1.415062832402046e-10, '0d271e58-ed2a-4bd5-8558-59fbea9d2a44': 1.440728321656695e-10, '0cd570d9-2b44-4e4c-8945-9bc04cef56e5': 2.3390507359211587e-13, '0cbba65f-a857-4ab0-a944-acf53a13f2ee': 5.141853283694389e-09, '0ca78677-534c-4832-be0a-294631cec17c': 1.7640577884180346e-06, '0c87f474-e064-4f52-83a7-6533a9fe8225': 4.499699297071573e-12, '0c4c9160-ceeb-4f5f-87b4-1a8aec1610a4': 7.478329578992949e-05, '0c425957-0493-4817-9b53-5a3546fcfa43': 1.7943779888375898e-11, '0c3335cb-1159-41bc-913d-77b052555652': 1.1527640051550352e-06, '0c25435b-7e1e-4ecf-9bd8-7b72beed4911': 9.001999359880348e-08, '0bd2804f-c083-40a9-a45a-4dc14391adbe': 1.6816820186198872e-12, '0ba17e29-1098-4c34-8dd8-f03cb839aee8': 1.8230990284676235e-18, '0b9f30d2-dc62-4ff4-a6c9-f069d9c47a8e': 1.559112920686201e-12, '0b853b91-a1a0-40b5-a9f8-6da64400b28d': 5.7401474461141e-10, '0b26be79-57b1-4adc-891b-84e6e6c03ac0': 1.838242020334565e-14, '0b24b27e-390e-43ea-9fe5-9b3b05a87314': 1.486290706954905e-15, '0b200fab-271f-48b6-be04-522e188bfc0a': 6.679506897905459e-11, '0b18f888-8fee-4d53-af9f-b9d5b5dd85b9': 1.3610868639770637e-09, '0b08fc7d-b75c-4d61-b884-06d82cd47317': 2.767353807337652e-16, '0b071589-7390-45af-b82e-0dbfbe5968a8': 1.9107395331714615e-14, '0b00cb84-8b57-4324-b077-79ab19cecc3a': 7.518922670126097e-18, '0af73c8a-afbf-49fa-9865-e936979839c1': 1.3352342595131576e-06, '0abd5577-c249-40e7-a425-5ca434781885': 9.001999359880346e-12, '0a70c4c4-2624-4da6-aa93-c9891f95929b': 7.156191526249734e-14, '0a6e8c3c-2747-4145-8de0-8a755e0c7a3f': 4.843352645891424e-19, '0a496c26-ea4b-4a64-96f4-fa400b864285': 1.4775791608748243e-11, '0a18a204-6e9f-4488-b3ce-42dddcc51252': 1.2658310895411754e-09, '09eda512-3140-451a-8c93-7a05564ba09b': 1.503227641573575e-12, '09bb712a-aba1-44b2-be64-bf4cb0f0c30a': 5.5277686819166694e-14, '09b9d879-449c-4029-b3a8-ba82dbd91b69': 2.980677227154394e-11, '0958f787-7a4d-4d78-8388-2b356c71b7f2': 5.060498539840229e-08, '09008427-334d-44ef-a1e1-c43fd27ff553': 1.3810992565754117e-08, '08d5a802-706d-4bc1-8607-3d8fbb948ea1': 1.9287058849884065e-09, '08c7d4be-cc2e-44cb-94ef-ad7ba8f6fd08': 1.8977928896036698e-08, '08b4ec2f-a48f-43f2-bae3-a21213b00037': 1.3640594843578683e-08, '08938aa4-828a-4dc6-852e-075784b611ff': 1.4440388344299716e-15, '087ef2f8-a218-4b3c-9fa0-f5acac78552d': 2.5752199400959907e-14, '0842082b-84fc-4176-9de9-ea7713c77052': 1.871874586381948e-17, '083d8bc1-bea0-4345-b086-534bbf74d8c0': 6.830145701942487e-28, '081bf588-260c-49fb-99c7-06567de16933': 1.5155400673825758e-13, '07fa799e-8f4f-4390-b7dc-53740e9686d4': 1.190995116421869e-09, '07a7915f-e5e1-4129-9918-1e06fd1b5dbd': 1.2901081147728506e-06, '079b7deb-d597-4c3a-890f-2e81fb6a9efe': 7.466796248151957e-12, '074b8d1e-9b47-4a0e-902b-2b0d91ef68df': 1.0442007740576366e-11, '073c08d9-81e5-48da-b2e1-b1578465a585': 4.15101622761395e-08, '0716632e-d07d-426f-a663-ff6d776ccd9e': 1.574236498680965e-10, '0712a1cb-b1e9-4345-bd77-065f9fd8b237': 2.8328338752577772e-14, '070fff47-fc49-4ffd-873e-c40ea87a3772': 1.1382350477586044e-07, '06f8d792-e345-470b-8d0f-d62ecc6676e5': 1.3494223593945366e-10, '06f8545f-063d-4ae4-a0d1-662f125ddf90': 1.8124573508140675e-14, '06c2dc98-a967-450d-ad4f-0aaa4f298d1a': 9.38022555782609e-13, '06c24514-8ef2-4548-a138-849d38e74ebb': 6.83957101016601e-12, '06b884ab-b0c3-46e5-a1ed-312b06bc4216': 1.0744343426892038e-09, '067a193a-c089-4a39-8144-51f214eca981': 1.1474915901613606e-08, '0630e744-da0b-46c6-8cbf-63a0f2a49ab0': 1.4949035982154193e-10, '062252c6-734f-45dc-8e72-640d3d563298': 4.212924094493642e-11, '060c6961-c6cf-452d-9ef4-6cd13a16fa99': 6.094266744979602e-11, '05f8fc8c-1bd4-4443-8080-334a5a81d4af': 6.051453923483785e-08, '05e65560-3141-4e12-9a45-f79a7d00932d': 4.161311807421382e-12, '05dfd410-e23e-42a6-9222-a0666422f56d': 4.4372554313583114e-14, '05b2c3c2-ccf3-4af0-ad8d-47ebcd846e49': 3.571396623024075e-10, '0592eff0-c992-4fa6-a31d-1cbae7ad8ec0': 6.51704492116041e-12, '05203c0e-7102-4b18-83b4-c8e07f84f977': 2.202001454597898e-12, '050be769-9ef0-4def-9e22-738785f5dba4': 1.6980128993888504e-08, '04ea0347-a804-4565-b1b1-3d6de0fc9757': 7.575352140203852e-16, '04d3b84c-2568-4875-943e-c7559e2d2f56': 1.1967763418743719e-17, '049f65c2-3014-4b46-996a-45c497d93c51': 1.6831592884476905e-14, '04705cb4-1fba-4a79-85c2-b6a17f9a1d98': 2.5682820970246926e-11, '044d39f4-bcae-42b7-b4b4-3614d13be1e5': 2.058208643918076e-06, '04432809-f0c0-40d1-9ca5-61ada5fa3f6c': 1.036960028577033e-12, '040deae3-a2fc-4f92-bc53-f1d22ed83fb2': 1.5215837524920053e-13, '03ecfd10-2ed0-4583-ae60-5cbefa2050f3': 3.556699091662641e-09, '03bc46b7-0288-4582-9f21-c95d4dd381cd': 2.6289564187858787e-15, '03aca0c6-841c-4312-9f2e-62ede8077606': 9.809716809110743e-22, '03967e07-6238-4774-8f97-8624475ea0f8': 1.965724092880612e-11, '039288ae-701e-4345-94b8-e57549866b5b': 1.531015767140485e-10, '038435df-e0ef-4faa-8a43-79effc1c2f0b': 7.727110935730373e-14, '035f0f8f-5233-4dbd-89ae-65462b581aed': 1.4834133679425728e-13, '0353638d-8fb6-4189-8422-9115b5644296': 1.2824411816771893e-11, '0351799f-c552-4dca-8e97-8c849d98fb78': 2.0167195292122698e-14, '03516be4-52be-4ec7-9e63-4ae010654616': 1.1239224003350802e-14, '0330316e-3057-421a-8a9f-712164babdc9': 3.8808484093799463e-13, '032560cb-378f-4e99-88e8-03c2fd5716de': 1.1373693759973598e-07, '02fc9d59-38b1-4d82-9c78-483d6b948ca9': 1.4367879973541617e-08, '02f28b59-a602-41fb-bfc8-9054cff711b4': 1.2608453188668688e-15, '02f1ff96-aae1-4ef2-b357-0b914be120bd': 1.938199243015559e-14, '02d50abe-c7c0-43a2-9308-d5d1b65b7eed': 5.456415658833633e-09, '02b27265-972f-4110-bcd8-9d105d5adc8d': 5.105601594561619e-09, '02b04e47-b646-4ffd-96a2-c94c9891b030': 1.0410662957332889e-10, '0298f1ba-c387-4c87-8163-d976f75ff7ec': 8.716703154487397e-13, '025a99d3-2f62-4cb0-bf2d-b6ca32592d02': 3.1989693918280244e-10, '02346765-4734-4910-998e-706b8ab759c6': 1.0666594616554434e-09, '020eda8d-95d9-48bf-9eba-a38023f7ffe8': 4.761139134972711e-09, '02048c2c-e314-47f1-8d2e-9e787990b70e': 1.0707321138375061e-11, '01fe7cda-b1d9-439b-9382-1e61a9f0156f': 1.9107693518163104e-27, '01fc9aea-4d62-4a2d-ade4-ddfbaaffd307': 6.365892778938704e-14, '01f1b852-954b-4bcf-b5ad-6c52b5797081': 8.252503686174424e-12, '01eda94a-5b7a-44f5-9f3d-a472e9f3d355': 1.0961103520015845e-12, '01ec7512-41e1-480d-b726-aebb9aeb27dc': 1.0458581677951348e-07, '017c2ecc-aa82-4228-9a85-945c1b7e9450': 3.909220914809389e-13, '0170e7d3-8a64-47f3-b339-ed9a89766e81': 1.742041052038086e-13, '016a6950-9eb8-482f-8ed9-08092aab6afe': 1.2606039144283276e-08, '01548214-1187-452f-91fe-6399540b7811': 4.311080447935654e-08, '012ff5ab-46f8-4d7d-a03e-1b9c0f3968b9': 1.6218544281309018e-12, '011eabb6-4e2d-4f2f-bd68-99e40de48a30': 2.0472527159496376e-16, '00fba0ec-58e1-4085-ae17-2001502fe1ef': 2.559530834462062e-13, '00ebe5a9-0c69-482e-bed7-93d265e588dc': 7.770533843010516e-13, '00c1d845-cd48-4cec-9a40-64553749b45b': 1.4987781665306693e-12, '00c19ece-6683-4e76-814f-5ada08650aff': 7.895076376100644e-14, '00a4f706-cabc-4fa9-99f4-8e411093f3eb': 1.733309972374356e-09, '009cd4ac-ee3e-403c-b932-0c84ae320093': 1.2886640720115758e-08, '00995e41-0a19-4efd-bd9a-018d34af695f': 1.544871903844579e-09, '005d6ebb-2ea9-422b-b633-ae2b8a08b4bd': 1.437662542639225e-13, '004bbfe7-489e-40b3-b237-4fb3696d43ad': 3.026451783163116e-13, '003e64b5-f002-4c41-8dda-792e01f04d42': 1.4474737990147616e-14, '0006881c-f1ae-4ad9-8071-7857db720f0e': 3.326527822048592e-09}}]</div><p><b>gfm_state:</b></p><div style=\"max-height:120px;overflow-y:auto;\">[{'data': {'AddClientNodesGapFillingWorker': 'F', 'ImpactAssessmentGapFillingWorker': 'F', 'LinkTermToActivityNodeGapFillingWorker': 'C', 'OriginGapFillingWorker': 'F', 'TransportDecisionGapFillingWorker': 'C', 'TransportModeDistanceGapFillingWorker': 'C'}}]</div><p><b>origin:</b></p><div style=\"max-height:120px;overflow-y:auto;\">[{'data': {'status': False}}]</div><p><b>supply_for_root:</b></p><div style=\"max-height:120px;overflow-y:auto;\">[{'data': {'amount': 0.002986665815747693}}]</div>"
      }
     },
     "e13455b712dd4f858346e6181e9e602c": {
      "model_module": "jupyter-cytoscape",
      "model_module_version": "^1.3.3",
      "model_name": "EdgeModel",
      "state": {
       "_model_module_version": "^1.3.3",
       "_view_module_version": "^1.3.3",
       "data": {
        "id": "0cbfe85a-eb67-4a9d-950f-1e4be16fd42c",
        "source": "a2675fc7-9aeb-4fb3-8184-c345b5556435",
        "target": "554023fc-a2d9-4a95-8832-fcfbf51e0cd5"
       },
       "selectable": false
      }
     },
     "e1f294d2f1564d32ac747cab6d536023": {
      "model_module": "jupyter-cytoscape",
      "model_module_version": "^1.3.3",
      "model_name": "EdgeModel",
      "state": {
       "_model_module_version": "^1.3.3",
       "_view_module_version": "^1.3.3",
       "data": {
        "id": "42732e58-8851-4cf0-b356-16b569f33625",
        "source": "9274e1ce-fa92-4e90-a913-b53b3433715e",
        "target": "dd731b6c-adaa-4f01-8746-364d37492307"
       },
       "selectable": false
      }
     },
     "e2ec2010c7af44bca1dba28755031b19": {
      "model_module": "jupyter-cytoscape",
      "model_module_version": "^1.3.3",
      "model_name": "EdgeModel",
      "state": {
       "_model_module_version": "^1.3.3",
       "_view_module_version": "^1.3.3",
       "data": {
        "id": "ef8c0ca1-d0d4-4ce5-8f64-282cf66d2f02",
        "source": "f4b510b7-b28f-42c2-9c9f-d6823a7fb9f6",
        "target": "23ecd6f3-169a-480d-bd23-0e7f0579d6b3"
       },
       "selectable": false
      }
     },
     "e33558caeed64c34be0f3e210a4476f5": {
      "model_module": "jupyter-cytoscape",
      "model_module_version": "^1.3.3",
      "model_name": "NodeModel",
      "state": {
       "_model_module_version": "^1.3.3",
       "_view_module_version": "^1.3.3",
       "data": {
        "bgcolor": "red",
        "id": "a5623f9d-410c-4c32-95a1-dae8e7592af1",
        "name": "Sea transport"
       },
       "grabbable": true,
       "grabbed": false,
       "position": {
        "x": 1769.5906432748538,
        "y": 349.20634920634916
       },
       "selectable": false
      }
     },
     "e59a0b73f6ea4cc986beada0c5a81408": {
      "model_module": "jupyter-cytoscape",
      "model_module_version": "^1.3.3",
      "model_name": "EdgeModel",
      "state": {
       "_model_module_version": "^1.3.3",
       "_view_module_version": "^1.3.3",
       "data": {
        "id": "775d7885-1daf-4831-8162-c711e8509e10",
        "source": "14eb5914-78ac-4ccd-ad4a-8672c358ca98",
        "target": "0d89c5c8-e92f-4b85-aa52-aa3e5bd4df83"
       },
       "selectable": false
      }
     },
     "e7281f3657394b03b034ef471d935446": {
      "model_module": "jupyter-cytoscape",
      "model_module_version": "^1.3.3",
      "model_name": "EdgeModel",
      "state": {
       "_model_module_version": "^1.3.3",
       "_view_module_version": "^1.3.3",
       "data": {
        "id": "6d4f32f0-fe4e-4308-9560-7f4cebffd257",
        "source": "17dd7c45-c549-4953-bc9a-b131f93be259",
        "target": "38436942-4600-46a5-838f-391cd0c695e1"
       },
       "selectable": false
      }
     },
     "e7754ec1deb643979c6c1364c39f8183": {
      "model_module": "jupyter-cytoscape",
      "model_module_version": "^1.3.3",
      "model_name": "NodeModel",
      "state": {
       "_model_module_version": "^1.3.3",
       "_view_module_version": "^1.3.3",
       "data": {
        "bgcolor": "green",
        "id": "80f9d825-4bea-47ee-9e91-ce9fbc08a3f2",
        "name": ""
       },
       "grabbable": true,
       "grabbed": false,
       "position": {
        "x": 1539.1812865497077,
        "y": 492.06349206349205
       },
       "selectable": false
      }
     },
     "e89003289dd84afaaba9bf7ea7ab79de": {
      "model_module": "jupyter-cytoscape",
      "model_module_version": "^1.3.3",
      "model_name": "EdgeModel",
      "state": {
       "_model_module_version": "^1.3.3",
       "_view_module_version": "^1.3.3",
       "data": {
        "id": "1c1f3e2c-4a28-4814-a2a2-e17e80146c31",
        "source": "f4fab705-41f6-4f7f-b82e-19093f520bb8",
        "target": "a2675fc7-9aeb-4fb3-8184-c345b5556435"
       },
       "selectable": false
      }
     },
     "e8d0bf481ca8479db08900f74d76ddce": {
      "model_module": "@jupyter-widgets/controls",
      "model_module_version": "2.0.0",
      "model_name": "HBoxModel",
      "state": {
       "children": [
        "IPY_MODEL_9d68613f8304435881f7bf688bebd7ab",
        "IPY_MODEL_e0f612184b4f460fa3c84101f7f6fb25"
       ],
       "layout": "IPY_MODEL_b2a308e02a1d410e81da4dacdef796cc"
      }
     },
     "ea6934b688084e449d259f7e52c86632": {
      "model_module": "jupyter-cytoscape",
      "model_module_version": "^1.3.3",
      "model_name": "EdgeModel",
      "state": {
       "_model_module_version": "^1.3.3",
       "_view_module_version": "^1.3.3",
       "data": {
        "id": "d829e4cf-2a5b-4ad8-9f1c-1ef0dd666cf6",
        "source": "ccdc792a-6eba-4b0e-81af-c8b2c071d456",
        "target": "d9ccadbc-904f-4c7e-b35b-b55eae3a2d13"
       },
       "selectable": false
      }
     },
     "ead11e43705246fe92b88b98ad453a01": {
      "model_module": "jupyter-cytoscape",
      "model_module_version": "^1.3.3",
      "model_name": "EdgeModel",
      "state": {
       "_model_module_version": "^1.3.3",
       "_view_module_version": "^1.3.3",
       "data": {
        "id": "caa89e05-535e-4c49-91d5-621cc0fe1402",
        "source": "2bdd8a55-b632-48ab-bfb3-3310908986ae",
        "target": "fd344802-8db8-4367-88e2-2ece3a262685"
       },
       "selectable": false
      }
     },
     "ec588e9bd0d447cda8fef15bce6df033": {
      "model_module": "jupyter-cytoscape",
      "model_module_version": "^1.3.3",
      "model_name": "EdgeModel",
      "state": {
       "_model_module_version": "^1.3.3",
       "_view_module_version": "^1.3.3",
       "data": {
        "id": "c633f471-3d8c-447f-9820-2d87b734f56f",
        "source": "67e1a21d-345e-42c6-bd7a-ba27bcceed24",
        "target": "80f9d825-4bea-47ee-9e91-ce9fbc08a3f2"
       },
       "selectable": false
      }
     },
     "ed391ac3a4d64f5c9f3b67d0e426cb0c": {
      "model_module": "jupyter-cytoscape",
      "model_module_version": "^1.3.3",
      "model_name": "EdgeModel",
      "state": {
       "_model_module_version": "^1.3.3",
       "_view_module_version": "^1.3.3",
       "data": {
        "id": "f31a9148-8ca0-4bff-858b-2ffef676289a",
        "source": "7fee42b3-56ac-4622-8a70-8903601b1c87",
        "target": "38436942-4600-46a5-838f-391cd0c695e1"
       },
       "selectable": false
      }
     },
     "ee27c3e3699b4c3e8c05d426f6784b6c": {
      "model_module": "jupyter-cytoscape",
      "model_module_version": "^1.3.3",
      "model_name": "NodeModel",
      "state": {
       "_model_module_version": "^1.3.3",
       "_view_module_version": "^1.3.3",
       "data": {
        "bgcolor": "green",
        "id": "062d6730-4c34-43a2-8806-2ae5feb77b8f",
        "name": ""
       },
       "grabbable": true,
       "grabbed": false,
       "position": {
        "x": 1539.1812865497077,
        "y": 190.47619047619045
       },
       "selectable": false
      }
     },
     "ee809eb7b7014781be95fde41a940362": {
      "model_module": "jupyter-cytoscape",
      "model_module_version": "^1.3.3",
      "model_name": "NodeModel",
      "state": {
       "_model_module_version": "^1.3.3",
       "_view_module_version": "^1.3.3",
       "data": {
        "bgcolor": "red",
        "id": "e1ea24b7-738a-4180-ad1d-0c55e89f74f8",
        "name": "Truck transport"
       },
       "grabbable": true,
       "grabbed": false,
       "position": {
        "x": 1769.5906432748538,
        "y": 1333.3333333333333
       },
       "selectable": false
      }
     },
     "eeee88bde6f848aea943357d811a459f": {
      "model_module": "jupyter-cytoscape",
      "model_module_version": "^1.3.3",
      "model_name": "EdgeModel",
      "state": {
       "_model_module_version": "^1.3.3",
       "_view_module_version": "^1.3.3",
       "data": {
        "id": "cb277c62-2a5e-4000-b5c9-33f39e9d9220",
        "source": "918333c6-dd4d-486d-9908-ca4ded625dce",
        "target": "666a0349-36ec-4277-9186-89b79e6a744e"
       },
       "selectable": false
      }
     },
     "ef8b86fb9b1c4c9f820064727740d5e2": {
      "model_module": "jupyter-cytoscape",
      "model_module_version": "^1.3.3",
      "model_name": "NodeModel",
      "state": {
       "_model_module_version": "^1.3.3",
       "_view_module_version": "^1.3.3",
       "data": {
        "bgcolor": "red",
        "id": "30784b1b-9018-4411-b36c-71beabcf3e7c",
        "name": "Fuel consumption of Sea transport"
       },
       "grabbable": true,
       "grabbed": false,
       "position": {
        "x": 1769.5906432748538,
        "y": 571.4285714285714
       },
       "selectable": false
      }
     },
     "efa65ebd76bc4686a09123f5159ecbab": {
      "model_module": "jupyter-cytoscape",
      "model_module_version": "^1.3.3",
      "model_name": "EdgeModel",
      "state": {
       "_model_module_version": "^1.3.3",
       "_view_module_version": "^1.3.3",
       "data": {
        "id": "d9987fbd-fc5b-4fb1-b9e9-a44c57178a18",
        "source": "30784b1b-9018-4411-b36c-71beabcf3e7c",
        "target": "38436942-4600-46a5-838f-391cd0c695e1"
       },
       "selectable": false
      }
     },
     "efbdb930a3cd472aa1b5bcd750ee65f9": {
      "model_module": "jupyter-cytoscape",
      "model_module_version": "^1.3.3",
      "model_name": "NodeModel",
      "state": {
       "_model_module_version": "^1.3.3",
       "_view_module_version": "^1.3.3",
       "data": {
        "bgcolor": "red",
        "id": "e04b717f-bc7e-4ade-9129-aa8008d325d8",
        "name": "Lemon Juice Concentrate"
       },
       "grabbable": true,
       "grabbed": false,
       "position": {
        "x": 976.0233918128655,
        "y": 1793.6507936507937
       },
       "selectable": false
      }
     },
     "f061b72b10874fceafa5246350d89ad7": {
      "model_module": "jupyter-cytoscape",
      "model_module_version": "^1.3.3",
      "model_name": "NodeModel",
      "state": {
       "_model_module_version": "^1.3.3",
       "_view_module_version": "^1.3.3",
       "data": {
        "bgcolor": "red",
        "id": "a4652b40-a9cc-43a6-99dc-077bf8ac9c2f",
        "name": "Sea transport"
       },
       "grabbable": true,
       "grabbed": false,
       "position": {
        "x": 1351.4619883040934,
        "y": 682.5396825396825
       },
       "selectable": false
      }
     },
     "f0d6a33dc6cd40ecbf42e4656430132f": {
      "model_module": "jupyter-cytoscape",
      "model_module_version": "^1.3.3",
      "model_name": "EdgeModel",
      "state": {
       "_model_module_version": "^1.3.3",
       "_view_module_version": "^1.3.3",
       "data": {
        "id": "02dca647-7b4a-43da-ae28-3f9086d6b07b",
        "source": "dd731b6c-adaa-4f01-8746-364d37492307",
        "target": "a5623f9d-410c-4c32-95a1-dae8e7592af1"
       },
       "selectable": false
      }
     },
     "f179141715164c8e9ffeabe4592a45e7": {
      "model_module": "jupyter-cytoscape",
      "model_module_version": "^1.3.3",
      "model_name": "EdgeModel",
      "state": {
       "_model_module_version": "^1.3.3",
       "_view_module_version": "^1.3.3",
       "data": {
        "id": "bee4e531-8236-4467-8510-22fcacfa0ebd",
        "source": "dc9addaf-5270-40da-9510-123d0155bd93",
        "target": "98af4f07-f54a-44ba-afe8-3414c6a6eb66"
       },
       "selectable": false
      }
     },
     "f25587c4648b4a629cb31f60810c62e7": {
      "model_module": "jupyter-cytoscape",
      "model_module_version": "^1.3.3",
      "model_name": "EdgeModel",
      "state": {
       "_model_module_version": "^1.3.3",
       "_view_module_version": "^1.3.3",
       "data": {
        "id": "8c998e8b-370e-4772-b47c-f779e6a24b74",
        "source": "32b99b97-8eeb-4371-9ecd-80ebaf76a08d",
        "target": "918333c6-dd4d-486d-9908-ca4ded625dce"
       },
       "selectable": false
      }
     },
     "f259927efc694e9a96e727a5150abb13": {
      "model_module": "jupyter-cytoscape",
      "model_module_version": "^1.3.3",
      "model_name": "EdgeModel",
      "state": {
       "_model_module_version": "^1.3.3",
       "_view_module_version": "^1.3.3",
       "data": {
        "id": "4250db3f-70bc-4ff6-b096-7a9d14253c3b",
        "source": "c9fdf8da-2828-4c2d-8175-621119473e14",
        "target": "dc9addaf-5270-40da-9510-123d0155bd93"
       },
       "selectable": false
      }
     },
     "f26d320c80a8487f87ae5e4a6a1e75c1": {
      "model_module": "jupyter-cytoscape",
      "model_module_version": "^1.3.3",
      "model_name": "EdgeModel",
      "state": {
       "_model_module_version": "^1.3.3",
       "_view_module_version": "^1.3.3",
       "data": {
        "id": "ceac34b6-d488-4e8b-8875-5da5012002b9",
        "source": "9fb2d404-b32e-4ddf-99e6-b50633592b28",
        "target": "38436942-4600-46a5-838f-391cd0c695e1"
       },
       "selectable": false
      }
     },
     "f314769f65fc48829ec9f14d7ecfc92d": {
      "model_module": "jupyter-cytoscape",
      "model_module_version": "^1.3.3",
      "model_name": "EdgeModel",
      "state": {
       "_model_module_version": "^1.3.3",
       "_view_module_version": "^1.3.3",
       "data": {
        "id": "4f51f0be-d023-404f-8b9d-05fbbd4cf7fe",
        "source": "72252fdd-42e6-4006-8da7-439ab63cb230",
        "target": "1612c5b9-fd93-45ed-9474-a1f385cd9636"
       },
       "selectable": false
      }
     },
     "f56d7e1fe24242a78cf3a62aed9716d5": {
      "model_module": "jupyter-cytoscape",
      "model_module_version": "^1.3.3",
      "model_name": "EdgeModel",
      "state": {
       "_model_module_version": "^1.3.3",
       "_view_module_version": "^1.3.3",
       "data": {
        "id": "fa6b081a-ae5b-4f9a-a382-fc36e23de701",
        "source": "f3cc6c56-2191-4e2e-a9eb-597255f2e9ac",
        "target": "578dccf9-5238-4121-98bd-de24214cc787"
       },
       "selectable": false
      }
     },
     "f5b05618f1cd44eeacb9d8c5f7bcbf5d": {
      "model_module": "jupyter-cytoscape",
      "model_module_version": "^1.3.3",
      "model_name": "EdgeModel",
      "state": {
       "_model_module_version": "^1.3.3",
       "_view_module_version": "^1.3.3",
       "data": {
        "id": "c1612ce3-7b5d-40c0-a96d-8ef57122b3a1",
        "source": "a8b14081-c439-4c40-b295-398f73ef3a19",
        "target": "38436942-4600-46a5-838f-391cd0c695e1"
       },
       "selectable": false
      }
     },
     "f675a14547b444459536a7e4be807267": {
      "model_module": "jupyter-cytoscape",
      "model_module_version": "^1.3.3",
      "model_name": "EdgeModel",
      "state": {
       "_model_module_version": "^1.3.3",
       "_view_module_version": "^1.3.3",
       "data": {
        "id": "b9177092-b503-434c-8af3-fe50a4cb9333",
        "source": "1400c1e8-b4c7-490f-9134-13d3f0b86deb",
        "target": "06fc1170-7705-442a-aeab-fa577711c1e0"
       },
       "selectable": false
      }
     },
     "f6976a06f7f14250b257b40a16770f91": {
      "model_module": "jupyter-cytoscape",
      "model_module_version": "^1.3.3",
      "model_name": "EdgeModel",
      "state": {
       "_model_module_version": "^1.3.3",
       "_view_module_version": "^1.3.3",
       "data": {
        "id": "cf258c67-c2a5-443d-9f24-48bacd65f84d",
        "source": "ae2209f5-19d0-4eaa-8dca-6f8f51386a49",
        "target": "e68eff79-7a22-4c80-ae10-ba008d86cc62"
       },
       "selectable": false
      }
     },
     "f6eb3e88a7954291972dc21c42b63831": {
      "model_module": "jupyter-cytoscape",
      "model_module_version": "^1.3.3",
      "model_name": "EdgeModel",
      "state": {
       "_model_module_version": "^1.3.3",
       "_view_module_version": "^1.3.3",
       "data": {
        "id": "608991ca-00cf-46a1-b005-a2ea70990581",
        "source": "666a0349-36ec-4277-9186-89b79e6a744e",
        "target": "95a9a9b1-1e14-4e04-a493-a3717bf382e9"
       },
       "selectable": false
      }
     },
     "f73d95bb0d9b43f181c2bbf2dae0d1d2": {
      "model_module": "jupyter-cytoscape",
      "model_module_version": "^1.3.3",
      "model_name": "EdgeModel",
      "state": {
       "_model_module_version": "^1.3.3",
       "_view_module_version": "^1.3.3",
       "data": {
        "id": "d2e3dba4-f1ff-4ea7-a51d-9510c937a53e",
        "source": "e0474220-33d1-4ca7-b4ad-55ee0f9b5b34",
        "target": "98af4f07-f54a-44ba-afe8-3414c6a6eb66"
       },
       "selectable": false
      }
     },
     "f7836bd6176a441f8457943ad632d307": {
      "model_module": "jupyter-cytoscape",
      "model_module_version": "^1.3.3",
      "model_name": "NodeModel",
      "state": {
       "_model_module_version": "^1.3.3",
       "_view_module_version": "^1.3.3",
       "data": {
        "bgcolor": "red",
        "id": "28709a42-81bf-45d8-a100-2b6ae17a6162",
        "name": "Truck transport"
       },
       "grabbable": true,
       "grabbed": false,
       "position": {
        "x": 1351.4619883040934,
        "y": 984.1269841269841
       },
       "selectable": false
      }
     },
     "f7ee61f0db814531b57184eff93cfa43": {
      "model_module": "jupyter-cytoscape",
      "model_module_version": "^1.3.3",
      "model_name": "EdgeModel",
      "state": {
       "_model_module_version": "^1.3.3",
       "_view_module_version": "^1.3.3",
       "data": {
        "id": "3a143ecf-a30c-4f94-9253-60fec5c85c23",
        "source": "1bb3ea0c-ea5f-418e-95ff-fb01866f5c24",
        "target": "98af4f07-f54a-44ba-afe8-3414c6a6eb66"
       },
       "selectable": false
      }
     },
     "f8099ef326e54f5989485a7ef99c87b1": {
      "model_module": "jupyter-cytoscape",
      "model_module_version": "^1.3.3",
      "model_name": "NodeModel",
      "state": {
       "_model_module_version": "^1.3.3",
       "_view_module_version": "^1.3.3",
       "data": {
        "bgcolor": "red",
        "id": "5eb7c2d6-a8da-4de4-9833-abf832fa9c7c",
        "name": "Lemon Juice Concentrate"
       },
       "grabbable": true,
       "grabbed": false,
       "position": {
        "x": 1351.4619883040934,
        "y": 1841.2698412698412
       },
       "selectable": false
      }
     },
     "f8bbfa734e6c42d9aa57e27ee3226e5a": {
      "model_module": "jupyter-cytoscape",
      "model_module_version": "^1.3.3",
      "model_name": "EdgeModel",
      "state": {
       "_model_module_version": "^1.3.3",
       "_view_module_version": "^1.3.3",
       "data": {
        "id": "d9470339-b887-4223-ad5e-b03397dc00b6",
        "source": "223f17a3-5e02-443a-85bf-9fcd6f2b47e7",
        "target": "c9fdf8da-2828-4c2d-8175-621119473e14"
       },
       "selectable": false
      }
     },
     "fa0893aa5456408dacc5c497429ff295": {
      "model_module": "jupyter-cytoscape",
      "model_module_version": "^1.3.3",
      "model_name": "EdgeModel",
      "state": {
       "_model_module_version": "^1.3.3",
       "_view_module_version": "^1.3.3",
       "data": {
        "id": "ab6f98c6-e648-4399-a51e-32b8a7128ae9",
        "source": "672c8957-2d02-46ad-ade0-3073bb8576eb",
        "target": "b13e7ac8-c256-41ff-9f59-e3c9350e2d1f"
       },
       "selectable": false
      }
     },
     "fa3936162c43445889089c48f618a62e": {
      "model_module": "jupyter-cytoscape",
      "model_module_version": "^1.3.3",
      "model_name": "NodeModel",
      "state": {
       "_model_module_version": "^1.3.3",
       "_view_module_version": "^1.3.3",
       "data": {
        "bgcolor": "green",
        "id": "8eef245d-135d-49e1-bb9d-4f49fc2341b5",
        "name": ""
       },
       "grabbable": true,
       "grabbed": false,
       "position": {
        "x": 1539.1812865497077,
        "y": 1142.857142857143
       },
       "selectable": false
      }
     },
     "fa5697e9e38b4889a2ed1fcad1f4c1fc": {
      "model_module": "jupyter-cytoscape",
      "model_module_version": "^1.3.3",
      "model_name": "NodeModel",
      "state": {
       "_model_module_version": "^1.3.3",
       "_view_module_version": "^1.3.3",
       "data": {
        "bgcolor": "red",
        "id": "23ecd6f3-169a-480d-bd23-0e7f0579d6b3",
        "name": "Bananas"
       },
       "grabbable": true,
       "grabbed": false,
       "position": {
        "x": 1769.5906432748538,
        "y": 63.49206349206349
       },
       "selectable": false
      }
     },
     "fa7d6354783548b68aa19f25561d88cb": {
      "model_module": "jupyter-cytoscape",
      "model_module_version": "^1.3.3",
      "model_name": "NodeModel",
      "state": {
       "_model_module_version": "^1.3.3",
       "_view_module_version": "^1.3.3",
       "data": {
        "bgcolor": "red",
        "id": "ad8f7840-f10f-44ee-933a-ce5f7d09b139",
        "name": "Truck transport"
       },
       "grabbable": true,
       "grabbed": false,
       "position": {
        "x": 1351.4619883040934,
        "y": 1142.857142857143
       },
       "selectable": false
      }
     },
     "fb56ce72754d407590cb8f3e4cd76c59": {
      "model_module": "jupyter-cytoscape",
      "model_module_version": "^1.3.3",
      "model_name": "EdgeModel",
      "state": {
       "_model_module_version": "^1.3.3",
       "_view_module_version": "^1.3.3",
       "data": {
        "id": "399922f2-662c-4a76-bc13-21a0aae49ada",
        "source": "ddab397b-287d-4a58-baa4-72844e67c562",
        "target": "223f17a3-5e02-443a-85bf-9fcd6f2b47e7"
       },
       "selectable": false
      }
     },
     "fc74b572e9564fc186bdbee23ae8013e": {
      "model_module": "jupyter-cytoscape",
      "model_module_version": "^1.3.3",
      "model_name": "NodeModel",
      "state": {
       "_model_module_version": "^1.3.3",
       "_view_module_version": "^1.3.3",
       "data": {
        "bgcolor": "red",
        "id": "7f613c31-3d3a-47b5-ac0a-8761fe185117",
        "name": "Bananas"
       },
       "grabbable": true,
       "grabbed": false,
       "position": {
        "x": 976.0233918128655,
        "y": 206.34920634920633
       },
       "selectable": false
      }
     },
     "fc9fb56b0eea4180ac61032001109a94": {
      "model_module": "jupyter-cytoscape",
      "model_module_version": "^1.3.3",
      "model_name": "NodeModel",
      "state": {
       "_model_module_version": "^1.3.3",
       "_view_module_version": "^1.3.3",
       "data": {
        "bgcolor": "green",
        "id": "780ae29b-0cb6-41b6-9b56-41309926b2b2",
        "name": ""
       },
       "grabbable": true,
       "grabbed": false,
       "position": {
        "x": 1539.1812865497077,
        "y": 984.1269841269841
       },
       "selectable": false
      }
     },
     "fcb2fdaeddb14f26a684b96d9bccbedc": {
      "model_module": "jupyter-cytoscape",
      "model_module_version": "^1.3.3",
      "model_name": "GraphModel",
      "state": {
       "_adj": {
        "00bd8a15-cae8-40ca-9ed4-7a5e9cb0ccba": {
         "87f59b52-ad1b-43f1-8b67-f0e11f2f162e": 1,
         "9b4dfd84-8f89-47fc-856f-a32950faabe0": 1
        },
        "02ef0194-3aad-47d1-8d49-5b6e42a21e77": {
         "0c3d80ca-947e-4a4c-b8bb-1d6f748236d5": 1,
         "5b96ae63-e032-46fa-89ba-4a8ce8fa9cee": 1,
         "681ad100-6fcf-497f-b327-4ffe95e77050": 1,
         "718bc799-6e1a-4857-aa94-e9eb7fe09783": 1,
         "72db7955-1acb-466c-ac94-fe54acdc3546": 1,
         "7d4010d6-cf6d-4d16-ae4b-59fdc15e67a3": 1,
         "c9a31e88-0082-4ffa-847e-56f63f7a17cf": 1,
         "f40c7405-7e1f-4930-8445-c8a97bbbbe7b": 1
        },
        "02f6cc1f-f86c-484e-a501-949a1ba0f9ec": {
         "2b559bbe-6700-4c7b-a886-90565be1c169": 1,
         "38436942-4600-46a5-838f-391cd0c695e1": 1
        },
        "04db2af3-45c3-4214-8918-c0dd943f7ff4": {
         "38436942-4600-46a5-838f-391cd0c695e1": 1,
         "a9e7ce85-f517-488a-bb67-cc84284f4b1c": 1
        },
        "062d6730-4c34-43a2-8806-2ae5feb77b8f": {},
        "0634f376-68d6-4796-b6ee-d8073e3fe4cd": {},
        "06fc1170-7705-442a-aeab-fa577711c1e0": {},
        "0c3d80ca-947e-4a4c-b8bb-1d6f748236d5": {
         "02ef0194-3aad-47d1-8d49-5b6e42a21e77": 1,
         "918333c6-dd4d-486d-9908-ca4ded625dce": 1
        },
        "0d89c5c8-e92f-4b85-aa52-aa3e5bd4df83": {
         "14eb5914-78ac-4ccd-ad4a-8672c358ca98": 1,
         "72db7955-1acb-466c-ac94-fe54acdc3546": 1
        },
        "0e7c7641-6584-4ac7-93e2-037e20f6590f": {},
        "0fa5caaf-1bfd-4811-ad8a-31ef90f21f07": {},
        "10b9484e-9271-484a-acdc-fca31859f57f": {
         "47155d26-84f3-4f04-b96e-643735e5a3cd": 1,
         "9551f250-83eb-4a15-90fe-43847b571aa7": 1,
         "a5623f9d-410c-4c32-95a1-dae8e7592af1": 1
        },
        "11291144-e8da-4391-86d9-674f23260733": {
         "21a9b3a9-d79f-439e-a1df-fa7eb5b0beaf": 1,
         "34672cd9-8206-4477-b0a7-bd363d1ffb1d": 1,
         "b3a3e878-3b7a-4a22-babe-7ddf97c44916": 1
        },
        "1231889c-4334-40d0-b3d4-573300bb262e": {
         "29e4cddc-710a-4ba2-b02f-b00e6b688aca": 1,
         "38436942-4600-46a5-838f-391cd0c695e1": 1
        },
        "1354e8de-c399-45d0-9c20-00cfda811e01": {
         "b13e7ac8-c256-41ff-9f59-e3c9350e2d1f": 1,
         "e80e8725-b75f-485e-8837-ec6bc51f3755": 1
        },
        "1400c1e8-b4c7-490f-9134-13d3f0b86deb": {},
        "14eb5914-78ac-4ccd-ad4a-8672c358ca98": {
         "0d89c5c8-e92f-4b85-aa52-aa3e5bd4df83": 1,
         "57364e0e-ffff-43b1-af92-82c58042e60b": 1
        },
        "1612c5b9-fd93-45ed-9474-a1f385cd9636": {
         "43cdcb54-c757-406f-bc77-54bb3218c785": 1,
         "72252fdd-42e6-4006-8da7-439ab63cb230": 1,
         "cde92b9b-e27e-4759-ab8b-ec40d3f99984": 1
        },
        "17dd7c45-c549-4953-bc9a-b131f93be259": {},
        "1bb3ea0c-ea5f-418e-95ff-fb01866f5c24": {
         "98af4f07-f54a-44ba-afe8-3414c6a6eb66": 1,
         "c9aa9001-433c-4585-b5fb-bab6f2cfa305": 1
        },
        "1bc9239c-34db-4990-9600-25baa948aadd": {},
        "1bd1fb07-6778-4ef2-b4ca-64793033a717": {
         "38436942-4600-46a5-838f-391cd0c695e1": 1,
         "3e65bd78-71ed-4003-bb43-bdf3e16d1aaf": 1
        },
        "1d78e88d-6447-4aaf-9da1-1fad8a98d5b8": {
         "57364e0e-ffff-43b1-af92-82c58042e60b": 1,
         "e80e8725-b75f-485e-8837-ec6bc51f3755": 1
        },
        "21a9b3a9-d79f-439e-a1df-fa7eb5b0beaf": {
         "11291144-e8da-4391-86d9-674f23260733": 1,
         "38436942-4600-46a5-838f-391cd0c695e1": 1
        },
        "223f17a3-5e02-443a-85bf-9fcd6f2b47e7": {
         "c9fdf8da-2828-4c2d-8175-621119473e14": 1,
         "ddab397b-287d-4a58-baa4-72844e67c562": 1
        },
        "23ecd6f3-169a-480d-bd23-0e7f0579d6b3": {},
        "244675ff-2c06-4a24-80e0-8b993d802bb6": {
         "7ff858c0-77d2-434a-9b98-5562a5f347f4": 1,
         "fac08c2c-f2ca-456a-8f70-9c77cd0e6dae": 1
        },
        "26b28b05-9365-47a4-98c8-6f77ebc1ab6b": {
         "38436942-4600-46a5-838f-391cd0c695e1": 1,
         "c9aa9001-433c-4585-b5fb-bab6f2cfa305": 1
        },
        "26c5906d-fe0b-479f-a42c-8f516233d8ba": {
         "38436942-4600-46a5-838f-391cd0c695e1": 1,
         "c9fdf8da-2828-4c2d-8175-621119473e14": 1
        },
        "28709a42-81bf-45d8-a100-2b6ae17a6162": {},
        "29103f83-1b7b-4fb0-9c75-e945c897e6d9": {
         "7570baa7-0339-4d2e-a292-ee8fcc468720": 1,
         "a295b7af-3ba2-4e90-9a36-3abf9592befa": 1
        },
        "29e4cddc-710a-4ba2-b02f-b00e6b688aca": {
         "1231889c-4334-40d0-b3d4-573300bb262e": 1,
         "47155d26-84f3-4f04-b96e-643735e5a3cd": 1,
         "a4652b40-a9cc-43a6-99dc-077bf8ac9c2f": 1
        },
        "2a5a838f-fd4d-4f7d-8b4f-c7bc0da2ba6e": {
         "b13e7ac8-c256-41ff-9f59-e3c9350e2d1f": 1,
         "c7be1cb6-70df-45d2-b2d4-c3ddbfeb5b64": 1
        },
        "2b559bbe-6700-4c7b-a886-90565be1c169": {
         "02f6cc1f-f86c-484e-a501-949a1ba0f9ec": 1,
         "957e5f05-2d57-4cbd-9332-c9e9d28dcd55": 1,
         "e0474220-33d1-4ca7-b4ad-55ee0f9b5b34": 1
        },
        "2bdd8a55-b632-48ab-bfb3-3310908986ae": {},
        "30784b1b-9018-4411-b36c-71beabcf3e7c": {},
        "31ca3463-924d-4fb2-9c84-5180b5117c2a": {},
        "32b99b97-8eeb-4371-9ecd-80ebaf76a08d": {
         "918333c6-dd4d-486d-9908-ca4ded625dce": 1,
         "f4fab705-41f6-4f7f-b82e-19093f520bb8": 1
        },
        "34672cd9-8206-4477-b0a7-bd363d1ffb1d": {
         "11291144-e8da-4391-86d9-674f23260733": 1,
         "98af4f07-f54a-44ba-afe8-3414c6a6eb66": 1
        },
        "34ff3b13-4569-4128-8116-d6fa31ba9a49": {},
        "3552e5f9-e3e7-4fc7-acd3-c6f2ecc0f6f8": {},
        "36a19b48-6ac7-404c-847c-5b1ba73f2f89": {},
        "38436942-4600-46a5-838f-391cd0c695e1": {
         "02f6cc1f-f86c-484e-a501-949a1ba0f9ec": 1,
         "04db2af3-45c3-4214-8918-c0dd943f7ff4": 1,
         "1231889c-4334-40d0-b3d4-573300bb262e": 1,
         "1bd1fb07-6778-4ef2-b4ca-64793033a717": 1,
         "21a9b3a9-d79f-439e-a1df-fa7eb5b0beaf": 1,
         "26b28b05-9365-47a4-98c8-6f77ebc1ab6b": 1,
         "26c5906d-fe0b-479f-a42c-8f516233d8ba": 1,
         "43cdcb54-c757-406f-bc77-54bb3218c785": 1,
         "44ac2c05-11e8-450e-983c-f5a5e5ad42fd": 1,
         "4836d9f9-5ab7-4e1e-8444-f9a6cfaa611f": 1,
         "70491afd-aa28-45c5-a039-4bc1812d32c5": 1,
         "8943f1a9-efe6-45c2-8da3-9b3fee5167a3": 1,
         "9fb2d404-b32e-4ddf-99e6-b50633592b28": 1,
         "bb916a72-2c1a-4ebf-8281-e0599fee6350": 1,
         "c392e95c-4621-4e18-83de-7becb1ce7929": 1
        },
        "3ab9ba33-582b-4072-9bd5-82d09a89b15f": {
         "8943f1a9-efe6-45c2-8da3-9b3fee5167a3": 1,
         "c30f3769-c44a-42a2-8237-28b517762621": 1,
         "cd62a9a4-69d6-455f-a0cc-069875244186": 1
        },
        "3b6ef470-f0a5-4b61-87c8-b3bf3b66fdc9": {},
        "3e65bd78-71ed-4003-bb43-bdf3e16d1aaf": {
         "1bd1fb07-6778-4ef2-b4ca-64793033a717": 1,
         "4287441a-d8af-4f78-9ee6-cdd0ff2da2f1": 1,
         "556e9d15-dd82-4276-ae32-25d939af2dab": 1
        },
        "4287441a-d8af-4f78-9ee6-cdd0ff2da2f1": {
         "3e65bd78-71ed-4003-bb43-bdf3e16d1aaf": 1,
         "9b4dfd84-8f89-47fc-856f-a32950faabe0": 1
        },
        "43cdcb54-c757-406f-bc77-54bb3218c785": {
         "1612c5b9-fd93-45ed-9474-a1f385cd9636": 1,
         "38436942-4600-46a5-838f-391cd0c695e1": 1
        },
        "44ac2c05-11e8-450e-983c-f5a5e5ad42fd": {
         "38436942-4600-46a5-838f-391cd0c695e1": 1,
         "7729dc59-56d9-467f-a977-9faaa1de01fa": 1
        },
        "44de0ea7-4b4b-42d3-aa3e-ef23ff738c85": {
         "5bad1b14-d5b3-4390-a77a-72b446f7ca56": 1
        },
        "47155d26-84f3-4f04-b96e-643735e5a3cd": {
         "10b9484e-9271-484a-acdc-fca31859f57f": 1,
         "29e4cddc-710a-4ba2-b02f-b00e6b688aca": 1
        },
        "4736e843-6c8c-466e-8571-e932e76abe48": {
         "8eef245d-135d-49e1-bb9d-4f49fc2341b5": 1,
         "98af4f07-f54a-44ba-afe8-3414c6a6eb66": 1
        },
        "47c0c684-bba3-4cb5-ad3c-583cdc45d643": {},
        "4836d9f9-5ab7-4e1e-8444-f9a6cfaa611f": {
         "38436942-4600-46a5-838f-391cd0c695e1": 1,
         "554023fc-a2d9-4a95-8832-fcfbf51e0cd5": 1
        },
        "4a131b44-a6e6-412a-b2ff-8bb510af1d01": {},
        "504be625-bc28-4e88-8e02-e3bf1abbeeb2": {},
        "514dede0-17b0-4888-8a82-c6d30b1756f1": {},
        "5487baf3-f6e6-4472-8c3d-de99b57f330f": {
         "9b4dfd84-8f89-47fc-856f-a32950faabe0": 1,
         "b13e7ac8-c256-41ff-9f59-e3c9350e2d1f": 1
        },
        "554023fc-a2d9-4a95-8832-fcfbf51e0cd5": {
         "4836d9f9-5ab7-4e1e-8444-f9a6cfaa611f": 1,
         "a2675fc7-9aeb-4fb3-8184-c345b5556435": 1,
         "e8b9c3b7-aaf8-4e97-b23e-bb4742de213a": 1
        },
        "556e9d15-dd82-4276-ae32-25d939af2dab": {
         "3e65bd78-71ed-4003-bb43-bdf3e16d1aaf": 1,
         "98af4f07-f54a-44ba-afe8-3414c6a6eb66": 1
        },
        "57364e0e-ffff-43b1-af92-82c58042e60b": {
         "14eb5914-78ac-4ccd-ad4a-8672c358ca98": 1,
         "1d78e88d-6447-4aaf-9da1-1fad8a98d5b8": 1,
         "718bc799-6e1a-4857-aa94-e9eb7fe09783": 1
        },
        "578dccf9-5238-4121-98bd-de24214cc787": {},
        "5b96ae63-e032-46fa-89ba-4a8ce8fa9cee": {
         "02ef0194-3aad-47d1-8d49-5b6e42a21e77": 1,
         "fac08c2c-f2ca-456a-8f70-9c77cd0e6dae": 1
        },
        "5bad1b14-d5b3-4390-a77a-72b446f7ca56": {
         "44de0ea7-4b4b-42d3-aa3e-ef23ff738c85": 1,
         "7f613c31-3d3a-47b5-ac0a-8761fe185117": 1,
         "c131b8ea-3166-47df-ba67-935291331846": 1
        },
        "5d4a5c7f-29f5-475d-a8c8-90076e08ff8a": {},
        "5d4ca006-2102-4ef4-ae59-dd54170894c3": {},
        "5eb7c2d6-a8da-4de4-9833-abf832fa9c7c": {
         "95750ef6-1b7b-401f-b970-ee7c745d7000": 1,
         "b7a01f0f-075f-4126-8f17-f8c6cba6e1cb": 1
        },
        "649e511b-125a-4107-a7ad-a30a4ce34c7f": {
         "87f59b52-ad1b-43f1-8b67-f0e11f2f162e": 1,
         "98af4f07-f54a-44ba-afe8-3414c6a6eb66": 1
        },
        "66537f18-ffeb-4793-a252-136b20034a15": {},
        "666a0349-36ec-4277-9186-89b79e6a744e": {
         "918333c6-dd4d-486d-9908-ca4ded625dce": 1,
         "95a9a9b1-1e14-4e04-a493-a3717bf382e9": 1
        },
        "672c8957-2d02-46ad-ade0-3073bb8576eb": {
         "ae2209f5-19d0-4eaa-8dca-6f8f51386a49": 1,
         "b13e7ac8-c256-41ff-9f59-e3c9350e2d1f": 1
        },
        "67e1a21d-345e-42c6-bd7a-ba27bcceed24": {},
        "681ad100-6fcf-497f-b327-4ffe95e77050": {
         "02ef0194-3aad-47d1-8d49-5b6e42a21e77": 1,
         "95750ef6-1b7b-401f-b970-ee7c745d7000": 1
        },
        "69cd328a-8426-42cf-a32f-d9a3b23a9141": {},
        "6e584d13-aea3-44a7-927a-141477dc266e": {},
        "70491afd-aa28-45c5-a039-4bc1812d32c5": {
         "38436942-4600-46a5-838f-391cd0c695e1": 1,
         "71b8be09-9ad7-4893-bbec-6cdd1f7b7872": 1
        },
        "718bc799-6e1a-4857-aa94-e9eb7fe09783": {
         "02ef0194-3aad-47d1-8d49-5b6e42a21e77": 1,
         "57364e0e-ffff-43b1-af92-82c58042e60b": 1
        },
        "71b8be09-9ad7-4893-bbec-6cdd1f7b7872": {
         "70491afd-aa28-45c5-a039-4bc1812d32c5": 1,
         "868e0ba5-5cd0-4f2a-bc31-99bd27f549b3": 1,
         "ba5e5a73-f1b5-4a6c-a040-984e3b1f6e77": 1
        },
        "72252fdd-42e6-4006-8da7-439ab63cb230": {
         "1612c5b9-fd93-45ed-9474-a1f385cd9636": 1,
         "e80e8725-b75f-485e-8837-ec6bc51f3755": 1
        },
        "72db7955-1acb-466c-ac94-fe54acdc3546": {
         "02ef0194-3aad-47d1-8d49-5b6e42a21e77": 1,
         "0d89c5c8-e92f-4b85-aa52-aa3e5bd4df83": 1
        },
        "73d5ce86-a6d6-4a91-a7fc-ef183b9e8c1b": {},
        "7570baa7-0339-4d2e-a292-ee8fcc468720": {
         "29103f83-1b7b-4fb0-9c75-e945c897e6d9": 1,
         "aaab8697-a684-465b-8ae5-f474476f1426": 1,
         "ca6f2f76-1e66-4874-b36c-e594f4229d70": 1,
         "e68eff79-7a22-4c80-ae10-ba008d86cc62": 1,
         "f5c2d15c-6613-492d-aaa1-2f44161a3853": 1
        },
        "7729dc59-56d9-467f-a977-9faaa1de01fa": {
         "44ac2c05-11e8-450e-983c-f5a5e5ad42fd": 1,
         "7bf548de-2067-4027-942b-e3cbd379c86a": 1,
         "853857ca-4b83-4fd7-b1cd-1edcfcdfff50": 1
        },
        "780ae29b-0cb6-41b6-9b56-41309926b2b2": {},
        "7bf548de-2067-4027-942b-e3cbd379c86a": {
         "7729dc59-56d9-467f-a977-9faaa1de01fa": 1,
         "e80e8725-b75f-485e-8837-ec6bc51f3755": 1
        },
        "7cfdd8f1-da74-40e0-8035-bc3c3f9cfe95": {},
        "7d4010d6-cf6d-4d16-ae4b-59fdc15e67a3": {
         "02ef0194-3aad-47d1-8d49-5b6e42a21e77": 1,
         "7ff858c0-77d2-434a-9b98-5562a5f347f4": 1
        },
        "7e4c2738-a878-4655-8fa8-f4ceea6eb6bd": {},
        "7f613c31-3d3a-47b5-ac0a-8761fe185117": {
         "5bad1b14-d5b3-4390-a77a-72b446f7ca56": 1,
         "ddab397b-287d-4a58-baa4-72844e67c562": 1
        },
        "7fee42b3-56ac-4622-8a70-8903601b1c87": {},
        "7ff858c0-77d2-434a-9b98-5562a5f347f4": {
         "244675ff-2c06-4a24-80e0-8b993d802bb6": 1,
         "7d4010d6-cf6d-4d16-ae4b-59fdc15e67a3": 1
        },
        "80f9d825-4bea-47ee-9e91-ce9fbc08a3f2": {},
        "842f4865-d92e-4ba6-a561-bd3f9adf519d": {},
        "853857ca-4b83-4fd7-b1cd-1edcfcdfff50": {
         "7729dc59-56d9-467f-a977-9faaa1de01fa": 1,
         "98af4f07-f54a-44ba-afe8-3414c6a6eb66": 1
        },
        "862e7797-bb3f-47ed-a583-7fe6cb7824c5": {},
        "868e0ba5-5cd0-4f2a-bc31-99bd27f549b3": {
         "71b8be09-9ad7-4893-bbec-6cdd1f7b7872": 1,
         "98af4f07-f54a-44ba-afe8-3414c6a6eb66": 1
        },
        "87f59b52-ad1b-43f1-8b67-f0e11f2f162e": {
         "00bd8a15-cae8-40ca-9ed4-7a5e9cb0ccba": 1,
         "649e511b-125a-4107-a7ad-a30a4ce34c7f": 1,
         "c392e95c-4621-4e18-83de-7becb1ce7929": 1
        },
        "88ac6972-a91e-41b0-ad69-742df1e33ede": {
         "a9e7ce85-f517-488a-bb67-cc84284f4b1c": 1,
         "c7be1cb6-70df-45d2-b2d4-c3ddbfeb5b64": 1
        },
        "8943f1a9-efe6-45c2-8da3-9b3fee5167a3": {
         "38436942-4600-46a5-838f-391cd0c695e1": 1,
         "3ab9ba33-582b-4072-9bd5-82d09a89b15f": 1
        },
        "8c6b0586-3e33-45d9-8978-b7fd85342d87": {},
        "8eef245d-135d-49e1-bb9d-4f49fc2341b5": {
         "4736e843-6c8c-466e-8571-e932e76abe48": 1,
         "9fb2d404-b32e-4ddf-99e6-b50633592b28": 1,
         "ad8f7840-f10f-44ee-933a-ce5f7d09b139": 1
        },
        "90111d54-ea1e-464e-8514-822b18ae119f": {},
        "918333c6-dd4d-486d-9908-ca4ded625dce": {
         "0c3d80ca-947e-4a4c-b8bb-1d6f748236d5": 1,
         "32b99b97-8eeb-4371-9ecd-80ebaf76a08d": 1,
         "666a0349-36ec-4277-9186-89b79e6a744e": 1
        },
        "9274e1ce-fa92-4e90-a913-b53b3433715e": {
         "dd731b6c-adaa-4f01-8746-364d37492307": 1,
         "ddab397b-287d-4a58-baa4-72844e67c562": 1
        },
        "9551f250-83eb-4a15-90fe-43847b571aa7": {
         "10b9484e-9271-484a-acdc-fca31859f57f": 1,
         "a9e7ce85-f517-488a-bb67-cc84284f4b1c": 1
        },
        "95750ef6-1b7b-401f-b970-ee7c745d7000": {
         "5eb7c2d6-a8da-4de4-9833-abf832fa9c7c": 1,
         "681ad100-6fcf-497f-b327-4ffe95e77050": 1,
         "9843e86c-fb63-4af9-87ec-44f4165a449f": 1
        },
        "957e5f05-2d57-4cbd-9332-c9e9d28dcd55": {
         "2b559bbe-6700-4c7b-a886-90565be1c169": 1,
         "f4fab705-41f6-4f7f-b82e-19093f520bb8": 1
        },
        "95a9a9b1-1e14-4e04-a493-a3717bf382e9": {
         "666a0349-36ec-4277-9186-89b79e6a744e": 1,
         "f40c7405-7e1f-4930-8445-c8a97bbbbe7b": 1
        },
        "97698f38-0222-498e-8fd2-187b487cfe48": {},
        "97dead99-5464-44b4-b020-629cf57afbfa": {},
        "9843e86c-fb63-4af9-87ec-44f4165a449f": {
         "95750ef6-1b7b-401f-b970-ee7c745d7000": 1,
         "9b4dfd84-8f89-47fc-856f-a32950faabe0": 1
        },
        "98af4f07-f54a-44ba-afe8-3414c6a6eb66": {
         "1bb3ea0c-ea5f-418e-95ff-fb01866f5c24": 1,
         "34672cd9-8206-4477-b0a7-bd363d1ffb1d": 1,
         "4736e843-6c8c-466e-8571-e932e76abe48": 1,
         "556e9d15-dd82-4276-ae32-25d939af2dab": 1,
         "649e511b-125a-4107-a7ad-a30a4ce34c7f": 1,
         "853857ca-4b83-4fd7-b1cd-1edcfcdfff50": 1,
         "868e0ba5-5cd0-4f2a-bc31-99bd27f549b3": 1,
         "cd62a9a4-69d6-455f-a0cc-069875244186": 1,
         "cde92b9b-e27e-4759-ab8b-ec40d3f99984": 1,
         "dc9addaf-5270-40da-9510-123d0155bd93": 1,
         "e0474220-33d1-4ca7-b4ad-55ee0f9b5b34": 1,
         "e8b9c3b7-aaf8-4e97-b23e-bb4742de213a": 1
        },
        "98eddacf-4211-4c0a-b4da-0a058710a854": {},
        "99f77227-3592-4b4a-a806-65505d531d51": {},
        "9b4dfd84-8f89-47fc-856f-a32950faabe0": {
         "00bd8a15-cae8-40ca-9ed4-7a5e9cb0ccba": 1,
         "4287441a-d8af-4f78-9ee6-cdd0ff2da2f1": 1,
         "5487baf3-f6e6-4472-8c3d-de99b57f330f": 1,
         "9843e86c-fb63-4af9-87ec-44f4165a449f": 1,
         "a4652b40-a9cc-43a6-99dc-077bf8ac9c2f": 1
        },
        "9fb2d404-b32e-4ddf-99e6-b50633592b28": {
         "38436942-4600-46a5-838f-391cd0c695e1": 1,
         "8eef245d-135d-49e1-bb9d-4f49fc2341b5": 1
        },
        "a2675fc7-9aeb-4fb3-8184-c345b5556435": {
         "554023fc-a2d9-4a95-8832-fcfbf51e0cd5": 1,
         "f4fab705-41f6-4f7f-b82e-19093f520bb8": 1
        },
        "a295b7af-3ba2-4e90-9a36-3abf9592befa": {
         "29103f83-1b7b-4fb0-9c75-e945c897e6d9": 1
        },
        "a4652b40-a9cc-43a6-99dc-077bf8ac9c2f": {
         "29e4cddc-710a-4ba2-b02f-b00e6b688aca": 1,
         "9b4dfd84-8f89-47fc-856f-a32950faabe0": 1
        },
        "a5623f9d-410c-4c32-95a1-dae8e7592af1": {
         "10b9484e-9271-484a-acdc-fca31859f57f": 1,
         "dd731b6c-adaa-4f01-8746-364d37492307": 1
        },
        "a77f91ae-af31-4403-8f91-38c7b43b89f1": {
         "aaab8697-a684-465b-8ae5-f474476f1426": 1
        },
        "a8b14081-c439-4c40-b295-398f73ef3a19": {},
        "a9e7ce85-f517-488a-bb67-cc84284f4b1c": {
         "04db2af3-45c3-4214-8918-c0dd943f7ff4": 1,
         "88ac6972-a91e-41b0-ad69-742df1e33ede": 1,
         "9551f250-83eb-4a15-90fe-43847b571aa7": 1
        },
        "aa816dd9-6060-4586-b6dd-557b1a23aa58": {},
        "aaab8697-a684-465b-8ae5-f474476f1426": {
         "7570baa7-0339-4d2e-a292-ee8fcc468720": 1,
         "a77f91ae-af31-4403-8f91-38c7b43b89f1": 1
        },
        "ab15ef3a-985f-424a-8355-19e1c4a2157c": {},
        "ad8f7840-f10f-44ee-933a-ce5f7d09b139": {
         "8eef245d-135d-49e1-bb9d-4f49fc2341b5": 1,
         "c7be1cb6-70df-45d2-b2d4-c3ddbfeb5b64": 1
        },
        "adb4a895-82fc-49d1-ba45-7cbc8352c446": {},
        "ae2209f5-19d0-4eaa-8dca-6f8f51386a49": {
         "672c8957-2d02-46ad-ade0-3073bb8576eb": 1,
         "e68eff79-7a22-4c80-ae10-ba008d86cc62": 1
        },
        "b13e7ac8-c256-41ff-9f59-e3c9350e2d1f": {
         "1354e8de-c399-45d0-9c20-00cfda811e01": 1,
         "2a5a838f-fd4d-4f7d-8b4f-c7bc0da2ba6e": 1,
         "5487baf3-f6e6-4472-8c3d-de99b57f330f": 1,
         "672c8957-2d02-46ad-ade0-3073bb8576eb": 1,
         "fd2effa2-3df1-4943-b9a4-7a4601f1f75b": 1
        },
        "b3a3e878-3b7a-4a22-babe-7ddf97c44916": {
         "11291144-e8da-4391-86d9-674f23260733": 1,
         "f4fab705-41f6-4f7f-b82e-19093f520bb8": 1
        },
        "b3a9362d-d4b7-40ff-b9b4-d886876e157e": {},
        "b7a01f0f-075f-4126-8f17-f8c6cba6e1cb": {
         "5eb7c2d6-a8da-4de4-9833-abf832fa9c7c": 1,
         "c9a31e88-0082-4ffa-847e-56f63f7a17cf": 1
        },
        "ba5e5a73-f1b5-4a6c-a040-984e3b1f6e77": {
         "71b8be09-9ad7-4893-bbec-6cdd1f7b7872": 1,
         "ddab397b-287d-4a58-baa4-72844e67c562": 1
        },
        "bb916a72-2c1a-4ebf-8281-e0599fee6350": {
         "38436942-4600-46a5-838f-391cd0c695e1": 1,
         "dd731b6c-adaa-4f01-8746-364d37492307": 1
        },
        "c03602fe-beaa-4b16-8707-2a4276e7e83b": {},
        "c131b8ea-3166-47df-ba67-935291331846": {
         "5bad1b14-d5b3-4390-a77a-72b446f7ca56": 1
        },
        "c30f3769-c44a-42a2-8237-28b517762621": {
         "3ab9ba33-582b-4072-9bd5-82d09a89b15f": 1,
         "e80e8725-b75f-485e-8837-ec6bc51f3755": 1
        },
        "c392e95c-4621-4e18-83de-7becb1ce7929": {
         "38436942-4600-46a5-838f-391cd0c695e1": 1,
         "87f59b52-ad1b-43f1-8b67-f0e11f2f162e": 1
        },
        "c7be1cb6-70df-45d2-b2d4-c3ddbfeb5b64": {
         "2a5a838f-fd4d-4f7d-8b4f-c7bc0da2ba6e": 1,
         "88ac6972-a91e-41b0-ad69-742df1e33ede": 1,
         "ad8f7840-f10f-44ee-933a-ce5f7d09b139": 1,
         "da97ab7c-bae8-40fd-bf29-024b0928607c": 1,
         "e04b717f-bc7e-4ade-9129-aa8008d325d8": 1
        },
        "c9a31e88-0082-4ffa-847e-56f63f7a17cf": {
         "02ef0194-3aad-47d1-8d49-5b6e42a21e77": 1,
         "b7a01f0f-075f-4126-8f17-f8c6cba6e1cb": 1
        },
        "c9aa9001-433c-4585-b5fb-bab6f2cfa305": {
         "1bb3ea0c-ea5f-418e-95ff-fb01866f5c24": 1,
         "26b28b05-9365-47a4-98c8-6f77ebc1ab6b": 1,
         "da97ab7c-bae8-40fd-bf29-024b0928607c": 1
        },
        "c9fdf8da-2828-4c2d-8175-621119473e14": {
         "223f17a3-5e02-443a-85bf-9fcd6f2b47e7": 1,
         "26c5906d-fe0b-479f-a42c-8f516233d8ba": 1,
         "dc9addaf-5270-40da-9510-123d0155bd93": 1
        },
        "ca0b92ad-3cf2-470b-82b6-6dbca553ac85": {},
        "ca6f2f76-1e66-4874-b36c-e594f4229d70": {
         "7570baa7-0339-4d2e-a292-ee8fcc468720": 1,
         "ddab397b-287d-4a58-baa4-72844e67c562": 1
        },
        "ccdc792a-6eba-4b0e-81af-c8b2c071d456": {},
        "cd62a9a4-69d6-455f-a0cc-069875244186": {
         "3ab9ba33-582b-4072-9bd5-82d09a89b15f": 1,
         "98af4f07-f54a-44ba-afe8-3414c6a6eb66": 1
        },
        "cde92b9b-e27e-4759-ab8b-ec40d3f99984": {
         "1612c5b9-fd93-45ed-9474-a1f385cd9636": 1,
         "98af4f07-f54a-44ba-afe8-3414c6a6eb66": 1
        },
        "d1fea51b-2dcb-4db9-be3e-5c68290f1745": {
         "f5c2d15c-6613-492d-aaa1-2f44161a3853": 1
        },
        "d9ccadbc-904f-4c7e-b35b-b55eae3a2d13": {},
        "da97ab7c-bae8-40fd-bf29-024b0928607c": {
         "c7be1cb6-70df-45d2-b2d4-c3ddbfeb5b64": 1,
         "c9aa9001-433c-4585-b5fb-bab6f2cfa305": 1
        },
        "dc9addaf-5270-40da-9510-123d0155bd93": {
         "98af4f07-f54a-44ba-afe8-3414c6a6eb66": 1,
         "c9fdf8da-2828-4c2d-8175-621119473e14": 1
        },
        "dd731b6c-adaa-4f01-8746-364d37492307": {
         "9274e1ce-fa92-4e90-a913-b53b3433715e": 1,
         "a5623f9d-410c-4c32-95a1-dae8e7592af1": 1,
         "bb916a72-2c1a-4ebf-8281-e0599fee6350": 1
        },
        "ddab397b-287d-4a58-baa4-72844e67c562": {
         "223f17a3-5e02-443a-85bf-9fcd6f2b47e7": 1,
         "7f613c31-3d3a-47b5-ac0a-8761fe185117": 1,
         "9274e1ce-fa92-4e90-a913-b53b3433715e": 1,
         "ba5e5a73-f1b5-4a6c-a040-984e3b1f6e77": 1,
         "ca6f2f76-1e66-4874-b36c-e594f4229d70": 1
        },
        "df1d6aec-ff40-444f-9c22-09b6ccaaef0d": {},
        "e0474220-33d1-4ca7-b4ad-55ee0f9b5b34": {
         "2b559bbe-6700-4c7b-a886-90565be1c169": 1,
         "98af4f07-f54a-44ba-afe8-3414c6a6eb66": 1
        },
        "e04b717f-bc7e-4ade-9129-aa8008d325d8": {
         "c7be1cb6-70df-45d2-b2d4-c3ddbfeb5b64": 1,
         "fac08c2c-f2ca-456a-8f70-9c77cd0e6dae": 1
        },
        "e1ea24b7-738a-4180-ad1d-0c55e89f74f8": {},
        "e5ec713e-b49e-47cb-ae72-51deb956c87f": {},
        "e68eff79-7a22-4c80-ae10-ba008d86cc62": {
         "7570baa7-0339-4d2e-a292-ee8fcc468720": 1,
         "ae2209f5-19d0-4eaa-8dca-6f8f51386a49": 1
        },
        "e80e8725-b75f-485e-8837-ec6bc51f3755": {
         "1354e8de-c399-45d0-9c20-00cfda811e01": 1,
         "1d78e88d-6447-4aaf-9da1-1fad8a98d5b8": 1,
         "72252fdd-42e6-4006-8da7-439ab63cb230": 1,
         "7bf548de-2067-4027-942b-e3cbd379c86a": 1,
         "c30f3769-c44a-42a2-8237-28b517762621": 1
        },
        "e8b9c3b7-aaf8-4e97-b23e-bb4742de213a": {
         "554023fc-a2d9-4a95-8832-fcfbf51e0cd5": 1,
         "98af4f07-f54a-44ba-afe8-3414c6a6eb66": 1
        },
        "f3cc6c56-2191-4e2e-a9eb-597255f2e9ac": {},
        "f40c7405-7e1f-4930-8445-c8a97bbbbe7b": {
         "02ef0194-3aad-47d1-8d49-5b6e42a21e77": 1,
         "95a9a9b1-1e14-4e04-a493-a3717bf382e9": 1
        },
        "f4b510b7-b28f-42c2-9c9f-d6823a7fb9f6": {},
        "f4fab705-41f6-4f7f-b82e-19093f520bb8": {
         "32b99b97-8eeb-4371-9ecd-80ebaf76a08d": 1,
         "957e5f05-2d57-4cbd-9332-c9e9d28dcd55": 1,
         "a2675fc7-9aeb-4fb3-8184-c345b5556435": 1,
         "b3a3e878-3b7a-4a22-babe-7ddf97c44916": 1,
         "fd2effa2-3df1-4943-b9a4-7a4601f1f75b": 1
        },
        "f5c2d15c-6613-492d-aaa1-2f44161a3853": {
         "7570baa7-0339-4d2e-a292-ee8fcc468720": 1,
         "d1fea51b-2dcb-4db9-be3e-5c68290f1745": 1
        },
        "fac08c2c-f2ca-456a-8f70-9c77cd0e6dae": {
         "244675ff-2c06-4a24-80e0-8b993d802bb6": 1,
         "5b96ae63-e032-46fa-89ba-4a8ce8fa9cee": 1,
         "e04b717f-bc7e-4ade-9129-aa8008d325d8": 1
        },
        "fd2effa2-3df1-4943-b9a4-7a4601f1f75b": {
         "b13e7ac8-c256-41ff-9f59-e3c9350e2d1f": 1,
         "f4fab705-41f6-4f7f-b82e-19093f520bb8": 1
        },
        "fd344802-8db8-4367-88e2-2ece3a262685": {}
       },
       "_model_module_version": "^1.3.3",
       "_view_module": "jupyter-cytoscape",
       "_view_module_version": "^1.3.3",
       "edges": [
        "IPY_MODEL_f6976a06f7f14250b257b40a16770f91",
        "IPY_MODEL_466ae39d819842e1a062121fae225bbe",
        "IPY_MODEL_3287f39175714501a470ee3d076003c0",
        "IPY_MODEL_fa0893aa5456408dacc5c497429ff295",
        "IPY_MODEL_66cccc7744714bf1bbcc93de9e884a68",
        "IPY_MODEL_7151f7a1d206421b94f3146af469c949",
        "IPY_MODEL_0dea766823444de89c97c1ab016d229f",
        "IPY_MODEL_36be45243f5a4c5090599cf7ef0b8d2c",
        "IPY_MODEL_de980e6ea5c94ce3bd4aaed8e4208a5c",
        "IPY_MODEL_19ded604353542bcaf5c0126a0c938eb",
        "IPY_MODEL_4cdd841f798f49668567a4a5ce7c0db6",
        "IPY_MODEL_ad3ee6fd29cd45a5854c776e8dca4232",
        "IPY_MODEL_000977e9fb834192a88bf015bf035d5c",
        "IPY_MODEL_e89003289dd84afaaba9bf7ea7ab79de",
        "IPY_MODEL_80ed8e6ec5ee49cdb15e23fdf5a2d30b",
        "IPY_MODEL_841c1acafc174fe583da506cba95a4c7",
        "IPY_MODEL_f25587c4648b4a629cb31f60810c62e7",
        "IPY_MODEL_e13455b712dd4f858346e6181e9e602c",
        "IPY_MODEL_a086957ce9e644b3af763b57f6771abc",
        "IPY_MODEL_26cd4fbc687d44639d08b58c9f57e9b8",
        "IPY_MODEL_93e1274aaa99417a9e6038c1d7b8fdb6",
        "IPY_MODEL_c9b362a5905840b19a6a466dda78c80b",
        "IPY_MODEL_785ccb144389426392d2fbc5335e623b",
        "IPY_MODEL_c674395b54564b07b56172724f2179f4",
        "IPY_MODEL_34b7212bac164917bb137504a7559fdf",
        "IPY_MODEL_726b55fa4ac74c8db8078c2b95c66458",
        "IPY_MODEL_7010e4f66d4745ba8a40625a5ac660fb",
        "IPY_MODEL_f73d95bb0d9b43f181c2bbf2dae0d1d2",
        "IPY_MODEL_b86a30b653744635be522658a2a64ab5",
        "IPY_MODEL_5f54821fdf104f0cbbcdebfe8f9182d4",
        "IPY_MODEL_3fef31dff9954203993967507e5c93c7",
        "IPY_MODEL_1a314865f13142bfad45194f2d1d795a",
        "IPY_MODEL_76657961cad24cc48893de50225bcccb",
        "IPY_MODEL_eeee88bde6f848aea943357d811a459f",
        "IPY_MODEL_aff7af6b276741b5a380d2fc058c4892",
        "IPY_MODEL_f6eb3e88a7954291972dc21c42b63831",
        "IPY_MODEL_016e7b3ec0ee400d9f52c4ccb5eda760",
        "IPY_MODEL_7d304be44540449680e0cf60b6eb6f85",
        "IPY_MODEL_bbc81a69044b449a80cd58aa0627f45e",
        "IPY_MODEL_d8ba7c95f8dd4578807b32437770109b",
        "IPY_MODEL_057e37bcb6c94d34b55c0e6005fa2064",
        "IPY_MODEL_d023ec3812b14303abb9f05782e99b6b",
        "IPY_MODEL_d6adbb05e4e94ba289d101f34f23bc51",
        "IPY_MODEL_4ddafa9701214c299759afe6179269cb",
        "IPY_MODEL_f314769f65fc48829ec9f14d7ecfc92d",
        "IPY_MODEL_005c30eb039048b3b88953525cc4eda6",
        "IPY_MODEL_2f420d0fcaf44c1bb5b694351ed385d6",
        "IPY_MODEL_498114e2b2274d8dbd8a263c6f08de43",
        "IPY_MODEL_d72c0199c3554c829fa5ee75144215ca",
        "IPY_MODEL_40f25d3985844ac8892d3347ff85ed2f",
        "IPY_MODEL_d71fc927a1d246bebce471a05ce0c32c",
        "IPY_MODEL_441d63c4f0214561b8820e952ee90dfa",
        "IPY_MODEL_bcf528029d5e4bd08b186994b85e65a0",
        "IPY_MODEL_d892dcd0326b4450a7c065fb12af9361",
        "IPY_MODEL_c7b79a43a76649c6a5e0dc6aa34019b5",
        "IPY_MODEL_d86bbd70c2de421c99b76fdc8b5fc9eb",
        "IPY_MODEL_5ba0b689a40743af93eba9869b66c2fc",
        "IPY_MODEL_0e941b8e00ec4d6591f360b8ed056311",
        "IPY_MODEL_004caf899fdf46019c36e593217f604e",
        "IPY_MODEL_91875d2bb8e24afe935cc5f8b5d10b4b",
        "IPY_MODEL_87d893dc6f05487ca00c92ab411a158d",
        "IPY_MODEL_e59a0b73f6ea4cc986beada0c5a81408",
        "IPY_MODEL_8bdbbb08f9944ed4b3a1ec94a0ca1cbe",
        "IPY_MODEL_3d08736a0fa4478d965343af396b49bc",
        "IPY_MODEL_332445cfb55d40d19a07984cfad7dcce",
        "IPY_MODEL_a294db3748c34e608de85bcc1963ddbc",
        "IPY_MODEL_6833a9ec9fef465e9e37f7f72a8324cc",
        "IPY_MODEL_638287a7e6f5402ab8bf0c92d0270c65",
        "IPY_MODEL_b447d2d65c5747c2b1ab576c8272058f",
        "IPY_MODEL_d521bb7df7f04b299a08b3011dd207d0",
        "IPY_MODEL_85c02b8730d449a4a622d6f93d8e5418",
        "IPY_MODEL_db913b7d87bd4256b73e66a9fe4a69a7",
        "IPY_MODEL_d0fe2952ca4c4bf49067f5d4fcf7fd40",
        "IPY_MODEL_7665ae6bbf8d41f5b22f5eb72d2dcd25",
        "IPY_MODEL_4de796720bd84bf39d0d5d754ba92658",
        "IPY_MODEL_b095cadb81af40ac98f815511e8a6327",
        "IPY_MODEL_3e37a018a9204e998b158687d5620fa3",
        "IPY_MODEL_61d66209cf79488b89d6bf752b1eb64e",
        "IPY_MODEL_7740be23eddb476a8d67c845bd5881ff",
        "IPY_MODEL_14a35fbb2702480bb0bbf59da35a5dfd",
        "IPY_MODEL_a617527354f44907b2d118e0d39336c3",
        "IPY_MODEL_01e177624d024806bbf06d07233583b5",
        "IPY_MODEL_c4e484367cdf4c42b9ee838d867ae8d8",
        "IPY_MODEL_d57e2b9a3fd64ad8ab60e5cd21b00ab3",
        "IPY_MODEL_633391b6806e43d993afd1d4a02bb770",
        "IPY_MODEL_69d67e9e49534f5ab22a476963fb294b",
        "IPY_MODEL_352dcbe1a091410f94edaaf7f89c97b3",
        "IPY_MODEL_8c5f5c80e8164c3bbdf43118293bdbf6",
        "IPY_MODEL_8b747648a0a6413f88a59d7adc3b437f",
        "IPY_MODEL_c5ab120b7a6d447993affad9b1dd178e",
        "IPY_MODEL_11b8730d3c9d4f7db89ef6793eb47a01",
        "IPY_MODEL_bf30c03293b84433b1e32e8d125ef4e5",
        "IPY_MODEL_bcf844b206e34cb9ad35f8b7f13ec6d0",
        "IPY_MODEL_52b80d3d5a214a2aa46c0e5ceef1ab6f",
        "IPY_MODEL_ac7aa3324ee64d9097b000c99bc1d77c",
        "IPY_MODEL_d54e35d899eb4a2fa42a126b07bd9fe3",
        "IPY_MODEL_81f26543dc8344aeb60fb29a5ad8b3b7",
        "IPY_MODEL_3f2f5aeb3dd74a9ab33838aa9cfbede0",
        "IPY_MODEL_b9ce3ed3b9a44bdc9e8cb6fd1d934b3b",
        "IPY_MODEL_bb1a7d000e354b9ea5d055630a8b3ac1",
        "IPY_MODEL_85b4261f01414da4ac1430c898554e8a",
        "IPY_MODEL_f7ee61f0db814531b57184eff93cfa43",
        "IPY_MODEL_0cbc8aec73e84e78bc87bd5818e17620",
        "IPY_MODEL_9e12e48538cd43d895b9400fa258dbd0",
        "IPY_MODEL_7dfbae89e96a4a308753e50f079209b0",
        "IPY_MODEL_6ad3b650223d418cbeda4405e332f22a",
        "IPY_MODEL_9bdf344ea3b74c9ba8e56f4c46004789",
        "IPY_MODEL_bc975e671e8c4aa0bc9f26761fdfbeca",
        "IPY_MODEL_f26d320c80a8487f87ae5e4a6a1e75c1",
        "IPY_MODEL_028c0df7d68f4a29a376101813f3a353",
        "IPY_MODEL_2ff8333dfbdb440496c6c7733b9756dc",
        "IPY_MODEL_731c046fecb04c34b0655a5f3fffd8f5",
        "IPY_MODEL_1970e891eb6f42a7969ff5eb1d0e6ed5",
        "IPY_MODEL_ca900cf7e9964346a82cf605ea2894b3",
        "IPY_MODEL_4459a9fd13394168b3e1125e2259b9c6",
        "IPY_MODEL_bc46776580474f0bbf9716357883e676",
        "IPY_MODEL_ff571f1a32e2430b814f8c750754537d",
        "IPY_MODEL_dd9e0a45f2564f8e8ffe172337d1cedd",
        "IPY_MODEL_113f2316bdcc4a50b77c6747893992ee",
        "IPY_MODEL_4bc6f66b81da408aa91cb9f0609b15a9",
        "IPY_MODEL_b5647960aa8147c096a2ad9019d82d9e",
        "IPY_MODEL_d12d10c6e04140e6af6308a7ec651a80",
        "IPY_MODEL_3e7e1a545e5e40cc96003c3249f5524c",
        "IPY_MODEL_b401f928448342e9bf69f946830e0a4d",
        "IPY_MODEL_18e3b4be259d44f98f1c787f95cf64c5",
        "IPY_MODEL_fb56ce72754d407590cb8f3e4cd76c59",
        "IPY_MODEL_32bb2e0a1e5c494da45650c5bcbc810d",
        "IPY_MODEL_19238c5221314a4792959ae28356b8f3",
        "IPY_MODEL_b43059182ad248cb9d081b5f1426d1fd",
        "IPY_MODEL_f8bbfa734e6c42d9aa57e27ee3226e5a",
        "IPY_MODEL_e1f294d2f1564d32ac747cab6d536023",
        "IPY_MODEL_9b367e2eef2c43bf95ba59de588b5d93",
        "IPY_MODEL_df5a56e72e1845a4a52fdc1518ba45c6",
        "IPY_MODEL_4c3aed66303a4515bdb0829545412cfd",
        "IPY_MODEL_8d2bc8b911fa48c48eda5756a66f3b23",
        "IPY_MODEL_9e2dac1c5a3a4570825b7d5dca971bb2",
        "IPY_MODEL_2b52fdc57acd4b7587fa35bae5861cfa",
        "IPY_MODEL_f0d6a33dc6cd40ecbf42e4656430132f",
        "IPY_MODEL_197b4018b5d0419bac32c96b8ecece1b",
        "IPY_MODEL_35862ebead5d4f7c98a4e4bc40c70f51",
        "IPY_MODEL_12c8b210f9e74134b8e0a86cacd87209",
        "IPY_MODEL_f259927efc694e9a96e727a5150abb13",
        "IPY_MODEL_8d9c66b07ed94f8a9550ec8c5c8bf30a",
        "IPY_MODEL_f179141715164c8e9ffeabe4592a45e7",
        "IPY_MODEL_d6c3b4fdd70e4a7f8a7f3e9530cb821f",
        "IPY_MODEL_18370a62e2f1429d8d3c952955f0218b",
        "IPY_MODEL_2e5523e675174c44acd89248d40fb640",
        "IPY_MODEL_8d32db539a61448db82ba5d9bf6b4636",
        "IPY_MODEL_db9164a760514ab5aff45d0b9d6c457d",
        "IPY_MODEL_9435b40317204e67aac175ffcce6019a",
        "IPY_MODEL_b8a3930a2947498e8a6a0805c971b4fd",
        "IPY_MODEL_23c4beb82fdc44e4a38e4ec0823b7cda",
        "IPY_MODEL_349dbefb72d54553aafeae409b5981d7",
        "IPY_MODEL_6c631841fc324a349ae296e86b8f47c9",
        "IPY_MODEL_0dbb4e1d1afd4ecfa9c53198119d16ae",
        "IPY_MODEL_225c10eadd0048acb259816ff072aa25",
        "IPY_MODEL_ec588e9bd0d447cda8fef15bce6df033",
        "IPY_MODEL_845c841840b04b49b7b3f5b96f2c96f4",
        "IPY_MODEL_b6a5c364496348b78f366d90bf07fd9e",
        "IPY_MODEL_0b153ad2882b4023a3da3c79bdb3ef00",
        "IPY_MODEL_a866e19db2534984a7e25f37f2bcb351",
        "IPY_MODEL_852cdb68b91143208ff50aa7c284a259",
        "IPY_MODEL_44449d0271004a76977e3c69a87d8398",
        "IPY_MODEL_6548eeb0a4e240e5b5b0cbc03f3aa7d5",
        "IPY_MODEL_ed391ac3a4d64f5c9f3b67d0e426cb0c",
        "IPY_MODEL_3d6d1a8df3f846fa864ca755e1793cec",
        "IPY_MODEL_46d7af0fa2184b1c9b39acdcf54e1ad9",
        "IPY_MODEL_d9f8e8936bb84c3fa8d82181ca632f8a",
        "IPY_MODEL_f5b05618f1cd44eeacb9d8c5f7bcbf5d",
        "IPY_MODEL_ba515191a8dd4d2f971d1e613b3ffdbb",
        "IPY_MODEL_f675a14547b444459536a7e4be807267",
        "IPY_MODEL_4582cd122af8432eafd12185a16f211f",
        "IPY_MODEL_dbbcf67c6daf407e8b133bf4a230de4b",
        "IPY_MODEL_406344f52c764d999b8dbdc7343c7305",
        "IPY_MODEL_1e97d1ebc2584075a2f59088f5f5dc40",
        "IPY_MODEL_98af57aca2d14d5691c7f53815ed8699",
        "IPY_MODEL_55bb8d1bb97e473f9c39f6efe58a068a",
        "IPY_MODEL_03bc7a4c6e54495886ddeba56adc8ee7",
        "IPY_MODEL_822a084f0f32469496e8c20a2ccb0e6f",
        "IPY_MODEL_d7776bf6ccbd413f833149f524570361",
        "IPY_MODEL_2309f74c2dc4440da21c325526ac0d5e",
        "IPY_MODEL_16a5f67e19c745ae85bcf63683138702",
        "IPY_MODEL_384f308eb9f24c65a75f09ad166d3659",
        "IPY_MODEL_262f54dbc7ba47598a6d08c371edd226",
        "IPY_MODEL_6d227d98ac3d4511b1f8984c8aff545e",
        "IPY_MODEL_4288809390aa4f0d9e40ccef08b6f5c8",
        "IPY_MODEL_e7281f3657394b03b034ef471d935446",
        "IPY_MODEL_4a7aea9582ed4681a83d9ca485dfe141",
        "IPY_MODEL_2cd6a0fa54804ca19baa12e02603ac96",
        "IPY_MODEL_18fdf8cf4c4b4788a42693e786ce9478",
        "IPY_MODEL_efa65ebd76bc4686a09123f5159ecbab",
        "IPY_MODEL_1b63353fca704a94b52496bf80c94f36",
        "IPY_MODEL_63e5d4ce905c4c96a94ce67815cdb1a0",
        "IPY_MODEL_8240e6cdbf444f0a833f4fbb2081bf4a",
        "IPY_MODEL_373b6d463be34bcd84ccf2d2ffaaa7bc",
        "IPY_MODEL_3cd69a13558343f8b52028acbf6176f7",
        "IPY_MODEL_0c9f8917b0e14943933feb7a1a4b497c",
        "IPY_MODEL_495034d832c14285b59f5c2477b8fa84",
        "IPY_MODEL_12b869638f274eb29afdd382b5547363",
        "IPY_MODEL_4b084836b2f04e70acc4396542e20135",
        "IPY_MODEL_e2ec2010c7af44bca1dba28755031b19",
        "IPY_MODEL_506276b3fee749e1bfe50f175efa69a0",
        "IPY_MODEL_a6ae68edf6b445579eacea343888a61f",
        "IPY_MODEL_19fde6cc9b17482ebb93854bd66b245e",
        "IPY_MODEL_a93895ca374c4542bcd80fea3a1313bd",
        "IPY_MODEL_d992b1b90c97434db6e1be40ef78271e",
        "IPY_MODEL_ead11e43705246fe92b88b98ad453a01",
        "IPY_MODEL_ea6934b688084e449d259f7e52c86632",
        "IPY_MODEL_764f6062a2f946ba9e40ca046645dd34",
        "IPY_MODEL_9f27e94b282344adb5620021acd88880",
        "IPY_MODEL_6f1b03b03808403aa14ee25e432e442d",
        "IPY_MODEL_0ff1157d546f4d339f991f87fc37a3da",
        "IPY_MODEL_a1bb29730db14c6dadc2df9096501d2d",
        "IPY_MODEL_2aa181babff74b8587d0c361c40ecc1f",
        "IPY_MODEL_a18617dc04e74d31803d5fff671f265e",
        "IPY_MODEL_50992b5b28c0483a9133df4207452fed",
        "IPY_MODEL_45eb8aa0950f4e6dbdd6471a2dd9fbab",
        "IPY_MODEL_2b7bd1a74f814531bb8e13b82cac157e",
        "IPY_MODEL_cb6de13827d94c6bb9eb504e63959861",
        "IPY_MODEL_220003dabb7d455ab9bd6133072613e6",
        "IPY_MODEL_55fa4f07f6314545804326f00b581186",
        "IPY_MODEL_a1c414769f0e4de9845cb5a7813a39ea",
        "IPY_MODEL_768dc5a2725d4bec845116cdff3f55c3",
        "IPY_MODEL_697b4655f5b34757aed356592808110f",
        "IPY_MODEL_f56d7e1fe24242a78cf3a62aed9716d5",
        "IPY_MODEL_349d0428aaff460bbff4b98e8e105294",
        "IPY_MODEL_db61c6e8812845db844071ebdb4e855b",
        "IPY_MODEL_1c6a2ccf2f1641719538c92ec4f4b245"
       ],
       "nodes": [
        "IPY_MODEL_62ef73cdbed645efb002d720d0c6f13b",
        "IPY_MODEL_ba42b4c588ac48949a2c3ee8dda77554",
        "IPY_MODEL_9c018bae9d8e4ca5b376a3cf23934a64",
        "IPY_MODEL_10cab8974eb647eabd40d7f10410073f",
        "IPY_MODEL_20cf1c16a0a445c6ab309fcd161574cc",
        "IPY_MODEL_2adf7b756c38453ba84eaaabbfbd168e",
        "IPY_MODEL_2d83f213b74b4402bcaf8c760cc2bf58",
        "IPY_MODEL_ff431d7f585f4550ac5423d1a7df6aa4",
        "IPY_MODEL_ba71a98f6b8d45bc9f4e6ad32a42bf96",
        "IPY_MODEL_b008971eddb94ca9aeff716826791c31",
        "IPY_MODEL_30d8e23cfcf847e193d59b105b197e09",
        "IPY_MODEL_a2ae63736b874926a164145efdaf0bd2",
        "IPY_MODEL_cabbd146886f44b8b2d8d39895dfae9e",
        "IPY_MODEL_a7f135063a5841489d398ffdc639bcf3",
        "IPY_MODEL_810f6e804b614f8e81d78d96b663b90c",
        "IPY_MODEL_3cf3ea259caf4e6d9c606a7fe5ad59bf",
        "IPY_MODEL_10987750036341d09d75b525ad4fc082",
        "IPY_MODEL_aed9e25f373641b790a7a4d35db9ea1c",
        "IPY_MODEL_8a7d6eac2a8045b89020f96c96a813ec",
        "IPY_MODEL_ffd799bf92f740d3bbe9e29ddb8ac9a2",
        "IPY_MODEL_5de7ef93c3454cdb9825049f23c77c8e",
        "IPY_MODEL_74b6ecbea5884aea88946bb72d2e6f6a",
        "IPY_MODEL_0dea4d50edb941a787b990741081fbc5",
        "IPY_MODEL_044a96f41a7b48a1baac8e843a42e2d7",
        "IPY_MODEL_448a2623d0304900ae73869959517937",
        "IPY_MODEL_a535929b64e4406fac35e4ebff7da577",
        "IPY_MODEL_b7b79f5635994301a9dd9caf41fc7e09",
        "IPY_MODEL_93911d702fb04a61ae7139c487fc83a1",
        "IPY_MODEL_4081aa71648b408bbb7219faa41ca23d",
        "IPY_MODEL_785c4e93598345ef819fc19e201b8e0d",
        "IPY_MODEL_c264d10ad8fe412682bac3ff559b8055",
        "IPY_MODEL_60d6940ccbb1408db1159aba7ea6e088",
        "IPY_MODEL_1a772e326a4043f2bceb3dc95fcc7738",
        "IPY_MODEL_9e75a8fa522a4099b1d82b31828259dc",
        "IPY_MODEL_9f6f01d6eff747dd9d99ab286e21ceb4",
        "IPY_MODEL_430c14885ab6442abdc19c82c2600795",
        "IPY_MODEL_10ef72a740ba401a9e226eb9821f6a0e",
        "IPY_MODEL_cee6e6fde46b42db83a880817cec7f34",
        "IPY_MODEL_7db660c2500d4a1bae60bf32c2d1a577",
        "IPY_MODEL_8e22a3553ea84ead810811c599ffa54c",
        "IPY_MODEL_62727c8a4a5943d7920e5a3ffd4700e9",
        "IPY_MODEL_908cde8c09764a18bae17b2a4d7e55f2",
        "IPY_MODEL_750f9342aae6449fa490af86fe1b6d84",
        "IPY_MODEL_b94d800307df4c74bffc43a342c46ce0",
        "IPY_MODEL_56a5c956f48b4d49b17419f228ef001c",
        "IPY_MODEL_d223e29fc14c4056a224e5cdf1b4986a",
        "IPY_MODEL_3448f2dcad4c43178a0ad87e330598d2",
        "IPY_MODEL_0e6e11c4f02b4f02b7a6889498fbbce6",
        "IPY_MODEL_409b0e18d79e483ebcd17386c057b981",
        "IPY_MODEL_f061b72b10874fceafa5246350d89ad7",
        "IPY_MODEL_74af87792506498983d03f05dedb739a",
        "IPY_MODEL_fdb87033ade94f208d67e1315218701b",
        "IPY_MODEL_2beab9c9dddc4b1db8a469927c547b08",
        "IPY_MODEL_8f8c233d5c0e4ad3b94c9daff8569023",
        "IPY_MODEL_740e9c0447b542e58834bfd290abeba1",
        "IPY_MODEL_06765631d643436ba7fddee5cc50ab9d",
        "IPY_MODEL_4398dc95e02a40cebf5c100725657c7c",
        "IPY_MODEL_57e2d11b5042402a84c2d731e5a63082",
        "IPY_MODEL_7d5ef9dffeba437499ed097999034286",
        "IPY_MODEL_aa12b2156dc34452b46f93a2746af077",
        "IPY_MODEL_a0972e2395e04596a33d00e4df34b7f3",
        "IPY_MODEL_5361352fdd7743ed9d5c01e2e4dcc572",
        "IPY_MODEL_f8099ef326e54f5989485a7ef99c87b1",
        "IPY_MODEL_5e6f58e6ed3d4ef78091ae718824c82b",
        "IPY_MODEL_3b8f5bd88bee4532afeba0663a5ff174",
        "IPY_MODEL_9dde283dfe2f450490f9d450a64fa17b",
        "IPY_MODEL_efbdb930a3cd472aa1b5bcd750ee65f9",
        "IPY_MODEL_fa7d6354783548b68aa19f25561d88cb",
        "IPY_MODEL_544ed726eaa84c998641f95787fa47aa",
        "IPY_MODEL_c30ae2cae7c545cd9c342911ce4ffcb6",
        "IPY_MODEL_b67ce5230edc44f28a34ccff2f6aaa8f",
        "IPY_MODEL_37f1285aaa1c4de7bfaaf5e4dce27eec",
        "IPY_MODEL_9690954f417e4430a3cc20186bfb7da9",
        "IPY_MODEL_d8ed5c5c653445c696d1fe4ab62bb1e2",
        "IPY_MODEL_de5305b674c3426490043a1fb9956c69",
        "IPY_MODEL_9692ff17740f42f5bccd8f44154f5b7d",
        "IPY_MODEL_fa3936162c43445889089c48f618a62e",
        "IPY_MODEL_2a0b6331b27f4cd88b6896c291ea7a3f",
        "IPY_MODEL_bec87ece640a46488285eb16d577ef94",
        "IPY_MODEL_62352320f7404b1b8f5c6a95d26f60d0",
        "IPY_MODEL_5d12811da9f8416e90c42119c273bbc2",
        "IPY_MODEL_a92470eebc56465b9ef402ff2b4f8279",
        "IPY_MODEL_02c8e435eab1463b81983286cd49a120",
        "IPY_MODEL_d82bc0f09c5447fcb0a891654def5483",
        "IPY_MODEL_9d4a3baa15c84257bcf45abe4293ce0e",
        "IPY_MODEL_02cc00b93b44451c82b2a81d1f0ee84f",
        "IPY_MODEL_a0cd29f6cf62440cbc1f11f139434f11",
        "IPY_MODEL_340b90935fba40a4963204b9c0503c0b",
        "IPY_MODEL_0345e34c8c954242ba2cd935b3ffcb73",
        "IPY_MODEL_da9d622476e9435ea9abefffd1620d5b",
        "IPY_MODEL_fc74b572e9564fc186bdbee23ae8013e",
        "IPY_MODEL_47fa157b4ade46019d2a47cee328c26e",
        "IPY_MODEL_ba22fd992f5c4162856298c1c5a1c1b8",
        "IPY_MODEL_8fe62b57023f42569ae57506393c72a9",
        "IPY_MODEL_b2113ff2078a43e38373a2050420a707",
        "IPY_MODEL_33703fca270347fe8b7c3b9222149f6e",
        "IPY_MODEL_7f7e1df92d164757994a506ead870807",
        "IPY_MODEL_c8c04c6e2fe5435a9d4a8fb0deb8e5f1",
        "IPY_MODEL_d59281b311074119b1212987f12d0c1f",
        "IPY_MODEL_e33558caeed64c34be0f3e210a4476f5",
        "IPY_MODEL_57b84fb0d891495981d8e9301712064b",
        "IPY_MODEL_c71a1277169b4c4f884df0108e7f738a",
        "IPY_MODEL_945007f8d0f34678895ec9522f5e04cf",
        "IPY_MODEL_bbff7e5ef32c445e8f1d5c6fc39b4a4a",
        "IPY_MODEL_d147f7bc830a46a3a5767b4883b90820",
        "IPY_MODEL_68210702388d40039ca13cbe709ed813",
        "IPY_MODEL_ee27c3e3699b4c3e8c05d426f6784b6c",
        "IPY_MODEL_8bb2ee59596c4dc6985a0e1faf2962b6",
        "IPY_MODEL_0e978c7ca9ba40a5abeea1715adc533c",
        "IPY_MODEL_d30846828aea48abb8c30799cdfee805",
        "IPY_MODEL_f7836bd6176a441f8457943ad632d307",
        "IPY_MODEL_d63942bfad1f4d71b2f1379cbe02e860",
        "IPY_MODEL_19791fc66e7e4f52af29335a7c30567e",
        "IPY_MODEL_86ab0f70f43e4c76b5c6c507484ec733",
        "IPY_MODEL_44e1632d113c491da68498692aa2cffe",
        "IPY_MODEL_6c109c0e76674289bb693ee3966f112d",
        "IPY_MODEL_e7754ec1deb643979c6c1364c39f8183",
        "IPY_MODEL_1cfddce28e074619883037fe8a1cfc4b",
        "IPY_MODEL_be261a7efdee4f778efd68ca3e5adb3d",
        "IPY_MODEL_fc9fb56b0eea4180ac61032001109a94",
        "IPY_MODEL_7e3dff8e16ed4f18b52dcabd5c23b52b",
        "IPY_MODEL_ee809eb7b7014781be95fde41a940362",
        "IPY_MODEL_4bb0e9c3c2fe434bb758eb1fbfd335be",
        "IPY_MODEL_8496f4df9b3d495396eee36db8da7780",
        "IPY_MODEL_57a8ad947631486c83ffefeb096b3ca3",
        "IPY_MODEL_031b5f8aba7c404fb255e8fe098a727b",
        "IPY_MODEL_30d08bcc2bb1464f952badd6d6bc520e",
        "IPY_MODEL_5f4785d9879b49ceb2bc2811f0ebb94f",
        "IPY_MODEL_6a5b8d5dd8604fb386671d9ab0d78d5f",
        "IPY_MODEL_b0c1e00622074b80b4b381fea1387b67",
        "IPY_MODEL_9184f007cb7149dfb3b4497f085dfb65",
        "IPY_MODEL_ffffd700db574611a0fa11c476462177",
        "IPY_MODEL_2a4b3f3de15d4340a5d4f1c942a09708",
        "IPY_MODEL_8a039ca533334324b0a8143fe26bacf3",
        "IPY_MODEL_4e3410172b68425ba3d3a557510f2541",
        "IPY_MODEL_1891b3b10d6c405ebb182c8d59bbea92",
        "IPY_MODEL_ef8b86fb9b1c4c9f820064727740d5e2",
        "IPY_MODEL_571b0211f05845c5b8ebab02a8440c3c",
        "IPY_MODEL_0268f6840afd4f76847180f479a7c626",
        "IPY_MODEL_c8fa1626e05b40e189946bffe48178eb",
        "IPY_MODEL_38c85efe49374e82bc433665dde213f2",
        "IPY_MODEL_230926f71fd04406ae05fc7757fb1077",
        "IPY_MODEL_60e61d27da51418580be897d51da4d7d",
        "IPY_MODEL_127ba4730e6742ae9615c41ed7668ed5",
        "IPY_MODEL_0cc842b08db248d8ac1d8158373820e8",
        "IPY_MODEL_fa5697e9e38b4889a2ed1fcad1f4c1fc",
        "IPY_MODEL_5a9647ebc1ac4db491a2ba95747cfbfd",
        "IPY_MODEL_07b1d5323593456fa90d16a2a2e20f89",
        "IPY_MODEL_7ced2db684d249348a20cda35e2d90a3",
        "IPY_MODEL_7676373cf92d4864b3a48b2e7fd2b243",
        "IPY_MODEL_54c31541b5c640219c10c8eafe4e9296",
        "IPY_MODEL_0a0df105a5484216a49edf357ab26ae8",
        "IPY_MODEL_3f9115e66a13431ebdaa0c4c6efc3ff1",
        "IPY_MODEL_b17dda8a97274ca89cf1ae0f89b5cedc",
        "IPY_MODEL_3dd513ca3d9643df90232eb7c7569053",
        "IPY_MODEL_82572f83822645feab3697a24e3724b7",
        "IPY_MODEL_c9124e1e374c410b84ea716dc36cbe76",
        "IPY_MODEL_1f4716da7b70471dae4bfc5db901627d",
        "IPY_MODEL_321d0562b43644ce987f74a0ae0acb95",
        "IPY_MODEL_10cabf56e95a4f26aec98c844bed327b",
        "IPY_MODEL_8005703999a84de2844672aa0fa57549",
        "IPY_MODEL_ca958e330f7748e28e974d6262750a3e",
        "IPY_MODEL_8fcff0735e434e50b9dd79794df3a0a8",
        "IPY_MODEL_dfd69a135ff7402685abde5aef4f075b",
        "IPY_MODEL_c8a4d6db8f664f6898b7f1bb0af54f3c",
        "IPY_MODEL_24823251a70747219cdeb926e9ae028e",
        "IPY_MODEL_7feb143206f74e4fb88b103ba08bdbf2",
        "IPY_MODEL_8a617665a3bd499482c3d406a99cbda8",
        "IPY_MODEL_ac914c8559e84e63a02fc3fa49559aa7",
        "IPY_MODEL_5a751aaf297f4b158ad266039a5fda00"
       ]
      }
     },
     "fdb87033ade94f208d67e1315218701b": {
      "model_module": "jupyter-cytoscape",
      "model_module_version": "^1.3.3",
      "model_name": "NodeModel",
      "state": {
       "_model_module_version": "^1.3.3",
       "_view_module_version": "^1.3.3",
       "data": {
        "bgcolor": "green",
        "id": "87f59b52-ad1b-43f1-8b67-f0e11f2f162e",
        "name": ""
       },
       "grabbable": true,
       "grabbed": false,
       "position": {
        "x": 1539.1812865497077,
        "y": 1269.8412698412699
       },
       "selectable": false
      }
     },
     "ff431d7f585f4550ac5423d1a7df6aa4": {
      "model_module": "jupyter-cytoscape",
      "model_module_version": "^1.3.3",
      "model_name": "NodeModel",
      "state": {
       "_model_module_version": "^1.3.3",
       "_view_module_version": "^1.3.3",
       "data": {
        "bgcolor": "red",
        "id": "fd2effa2-3df1-4943-b9a4-7a4601f1f75b",
        "name": "Lemon Juice Concentrate"
       },
       "grabbable": true,
       "grabbed": false,
       "position": {
        "x": 600.5847953216374,
        "y": 1444.4444444444443
       },
       "selectable": false
      }
     },
     "ff571f1a32e2430b814f8c750754537d": {
      "model_module": "jupyter-cytoscape",
      "model_module_version": "^1.3.3",
      "model_name": "EdgeModel",
      "state": {
       "_model_module_version": "^1.3.3",
       "_view_module_version": "^1.3.3",
       "data": {
        "id": "b8a3f590-b507-4d17-8f31-97d7722792f2",
        "source": "7570baa7-0339-4d2e-a292-ee8fcc468720",
        "target": "aaab8697-a684-465b-8ae5-f474476f1426"
       },
       "selectable": false
      }
     },
     "ffd799bf92f740d3bbe9e29ddb8ac9a2": {
      "model_module": "jupyter-cytoscape",
      "model_module_version": "^1.3.3",
      "model_name": "NodeModel",
      "state": {
       "_model_module_version": "^1.3.3",
       "_view_module_version": "^1.3.3",
       "data": {
        "bgcolor": "green",
        "id": "554023fc-a2d9-4a95-8832-fcfbf51e0cd5",
        "name": ""
       },
       "grabbable": true,
       "grabbed": false,
       "position": {
        "x": 1539.1812865497077,
        "y": 1396.8253968253966
       },
       "selectable": false
      }
     },
     "ffffd700db574611a0fa11c476462177": {
      "model_module": "jupyter-cytoscape",
      "model_module_version": "^1.3.3",
      "model_name": "NodeModel",
      "state": {
       "_model_module_version": "^1.3.3",
       "_view_module_version": "^1.3.3",
       "data": {
        "bgcolor": "red",
        "id": "862e7797-bb3f-47ed-a583-7fe6cb7824c5",
        "name": "Truck transport"
       },
       "grabbable": true,
       "grabbed": false,
       "position": {
        "x": 1351.4619883040934,
        "y": 952.3809523809523
       },
       "selectable": false
      }
     }
    },
    "version_major": 2,
    "version_minor": 0
   }
  }
 },
 "nbformat": 4,
 "nbformat_minor": 5
}
